{
 "cells": [
  {
   "cell_type": "markdown",
   "metadata": {},
   "source": [
    "# Load"
   ]
  },
  {
   "cell_type": "code",
   "execution_count": 279,
   "metadata": {},
   "outputs": [],
   "source": [
    "import numpy as np\n",
    "import pandas as pd\n",
    "from gurobipy import *\n",
    "from tqdm import tqdm\n",
    "import pickle\n",
    "import matplotlib.pyplot as plt\n",
    "from matplotlib import colors, pyplot, transforms\n",
    "import copy\n",
    "from matplotlib import font_manager\n",
    "import seaborn as sns\n",
    "\n",
    "fontP = font_manager.FontProperties()\n",
    "fontP.set_family('SimHei')\n",
    "fontP.set_size(14)\n",
    "\n",
    "import os, sys\n",
    "\n",
    "class HiddenPrints:\n",
    "    def __enter__(self):\n",
    "        self._original_stdout = sys.stdout\n",
    "        sys.stdout = open(os.devnull, 'w')\n",
    "\n",
    "    def __exit__(self, exc_type, exc_val, exc_tb):\n",
    "        sys.stdout.close()\n",
    "        sys.stdout = self._original_stdout"
   ]
  },
  {
   "cell_type": "code",
   "execution_count": 2,
   "metadata": {},
   "outputs": [
    {
     "data": {
      "text/plain": [
       "(32, 22, 32, 22)"
      ]
     },
     "execution_count": 2,
     "metadata": {},
     "output_type": "execute_result"
    }
   ],
   "source": [
    "distance_p2p = np.load('save/distance_p2p.npy')\n",
    "distance_p2p.shape"
   ]
  },
  {
   "cell_type": "markdown",
   "metadata": {},
   "source": [
    "## mapp"
   ]
  },
  {
   "cell_type": "code",
   "execution_count": 3,
   "metadata": {},
   "outputs": [
    {
     "data": {
      "text/plain": [
       "(     #TYPE   X   Y    NEIGHBORS\n",
       " 0        1   3   0  3:1;2:0;4:0\n",
       " 1        1   4   0  4:1;3:0;5:0\n",
       " 2        1   5   0      5:1;4:0\n",
       " 3        1   6   0          6:1\n",
       " 4        5   7   0          7:1\n",
       " ..     ...  ..  ..          ...\n",
       " 699      6   0  17         1:17\n",
       " 700      6   0  18         1:18\n",
       " 701      1   0  19         1:19\n",
       " 702      1   0  20         1:20\n",
       " 703      1   0  21          NaN\n",
       " \n",
       " [704 rows x 4 columns],\n",
       " #TYPE          int64\n",
       "  X             int64\n",
       "  Y             int64\n",
       "  NEIGHBORS    object\n",
       " dtype: object)"
      ]
     },
     "execution_count": 3,
     "metadata": {},
     "output_type": "execute_result"
    }
   ],
   "source": [
    "mapp = pd.read_csv('data/map.csv', skiprows=[1])\n",
    "mapp, mapp.dtypes"
   ]
  },
  {
   "cell_type": "code",
   "execution_count": 4,
   "metadata": {},
   "outputs": [],
   "source": [
    "mapp = mapp.astype({'#TYPE': str})"
   ]
  },
  {
   "cell_type": "code",
   "execution_count": 5,
   "metadata": {},
   "outputs": [
    {
     "data": {
      "text/plain": [
       "array([[ 7,  0],\n",
       "       [ 8,  0],\n",
       "       [ 9,  0],\n",
       "       [19,  0],\n",
       "       [20,  0]], dtype=int64)"
      ]
     },
     "execution_count": 5,
     "metadata": {},
     "output_type": "execute_result"
    }
   ],
   "source": [
    "pos5_list = mapp.loc[mapp['#TYPE'] == '5', [' X', ' Y']].values  # 拣选, 蓝\n",
    "pos5_list[:5]"
   ]
  },
  {
   "cell_type": "code",
   "execution_count": 117,
   "metadata": {},
   "outputs": [
    {
     "data": {
      "text/plain": [
       "array([[31, 20],\n",
       "       [ 1,  0]], dtype=int64)"
      ]
     },
     "execution_count": 117,
     "metadata": {},
     "output_type": "execute_result"
    }
   ],
   "source": [
    "pos7_list = mapp.loc[mapp['#TYPE'] == '7', [' X', ' Y']].values  # 拣选, 蓝\n",
    "pos7_list[:5]"
   ]
  },
  {
   "cell_type": "markdown",
   "metadata": {},
   "source": [
    "## pallets"
   ]
  },
  {
   "cell_type": "code",
   "execution_count": 161,
   "metadata": {},
   "outputs": [
    {
     "data": {
      "text/plain": [
       "(                  #SKU_QUANTITY_LIST   X   Y   PALLET_ID\n",
       " 0       104151:9,840211:35,1297235:1  18   8       10000\n",
       " 1    901897:13,1297235:18,2171945:14  19  16       10001\n",
       " 2                          653296:69  14  12       10002\n",
       " 3                         1473101:66  18  15       10003\n",
       " 4                961380:8,1187577:49  14   6       10004\n",
       " ..                               ...  ..  ..         ...\n",
       " 143            1751060:20,2247923:14  24  15       10143\n",
       " 144             582599:33,1766481:54  13   5       10144\n",
       " 145             2302238:2,1867146:34  12   6       10145\n",
       " 146             1286521:31,901902:24  12  13       10146\n",
       " 147             1308094:52,1085002:4   9  12       10147\n",
       " \n",
       " [148 rows x 4 columns],\n",
       " #SKU_QUANTITY_LIST    object\n",
       "  X                     int64\n",
       "  Y                     int64\n",
       "  PALLET_ID             int64\n",
       " dtype: object)"
      ]
     },
     "execution_count": 161,
     "metadata": {},
     "output_type": "execute_result"
    }
   ],
   "source": [
    "pallets = pd.read_csv('data/pallets.csv')\n",
    "pallets, pallets.dtypes"
   ]
  },
  {
   "cell_type": "code",
   "execution_count": 162,
   "metadata": {},
   "outputs": [
    {
     "data": {
      "text/plain": [
       "#SKU_QUANTITY_LIST    object\n",
       " X                     int64\n",
       " Y                     int64\n",
       " PALLET_ID            object\n",
       "dtype: object"
      ]
     },
     "execution_count": 162,
     "metadata": {},
     "output_type": "execute_result"
    }
   ],
   "source": [
    "pallets = pallets.astype({' PALLET_ID': str})\n",
    "pallets.dtypes"
   ]
  },
  {
   "cell_type": "code",
   "execution_count": 163,
   "metadata": {},
   "outputs": [
    {
     "name": "stdout",
     "output_type": "stream",
     "text": [
      "{'104151': 9, '840211': 35, '1297235': 1}\n",
      "5.0 20.0\n"
     ]
    },
    {
     "data": {
      "text/plain": [
       "([('10000', '9'), ('10027', '27')], 2)"
      ]
     },
     "execution_count": 163,
     "metadata": {},
     "output_type": "execute_result"
    }
   ],
   "source": [
    "sku2palletID = dict()\n",
    "q = dict()  # 托盘p包含商品c的数量\n",
    "l = dict()  # 托盘p到最近拣选工位的距离\n",
    "l_w = dict()\n",
    "pallets_dict = dict()  # store the position\n",
    "for i, row in pallets.iterrows():\n",
    "    sku_quantity_list, x, y, pallet_id = row\n",
    "    # print(sku_quantity_list, x, y, pallet_id)\n",
    "    \n",
    "    # process (x, y)\n",
    "    temp_distance = [distance_p2p[x, y, s, t] for s, t in pos5_list]  # (x, y) → (s, t)\n",
    "    idx = np.argmin(temp_distance)\n",
    "    l[pallet_id] = temp_distance[idx]\n",
    "    l_w[pallet_id] = idx\n",
    "    pallets_dict[pallet_id] = (x, y)\n",
    "    \n",
    "    # process sku_quantity_list\n",
    "    sku_quantity_list = sku_quantity_list.split(',')  # e.g. ['104151:9', '840211:35', '1297235:1']\n",
    "    temp = dict()\n",
    "    for sq_str in sku_quantity_list:  # sq_str like '104151:9'\n",
    "        sku, quantity = sq_str.split(':')\n",
    "        temp[sku] = int(quantity)\n",
    "        \n",
    "        temp2 = sku2palletID.get(sku, [])\n",
    "        temp2.append((pallet_id, quantity))\n",
    "        sku2palletID[sku] = temp2\n",
    "    q[pallet_id] = temp\n",
    "print(q['10000'])\n",
    "print(min(l.values()), max(l.values()))\n",
    "sku2palletID['104151'], len(sku2palletID['104151'])"
   ]
  },
  {
   "cell_type": "code",
   "execution_count": 164,
   "metadata": {},
   "outputs": [
    {
     "data": {
      "text/plain": [
       "{'10000': 3,\n",
       " '10001': 15,\n",
       " '10002': 15,\n",
       " '10003': 15,\n",
       " '10004': 3,\n",
       " '10005': 15,\n",
       " '10006': 17,\n",
       " '10007': 12,\n",
       " '10008': 14,\n",
       " '10009': 7,\n",
       " '10010': 9,\n",
       " '10011': 8,\n",
       " '10012': 8,\n",
       " '10013': 0,\n",
       " '10014': 0,\n",
       " '10015': 7,\n",
       " '10016': 12,\n",
       " '10017': 15,\n",
       " '10018': 0,\n",
       " '10019': 15,\n",
       " '10020': 8,\n",
       " '10021': 7,\n",
       " '10022': 3,\n",
       " '10023': 7,\n",
       " '10024': 0,\n",
       " '10025': 0,\n",
       " '10026': 9,\n",
       " '10027': 0,\n",
       " '10028': 12,\n",
       " '10029': 15,\n",
       " '10030': 2,\n",
       " '10031': 0,\n",
       " '10032': 7,\n",
       " '10033': 15,\n",
       " '10034': 5,\n",
       " '10035': 7,\n",
       " '10036': 8,\n",
       " '10037': 1,\n",
       " '10038': 14,\n",
       " '10039': 8,\n",
       " '10040': 0,\n",
       " '10041': 3,\n",
       " '10042': 15,\n",
       " '10043': 0,\n",
       " '10044': 9,\n",
       " '10045': 7,\n",
       " '10046': 0,\n",
       " '10047': 15,\n",
       " '10048': 12,\n",
       " '10049': 9,\n",
       " '10050': 8,\n",
       " '10051': 15,\n",
       " '10052': 7,\n",
       " '10053': 0,\n",
       " '10054': 8,\n",
       " '10055': 9,\n",
       " '10056': 12,\n",
       " '10057': 12,\n",
       " '10058': 2,\n",
       " '10059': 3,\n",
       " '10060': 3,\n",
       " '10061': 12,\n",
       " '10062': 12,\n",
       " '10063': 13,\n",
       " '10064': 3,\n",
       " '10065': 7,\n",
       " '10066': 3,\n",
       " '10067': 0,\n",
       " '10068': 3,\n",
       " '10069': 3,\n",
       " '10070': 4,\n",
       " '10071': 15,\n",
       " '10072': 12,\n",
       " '10073': 3,\n",
       " '10074': 5,\n",
       " '10075': 0,\n",
       " '10076': 8,\n",
       " '10077': 12,\n",
       " '10078': 3,\n",
       " '10079': 16,\n",
       " '10080': 0,\n",
       " '10081': 17,\n",
       " '10082': 0,\n",
       " '10083': 7,\n",
       " '10084': 0,\n",
       " '10085': 15,\n",
       " '10086': 3,\n",
       " '10087': 9,\n",
       " '10088': 0,\n",
       " '10089': 8,\n",
       " '10090': 7,\n",
       " '10091': 15,\n",
       " '10092': 8,\n",
       " '10093': 15,\n",
       " '10094': 3,\n",
       " '10095': 15,\n",
       " '10096': 14,\n",
       " '10097': 9,\n",
       " '10098': 12,\n",
       " '10099': 7,\n",
       " '10100': 12,\n",
       " '10101': 2,\n",
       " '10102': 12,\n",
       " '10103': 15,\n",
       " '10104': 15,\n",
       " '10105': 9,\n",
       " '10106': 3,\n",
       " '10107': 5,\n",
       " '10108': 3,\n",
       " '10109': 3,\n",
       " '10110': 15,\n",
       " '10111': 8,\n",
       " '10112': 15,\n",
       " '10113': 17,\n",
       " '10114': 3,\n",
       " '10115': 9,\n",
       " '10116': 0,\n",
       " '10117': 9,\n",
       " '10118': 17,\n",
       " '10119': 12,\n",
       " '10120': 12,\n",
       " '10121': 9,\n",
       " '10122': 8,\n",
       " '10123': 12,\n",
       " '10124': 3,\n",
       " '10125': 12,\n",
       " '10126': 8,\n",
       " '10127': 12,\n",
       " '10128': 2,\n",
       " '10129': 14,\n",
       " '10130': 0,\n",
       " '10131': 5,\n",
       " '10132': 15,\n",
       " '10133': 8,\n",
       " '10134': 8,\n",
       " '10135': 15,\n",
       " '10136': 14,\n",
       " '10137': 9,\n",
       " '10138': 8,\n",
       " '10139': 7,\n",
       " '10140': 3,\n",
       " '10141': 7,\n",
       " '10142': 9,\n",
       " '10143': 9,\n",
       " '10144': 2,\n",
       " '10145': 3,\n",
       " '10146': 15,\n",
       " '10147': 12}"
      ]
     },
     "execution_count": 164,
     "metadata": {},
     "output_type": "execute_result"
    }
   ],
   "source": [
    "l_w"
   ]
  },
  {
   "cell_type": "markdown",
   "metadata": {},
   "source": [
    "## orders"
   ]
  },
  {
   "cell_type": "code",
   "execution_count": 165,
   "metadata": {},
   "outputs": [
    {
     "data": {
      "text/plain": [
       "(     #ORDER_ID      SKU   AMOUNT\n",
       " 0            1  1579172        6\n",
       " 1            2  2609314       12\n",
       " 2            3  1335852       53\n",
       " 3            4  1748526        5\n",
       " 4            5  1332937        2\n",
       " ..         ...      ...      ...\n",
       " 670        671  2201629        5\n",
       " 671        672   548501       11\n",
       " 672        673  2201629        1\n",
       " 673        674   548501       11\n",
       " 674        675   548501        2\n",
       " \n",
       " [675 rows x 3 columns],\n",
       " #ORDER_ID    int64\n",
       "  SKU         int64\n",
       "  AMOUNT      int64\n",
       " dtype: object)"
      ]
     },
     "execution_count": 165,
     "metadata": {},
     "output_type": "execute_result"
    }
   ],
   "source": [
    "orders = pd.read_csv('data/orders.csv')\n",
    "orders, orders.dtypes"
   ]
  },
  {
   "cell_type": "code",
   "execution_count": 166,
   "metadata": {},
   "outputs": [
    {
     "data": {
      "text/plain": [
       "#ORDER_ID    object\n",
       " SKU         object\n",
       " AMOUNT       int64\n",
       "dtype: object"
      ]
     },
     "execution_count": 166,
     "metadata": {},
     "output_type": "execute_result"
    }
   ],
   "source": [
    "orders = orders.astype({'#ORDER_ID': str, ' SKU': str})\n",
    "orders.dtypes"
   ]
  },
  {
   "cell_type": "code",
   "execution_count": 167,
   "metadata": {},
   "outputs": [
    {
     "data": {
      "text/plain": [
       "{'1579172': 6}"
      ]
     },
     "execution_count": 167,
     "metadata": {},
     "output_type": "execute_result"
    }
   ],
   "source": [
    "r = dict()  # 订单o所需商品c的数量\n",
    "for i, row in orders.iterrows():\n",
    "    order_id, sku, amount = row\n",
    "    r[order_id] = {str(sku): amount}\n",
    "r['1']"
   ]
  },
  {
   "cell_type": "markdown",
   "metadata": {},
   "source": [
    "## agv"
   ]
  },
  {
   "cell_type": "code",
   "execution_count": 168,
   "metadata": {},
   "outputs": [
    {
     "data": {
      "text/plain": [
       "(   #AGV_ID   X   Y\n",
       " 0        1  31  14\n",
       " 1        2  26  11\n",
       " 2        3  29  16\n",
       " 3        4   5   7\n",
       " 4        5  27  18\n",
       " 5        6  22  10\n",
       " 6        7   9  20\n",
       " 7        8  14  17\n",
       " 8        9   8  11\n",
       " 9       10  19  18\n",
       " 10      11  25   6\n",
       " 11      12   9   7\n",
       " 12      13  11  16\n",
       " 13      14  17   8\n",
       " 14      15   0   5\n",
       " 15      16   3  16\n",
       " 16      17  24  15\n",
       " 17      18  20   4\n",
       " 18      19   4   0\n",
       " 19      20   1  14,\n",
       " #AGV_ID    object\n",
       " X           int64\n",
       " Y           int64\n",
       " dtype: object)"
      ]
     },
     "execution_count": 168,
     "metadata": {},
     "output_type": "execute_result"
    }
   ],
   "source": [
    "agv = pd.read_csv('data/agv.csv').astype({'#AGV_ID': str})\n",
    "agv, agv.dtypes"
   ]
  },
  {
   "cell_type": "code",
   "execution_count": 169,
   "metadata": {},
   "outputs": [
    {
     "data": {
      "text/plain": [
       "(20, (31, 14))"
      ]
     },
     "execution_count": 169,
     "metadata": {},
     "output_type": "execute_result"
    }
   ],
   "source": [
    "agv_dict = dict()\n",
    "for i, row in agv.iterrows():\n",
    "    agv_id, x, y = row\n",
    "    agv_dict[agv_id] = (x, y)\n",
    "len(agv_dict), agv_dict['1']"
   ]
  },
  {
   "cell_type": "markdown",
   "metadata": {},
   "source": [
    "# Model 1: Choose Pallets"
   ]
  },
  {
   "cell_type": "code",
   "execution_count": 15,
   "metadata": {},
   "outputs": [
    {
     "data": {
      "text/plain": [
       "(0, 0, 13.0)"
      ]
     },
     "execution_count": 15,
     "metadata": {},
     "output_type": "execute_result"
    }
   ],
   "source": [
    "P = pallets[' PALLET_ID'].values  # 托盘集合, np.array, dtype=int64, shape=148\n",
    "O = orders['#ORDER_ID'].values  # 订单集合, np.array, dtype=int64, shape=675\n",
    "C = set()  # 商品集合, set of length 181\n",
    "for _ in q.values():  # _ like {'104151': 9, '840211': 35, '1297235': 1}\n",
    "    for sku in _:\n",
    "        C.add(sku)\n",
    "# q_p^c (托盘p包含商品c的数量) is calculated when iterating through pallets.csv\n",
    "# r_o^c (订单o所需商品c的数量) is calculated when iterating through orders.csv\n",
    "# l_p (托盘p到最近拣选工位的距离) is calculated when iterating through pallets.csv\n",
    "q[P[0]].get('1003105', 0), r[O[0]].get('1003105', 0), l[P[0]]"
   ]
  },
  {
   "cell_type": "code",
   "execution_count": 16,
   "metadata": {},
   "outputs": [
    {
     "name": "stdout",
     "output_type": "stream",
     "text": [
      "Academic license - for non-commercial use only - expires 2022-06-13\n",
      "Using license file C:\\Users\\Carlos\\gurobi.lic\n"
     ]
    }
   ],
   "source": [
    "m1 = Model('choose pallets')\n",
    "x = m1.addVars(P, vtype=GRB.BINARY)\n",
    "m1.setObjective(x.prod(l), GRB.MINIMIZE)\n",
    "for c in C:\n",
    "    m1.addConstr(sum([q[_].get(c, 0) * x[_] for _ in P]) >= sum([r[_].get(c, 0) for _ in O]))"
   ]
  },
  {
   "cell_type": "code",
   "execution_count": 37,
   "metadata": {},
   "outputs": [
    {
     "name": "stdout",
     "output_type": "stream",
     "text": [
      "Minimize\n",
      "   <gurobi.LinExpr: 0.0>\n",
      "Subject To\n"
     ]
    }
   ],
   "source": [
    "# [print constraints Gurobi Python](https://stackoverflow.com/a/61871598/12224183)\n",
    "# m.write('save/model_1.lp')\n",
    "m1.display()"
   ]
  },
  {
   "cell_type": "code",
   "execution_count": 64,
   "metadata": {},
   "outputs": [
    {
     "name": "stdout",
     "output_type": "stream",
     "text": [
      "Gurobi Optimizer version 9.1.1 build v9.1.1rc0 (win64)\n",
      "Thread count: 6 physical cores, 12 logical processors, using up to 12 threads\n",
      "Optimize a model with 181 rows, 148 columns and 294 nonzeros\n",
      "Model fingerprint: 0x6b696161\n",
      "Variable types: 0 continuous, 148 integer (148 binary)\n",
      "Coefficient statistics:\n",
      "  Matrix range     [1e+00, 2e+02]\n",
      "  Objective range  [5e+00, 2e+01]\n",
      "  Bounds range     [1e+00, 1e+00]\n",
      "  RHS range        [1e+00, 4e+02]\n",
      "Found heuristic solution: objective 1662.0000000\n",
      "Presolve removed 181 rows and 148 columns\n",
      "Presolve time: 0.00s\n",
      "Presolve: All rows and columns removed\n",
      "\n",
      "Explored 0 nodes (0 simplex iterations) in 0.00 seconds\n",
      "Thread count was 1 (of 12 available processors)\n",
      "\n",
      "Solution count 2: 1655 \n",
      "\n",
      "Optimal solution found (tolerance 1.00e-04)\n",
      "Best objective 1.655000000000e+03, best bound 1.655000000000e+03, gap 0.0000%\n"
     ]
    }
   ],
   "source": [
    "m1.optimize()"
   ]
  },
  {
   "cell_type": "code",
   "execution_count": 65,
   "metadata": {},
   "outputs": [
    {
     "data": {
      "text/plain": [
       "1655.0"
      ]
     },
     "execution_count": 65,
     "metadata": {},
     "output_type": "execute_result"
    }
   ],
   "source": [
    "m1.objVal"
   ]
  },
  {
   "cell_type": "code",
   "execution_count": 66,
   "metadata": {},
   "outputs": [
    {
     "data": {
      "text/plain": [
       "(140, [69, 140, 141, 142, 143, 145, 146, 147])"
      ]
     },
     "execution_count": 66,
     "metadata": {},
     "output_type": "execute_result"
    }
   ],
   "source": [
    "p_selected_idx = []\n",
    "p_unselected_idx = []\n",
    "for v in m1.getVars():\n",
    "    if abs(v.x) > 1e-6:\n",
    "        # print(v.varName, v.x)\n",
    "        p_selected_idx.append(int(v.varName[1:]))\n",
    "    else:\n",
    "        p_unselected_idx.append(int(v.varName[1:]))\n",
    "len(p_selected_idx), p_unselected_idx"
   ]
  },
  {
   "cell_type": "code",
   "execution_count": 67,
   "metadata": {},
   "outputs": [
    {
     "data": {
      "text/plain": [
       "140"
      ]
     },
     "execution_count": 67,
     "metadata": {},
     "output_type": "execute_result"
    }
   ],
   "source": [
    "len({list(P)[_] for _ in p_selected_idx})"
   ]
  },
  {
   "cell_type": "code",
   "execution_count": 68,
   "metadata": {},
   "outputs": [
    {
     "data": {
      "text/plain": [
       "['10069', '10140', '10141', '10142', '10143', '10145', '10146', '10147']"
      ]
     },
     "execution_count": 68,
     "metadata": {},
     "output_type": "execute_result"
    }
   ],
   "source": [
    "[list(P)[_] for _ in [69, 140, 141, 142, 143, 145, 146, 147]]"
   ]
  },
  {
   "cell_type": "markdown",
   "metadata": {},
   "source": [
    "# Model 2: Choose Pallets"
   ]
  },
  {
   "cell_type": "code",
   "execution_count": 48,
   "metadata": {},
   "outputs": [
    {
     "data": {
      "text/plain": [
       "(181, 126, 55)"
      ]
     },
     "execution_count": 48,
     "metadata": {},
     "output_type": "execute_result"
    }
   ],
   "source": [
    "C_prime = set()  # 仅存在于一个托盘中的商品集合\n",
    "C_prime_bar = set()  # 存在于多个托盘中的商品集合\n",
    "for _ in C:\n",
    "    if len(sku2palletID[_]) == 1:\n",
    "        C_prime.add(_)\n",
    "    elif len(sku2palletID[_]) > 1:\n",
    "        C_prime_bar.add(_)\n",
    "    else:\n",
    "        assert False\n",
    "len(C), len(C_prime), len(C_prime_bar)"
   ]
  },
  {
   "cell_type": "code",
   "execution_count": 49,
   "metadata": {},
   "outputs": [
    {
     "data": {
      "text/plain": [
       "(97, 51)"
      ]
     },
     "execution_count": 49,
     "metadata": {},
     "output_type": "execute_result"
    }
   ],
   "source": [
    "P_prime = set()  # 包含C'中商品的托盘集合\n",
    "for p in P:\n",
    "    for c in q[p].keys():\n",
    "        if c in C_prime:\n",
    "            P_prime.add(p)\n",
    "P_prime_bar = set(P) - P_prime\n",
    "len(P_prime), len(P_prime_bar)"
   ]
  },
  {
   "cell_type": "code",
   "execution_count": 51,
   "metadata": {},
   "outputs": [],
   "source": [
    "m2 = Model('choose pallets')\n",
    "x = m2.addVars(P_prime_bar, vtype=GRB.BINARY)\n",
    "m2.setObjective(x.prod(l), GRB.MINIMIZE)\n",
    "for c in C_prime_bar:\n",
    "    m2.addConstr(sum([q[_].get(c, 0) for _ in P_prime]) + \n",
    "                 sum([q[_].get(c, 0) * x[_] for _ in P_prime_bar]) \n",
    "                 >= sum([r[_].get(c, 0) for _ in O]))"
   ]
  },
  {
   "cell_type": "code",
   "execution_count": 52,
   "metadata": {},
   "outputs": [
    {
     "name": "stdout",
     "output_type": "stream",
     "text": [
      "Gurobi Optimizer version 9.1.1 build v9.1.1rc0 (win64)\n",
      "Thread count: 6 physical cores, 12 logical processors, using up to 12 threads\n",
      "Optimize a model with 55 rows, 51 columns and 89 nonzeros\n",
      "Model fingerprint: 0x8cc60f47\n",
      "Variable types: 0 continuous, 51 integer (51 binary)\n",
      "Coefficient statistics:\n",
      "  Matrix range     [1e+00, 2e+02]\n",
      "  Objective range  [5e+00, 2e+01]\n",
      "  Bounds range     [1e+00, 1e+00]\n",
      "  RHS range        [7e+00, 3e+02]\n",
      "Found heuristic solution: objective 506.0000000\n",
      "Presolve removed 55 rows and 51 columns\n",
      "Presolve time: 0.00s\n",
      "Presolve: All rows and columns removed\n",
      "\n",
      "Explored 0 nodes (0 simplex iterations) in 0.00 seconds\n",
      "Thread count was 1 (of 12 available processors)\n",
      "\n",
      "Solution count 1: 506 \n",
      "\n",
      "Optimal solution found (tolerance 1.00e-04)\n",
      "Best objective 5.060000000000e+02, best bound 5.060000000000e+02, gap 0.0000%\n"
     ]
    }
   ],
   "source": [
    "m2.optimize()"
   ]
  },
  {
   "cell_type": "code",
   "execution_count": 59,
   "metadata": {},
   "outputs": [
    {
     "data": {
      "text/plain": [
       "506.0"
      ]
     },
     "execution_count": 59,
     "metadata": {},
     "output_type": "execute_result"
    }
   ],
   "source": [
    "m2.objVal"
   ]
  },
  {
   "cell_type": "code",
   "execution_count": 58,
   "metadata": {},
   "outputs": [],
   "source": [
    "# p_selected_idx = []\n",
    "# p_unselected_idx = []\n",
    "# for v in m2.getVars():\n",
    "#     if abs(v.x) > 1e-6:\n",
    "#         # print(v.varName, v.x)\n",
    "#         p_selected_idx.append(int(v.varName[1:]))\n",
    "#     else:\n",
    "#         p_unselected_idx.append(int(v.varName[1:]))\n",
    "# len(p_selected_idx), p_unselected_idx  # (43, [6, 9, 19, 27, 36, 39, 40, 47])"
   ]
  },
  {
   "cell_type": "code",
   "execution_count": 57,
   "metadata": {},
   "outputs": [],
   "source": [
    "# [list(P_prime_bar)[_] for _ in [6, 9, 19, 27, 36, 39, 40, 47]]\n",
    "# # ['10145', '10147', '10143', '10141', '10140', '10146', '10142', '10069']"
   ]
  },
  {
   "cell_type": "markdown",
   "metadata": {},
   "source": [
    "# Model 3: Choose Fully Packed Pallets"
   ]
  },
  {
   "cell_type": "code",
   "execution_count": 92,
   "metadata": {},
   "outputs": [
    {
     "data": {
      "text/plain": [
       "[('10000', '104151'), ('10000', '840211'), ('10000', '1297235')]"
      ]
     },
     "execution_count": 92,
     "metadata": {},
     "output_type": "execute_result"
    }
   ],
   "source": [
    "comb = []\n",
    "for p, d in q.items():\n",
    "    for c in d.keys():\n",
    "        comb.append((p, c))\n",
    "comb[:3]"
   ]
  },
  {
   "cell_type": "code",
   "execution_count": 91,
   "metadata": {},
   "outputs": [
    {
     "data": {
      "text/plain": [
       "['10000', '10001', '10002']"
      ]
     },
     "execution_count": 91,
     "metadata": {},
     "output_type": "execute_result"
    }
   ],
   "source": [
    "P_selected = [list(P)[_] for _ in p_selected_idx]\n",
    "P_selected[:3]"
   ]
  },
  {
   "cell_type": "code",
   "execution_count": 145,
   "metadata": {},
   "outputs": [],
   "source": [
    "m3 = Model()\n",
    "s = m3.addVars(comb, vtype=GRB.INTEGER)\n",
    "n = m3.addVars(P_selected, vtype=GRB.BINARY) # size: 140\n",
    "m3.setObjective(sum([n[_] for _ in n]), GRB.MAXIMIZE)\n",
    "\n",
    "for c in C:\n",
    "    m3.addConstr(sum([s.get((_, c), 0) for _ in P_selected]) == \n",
    "                 sum([r[_].get(c, 0) for _ in O]))\n",
    "    for p in P_selected:\n",
    "        m3.addConstr(s.get((p, c), 0) <= q[p].get(c, 0))\n",
    "        m3.addConstr(s.get((p, c), 0) >= q[p].get(c, 0) * n[p])"
   ]
  },
  {
   "cell_type": "code",
   "execution_count": 146,
   "metadata": {},
   "outputs": [
    {
     "name": "stdout",
     "output_type": "stream",
     "text": [
      "Gurobi Optimizer version 9.1.1 build v9.1.1rc0 (win64)\n",
      "Thread count: 6 physical cores, 12 logical processors, using up to 12 threads\n",
      "Optimize a model with 50861 rows, 434 columns and 1116 nonzeros\n",
      "Model fingerprint: 0x2f8648d9\n",
      "Variable types: 0 continuous, 434 integer (140 binary)\n",
      "Coefficient statistics:\n",
      "  Matrix range     [1e+00, 2e+02]\n",
      "  Objective range  [1e+00, 1e+00]\n",
      "  Bounds range     [1e+00, 1e+00]\n",
      "  RHS range        [1e+00, 4e+02]\n",
      "Presolve removed 50861 rows and 434 columns\n",
      "Presolve time: 0.01s\n",
      "Presolve: All rows and columns removed\n",
      "\n",
      "Explored 0 nodes (0 simplex iterations) in 0.01 seconds\n",
      "Thread count was 1 (of 12 available processors)\n",
      "\n",
      "Solution count 1: 139 \n",
      "\n",
      "Optimal solution found (tolerance 1.00e-04)\n",
      "Best objective 1.390000000000e+02, best bound 1.390000000000e+02, gap 0.0000%\n"
     ]
    }
   ],
   "source": [
    "m3.optimize()"
   ]
  },
  {
   "cell_type": "code",
   "execution_count": 164,
   "metadata": {},
   "outputs": [
    {
     "data": {
      "text/plain": [
       "([(('10000', '104151'), <gurobi.Var C0 (value 9.0)>),\n",
       "  (('10000', '840211'), <gurobi.Var C1 (value 35.0)>),\n",
       "  (('10000', '1297235'), <gurobi.Var C2 (value 1.0)>)],\n",
       " 9.0)"
      ]
     },
     "execution_count": 164,
     "metadata": {},
     "output_type": "execute_result"
    }
   ],
   "source": [
    "s.items()[:3], s[('10000', '104151')].x"
   ]
  },
  {
   "cell_type": "code",
   "execution_count": 178,
   "metadata": {},
   "outputs": [
    {
     "data": {
      "text/plain": [
       "(8478.0, 8478)"
      ]
     },
     "execution_count": 178,
     "metadata": {},
     "output_type": "execute_result"
    }
   ],
   "source": [
    "sum([_.x for _ in s.values()]), sum([list(_.values())[0] for _ in r.values()])"
   ]
  },
  {
   "cell_type": "markdown",
   "metadata": {},
   "source": [
    "# Model 4: Choose Fully Packed Pallets without Considering Distance"
   ]
  },
  {
   "cell_type": "code",
   "execution_count": 139,
   "metadata": {},
   "outputs": [
    {
     "data": {
      "text/plain": [
       "[('10000', '104151'), ('10000', '840211'), ('10000', '1297235')]"
      ]
     },
     "execution_count": 139,
     "metadata": {},
     "output_type": "execute_result"
    }
   ],
   "source": [
    "comb = []\n",
    "for p, d in q.items():\n",
    "    for c in d.keys():\n",
    "        comb.append((p, c))\n",
    "comb[:3]"
   ]
  },
  {
   "cell_type": "code",
   "execution_count": 140,
   "metadata": {},
   "outputs": [],
   "source": [
    "m4 = Model()\n",
    "s = m4.addVars(comb, vtype=GRB.INTEGER)\n",
    "n = m4.addVars(P, vtype=GRB.BINARY) # size: 140\n",
    "m4.setObjective(sum([n[_] for _ in n]), GRB.MAXIMIZE)\n",
    "\n",
    "for c in C:\n",
    "    m4.addConstr(sum([s.get((_, c), 0) for _ in P]) == \n",
    "             sum([r[_].get(c, 0) for _ in O]))\n",
    "    for p in P:\n",
    "        m4.addConstr(s.get((p, c), 0) <= q[p].get(c, 0))\n",
    "        m4.addConstr(s.get((p, c), 0) >= q[p].get(c, 0) * n[p])"
   ]
  },
  {
   "cell_type": "code",
   "execution_count": 141,
   "metadata": {},
   "outputs": [
    {
     "name": "stdout",
     "output_type": "stream",
     "text": [
      "Gurobi Optimizer version 9.1.1 build v9.1.1rc0 (win64)\n",
      "Thread count: 6 physical cores, 12 logical processors, using up to 12 threads\n",
      "Optimize a model with 53757 rows, 442 columns and 1176 nonzeros\n",
      "Model fingerprint: 0xd9af3e75\n",
      "Variable types: 0 continuous, 442 integer (148 binary)\n",
      "Coefficient statistics:\n",
      "  Matrix range     [1e+00, 2e+02]\n",
      "  Objective range  [1e+00, 1e+00]\n",
      "  Bounds range     [1e+00, 1e+00]\n",
      "  RHS range        [1e+00, 4e+02]\n",
      "Presolve removed 53757 rows and 442 columns\n",
      "Presolve time: 0.01s\n",
      "Presolve: All rows and columns removed\n",
      "\n",
      "Explored 0 nodes (0 simplex iterations) in 0.02 seconds\n",
      "Thread count was 1 (of 12 available processors)\n",
      "\n",
      "Solution count 1: 140 \n",
      "\n",
      "Optimal solution found (tolerance 1.00e-04)\n",
      "Best objective 1.400000000000e+02, best bound 1.400000000000e+02, gap 0.0000%\n"
     ]
    }
   ],
   "source": [
    "m4.optimize()"
   ]
  },
  {
   "cell_type": "code",
   "execution_count": 1,
   "metadata": {},
   "outputs": [],
   "source": [
    "# for v in m4.getVars():\n",
    "#     print(v.varName, v.x)"
   ]
  },
  {
   "cell_type": "markdown",
   "metadata": {
    "tags": []
   },
   "source": [
    "# Model 5"
   ]
  },
  {
   "cell_type": "code",
   "execution_count": 26,
   "metadata": {},
   "outputs": [
    {
     "data": {
      "text/plain": [
       "(148, 675, 99900)"
      ]
     },
     "execution_count": 26,
     "metadata": {},
     "output_type": "execute_result"
    }
   ],
   "source": [
    "len(P), len(O), 148 * 675"
   ]
  },
  {
   "cell_type": "code",
   "execution_count": 27,
   "metadata": {
    "tags": []
   },
   "outputs": [
    {
     "data": {
      "text/plain": [
       "[('10000', '1'), ('10000', '2'), ('10000', '3')]"
      ]
     },
     "execution_count": 27,
     "metadata": {},
     "output_type": "execute_result"
    }
   ],
   "source": [
    "b_comb = []\n",
    "s_comb = []\n",
    "for p in P:\n",
    "    for o in O:\n",
    "        b_comb.append((p, o))\n",
    "        s_comb.append((p, o))\n",
    "b_comb[:3]"
   ]
  },
  {
   "cell_type": "code",
   "execution_count": 28,
   "metadata": {},
   "outputs": [
    {
     "data": {
      "text/plain": [
       "[('10000', 13.0), ('10001', 5.0), ('10002', 16.0)]"
      ]
     },
     "execution_count": 28,
     "metadata": {},
     "output_type": "execute_result"
    }
   ],
   "source": [
    "list(l.items())[:3]"
   ]
  },
  {
   "cell_type": "code",
   "execution_count": 29,
   "metadata": {},
   "outputs": [
    {
     "data": {
      "text/plain": [
       "192"
      ]
     },
     "execution_count": 29,
     "metadata": {},
     "output_type": "execute_result"
    }
   ],
   "source": [
    "M = max([sum([v for v in _.values()]) for _ in q.values()])\n",
    "M"
   ]
  },
  {
   "cell_type": "code",
   "execution_count": 30,
   "metadata": {},
   "outputs": [
    {
     "data": {
      "text/plain": [
       "6"
      ]
     },
     "execution_count": 30,
     "metadata": {},
     "output_type": "execute_result"
    }
   ],
   "source": [
    "list(r['1'].values())[0]"
   ]
  },
  {
   "cell_type": "code",
   "execution_count": 39,
   "metadata": {},
   "outputs": [],
   "source": [
    "m5 = Model()\n",
    "b = m5.addVars(b_comb, vtype=GRB.BINARY)  # sizeL 99900\n",
    "s = m5.addVars(s_comb, vtype=GRB.INTEGER) # size: 99900\n",
    "m5.setObjective(\n",
    "    sum(l[p] * b[(p, o)] for p in P for o in O), GRB.MINIMIZE\n",
    ")"
   ]
  },
  {
   "cell_type": "code",
   "execution_count": 42,
   "metadata": {},
   "outputs": [
    {
     "name": "stderr",
     "output_type": "stream",
     "text": [
      "100%|████████████████████████████████████████████████████████████████████████████████████████| 148/148 [09:47<00:00,  3.97s/it]\n",
      "  0%|                                                                                                  | 0/675 [00:00<?, ?it/s]\n"
     ]
    },
    {
     "ename": "KeyError",
     "evalue": "('1', '1')",
     "output_type": "error",
     "traceback": [
      "\u001B[1;31m---------------------------------------------------------------------------\u001B[0m",
      "\u001B[1;31mKeyError\u001B[0m                                  Traceback (most recent call last)",
      "\u001B[1;32m<ipython-input-42-40599972766f>\u001B[0m in \u001B[0;36m<module>\u001B[1;34m\u001B[0m\n\u001B[0;32m      8\u001B[0m         \u001B[0mm5\u001B[0m\u001B[1;33m.\u001B[0m\u001B[0maddConstr\u001B[0m\u001B[1;33m(\u001B[0m\u001B[0ms\u001B[0m\u001B[1;33m[\u001B[0m\u001B[1;33m(\u001B[0m\u001B[0mp\u001B[0m\u001B[1;33m,\u001B[0m \u001B[0mo\u001B[0m\u001B[1;33m)\u001B[0m\u001B[1;33m]\u001B[0m \u001B[1;33m<=\u001B[0m \u001B[0mM\u001B[0m \u001B[1;33m*\u001B[0m \u001B[0mb\u001B[0m\u001B[1;33m[\u001B[0m\u001B[1;33m(\u001B[0m\u001B[0mp\u001B[0m\u001B[1;33m,\u001B[0m \u001B[0mo\u001B[0m\u001B[1;33m)\u001B[0m\u001B[1;33m]\u001B[0m\u001B[1;33m)\u001B[0m\u001B[1;33m\u001B[0m\u001B[1;33m\u001B[0m\u001B[0m\n\u001B[0;32m      9\u001B[0m \u001B[1;32mfor\u001B[0m \u001B[0mo\u001B[0m \u001B[1;32min\u001B[0m \u001B[0mtqdm\u001B[0m\u001B[1;33m(\u001B[0m\u001B[0mO\u001B[0m\u001B[1;33m)\u001B[0m\u001B[1;33m:\u001B[0m\u001B[1;33m\u001B[0m\u001B[1;33m\u001B[0m\u001B[0m\n\u001B[1;32m---> 10\u001B[1;33m     \u001B[0mm5\u001B[0m\u001B[1;33m.\u001B[0m\u001B[0maddConstr\u001B[0m\u001B[1;33m(\u001B[0m\u001B[0msum\u001B[0m\u001B[1;33m(\u001B[0m\u001B[0ms\u001B[0m\u001B[1;33m[\u001B[0m\u001B[1;33m(\u001B[0m\u001B[0m_\u001B[0m\u001B[1;33m,\u001B[0m \u001B[0mo\u001B[0m\u001B[1;33m)\u001B[0m\u001B[1;33m]\u001B[0m \u001B[1;32mfor\u001B[0m \u001B[0m_\u001B[0m \u001B[1;32min\u001B[0m \u001B[0mp\u001B[0m\u001B[1;33m)\u001B[0m \u001B[1;33m==\u001B[0m \u001B[0mlist\u001B[0m\u001B[1;33m(\u001B[0m\u001B[0mr\u001B[0m\u001B[1;33m[\u001B[0m\u001B[0mo\u001B[0m\u001B[1;33m]\u001B[0m\u001B[1;33m.\u001B[0m\u001B[0mvalues\u001B[0m\u001B[1;33m(\u001B[0m\u001B[1;33m)\u001B[0m\u001B[1;33m)\u001B[0m\u001B[1;33m[\u001B[0m\u001B[1;36m0\u001B[0m\u001B[1;33m]\u001B[0m\u001B[1;33m)\u001B[0m\u001B[1;33m\u001B[0m\u001B[1;33m\u001B[0m\u001B[0m\n\u001B[0m",
      "\u001B[1;32m<ipython-input-42-40599972766f>\u001B[0m in \u001B[0;36m<genexpr>\u001B[1;34m(.0)\u001B[0m\n\u001B[0;32m      8\u001B[0m         \u001B[0mm5\u001B[0m\u001B[1;33m.\u001B[0m\u001B[0maddConstr\u001B[0m\u001B[1;33m(\u001B[0m\u001B[0ms\u001B[0m\u001B[1;33m[\u001B[0m\u001B[1;33m(\u001B[0m\u001B[0mp\u001B[0m\u001B[1;33m,\u001B[0m \u001B[0mo\u001B[0m\u001B[1;33m)\u001B[0m\u001B[1;33m]\u001B[0m \u001B[1;33m<=\u001B[0m \u001B[0mM\u001B[0m \u001B[1;33m*\u001B[0m \u001B[0mb\u001B[0m\u001B[1;33m[\u001B[0m\u001B[1;33m(\u001B[0m\u001B[0mp\u001B[0m\u001B[1;33m,\u001B[0m \u001B[0mo\u001B[0m\u001B[1;33m)\u001B[0m\u001B[1;33m]\u001B[0m\u001B[1;33m)\u001B[0m\u001B[1;33m\u001B[0m\u001B[1;33m\u001B[0m\u001B[0m\n\u001B[0;32m      9\u001B[0m \u001B[1;32mfor\u001B[0m \u001B[0mo\u001B[0m \u001B[1;32min\u001B[0m \u001B[0mtqdm\u001B[0m\u001B[1;33m(\u001B[0m\u001B[0mO\u001B[0m\u001B[1;33m)\u001B[0m\u001B[1;33m:\u001B[0m\u001B[1;33m\u001B[0m\u001B[1;33m\u001B[0m\u001B[0m\n\u001B[1;32m---> 10\u001B[1;33m     \u001B[0mm5\u001B[0m\u001B[1;33m.\u001B[0m\u001B[0maddConstr\u001B[0m\u001B[1;33m(\u001B[0m\u001B[0msum\u001B[0m\u001B[1;33m(\u001B[0m\u001B[0ms\u001B[0m\u001B[1;33m[\u001B[0m\u001B[1;33m(\u001B[0m\u001B[0m_\u001B[0m\u001B[1;33m,\u001B[0m \u001B[0mo\u001B[0m\u001B[1;33m)\u001B[0m\u001B[1;33m]\u001B[0m \u001B[1;32mfor\u001B[0m \u001B[0m_\u001B[0m \u001B[1;32min\u001B[0m \u001B[0mp\u001B[0m\u001B[1;33m)\u001B[0m \u001B[1;33m==\u001B[0m \u001B[0mlist\u001B[0m\u001B[1;33m(\u001B[0m\u001B[0mr\u001B[0m\u001B[1;33m[\u001B[0m\u001B[0mo\u001B[0m\u001B[1;33m]\u001B[0m\u001B[1;33m.\u001B[0m\u001B[0mvalues\u001B[0m\u001B[1;33m(\u001B[0m\u001B[1;33m)\u001B[0m\u001B[1;33m)\u001B[0m\u001B[1;33m[\u001B[0m\u001B[1;36m0\u001B[0m\u001B[1;33m]\u001B[0m\u001B[1;33m)\u001B[0m\u001B[1;33m\u001B[0m\u001B[1;33m\u001B[0m\u001B[0m\n\u001B[0m",
      "\u001B[1;31mKeyError\u001B[0m: ('1', '1')"
     ]
    }
   ],
   "source": [
    "for p in tqdm(P):  # 148/148 [09:47<00:00,  3.97s/it]\n",
    "    for c in C:\n",
    "        m5.addConstr(\n",
    "            sum(np.sign(r[_].get(c, 0)) * s[(p, _)] for _ in O) <=  \n",
    "            q[p].get(c, 0)\n",
    "        )\n",
    "    for o in O:\n",
    "        m5.addConstr(s[(p, o)] <= M * b[(p, o)])"
   ]
  },
  {
   "cell_type": "code",
   "execution_count": 44,
   "metadata": {},
   "outputs": [
    {
     "name": "stderr",
     "output_type": "stream",
     "text": [
      "100%|██████████████████████████████████████████████████████████████████████████████████████| 675/675 [00:00<00:00, 3628.68it/s]\n"
     ]
    }
   ],
   "source": [
    "for o in tqdm(O):  # [00:00<00:00, 3628.68it/s]\n",
    "    m5.addConstr(sum(s[(_, o)] for _ in P) == list(r[o].values())[0])"
   ]
  },
  {
   "cell_type": "code",
   "execution_count": 43,
   "metadata": {},
   "outputs": [
    {
     "data": {
      "text/plain": [
       "6"
      ]
     },
     "execution_count": 43,
     "metadata": {},
     "output_type": "execute_result"
    }
   ],
   "source": [
    "list(r[o].values())[0]"
   ]
  },
  {
   "cell_type": "code",
   "execution_count": 45,
   "metadata": {},
   "outputs": [],
   "source": [
    "m5.write('save/model_5.lp')"
   ]
  },
  {
   "cell_type": "code",
   "execution_count": 46,
   "metadata": {},
   "outputs": [
    {
     "name": "stdout",
     "output_type": "stream",
     "text": [
      "Gurobi Optimizer version 9.1.1 build v9.1.1rc0 (win64)\n",
      "Thread count: 6 physical cores, 12 logical processors, using up to 12 threads\n",
      "Optimize a model with 127363 rows, 199800 columns and 399600 nonzeros\n",
      "Model fingerprint: 0xc6e0958d\n",
      "Variable types: 0 continuous, 199800 integer (99900 binary)\n",
      "Coefficient statistics:\n",
      "  Matrix range     [1e+00, 2e+02]\n",
      "  Objective range  [5e+00, 2e+01]\n",
      "  Bounds range     [1e+00, 1e+00]\n",
      "  RHS range        [1e+00, 2e+02]\n",
      "Presolve removed 127244 rows and 199604 columns\n",
      "Presolve time: 0.35s\n",
      "Presolved: 119 rows, 196 columns, 392 nonzeros\n",
      "Variable types: 0 continuous, 196 integer (98 binary)\n",
      "\n",
      "Root relaxation: objective 8.430838e+03, 205 iterations, 0.00 seconds\n",
      "\n",
      "    Nodes    |    Current Node    |     Objective Bounds      |     Work\n",
      " Expl Unexpl |  Obj  Depth IntInf | Incumbent    BestBd   Gap | It/Node Time\n",
      "\n",
      "     0     0 8430.83766    0    7          - 8430.83766      -     -    0s\n",
      "H    0     0                    8480.0000000 8430.83766  0.58%     -    0s\n",
      "H    0     0                    8466.0000000 8430.83766  0.42%     -    0s\n",
      "     0     0 8431.78485    0   17 8466.00000 8431.78485  0.40%     -    0s\n",
      "H    0     0                    8463.0000000 8431.78485  0.37%     -    0s\n",
      "H    0     0                    8462.0000000 8431.78485  0.36%     -    0s\n",
      "     0     0 8432.72727    0   21 8462.00000 8432.72727  0.35%     -    0s\n",
      "     0     0 8432.89091    0   39 8462.00000 8432.89091  0.34%     -    0s\n",
      "H    0     0                    8460.0000000 8432.89091  0.32%     -    0s\n",
      "     0     0 8432.89091    0   35 8460.00000 8432.89091  0.32%     -    0s\n",
      "     0     0 8432.89091    0   41 8460.00000 8432.89091  0.32%     -    0s\n",
      "     0     0 8433.91943    0   37 8460.00000 8433.91943  0.31%     -    0s\n",
      "     0     0 8433.93824    0   49 8460.00000 8433.93824  0.31%     -    0s\n",
      "     0     0 8434.07933    0   47 8460.00000 8434.07933  0.31%     -    0s\n",
      "H    0     0                    8456.0000000 8434.07933  0.26%     -    0s\n",
      "     0     0 8434.74872    0   40 8456.00000 8434.74872  0.25%     -    0s\n",
      "H    0     0                    8454.0000000 8434.74872  0.23%     -    0s\n",
      "     0     0 8434.74872    0   42 8454.00000 8434.74872  0.23%     -    0s\n",
      "     0     0 8435.10448    0   46 8454.00000 8435.10448  0.22%     -    0s\n",
      "     0     0 8435.27623    0   49 8454.00000 8435.27623  0.22%     -    0s\n",
      "     0     0 8435.29432    0   59 8454.00000 8435.29432  0.22%     -    0s\n",
      "     0     0 8435.29432    0   59 8454.00000 8435.29432  0.22%     -    0s\n",
      "H    0     0                    8450.0000000 8435.29432  0.17%     -    0s\n",
      "     0     0 8435.40583    0   57 8450.00000 8435.40583  0.17%     -    0s\n",
      "     0     0 8435.40583    0   63 8450.00000 8435.40583  0.17%     -    0s\n",
      "     0     0 8436.06868    0   62 8450.00000 8436.06868  0.16%     -    0s\n",
      "     0     0 8436.24460    0   67 8450.00000 8436.24460  0.16%     -    0s\n",
      "     0     0 8436.24645    0   68 8450.00000 8436.24645  0.16%     -    0s\n",
      "     0     0 8436.26522    0   64 8450.00000 8436.26522  0.16%     -    0s\n",
      "     0     0 8436.26522    0   62 8450.00000 8436.26522  0.16%     -    0s\n",
      "     0     0 8436.27773    0   74 8450.00000 8436.27773  0.16%     -    0s\n",
      "     0     0 8436.27773    0   48 8450.00000 8436.27773  0.16%     -    0s\n",
      "H    0     0                    8445.0000000 8436.27773  0.10%     -    0s\n",
      "     0     2 8436.27773    0   48 8445.00000 8436.27773  0.10%     -    0s\n",
      "H 2238   747                    8444.0000000 8437.40686  0.08%  10.5    0s\n",
      "\n",
      "Cutting planes:\n",
      "  Gomory: 10\n",
      "  Cover: 24\n",
      "  MIR: 31\n",
      "  StrongCG: 5\n",
      "  Flow cover: 23\n",
      "  Inf proof: 6\n",
      "\n",
      "Explored 8173 nodes (85422 simplex iterations) in 1.70 seconds\n",
      "Thread count was 12 (of 12 available processors)\n",
      "\n",
      "Solution count 10: 8444 8445 8450 ... 8480\n",
      "\n",
      "Optimal solution found (tolerance 1.00e-04)\n",
      "Best objective 8.444000000000e+03, best bound 8.444000000000e+03, gap 0.0000%\n"
     ]
    }
   ],
   "source": [
    "m5.optimize()"
   ]
  },
  {
   "cell_type": "code",
   "execution_count": 63,
   "metadata": {},
   "outputs": [
    {
     "data": {
      "text/plain": [
       "8444.0"
      ]
     },
     "execution_count": 63,
     "metadata": {},
     "output_type": "execute_result"
    }
   ],
   "source": [
    "m5.objVal"
   ]
  },
  {
   "cell_type": "code",
   "execution_count": 65,
   "metadata": {},
   "outputs": [
    {
     "data": {
      "text/plain": [
       "8478.0"
      ]
     },
     "execution_count": 65,
     "metadata": {},
     "output_type": "execute_result"
    }
   ],
   "source": [
    "sum_s = 0\n",
    "for k, v in s.items():\n",
    "    if abs(v.x) > 1e-6:\n",
    "        # print('varName: {}, k: {}, v: {}'.format(v.varName, k, v.x))\n",
    "        sum_s += v.x\n",
    "sum_s"
   ]
  },
  {
   "cell_type": "markdown",
   "metadata": {},
   "source": [
    "# Model 6"
   ]
  },
  {
   "cell_type": "code",
   "execution_count": 24,
   "metadata": {},
   "outputs": [
    {
     "data": {
      "text/plain": [
       "(192, 0.994)"
      ]
     },
     "execution_count": 24,
     "metadata": {},
     "output_type": "execute_result"
    }
   ],
   "source": [
    "M = max([sum([v for v in _.values()]) for _ in q.values()])\n",
    "lam = 0.994\n",
    "M, lam"
   ]
  },
  {
   "cell_type": "code",
   "execution_count": 242,
   "metadata": {},
   "outputs": [],
   "source": [
    "m6 = Model()\n",
    "b = m6.addVars(b_comb, vtype=GRB.BINARY)  # size: 99900, 托盘p是否运送订单o所需商品\n",
    "s = m6.addVars(s_comb, vtype=GRB.INTEGER) # size: 99900, 托盘p运送订单o所需商品的数量\n",
    "n = m6.addVars(P, vtype=GRB.BINARY)  # size: 148, 运送完所有订单后托盘p是否为空\n",
    "m6.setObjective(\n",
    "    lam * sum(l[p] * b[(p, o)] for p in P for o in O) -\n",
    "    (1 - lam) * sum(n[p] for p in P), GRB.MINIMIZE\n",
    ")"
   ]
  },
  {
   "cell_type": "code",
   "execution_count": 243,
   "metadata": {},
   "outputs": [
    {
     "name": "stderr",
     "output_type": "stream",
     "text": [
      "100%|███████████████████████████████████████████████████████████████████████████████████████| 148/148 [00:00<00:00, 819.87it/s]\n",
      "100%|██████████████████████████████████████████████████████████████████████████████████████| 675/675 [00:00<00:00, 3697.56it/s]\n",
      "100%|████████████████████████████████████████████████████████████████████████████████████████| 148/148 [14:11<00:00,  5.75s/it]\n"
     ]
    }
   ],
   "source": [
    "for p in tqdm(P):\n",
    "    m6.addConstr(\n",
    "        sum([q[p].get(_, 0) for _ in C]) - \n",
    "        sum([s[(p, _)] for _ in O]) <= M * (1 - n[p])\n",
    "    )\n",
    "    \n",
    "for o in tqdm(O):  # [00:00<00:00, 3628.68it/s]\n",
    "    m6.addConstr(sum(s[(_, o)] for _ in P) == list(r[o].values())[0])\n",
    "\n",
    "for p in tqdm(P):  # 148/148 [09:47<00:00,  3.97s/it]\n",
    "    for c in C:\n",
    "        m6.addConstr(\n",
    "            sum(np.sign(r[_].get(c, 0)) * s[(p, _)] for _ in O) <=  \n",
    "            q[p].get(c, 0)\n",
    "        )\n",
    "    for o in O:\n",
    "        m6.addConstr(s[(p, o)] <= M * b[(p, o)])"
   ]
  },
  {
   "cell_type": "code",
   "execution_count": 303,
   "metadata": {},
   "outputs": [
    {
     "data": {
      "text/plain": [
       "{'10000': (18, 8),\n",
       " '10001': (19, 16),\n",
       " '10002': (14, 12),\n",
       " '10003': (18, 15),\n",
       " '10004': (14, 6),\n",
       " '10005': (14, 13),\n",
       " '10006': (21, 16),\n",
       " '10007': (7, 15),\n",
       " '10008': (11, 16),\n",
       " '10009': (22, 6),\n",
       " '10010': (20, 15),\n",
       " '10011': (20, 9),\n",
       " '10012': (19, 12),\n",
       " '10013': (5, 9),\n",
       " '10014': (5, 6),\n",
       " '10015': (22, 8),\n",
       " '10016': (8, 13),\n",
       " '10017': (17, 16),\n",
       " '10018': (7, 9),\n",
       " '10019': (13, 15),\n",
       " '10020': (23, 9),\n",
       " '10021': (25, 8),\n",
       " '10022': (12, 8),\n",
       " '10023': (20, 6),\n",
       " '10024': (8, 8),\n",
       " '10025': (5, 5),\n",
       " '10026': (25, 13),\n",
       " '10027': (9, 6),\n",
       " '10028': (6, 16),\n",
       " '10029': (17, 12),\n",
       " '10030': (14, 5),\n",
       " '10031': (7, 6),\n",
       " '10032': (23, 8),\n",
       " '10033': (14, 15),\n",
       " '10034': (24, 5),\n",
       " '10035': (24, 8),\n",
       " '10036': (23, 12),\n",
       " '10037': (8, 5),\n",
       " '10038': (12, 16),\n",
       " '10039': (21, 12),\n",
       " '10040': (6, 9),\n",
       " '10041': (18, 6),\n",
       " '10042': (18, 16),\n",
       " '10043': (5, 8),\n",
       " '10044': (22, 13),\n",
       " '10045': (24, 6),\n",
       " '10046': (7, 5),\n",
       " '10047': (11, 13),\n",
       " '10048': (6, 15),\n",
       " '10049': (21, 13),\n",
       " '10050': (26, 9),\n",
       " '10051': (17, 13),\n",
       " '10052': (26, 8),\n",
       " '10053': (8, 6),\n",
       " '10054': (24, 9),\n",
       " '10055': (21, 15),\n",
       " '10056': (9, 13),\n",
       " '10057': (9, 15),\n",
       " '10058': (11, 5),\n",
       " '10059': (18, 5),\n",
       " '10060': (11, 9),\n",
       " '10061': (7, 13),\n",
       " '10062': (9, 9),\n",
       " '10063': (8, 16),\n",
       " '10064': (11, 8),\n",
       " '10065': (21, 6),\n",
       " '10066': (11, 6),\n",
       " '10067': (7, 8),\n",
       " '10068': (17, 5),\n",
       " '10069': (17, 8),\n",
       " '10070': (20, 5),\n",
       " '10071': (10, 12),\n",
       " '10072': (5, 13),\n",
       " '10073': (17, 9),\n",
       " '10074': (22, 5),\n",
       " '10075': (10, 8),\n",
       " '10076': (24, 12),\n",
       " '10077': (6, 12),\n",
       " '10078': (18, 9),\n",
       " '10079': (20, 16),\n",
       " '10080': (6, 5),\n",
       " '10081': (22, 16),\n",
       " '10082': (9, 8),\n",
       " '10083': (20, 8),\n",
       " '10084': (6, 6),\n",
       " '10085': (11, 15),\n",
       " '10086': (13, 8),\n",
       " '10087': (22, 15),\n",
       " '10088': (10, 9),\n",
       " '10089': (21, 9),\n",
       " '10090': (23, 6),\n",
       " '10091': (18, 13),\n",
       " '10092': (22, 9),\n",
       " '10093': (13, 13),\n",
       " '10094': (13, 9),\n",
       " '10095': (10, 13),\n",
       " '10096': (13, 16),\n",
       " '10097': (19, 13),\n",
       " '10098': (7, 12),\n",
       " '10099': (21, 8),\n",
       " '10100': (8, 15),\n",
       " '10101': (12, 5),\n",
       " '10102': (5, 16),\n",
       " '10103': (17, 15),\n",
       " '10104': (12, 15),\n",
       " '10105': (19, 15),\n",
       " '10106': (13, 6),\n",
       " '10107': (21, 5),\n",
       " '10108': (14, 8),\n",
       " '10109': (17, 6),\n",
       " '10110': (12, 12),\n",
       " '10111': (25, 12),\n",
       " '10112': (13, 12),\n",
       " '10113': (23, 16),\n",
       " '10114': (14, 9),\n",
       " '10115': (26, 13),\n",
       " '10116': (8, 9),\n",
       " '10117': (23, 13),\n",
       " '10118': (24, 16),\n",
       " '10119': (6, 13),\n",
       " '10120': (5, 15),\n",
       " '10121': (24, 13),\n",
       " '10122': (19, 9),\n",
       " '10123': (5, 12),\n",
       " '10124': (12, 9),\n",
       " '10125': (8, 12),\n",
       " '10126': (26, 12),\n",
       " '10127': (7, 16),\n",
       " '10128': (9, 5),\n",
       " '10129': (9, 16),\n",
       " '10130': (6, 8),\n",
       " '10131': (23, 5),\n",
       " '10132': (11, 12),\n",
       " '10133': (20, 12),\n",
       " '10134': (25, 9),\n",
       " '10135': (18, 12),\n",
       " '10136': (14, 16),\n",
       " '10137': (20, 13),\n",
       " '10138': (22, 12),\n",
       " '10139': (19, 6),\n",
       " '10140': (19, 5),\n",
       " '10141': (19, 8),\n",
       " '10142': (23, 15),\n",
       " '10143': (24, 15),\n",
       " '10144': (13, 5),\n",
       " '10145': (12, 6),\n",
       " '10146': (12, 13),\n",
       " '10147': (9, 12)}"
      ]
     },
     "execution_count": 303,
     "metadata": {},
     "output_type": "execute_result"
    }
   ],
   "source": [
    "pallets_dict"
   ]
  },
  {
   "cell_type": "code",
   "execution_count": 76,
   "metadata": {},
   "outputs": [],
   "source": [
    "m6.write('save/model_6.lp')"
   ]
  },
  {
   "cell_type": "code",
   "execution_count": 244,
   "metadata": {},
   "outputs": [
    {
     "name": "stdout",
     "output_type": "stream",
     "text": [
      "Gurobi Optimizer version 9.1.1 build v9.1.1rc0 (win64)\n",
      "Thread count: 6 physical cores, 12 logical processors, using up to 12 threads\n",
      "Optimize a model with 127511 rows, 199948 columns and 499648 nonzeros\n",
      "Model fingerprint: 0xd848b08d\n",
      "Variable types: 0 continuous, 199948 integer (100048 binary)\n",
      "Coefficient statistics:\n",
      "  Matrix range     [1e+00, 2e+02]\n",
      "  Objective range  [6e-03, 2e+01]\n",
      "  Bounds range     [1e+00, 1e+00]\n",
      "  RHS range        [1e+00, 2e+02]\n",
      "Presolve removed 126929 rows and 199097 columns\n",
      "Presolve time: 1.00s\n",
      "Presolved: 582 rows, 851 columns, 2063 nonzeros\n",
      "Variable types: 0 continuous, 851 integer (477 binary)\n",
      "\n",
      "Root relaxation: objective 8.266438e+03, 696 iterations, 0.00 seconds\n",
      "\n",
      "    Nodes    |    Current Node    |     Objective Bounds      |     Work\n",
      " Expl Unexpl |  Obj  Depth IntInf | Incumbent    BestBd   Gap | It/Node Time\n",
      "\n",
      "     0     0 8266.43844    0   46          - 8266.43844      -     -    1s\n",
      "H    0     0                    8519.7640000 8266.43844  2.97%     -    1s\n",
      "H    0     0                    8519.7580000 8266.43844  2.97%     -    1s\n",
      "H    0     0                    8517.7760000 8266.43844  2.95%     -    1s\n",
      "H    0     0                    8513.8000000 8266.43844  2.91%     -    1s\n",
      "H    0     0                    8506.8360000 8266.43844  2.83%     -    1s\n",
      "H    0     0                    8501.8660000 8272.16310  2.70%     -    1s\n",
      "H    0     0                    8498.8840000 8272.16310  2.67%     -    1s\n",
      "     0     0 8322.16317    0  129 8498.88400 8322.16317  2.08%     -    1s\n",
      "H    0     0                    8471.0580000 8322.16317  1.76%     -    1s\n",
      "     0     0 8333.15462    0  123 8471.05800 8333.15462  1.63%     -    1s\n",
      "     0     0 8333.15462    0  122 8471.05800 8333.15462  1.63%     -    1s\n",
      "H    0     0                    8456.1480000 8333.15462  1.45%     -    1s\n",
      "     0     0 8341.38736    0  139 8456.14800 8341.38736  1.36%     -    1s\n",
      "     0     0 8343.24323    0  144 8456.14800 8343.24323  1.34%     -    1s\n",
      "     0     0 8343.53075    0  137 8456.14800 8343.53075  1.33%     -    1s\n",
      "     0     0 8343.58459    0  138 8456.14800 8343.58459  1.33%     -    1s\n",
      "     0     0 8345.32347    0  189 8456.14800 8345.32347  1.31%     -    1s\n",
      "H    0     0                    8454.1600000 8345.32347  1.29%     -    1s\n",
      "     0     0 8345.57999    0  158 8454.16000 8345.57999  1.28%     -    1s\n",
      "     0     0 8345.81207    0  136 8454.16000 8345.81207  1.28%     -    1s\n",
      "     0     0 8345.81661    0  139 8454.16000 8345.81661  1.28%     -    1s\n",
      "H    0     0                    8449.1900000 8345.81661  1.22%     -    1s\n",
      "H    0     0                    8433.2860000 8345.81661  1.04%     -    1s\n",
      "     0     0 8347.94468    0  202 8433.28600 8347.94468  1.01%     -    1s\n",
      "     0     0 8348.19238    0  206 8433.28600 8348.19238  1.01%     -    1s\n",
      "     0     0 8348.23446    0  215 8433.28600 8348.23446  1.01%     -    1s\n",
      "     0     0 8350.20877    0  179 8433.28600 8350.20877  0.99%     -    1s\n",
      "H    0     0                    8405.4540000 8350.20877  0.66%     -    1s\n",
      "     0     0 8350.58981    0  161 8405.45400 8350.58981  0.65%     -    1s\n",
      "     0     0 8350.66462    0  169 8405.45400 8350.66462  0.65%     -    1s\n",
      "     0     0 8350.66462    0  171 8405.45400 8350.66462  0.65%     -    1s\n",
      "     0     0 8352.57762    0  199 8405.45400 8352.57762  0.63%     -    1s\n",
      "     0     0 8352.93777    0  188 8405.45400 8352.93777  0.62%     -    1s\n",
      "     0     0 8353.07868    0  198 8405.45400 8353.07868  0.62%     -    1s\n",
      "     0     0 8353.07868    0  200 8405.45400 8353.07868  0.62%     -    1s\n",
      "     0     0 8353.62513    0  221 8405.45400 8353.62513  0.62%     -    1s\n",
      "     0     0 8353.73703    0  207 8405.45400 8353.73703  0.62%     -    1s\n",
      "     0     0 8353.74734    0  206 8405.45400 8353.74734  0.62%     -    1s\n",
      "     0     0 8355.31442    0  187 8405.45400 8355.31442  0.60%     -    1s\n",
      "     0     0 8355.39310    0  200 8405.45400 8355.39310  0.60%     -    1s\n",
      "     0     0 8355.41449    0  178 8405.45400 8355.41449  0.60%     -    1s\n",
      "     0     0 8355.68234    0  193 8405.45400 8355.68234  0.59%     -    1s\n",
      "     0     0 8355.68234    0  191 8405.45400 8355.68234  0.59%     -    1s\n",
      "H    0     0                    8403.4660000 8355.68834  0.57%     -    1s\n",
      "H    0     0                    8401.4780000 8355.68834  0.55%     -    2s\n",
      "H 1193   646                    8397.5020000 8360.69905  0.44%   8.8    3s\n",
      "H 2557  1305                    8393.5260000 8362.20080  0.37%   8.8    3s\n",
      "  4902  2055 8372.02561   26   26 8393.52600 8369.56809  0.29%  10.4    5s\n",
      "H 8468  1561                    8392.5320000 8375.61344  0.20%  10.0    5s\n",
      "\n",
      "Cutting planes:\n",
      "  Gomory: 14\n",
      "  Cover: 33\n",
      "  Implied bound: 6\n",
      "  Clique: 5\n",
      "  MIR: 49\n",
      "  StrongCG: 14\n",
      "  Flow cover: 43\n",
      "  Network: 1\n",
      "  RLT: 2\n",
      "  Relax-and-lift: 3\n",
      "\n",
      "Explored 18888 nodes (192085 simplex iterations) in 7.37 seconds\n",
      "Thread count was 12 (of 12 available processors)\n",
      "\n",
      "Solution count 10: 8392.53 8393.53 8397.5 ... 8456.15\n",
      "\n",
      "Optimal solution found (tolerance 1.00e-04)\n",
      "Best objective 8.392532000000e+03, best bound 8.392532000000e+03, gap 0.0000%\n"
     ]
    }
   ],
   "source": [
    "m6.optimize()"
   ]
  },
  {
   "cell_type": "code",
   "execution_count": 314,
   "metadata": {},
   "outputs": [
    {
     "data": {
      "text/plain": [
       "(134,\n",
       " {'10069',\n",
       "  '10108',\n",
       "  '10112',\n",
       "  '10125',\n",
       "  '10126',\n",
       "  '10130',\n",
       "  '10140',\n",
       "  '10141',\n",
       "  '10142',\n",
       "  '10143',\n",
       "  '10144',\n",
       "  '10145',\n",
       "  '10146',\n",
       "  '10147'})"
      ]
     },
     "execution_count": 314,
     "metadata": {},
     "output_type": "execute_result"
    }
   ],
   "source": [
    "set_n = set()\n",
    "for key, value in n.items():\n",
    "    if abs(value.x) > 1e-6:\n",
    "        pallet_id = key\n",
    "        set_n.add(pallet_id)\n",
    "len(set_n), pallets_dict.keys() - set_n"
   ]
  },
  {
   "cell_type": "code",
   "execution_count": 316,
   "metadata": {},
   "outputs": [
    {
     "data": {
      "text/plain": [
       "(143, {'10069', '10142', '10143', '10146', '10147'})"
      ]
     },
     "execution_count": 316,
     "metadata": {},
     "output_type": "execute_result"
    }
   ],
   "source": [
    "set_bp = set()\n",
    "for key, value in b.items():\n",
    "    if abs(value.x) > 1e-6:\n",
    "        pallet_id, order_id = key\n",
    "        if pallet_id not in set_bp:\n",
    "            set_bp.add(pallet_id)\n",
    "len(set_bp), pallets_dict .keys() - set_bp"
   ]
  },
  {
   "cell_type": "code",
   "execution_count": 324,
   "metadata": {},
   "outputs": [
    {
     "data": {
      "image/png": "[encoded data removed]",
      "text/plain": [
       "<Figure size 1152x792 with 1 Axes>"
      ]
     },
     "metadata": {
      "needs_background": "light"
     },
     "output_type": "display_data"
    }
   ],
   "source": [
    "fig, ax = plt.subplots(figsize=(16, 11))\n",
    "plt.axis('off')\n",
    "# plot map\n",
    "cmap = colors.ListedColormap(['lightgray', 'green', 'chocolate', 'darkred'])\n",
    "bounds = [0.5, 1.5, 2.5, 3.5, 4.5]\n",
    "norm = colors.BoundaryNorm(bounds, cmap.N)\n",
    "temp = np.ones([32, 22])\n",
    "for pallet_id in pallets_dict.keys():\n",
    "    x, y = pallets_dict[pallet_id]\n",
    "    temp[x, y] = 2\n",
    "for pallet_id in set_bp:\n",
    "    x, y = pallets_dict[pallet_id]\n",
    "    temp[x, y] = 3\n",
    "for pallet_id in set_n:\n",
    "    x, y = pallets_dict[pallet_id]\n",
    "    temp[x, y] = 4\n",
    "ax.imshow(temp, cmap=cmap, norm=norm)\n",
    "plt.savefig('images/question2-bn.png', bbox_inches='tight')"
   ]
  },
  {
   "cell_type": "code",
   "execution_count": 330,
   "metadata": {
    "tags": []
   },
   "outputs": [
    {
     "data": {
      "image/png": "[encoded data removed]",
      "text/plain": [
       "<Figure size 1440x360 with 2 Axes>"
      ]
     },
     "metadata": {
      "needs_background": "light"
     },
     "output_type": "display_data"
    }
   ],
   "source": [
    "temp = np.zeros([148, 675])\n",
    "for key, value in s.items():\n",
    "    if abs(value.x) > 1e-6:\n",
    "        #print('varName: {}, k: {}, v: {}'.format(v.varName, k, v.x))\n",
    "        pallet_id, order_id = key\n",
    "        pallet_idx = int(pallet_id) - 10000\n",
    "        order_idx = int(order_id) - 1\n",
    "        temp[pallet_idx, order_idx] = value.x / sum(q[pallet_id].values())\n",
    "plt.rcParams['figure.figsize'] = [20, 5]\n",
    "sns.heatmap(temp)\n",
    "plt.title('运出商品占托盘容量的比例', fontproperties=fontP)\n",
    "plt.xlabel('订单索引', fontproperties=fontP)\n",
    "plt.ylabel('托盘索引', fontproperties=fontP)\n",
    "plt.savefig('images/托盘p运送订单o所需商品的数量.png', bbox_inches='tight')"
   ]
  },
  {
   "cell_type": "code",
   "execution_count": 335,
   "metadata": {},
   "outputs": [],
   "source": [
    "temp = np.empty([675, 148], dtype=object)\n",
    "temp = {_: dict() for _ in O}\n",
    "for key, value in s.items():\n",
    "    if abs(value.x) > 1e-6:\n",
    "        pallet_id, order_id = key\n",
    "        temp[order_id][pallet_id] = value.x"
   ]
  },
  {
   "cell_type": "code",
   "execution_count": 343,
   "metadata": {},
   "outputs": [
    {
     "data": {
      "text/plain": [
       "({'10128': 6.0},\n",
       " {'10110': 12.0},\n",
       " {'10062': 49.0, '10075': 4.0},\n",
       " {'10012': 5.0},\n",
       " {'10032': 2.0},\n",
       " {'10093': 24.0, '10113': 1.0},\n",
       " {'10063': 2.0})"
      ]
     },
     "execution_count": 343,
     "metadata": {},
     "output_type": "execute_result"
    }
   ],
   "source": [
    "temp['1'], temp['2'], temp['3'], temp['4'], temp['5'], temp['6'], temp['675']"
   ]
  },
  {
   "cell_type": "code",
   "execution_count": 329,
   "metadata": {},
   "outputs": [
    {
     "data": {
      "image/png": "[encoded data removed]",
      "text/plain": [
       "<Figure size 1440x360 with 2 Axes>"
      ]
     },
     "metadata": {
      "needs_background": "light"
     },
     "output_type": "display_data"
    }
   ],
   "source": [
    "temp = np.zeros([148, 675])\n",
    "for key, value in b.items():\n",
    "    if abs(value.x) > 1e-6:\n",
    "        #print('varName: {}, k: {}, v: {}'.format(v.varName, k, v.x))\n",
    "        pallet_id, order_id = key\n",
    "        pallet_idx = int(pallet_id) - 10000\n",
    "        order_idx = int(order_id) - 1\n",
    "        temp[pallet_idx, order_idx] = value.x\n",
    "plt.rcParams['figure.figsize'] = [20, 5]\n",
    "sns.heatmap(temp)\n",
    "plt.title('是否运送商品', fontproperties=fontP)\n",
    "plt.xlabel('订单索引', fontproperties=fontP)\n",
    "plt.ylabel('托盘索引', fontproperties=fontP)\n",
    "plt.savefig('images/托盘p是否运送订单o所需商品.png', bbox_inches='tight')"
   ]
  },
  {
   "cell_type": "code",
   "execution_count": 325,
   "metadata": {},
   "outputs": [
    {
     "data": {
      "text/plain": [
       "{('10000', '1'): <gurobi.Var C99900 (value 0.0)>,\n",
       " ('10000', '2'): <gurobi.Var C99901 (value 0.0)>,\n",
       " ('10000', '3'): <gurobi.Var C99902 (value 0.0)>,\n",
       " ('10000', '4'): <gurobi.Var C99903 (value 0.0)>,\n",
       " ('10000', '5'): <gurobi.Var C99904 (value 0.0)>,\n",
       " ('10000', '6'): <gurobi.Var C99905 (value 0.0)>,\n",
       " ('10000', '7'): <gurobi.Var C99906 (value 0.0)>,\n",
       " ('10000', '8'): <gurobi.Var C99907 (value 0.0)>,\n",
       " ('10000', '9'): <gurobi.Var C99908 (value 0.0)>,\n",
       " ('10000', '10'): <gurobi.Var C99909 (value 0.0)>,\n",
       " ('10000', '11'): <gurobi.Var C99910 (value 0.0)>,\n",
       " ('10000', '12'): <gurobi.Var C99911 (value 0.0)>,\n",
       " ('10000', '13'): <gurobi.Var C99912 (value 0.0)>,\n",
       " ('10000', '14'): <gurobi.Var C99913 (value 0.0)>,\n",
       " ('10000', '15'): <gurobi.Var C99914 (value 0.0)>,\n",
       " ('10000', '16'): <gurobi.Var C99915 (value 0.0)>,\n",
       " ('10000', '17'): <gurobi.Var C99916 (value 0.0)>,\n",
       " ('10000', '18'): <gurobi.Var C99917 (value 0.0)>,\n",
       " ('10000', '19'): <gurobi.Var C99918 (value 0.0)>,\n",
       " ('10000', '20'): <gurobi.Var C99919 (value 0.0)>,\n",
       " ('10000', '21'): <gurobi.Var C99920 (value 0.0)>,\n",
       " ('10000', '22'): <gurobi.Var C99921 (value 0.0)>,\n",
       " ('10000', '23'): <gurobi.Var C99922 (value 0.0)>,\n",
       " ('10000', '24'): <gurobi.Var C99923 (value 0.0)>,\n",
       " ('10000', '25'): <gurobi.Var C99924 (value 0.0)>,\n",
       " ('10000', '26'): <gurobi.Var C99925 (value 0.0)>,\n",
       " ('10000', '27'): <gurobi.Var C99926 (value 0.0)>,\n",
       " ('10000', '28'): <gurobi.Var C99927 (value 0.0)>,\n",
       " ('10000', '29'): <gurobi.Var C99928 (value 0.0)>,\n",
       " ('10000', '30'): <gurobi.Var C99929 (value 0.0)>,\n",
       " ('10000', '31'): <gurobi.Var C99930 (value 0.0)>,\n",
       " ('10000', '32'): <gurobi.Var C99931 (value 0.0)>,\n",
       " ('10000', '33'): <gurobi.Var C99932 (value 0.0)>,\n",
       " ('10000', '34'): <gurobi.Var C99933 (value 0.0)>,\n",
       " ('10000', '35'): <gurobi.Var C99934 (value 0.0)>,\n",
       " ('10000', '36'): <gurobi.Var C99935 (value 0.0)>,\n",
       " ('10000', '37'): <gurobi.Var C99936 (value 0.0)>,\n",
       " ('10000', '38'): <gurobi.Var C99937 (value 0.0)>,\n",
       " ('10000', '39'): <gurobi.Var C99938 (value 0.0)>,\n",
       " ('10000', '40'): <gurobi.Var C99939 (value 0.0)>,\n",
       " ('10000', '41'): <gurobi.Var C99940 (value 0.0)>,\n",
       " ('10000', '42'): <gurobi.Var C99941 (value 0.0)>,\n",
       " ('10000', '43'): <gurobi.Var C99942 (value 0.0)>,\n",
       " ('10000', '44'): <gurobi.Var C99943 (value 0.0)>,\n",
       " ('10000', '45'): <gurobi.Var C99944 (value 0.0)>,\n",
       " ('10000', '46'): <gurobi.Var C99945 (value 0.0)>,\n",
       " ('10000', '47'): <gurobi.Var C99946 (value 0.0)>,\n",
       " ('10000', '48'): <gurobi.Var C99947 (value 0.0)>,\n",
       " ('10000', '49'): <gurobi.Var C99948 (value 0.0)>,\n",
       " ('10000', '50'): <gurobi.Var C99949 (value 0.0)>,\n",
       " ('10000', '51'): <gurobi.Var C99950 (value 0.0)>,\n",
       " ('10000', '52'): <gurobi.Var C99951 (value 0.0)>,\n",
       " ('10000', '53'): <gurobi.Var C99952 (value 0.0)>,\n",
       " ('10000', '54'): <gurobi.Var C99953 (value 0.0)>,\n",
       " ('10000', '55'): <gurobi.Var C99954 (value 0.0)>,\n",
       " ('10000', '56'): <gurobi.Var C99955 (value 0.0)>,\n",
       " ('10000', '57'): <gurobi.Var C99956 (value 0.0)>,\n",
       " ('10000', '58'): <gurobi.Var C99957 (value 0.0)>,\n",
       " ('10000', '59'): <gurobi.Var C99958 (value 0.0)>,\n",
       " ('10000', '60'): <gurobi.Var C99959 (value 0.0)>,\n",
       " ('10000', '61'): <gurobi.Var C99960 (value 0.0)>,\n",
       " ('10000', '62'): <gurobi.Var C99961 (value 0.0)>,\n",
       " ('10000', '63'): <gurobi.Var C99962 (value 0.0)>,\n",
       " ('10000', '64'): <gurobi.Var C99963 (value 0.0)>,\n",
       " ('10000', '65'): <gurobi.Var C99964 (value 0.0)>,\n",
       " ('10000', '66'): <gurobi.Var C99965 (value 0.0)>,\n",
       " ('10000', '67'): <gurobi.Var C99966 (value 0.0)>,\n",
       " ('10000', '68'): <gurobi.Var C99967 (value 0.0)>,\n",
       " ('10000', '69'): <gurobi.Var C99968 (value 0.0)>,\n",
       " ('10000', '70'): <gurobi.Var C99969 (value 0.0)>,\n",
       " ('10000', '71'): <gurobi.Var C99970 (value -0.0)>,\n",
       " ('10000', '72'): <gurobi.Var C99971 (value 0.0)>,\n",
       " ('10000', '73'): <gurobi.Var C99972 (value 0.0)>,\n",
       " ('10000', '74'): <gurobi.Var C99973 (value 0.0)>,\n",
       " ('10000', '75'): <gurobi.Var C99974 (value 0.0)>,\n",
       " ('10000', '76'): <gurobi.Var C99975 (value 0.0)>,\n",
       " ('10000', '77'): <gurobi.Var C99976 (value 0.0)>,\n",
       " ('10000', '78'): <gurobi.Var C99977 (value 0.0)>,\n",
       " ('10000', '79'): <gurobi.Var C99978 (value 0.0)>,\n",
       " ('10000', '80'): <gurobi.Var C99979 (value 0.0)>,\n",
       " ('10000', '81'): <gurobi.Var C99980 (value 0.0)>,\n",
       " ('10000', '82'): <gurobi.Var C99981 (value 0.0)>,\n",
       " ('10000', '83'): <gurobi.Var C99982 (value 0.0)>,\n",
       " ('10000', '84'): <gurobi.Var C99983 (value 0.0)>,\n",
       " ('10000', '85'): <gurobi.Var C99984 (value 0.0)>,\n",
       " ('10000', '86'): <gurobi.Var C99985 (value 0.0)>,\n",
       " ('10000', '87'): <gurobi.Var C99986 (value 0.0)>,\n",
       " ('10000', '88'): <gurobi.Var C99987 (value 0.0)>,\n",
       " ('10000', '89'): <gurobi.Var C99988 (value 0.0)>,\n",
       " ('10000', '90'): <gurobi.Var C99989 (value 0.0)>,\n",
       " ('10000', '91'): <gurobi.Var C99990 (value 0.0)>,\n",
       " ('10000', '92'): <gurobi.Var C99991 (value 0.0)>,\n",
       " ('10000', '93'): <gurobi.Var C99992 (value 0.0)>,\n",
       " ('10000', '94'): <gurobi.Var C99993 (value 0.0)>,\n",
       " ('10000', '95'): <gurobi.Var C99994 (value 1.0)>,\n",
       " ('10000', '96'): <gurobi.Var C99995 (value 0.0)>,\n",
       " ('10000', '97'): <gurobi.Var C99996 (value 0.0)>,\n",
       " ('10000', '98'): <gurobi.Var C99997 (value 0.0)>,\n",
       " ('10000', '99'): <gurobi.Var C99998 (value 0.0)>,\n",
       " ('10000', '100'): <gurobi.Var C99999 (value 0.0)>,\n",
       " ('10000', '101'): <gurobi.Var C100000 (value 0.0)>,\n",
       " ('10000', '102'): <gurobi.Var C100001 (value 0.0)>,\n",
       " ('10000', '103'): <gurobi.Var C100002 (value 0.0)>,\n",
       " ('10000', '104'): <gurobi.Var C100003 (value 0.0)>,\n",
       " ('10000', '105'): <gurobi.Var C100004 (value 0.0)>,\n",
       " ('10000', '106'): <gurobi.Var C100005 (value 0.0)>,\n",
       " ('10000', '107'): <gurobi.Var C100006 (value 0.0)>,\n",
       " ('10000', '108'): <gurobi.Var C100007 (value 0.0)>,\n",
       " ('10000', '109'): <gurobi.Var C100008 (value 0.0)>,\n",
       " ('10000', '110'): <gurobi.Var C100009 (value 0.0)>,\n",
       " ('10000', '111'): <gurobi.Var C100010 (value 0.0)>,\n",
       " ('10000', '112'): <gurobi.Var C100011 (value 0.0)>,\n",
       " ('10000', '113'): <gurobi.Var C100012 (value 0.0)>,\n",
       " ('10000', '114'): <gurobi.Var C100013 (value 0.0)>,\n",
       " ('10000', '115'): <gurobi.Var C100014 (value 0.0)>,\n",
       " ('10000', '116'): <gurobi.Var C100015 (value 0.0)>,\n",
       " ('10000', '117'): <gurobi.Var C100016 (value 0.0)>,\n",
       " ('10000', '118'): <gurobi.Var C100017 (value 0.0)>,\n",
       " ('10000', '119'): <gurobi.Var C100018 (value 0.0)>,\n",
       " ('10000', '120'): <gurobi.Var C100019 (value 0.0)>,\n",
       " ('10000', '121'): <gurobi.Var C100020 (value 0.0)>,\n",
       " ('10000', '122'): <gurobi.Var C100021 (value 0.0)>,\n",
       " ('10000', '123'): <gurobi.Var C100022 (value 0.0)>,\n",
       " ('10000', '124'): <gurobi.Var C100023 (value 0.0)>,\n",
       " ('10000', '125'): <gurobi.Var C100024 (value 0.0)>,\n",
       " ('10000', '126'): <gurobi.Var C100025 (value 0.0)>,\n",
       " ('10000', '127'): <gurobi.Var C100026 (value -0.0)>,\n",
       " ('10000', '128'): <gurobi.Var C100027 (value 0.0)>,\n",
       " ('10000', '129'): <gurobi.Var C100028 (value 0.0)>,\n",
       " ('10000', '130'): <gurobi.Var C100029 (value 0.0)>,\n",
       " ('10000', '131'): <gurobi.Var C100030 (value 0.0)>,\n",
       " ('10000', '132'): <gurobi.Var C100031 (value 0.0)>,\n",
       " ('10000', '133'): <gurobi.Var C100032 (value 0.0)>,\n",
       " ('10000', '134'): <gurobi.Var C100033 (value 0.0)>,\n",
       " ('10000', '135'): <gurobi.Var C100034 (value 0.0)>,\n",
       " ('10000', '136'): <gurobi.Var C100035 (value 0.0)>,\n",
       " ('10000', '137'): <gurobi.Var C100036 (value 0.0)>,\n",
       " ('10000', '138'): <gurobi.Var C100037 (value 0.0)>,\n",
       " ('10000', '139'): <gurobi.Var C100038 (value 0.0)>,\n",
       " ('10000', '140'): <gurobi.Var C100039 (value 0.0)>,\n",
       " ('10000', '141'): <gurobi.Var C100040 (value 0.0)>,\n",
       " ('10000', '142'): <gurobi.Var C100041 (value 0.0)>,\n",
       " ('10000', '143'): <gurobi.Var C100042 (value 0.0)>,\n",
       " ('10000', '144'): <gurobi.Var C100043 (value 0.0)>,\n",
       " ('10000', '145'): <gurobi.Var C100044 (value 0.0)>,\n",
       " ('10000', '146'): <gurobi.Var C100045 (value 0.0)>,\n",
       " ('10000', '147'): <gurobi.Var C100046 (value 0.0)>,\n",
       " ('10000', '148'): <gurobi.Var C100047 (value 0.0)>,\n",
       " ('10000', '149'): <gurobi.Var C100048 (value 0.0)>,\n",
       " ('10000', '150'): <gurobi.Var C100049 (value 0.0)>,\n",
       " ('10000', '151'): <gurobi.Var C100050 (value 0.0)>,\n",
       " ('10000', '152'): <gurobi.Var C100051 (value 0.0)>,\n",
       " ('10000', '153'): <gurobi.Var C100052 (value 0.0)>,\n",
       " ('10000', '154'): <gurobi.Var C100053 (value 0.0)>,\n",
       " ('10000', '155'): <gurobi.Var C100054 (value 0.0)>,\n",
       " ('10000', '156'): <gurobi.Var C100055 (value 0.0)>,\n",
       " ('10000', '157'): <gurobi.Var C100056 (value 0.0)>,\n",
       " ('10000', '158'): <gurobi.Var C100057 (value 0.0)>,\n",
       " ('10000', '159'): <gurobi.Var C100058 (value 0.0)>,\n",
       " ('10000', '160'): <gurobi.Var C100059 (value 0.0)>,\n",
       " ('10000', '161'): <gurobi.Var C100060 (value 0.0)>,\n",
       " ('10000', '162'): <gurobi.Var C100061 (value 0.0)>,\n",
       " ('10000', '163'): <gurobi.Var C100062 (value 0.0)>,\n",
       " ('10000', '164'): <gurobi.Var C100063 (value 0.0)>,\n",
       " ('10000', '165'): <gurobi.Var C100064 (value 0.0)>,\n",
       " ('10000', '166'): <gurobi.Var C100065 (value 0.0)>,\n",
       " ('10000', '167'): <gurobi.Var C100066 (value 0.0)>,\n",
       " ('10000', '168'): <gurobi.Var C100067 (value 0.0)>,\n",
       " ('10000', '169'): <gurobi.Var C100068 (value 0.0)>,\n",
       " ('10000', '170'): <gurobi.Var C100069 (value 0.0)>,\n",
       " ('10000', '171'): <gurobi.Var C100070 (value 0.0)>,\n",
       " ('10000', '172'): <gurobi.Var C100071 (value 0.0)>,\n",
       " ('10000', '173'): <gurobi.Var C100072 (value 0.0)>,\n",
       " ('10000', '174'): <gurobi.Var C100073 (value 0.0)>,\n",
       " ('10000', '175'): <gurobi.Var C100074 (value 0.0)>,\n",
       " ('10000', '176'): <gurobi.Var C100075 (value 0.0)>,\n",
       " ('10000', '177'): <gurobi.Var C100076 (value 0.0)>,\n",
       " ('10000', '178'): <gurobi.Var C100077 (value 0.0)>,\n",
       " ('10000', '179'): <gurobi.Var C100078 (value 0.0)>,\n",
       " ('10000', '180'): <gurobi.Var C100079 (value 0.0)>,\n",
       " ('10000', '181'): <gurobi.Var C100080 (value 0.0)>,\n",
       " ('10000', '182'): <gurobi.Var C100081 (value 0.0)>,\n",
       " ('10000', '183'): <gurobi.Var C100082 (value 0.0)>,\n",
       " ('10000', '184'): <gurobi.Var C100083 (value 0.0)>,\n",
       " ('10000', '185'): <gurobi.Var C100084 (value 0.0)>,\n",
       " ('10000', '186'): <gurobi.Var C100085 (value 0.0)>,\n",
       " ('10000', '187'): <gurobi.Var C100086 (value 0.0)>,\n",
       " ('10000', '188'): <gurobi.Var C100087 (value 0.0)>,\n",
       " ('10000', '189'): <gurobi.Var C100088 (value 0.0)>,\n",
       " ('10000', '190'): <gurobi.Var C100089 (value 0.0)>,\n",
       " ('10000', '191'): <gurobi.Var C100090 (value 0.0)>,\n",
       " ('10000', '192'): <gurobi.Var C100091 (value 0.0)>,\n",
       " ('10000', '193'): <gurobi.Var C100092 (value 0.0)>,\n",
       " ('10000', '194'): <gurobi.Var C100093 (value 0.0)>,\n",
       " ('10000', '195'): <gurobi.Var C100094 (value 0.0)>,\n",
       " ('10000', '196'): <gurobi.Var C100095 (value 0.0)>,\n",
       " ('10000', '197'): <gurobi.Var C100096 (value 0.0)>,\n",
       " ('10000', '198'): <gurobi.Var C100097 (value 0.0)>,\n",
       " ('10000', '199'): <gurobi.Var C100098 (value 0.0)>,\n",
       " ('10000', '200'): <gurobi.Var C100099 (value 0.0)>,\n",
       " ('10000', '201'): <gurobi.Var C100100 (value 0.0)>,\n",
       " ('10000', '202'): <gurobi.Var C100101 (value 0.0)>,\n",
       " ('10000', '203'): <gurobi.Var C100102 (value 0.0)>,\n",
       " ('10000', '204'): <gurobi.Var C100103 (value 0.0)>,\n",
       " ('10000', '205'): <gurobi.Var C100104 (value 0.0)>,\n",
       " ('10000', '206'): <gurobi.Var C100105 (value 0.0)>,\n",
       " ('10000', '207'): <gurobi.Var C100106 (value 0.0)>,\n",
       " ('10000', '208'): <gurobi.Var C100107 (value 0.0)>,\n",
       " ('10000', '209'): <gurobi.Var C100108 (value 0.0)>,\n",
       " ('10000', '210'): <gurobi.Var C100109 (value 0.0)>,\n",
       " ('10000', '211'): <gurobi.Var C100110 (value 0.0)>,\n",
       " ('10000', '212'): <gurobi.Var C100111 (value 0.0)>,\n",
       " ('10000', '213'): <gurobi.Var C100112 (value 0.0)>,\n",
       " ('10000', '214'): <gurobi.Var C100113 (value 0.0)>,\n",
       " ('10000', '215'): <gurobi.Var C100114 (value 0.0)>,\n",
       " ('10000', '216'): <gurobi.Var C100115 (value 0.0)>,\n",
       " ('10000', '217'): <gurobi.Var C100116 (value 0.0)>,\n",
       " ('10000', '218'): <gurobi.Var C100117 (value 0.0)>,\n",
       " ('10000', '219'): <gurobi.Var C100118 (value 0.0)>,\n",
       " ('10000', '220'): <gurobi.Var C100119 (value 0.0)>,\n",
       " ('10000', '221'): <gurobi.Var C100120 (value 0.0)>,\n",
       " ('10000', '222'): <gurobi.Var C100121 (value 0.0)>,\n",
       " ('10000', '223'): <gurobi.Var C100122 (value 0.0)>,\n",
       " ('10000', '224'): <gurobi.Var C100123 (value 0.0)>,\n",
       " ('10000', '225'): <gurobi.Var C100124 (value 35.0)>,\n",
       " ('10000', '226'): <gurobi.Var C100125 (value 0.0)>,\n",
       " ('10000', '227'): <gurobi.Var C100126 (value 0.0)>,\n",
       " ('10000', '228'): <gurobi.Var C100127 (value 0.0)>,\n",
       " ('10000', '229'): <gurobi.Var C100128 (value 0.0)>,\n",
       " ('10000', '230'): <gurobi.Var C100129 (value 0.0)>,\n",
       " ('10000', '231'): <gurobi.Var C100130 (value 0.0)>,\n",
       " ('10000', '232'): <gurobi.Var C100131 (value 0.0)>,\n",
       " ('10000', '233'): <gurobi.Var C100132 (value 0.0)>,\n",
       " ('10000', '234'): <gurobi.Var C100133 (value 0.0)>,\n",
       " ('10000', '235'): <gurobi.Var C100134 (value 0.0)>,\n",
       " ('10000', '236'): <gurobi.Var C100135 (value 0.0)>,\n",
       " ('10000', '237'): <gurobi.Var C100136 (value 0.0)>,\n",
       " ('10000', '238'): <gurobi.Var C100137 (value 0.0)>,\n",
       " ('10000', '239'): <gurobi.Var C100138 (value 0.0)>,\n",
       " ('10000', '240'): <gurobi.Var C100139 (value 0.0)>,\n",
       " ('10000', '241'): <gurobi.Var C100140 (value 0.0)>,\n",
       " ('10000', '242'): <gurobi.Var C100141 (value 0.0)>,\n",
       " ('10000', '243'): <gurobi.Var C100142 (value 0.0)>,\n",
       " ('10000', '244'): <gurobi.Var C100143 (value 0.0)>,\n",
       " ('10000', '245'): <gurobi.Var C100144 (value 0.0)>,\n",
       " ('10000', '246'): <gurobi.Var C100145 (value 0.0)>,\n",
       " ('10000', '247'): <gurobi.Var C100146 (value 0.0)>,\n",
       " ('10000', '248'): <gurobi.Var C100147 (value 0.0)>,\n",
       " ('10000', '249'): <gurobi.Var C100148 (value 0.0)>,\n",
       " ('10000', '250'): <gurobi.Var C100149 (value 0.0)>,\n",
       " ('10000', '251'): <gurobi.Var C100150 (value 0.0)>,\n",
       " ('10000', '252'): <gurobi.Var C100151 (value 0.0)>,\n",
       " ('10000', '253'): <gurobi.Var C100152 (value 0.0)>,\n",
       " ('10000', '254'): <gurobi.Var C100153 (value 0.0)>,\n",
       " ('10000', '255'): <gurobi.Var C100154 (value 0.0)>,\n",
       " ('10000', '256'): <gurobi.Var C100155 (value 0.0)>,\n",
       " ('10000', '257'): <gurobi.Var C100156 (value 0.0)>,\n",
       " ('10000', '258'): <gurobi.Var C100157 (value 0.0)>,\n",
       " ('10000', '259'): <gurobi.Var C100158 (value 0.0)>,\n",
       " ('10000', '260'): <gurobi.Var C100159 (value 0.0)>,\n",
       " ('10000', '261'): <gurobi.Var C100160 (value 0.0)>,\n",
       " ('10000', '262'): <gurobi.Var C100161 (value 0.0)>,\n",
       " ('10000', '263'): <gurobi.Var C100162 (value 0.0)>,\n",
       " ('10000', '264'): <gurobi.Var C100163 (value 0.0)>,\n",
       " ('10000', '265'): <gurobi.Var C100164 (value 0.0)>,\n",
       " ('10000', '266'): <gurobi.Var C100165 (value 0.0)>,\n",
       " ('10000', '267'): <gurobi.Var C100166 (value 0.0)>,\n",
       " ('10000', '268'): <gurobi.Var C100167 (value 0.0)>,\n",
       " ('10000', '269'): <gurobi.Var C100168 (value 0.0)>,\n",
       " ('10000', '270'): <gurobi.Var C100169 (value 0.0)>,\n",
       " ('10000', '271'): <gurobi.Var C100170 (value 0.0)>,\n",
       " ('10000', '272'): <gurobi.Var C100171 (value 0.0)>,\n",
       " ('10000', '273'): <gurobi.Var C100172 (value 0.0)>,\n",
       " ('10000', '274'): <gurobi.Var C100173 (value 0.0)>,\n",
       " ('10000', '275'): <gurobi.Var C100174 (value 0.0)>,\n",
       " ('10000', '276'): <gurobi.Var C100175 (value 0.0)>,\n",
       " ('10000', '277'): <gurobi.Var C100176 (value 1.0)>,\n",
       " ('10000', '278'): <gurobi.Var C100177 (value 0.0)>,\n",
       " ('10000', '279'): <gurobi.Var C100178 (value 0.0)>,\n",
       " ('10000', '280'): <gurobi.Var C100179 (value 0.0)>,\n",
       " ('10000', '281'): <gurobi.Var C100180 (value 0.0)>,\n",
       " ('10000', '282'): <gurobi.Var C100181 (value 0.0)>,\n",
       " ('10000', '283'): <gurobi.Var C100182 (value 0.0)>,\n",
       " ('10000', '284'): <gurobi.Var C100183 (value 0.0)>,\n",
       " ('10000', '285'): <gurobi.Var C100184 (value 0.0)>,\n",
       " ('10000', '286'): <gurobi.Var C100185 (value 0.0)>,\n",
       " ('10000', '287'): <gurobi.Var C100186 (value 0.0)>,\n",
       " ('10000', '288'): <gurobi.Var C100187 (value 0.0)>,\n",
       " ('10000', '289'): <gurobi.Var C100188 (value 0.0)>,\n",
       " ('10000', '290'): <gurobi.Var C100189 (value 0.0)>,\n",
       " ('10000', '291'): <gurobi.Var C100190 (value 0.0)>,\n",
       " ('10000', '292'): <gurobi.Var C100191 (value 0.0)>,\n",
       " ('10000', '293'): <gurobi.Var C100192 (value 0.0)>,\n",
       " ('10000', '294'): <gurobi.Var C100193 (value 0.0)>,\n",
       " ('10000', '295'): <gurobi.Var C100194 (value 0.0)>,\n",
       " ('10000', '296'): <gurobi.Var C100195 (value 0.0)>,\n",
       " ('10000', '297'): <gurobi.Var C100196 (value 0.0)>,\n",
       " ('10000', '298'): <gurobi.Var C100197 (value 0.0)>,\n",
       " ('10000', '299'): <gurobi.Var C100198 (value 0.0)>,\n",
       " ('10000', '300'): <gurobi.Var C100199 (value 0.0)>,\n",
       " ('10000', '301'): <gurobi.Var C100200 (value 0.0)>,\n",
       " ('10000', '302'): <gurobi.Var C100201 (value 0.0)>,\n",
       " ('10000', '303'): <gurobi.Var C100202 (value 0.0)>,\n",
       " ('10000', '304'): <gurobi.Var C100203 (value 0.0)>,\n",
       " ('10000', '305'): <gurobi.Var C100204 (value 0.0)>,\n",
       " ('10000', '306'): <gurobi.Var C100205 (value 0.0)>,\n",
       " ('10000', '307'): <gurobi.Var C100206 (value 0.0)>,\n",
       " ('10000', '308'): <gurobi.Var C100207 (value 0.0)>,\n",
       " ('10000', '309'): <gurobi.Var C100208 (value 0.0)>,\n",
       " ('10000', '310'): <gurobi.Var C100209 (value 0.0)>,\n",
       " ('10000', '311'): <gurobi.Var C100210 (value 0.0)>,\n",
       " ('10000', '312'): <gurobi.Var C100211 (value 0.0)>,\n",
       " ('10000', '313'): <gurobi.Var C100212 (value 0.0)>,\n",
       " ('10000', '314'): <gurobi.Var C100213 (value 0.0)>,\n",
       " ('10000', '315'): <gurobi.Var C100214 (value 0.0)>,\n",
       " ('10000', '316'): <gurobi.Var C100215 (value 0.0)>,\n",
       " ('10000', '317'): <gurobi.Var C100216 (value 0.0)>,\n",
       " ('10000', '318'): <gurobi.Var C100217 (value 0.0)>,\n",
       " ('10000', '319'): <gurobi.Var C100218 (value 0.0)>,\n",
       " ('10000', '320'): <gurobi.Var C100219 (value 0.0)>,\n",
       " ('10000', '321'): <gurobi.Var C100220 (value 0.0)>,\n",
       " ('10000', '322'): <gurobi.Var C100221 (value 0.0)>,\n",
       " ('10000', '323'): <gurobi.Var C100222 (value 0.0)>,\n",
       " ('10000', '324'): <gurobi.Var C100223 (value 0.0)>,\n",
       " ('10000', '325'): <gurobi.Var C100224 (value 0.0)>,\n",
       " ('10000', '326'): <gurobi.Var C100225 (value 0.0)>,\n",
       " ('10000', '327'): <gurobi.Var C100226 (value 0.0)>,\n",
       " ('10000', '328'): <gurobi.Var C100227 (value 0.0)>,\n",
       " ('10000', '329'): <gurobi.Var C100228 (value 0.0)>,\n",
       " ('10000', '330'): <gurobi.Var C100229 (value 0.0)>,\n",
       " ('10000', '331'): <gurobi.Var C100230 (value 0.0)>,\n",
       " ('10000', '332'): <gurobi.Var C100231 (value 0.0)>,\n",
       " ('10000', '333'): <gurobi.Var C100232 (value 0.0)>,\n",
       " ('10000', '334'): <gurobi.Var C100233 (value 0.0)>,\n",
       " ('10000', '335'): <gurobi.Var C100234 (value 0.0)>,\n",
       " ('10000', '336'): <gurobi.Var C100235 (value 0.0)>,\n",
       " ('10000', '337'): <gurobi.Var C100236 (value 0.0)>,\n",
       " ('10000', '338'): <gurobi.Var C100237 (value 0.0)>,\n",
       " ('10000', '339'): <gurobi.Var C100238 (value 0.0)>,\n",
       " ('10000', '340'): <gurobi.Var C100239 (value 0.0)>,\n",
       " ('10000', '341'): <gurobi.Var C100240 (value 0.0)>,\n",
       " ('10000', '342'): <gurobi.Var C100241 (value 0.0)>,\n",
       " ('10000', '343'): <gurobi.Var C100242 (value 0.0)>,\n",
       " ('10000', '344'): <gurobi.Var C100243 (value 0.0)>,\n",
       " ('10000', '345'): <gurobi.Var C100244 (value 0.0)>,\n",
       " ('10000', '346'): <gurobi.Var C100245 (value 0.0)>,\n",
       " ('10000', '347'): <gurobi.Var C100246 (value 0.0)>,\n",
       " ('10000', '348'): <gurobi.Var C100247 (value 0.0)>,\n",
       " ('10000', '349'): <gurobi.Var C100248 (value 0.0)>,\n",
       " ('10000', '350'): <gurobi.Var C100249 (value 0.0)>,\n",
       " ('10000', '351'): <gurobi.Var C100250 (value 0.0)>,\n",
       " ('10000', '352'): <gurobi.Var C100251 (value 0.0)>,\n",
       " ('10000', '353'): <gurobi.Var C100252 (value 0.0)>,\n",
       " ('10000', '354'): <gurobi.Var C100253 (value 0.0)>,\n",
       " ('10000', '355'): <gurobi.Var C100254 (value 0.0)>,\n",
       " ('10000', '356'): <gurobi.Var C100255 (value 0.0)>,\n",
       " ('10000', '357'): <gurobi.Var C100256 (value -0.0)>,\n",
       " ('10000', '358'): <gurobi.Var C100257 (value 0.0)>,\n",
       " ('10000', '359'): <gurobi.Var C100258 (value 0.0)>,\n",
       " ('10000', '360'): <gurobi.Var C100259 (value 0.0)>,\n",
       " ('10000', '361'): <gurobi.Var C100260 (value 0.0)>,\n",
       " ('10000', '362'): <gurobi.Var C100261 (value 0.0)>,\n",
       " ('10000', '363'): <gurobi.Var C100262 (value 0.0)>,\n",
       " ('10000', '364'): <gurobi.Var C100263 (value 0.0)>,\n",
       " ('10000', '365'): <gurobi.Var C100264 (value 0.0)>,\n",
       " ('10000', '366'): <gurobi.Var C100265 (value 0.0)>,\n",
       " ('10000', '367'): <gurobi.Var C100266 (value 0.0)>,\n",
       " ('10000', '368'): <gurobi.Var C100267 (value 0.0)>,\n",
       " ('10000', '369'): <gurobi.Var C100268 (value 0.0)>,\n",
       " ('10000', '370'): <gurobi.Var C100269 (value 0.0)>,\n",
       " ('10000', '371'): <gurobi.Var C100270 (value 0.0)>,\n",
       " ('10000', '372'): <gurobi.Var C100271 (value 0.0)>,\n",
       " ('10000', '373'): <gurobi.Var C100272 (value 0.0)>,\n",
       " ('10000', '374'): <gurobi.Var C100273 (value 0.0)>,\n",
       " ('10000', '375'): <gurobi.Var C100274 (value 0.0)>,\n",
       " ('10000', '376'): <gurobi.Var C100275 (value 0.0)>,\n",
       " ('10000', '377'): <gurobi.Var C100276 (value 0.0)>,\n",
       " ('10000', '378'): <gurobi.Var C100277 (value 0.0)>,\n",
       " ('10000', '379'): <gurobi.Var C100278 (value 0.0)>,\n",
       " ('10000', '380'): <gurobi.Var C100279 (value 0.0)>,\n",
       " ('10000', '381'): <gurobi.Var C100280 (value 0.0)>,\n",
       " ('10000', '382'): <gurobi.Var C100281 (value 0.0)>,\n",
       " ('10000', '383'): <gurobi.Var C100282 (value 0.0)>,\n",
       " ('10000', '384'): <gurobi.Var C100283 (value 0.0)>,\n",
       " ('10000', '385'): <gurobi.Var C100284 (value 0.0)>,\n",
       " ('10000', '386'): <gurobi.Var C100285 (value 0.0)>,\n",
       " ('10000', '387'): <gurobi.Var C100286 (value 0.0)>,\n",
       " ('10000', '388'): <gurobi.Var C100287 (value 0.0)>,\n",
       " ('10000', '389'): <gurobi.Var C100288 (value 0.0)>,\n",
       " ('10000', '390'): <gurobi.Var C100289 (value 0.0)>,\n",
       " ('10000', '391'): <gurobi.Var C100290 (value 0.0)>,\n",
       " ('10000', '392'): <gurobi.Var C100291 (value 0.0)>,\n",
       " ('10000', '393'): <gurobi.Var C100292 (value 0.0)>,\n",
       " ('10000', '394'): <gurobi.Var C100293 (value 0.0)>,\n",
       " ('10000', '395'): <gurobi.Var C100294 (value 0.0)>,\n",
       " ('10000', '396'): <gurobi.Var C100295 (value 0.0)>,\n",
       " ('10000', '397'): <gurobi.Var C100296 (value 0.0)>,\n",
       " ('10000', '398'): <gurobi.Var C100297 (value 0.0)>,\n",
       " ('10000', '399'): <gurobi.Var C100298 (value 0.0)>,\n",
       " ('10000', '400'): <gurobi.Var C100299 (value 0.0)>,\n",
       " ('10000', '401'): <gurobi.Var C100300 (value 0.0)>,\n",
       " ('10000', '402'): <gurobi.Var C100301 (value 0.0)>,\n",
       " ('10000', '403'): <gurobi.Var C100302 (value 8.0)>,\n",
       " ('10000', '404'): <gurobi.Var C100303 (value 0.0)>,\n",
       " ('10000', '405'): <gurobi.Var C100304 (value 0.0)>,\n",
       " ('10000', '406'): <gurobi.Var C100305 (value 0.0)>,\n",
       " ('10000', '407'): <gurobi.Var C100306 (value 0.0)>,\n",
       " ('10000', '408'): <gurobi.Var C100307 (value 0.0)>,\n",
       " ('10000', '409'): <gurobi.Var C100308 (value 0.0)>,\n",
       " ('10000', '410'): <gurobi.Var C100309 (value 0.0)>,\n",
       " ('10000', '411'): <gurobi.Var C100310 (value 0.0)>,\n",
       " ('10000', '412'): <gurobi.Var C100311 (value 0.0)>,\n",
       " ('10000', '413'): <gurobi.Var C100312 (value 0.0)>,\n",
       " ('10000', '414'): <gurobi.Var C100313 (value 0.0)>,\n",
       " ('10000', '415'): <gurobi.Var C100314 (value 0.0)>,\n",
       " ('10000', '416'): <gurobi.Var C100315 (value 0.0)>,\n",
       " ('10000', '417'): <gurobi.Var C100316 (value 0.0)>,\n",
       " ('10000', '418'): <gurobi.Var C100317 (value 0.0)>,\n",
       " ('10000', '419'): <gurobi.Var C100318 (value 0.0)>,\n",
       " ('10000', '420'): <gurobi.Var C100319 (value 0.0)>,\n",
       " ('10000', '421'): <gurobi.Var C100320 (value 0.0)>,\n",
       " ('10000', '422'): <gurobi.Var C100321 (value 0.0)>,\n",
       " ('10000', '423'): <gurobi.Var C100322 (value 0.0)>,\n",
       " ('10000', '424'): <gurobi.Var C100323 (value 0.0)>,\n",
       " ('10000', '425'): <gurobi.Var C100324 (value 0.0)>,\n",
       " ('10000', '426'): <gurobi.Var C100325 (value 0.0)>,\n",
       " ('10000', '427'): <gurobi.Var C100326 (value 0.0)>,\n",
       " ('10000', '428'): <gurobi.Var C100327 (value 0.0)>,\n",
       " ('10000', '429'): <gurobi.Var C100328 (value 0.0)>,\n",
       " ('10000', '430'): <gurobi.Var C100329 (value 0.0)>,\n",
       " ('10000', '431'): <gurobi.Var C100330 (value 0.0)>,\n",
       " ('10000', '432'): <gurobi.Var C100331 (value 0.0)>,\n",
       " ('10000', '433'): <gurobi.Var C100332 (value 0.0)>,\n",
       " ('10000', '434'): <gurobi.Var C100333 (value 0.0)>,\n",
       " ('10000', '435'): <gurobi.Var C100334 (value 0.0)>,\n",
       " ('10000', '436'): <gurobi.Var C100335 (value 0.0)>,\n",
       " ('10000', '437'): <gurobi.Var C100336 (value 0.0)>,\n",
       " ('10000', '438'): <gurobi.Var C100337 (value 0.0)>,\n",
       " ('10000', '439'): <gurobi.Var C100338 (value 0.0)>,\n",
       " ('10000', '440'): <gurobi.Var C100339 (value 0.0)>,\n",
       " ('10000', '441'): <gurobi.Var C100340 (value 0.0)>,\n",
       " ('10000', '442'): <gurobi.Var C100341 (value 0.0)>,\n",
       " ('10000', '443'): <gurobi.Var C100342 (value 0.0)>,\n",
       " ('10000', '444'): <gurobi.Var C100343 (value 0.0)>,\n",
       " ('10000', '445'): <gurobi.Var C100344 (value 0.0)>,\n",
       " ('10000', '446'): <gurobi.Var C100345 (value 0.0)>,\n",
       " ('10000', '447'): <gurobi.Var C100346 (value 0.0)>,\n",
       " ('10000', '448'): <gurobi.Var C100347 (value 0.0)>,\n",
       " ('10000', '449'): <gurobi.Var C100348 (value 0.0)>,\n",
       " ('10000', '450'): <gurobi.Var C100349 (value 0.0)>,\n",
       " ('10000', '451'): <gurobi.Var C100350 (value 0.0)>,\n",
       " ('10000', '452'): <gurobi.Var C100351 (value 0.0)>,\n",
       " ('10000', '453'): <gurobi.Var C100352 (value 0.0)>,\n",
       " ('10000', '454'): <gurobi.Var C100353 (value 0.0)>,\n",
       " ('10000', '455'): <gurobi.Var C100354 (value 0.0)>,\n",
       " ('10000', '456'): <gurobi.Var C100355 (value 0.0)>,\n",
       " ('10000', '457'): <gurobi.Var C100356 (value 0.0)>,\n",
       " ('10000', '458'): <gurobi.Var C100357 (value 0.0)>,\n",
       " ('10000', '459'): <gurobi.Var C100358 (value 0.0)>,\n",
       " ('10000', '460'): <gurobi.Var C100359 (value 0.0)>,\n",
       " ('10000', '461'): <gurobi.Var C100360 (value 0.0)>,\n",
       " ('10000', '462'): <gurobi.Var C100361 (value 0.0)>,\n",
       " ('10000', '463'): <gurobi.Var C100362 (value -0.0)>,\n",
       " ('10000', '464'): <gurobi.Var C100363 (value 0.0)>,\n",
       " ('10000', '465'): <gurobi.Var C100364 (value 0.0)>,\n",
       " ('10000', '466'): <gurobi.Var C100365 (value 0.0)>,\n",
       " ('10000', '467'): <gurobi.Var C100366 (value 0.0)>,\n",
       " ('10000', '468'): <gurobi.Var C100367 (value 0.0)>,\n",
       " ('10000', '469'): <gurobi.Var C100368 (value 0.0)>,\n",
       " ('10000', '470'): <gurobi.Var C100369 (value 0.0)>,\n",
       " ('10000', '471'): <gurobi.Var C100370 (value 0.0)>,\n",
       " ('10000', '472'): <gurobi.Var C100371 (value 0.0)>,\n",
       " ('10000', '473'): <gurobi.Var C100372 (value 0.0)>,\n",
       " ('10000', '474'): <gurobi.Var C100373 (value 0.0)>,\n",
       " ('10000', '475'): <gurobi.Var C100374 (value 0.0)>,\n",
       " ('10000', '476'): <gurobi.Var C100375 (value 0.0)>,\n",
       " ('10000', '477'): <gurobi.Var C100376 (value 0.0)>,\n",
       " ('10000', '478'): <gurobi.Var C100377 (value 0.0)>,\n",
       " ('10000', '479'): <gurobi.Var C100378 (value 0.0)>,\n",
       " ('10000', '480'): <gurobi.Var C100379 (value 0.0)>,\n",
       " ('10000', '481'): <gurobi.Var C100380 (value 0.0)>,\n",
       " ('10000', '482'): <gurobi.Var C100381 (value 0.0)>,\n",
       " ('10000', '483'): <gurobi.Var C100382 (value 0.0)>,\n",
       " ('10000', '484'): <gurobi.Var C100383 (value 0.0)>,\n",
       " ('10000', '485'): <gurobi.Var C100384 (value 0.0)>,\n",
       " ('10000', '486'): <gurobi.Var C100385 (value 0.0)>,\n",
       " ('10000', '487'): <gurobi.Var C100386 (value 0.0)>,\n",
       " ('10000', '488'): <gurobi.Var C100387 (value 0.0)>,\n",
       " ('10000', '489'): <gurobi.Var C100388 (value 0.0)>,\n",
       " ('10000', '490'): <gurobi.Var C100389 (value 0.0)>,\n",
       " ('10000', '491'): <gurobi.Var C100390 (value 0.0)>,\n",
       " ('10000', '492'): <gurobi.Var C100391 (value 0.0)>,\n",
       " ('10000', '493'): <gurobi.Var C100392 (value 0.0)>,\n",
       " ('10000', '494'): <gurobi.Var C100393 (value 0.0)>,\n",
       " ('10000', '495'): <gurobi.Var C100394 (value 0.0)>,\n",
       " ('10000', '496'): <gurobi.Var C100395 (value 0.0)>,\n",
       " ('10000', '497'): <gurobi.Var C100396 (value 0.0)>,\n",
       " ('10000', '498'): <gurobi.Var C100397 (value 0.0)>,\n",
       " ('10000', '499'): <gurobi.Var C100398 (value 0.0)>,\n",
       " ('10000', '500'): <gurobi.Var C100399 (value 0.0)>,\n",
       " ('10000', '501'): <gurobi.Var C100400 (value 0.0)>,\n",
       " ('10000', '502'): <gurobi.Var C100401 (value 0.0)>,\n",
       " ('10000', '503'): <gurobi.Var C100402 (value 0.0)>,\n",
       " ('10000', '504'): <gurobi.Var C100403 (value 0.0)>,\n",
       " ('10000', '505'): <gurobi.Var C100404 (value 0.0)>,\n",
       " ('10000', '506'): <gurobi.Var C100405 (value 0.0)>,\n",
       " ('10000', '507'): <gurobi.Var C100406 (value 0.0)>,\n",
       " ('10000', '508'): <gurobi.Var C100407 (value 0.0)>,\n",
       " ('10000', '509'): <gurobi.Var C100408 (value 0.0)>,\n",
       " ('10000', '510'): <gurobi.Var C100409 (value 0.0)>,\n",
       " ('10000', '511'): <gurobi.Var C100410 (value 0.0)>,\n",
       " ('10000', '512'): <gurobi.Var C100411 (value 0.0)>,\n",
       " ('10000', '513'): <gurobi.Var C100412 (value 0.0)>,\n",
       " ('10000', '514'): <gurobi.Var C100413 (value 0.0)>,\n",
       " ('10000', '515'): <gurobi.Var C100414 (value 0.0)>,\n",
       " ('10000', '516'): <gurobi.Var C100415 (value 0.0)>,\n",
       " ('10000', '517'): <gurobi.Var C100416 (value 0.0)>,\n",
       " ('10000', '518'): <gurobi.Var C100417 (value 0.0)>,\n",
       " ('10000', '519'): <gurobi.Var C100418 (value -0.0)>,\n",
       " ('10000', '520'): <gurobi.Var C100419 (value 0.0)>,\n",
       " ('10000', '521'): <gurobi.Var C100420 (value 0.0)>,\n",
       " ('10000', '522'): <gurobi.Var C100421 (value 0.0)>,\n",
       " ('10000', '523'): <gurobi.Var C100422 (value 0.0)>,\n",
       " ('10000', '524'): <gurobi.Var C100423 (value 0.0)>,\n",
       " ('10000', '525'): <gurobi.Var C100424 (value 0.0)>,\n",
       " ('10000', '526'): <gurobi.Var C100425 (value 0.0)>,\n",
       " ('10000', '527'): <gurobi.Var C100426 (value 0.0)>,\n",
       " ('10000', '528'): <gurobi.Var C100427 (value 0.0)>,\n",
       " ('10000', '529'): <gurobi.Var C100428 (value 0.0)>,\n",
       " ('10000', '530'): <gurobi.Var C100429 (value 0.0)>,\n",
       " ('10000', '531'): <gurobi.Var C100430 (value 0.0)>,\n",
       " ('10000', '532'): <gurobi.Var C100431 (value 0.0)>,\n",
       " ('10000', '533'): <gurobi.Var C100432 (value 0.0)>,\n",
       " ('10000', '534'): <gurobi.Var C100433 (value 0.0)>,\n",
       " ('10000', '535'): <gurobi.Var C100434 (value 0.0)>,\n",
       " ('10000', '536'): <gurobi.Var C100435 (value 0.0)>,\n",
       " ('10000', '537'): <gurobi.Var C100436 (value 0.0)>,\n",
       " ('10000', '538'): <gurobi.Var C100437 (value 0.0)>,\n",
       " ('10000', '539'): <gurobi.Var C100438 (value 0.0)>,\n",
       " ('10000', '540'): <gurobi.Var C100439 (value 0.0)>,\n",
       " ('10000', '541'): <gurobi.Var C100440 (value 0.0)>,\n",
       " ('10000', '542'): <gurobi.Var C100441 (value 0.0)>,\n",
       " ('10000', '543'): <gurobi.Var C100442 (value 0.0)>,\n",
       " ('10000', '544'): <gurobi.Var C100443 (value 0.0)>,\n",
       " ('10000', '545'): <gurobi.Var C100444 (value 0.0)>,\n",
       " ('10000', '546'): <gurobi.Var C100445 (value 0.0)>,\n",
       " ('10000', '547'): <gurobi.Var C100446 (value 0.0)>,\n",
       " ('10000', '548'): <gurobi.Var C100447 (value 0.0)>,\n",
       " ('10000', '549'): <gurobi.Var C100448 (value 0.0)>,\n",
       " ('10000', '550'): <gurobi.Var C100449 (value 0.0)>,\n",
       " ('10000', '551'): <gurobi.Var C100450 (value 0.0)>,\n",
       " ('10000', '552'): <gurobi.Var C100451 (value 0.0)>,\n",
       " ('10000', '553'): <gurobi.Var C100452 (value 0.0)>,\n",
       " ('10000', '554'): <gurobi.Var C100453 (value 0.0)>,\n",
       " ('10000', '555'): <gurobi.Var C100454 (value 0.0)>,\n",
       " ('10000', '556'): <gurobi.Var C100455 (value 0.0)>,\n",
       " ('10000', '557'): <gurobi.Var C100456 (value 0.0)>,\n",
       " ('10000', '558'): <gurobi.Var C100457 (value 0.0)>,\n",
       " ('10000', '559'): <gurobi.Var C100458 (value 0.0)>,\n",
       " ('10000', '560'): <gurobi.Var C100459 (value 0.0)>,\n",
       " ('10000', '561'): <gurobi.Var C100460 (value 0.0)>,\n",
       " ('10000', '562'): <gurobi.Var C100461 (value 0.0)>,\n",
       " ('10000', '563'): <gurobi.Var C100462 (value 0.0)>,\n",
       " ('10000', '564'): <gurobi.Var C100463 (value 0.0)>,\n",
       " ('10000', '565'): <gurobi.Var C100464 (value 0.0)>,\n",
       " ('10000', '566'): <gurobi.Var C100465 (value 0.0)>,\n",
       " ('10000', '567'): <gurobi.Var C100466 (value 0.0)>,\n",
       " ('10000', '568'): <gurobi.Var C100467 (value 0.0)>,\n",
       " ('10000', '569'): <gurobi.Var C100468 (value 0.0)>,\n",
       " ('10000', '570'): <gurobi.Var C100469 (value 0.0)>,\n",
       " ('10000', '571'): <gurobi.Var C100470 (value 0.0)>,\n",
       " ('10000', '572'): <gurobi.Var C100471 (value 0.0)>,\n",
       " ('10000', '573'): <gurobi.Var C100472 (value 0.0)>,\n",
       " ('10000', '574'): <gurobi.Var C100473 (value 0.0)>,\n",
       " ('10000', '575'): <gurobi.Var C100474 (value 0.0)>,\n",
       " ('10000', '576'): <gurobi.Var C100475 (value 0.0)>,\n",
       " ('10000', '577'): <gurobi.Var C100476 (value 0.0)>,\n",
       " ('10000', '578'): <gurobi.Var C100477 (value 0.0)>,\n",
       " ('10000', '579'): <gurobi.Var C100478 (value 0.0)>,\n",
       " ('10000', '580'): <gurobi.Var C100479 (value 0.0)>,\n",
       " ('10000', '581'): <gurobi.Var C100480 (value 0.0)>,\n",
       " ('10000', '582'): <gurobi.Var C100481 (value 0.0)>,\n",
       " ('10000', '583'): <gurobi.Var C100482 (value 0.0)>,\n",
       " ('10000', '584'): <gurobi.Var C100483 (value 0.0)>,\n",
       " ('10000', '585'): <gurobi.Var C100484 (value 0.0)>,\n",
       " ('10000', '586'): <gurobi.Var C100485 (value 0.0)>,\n",
       " ('10000', '587'): <gurobi.Var C100486 (value 0.0)>,\n",
       " ('10000', '588'): <gurobi.Var C100487 (value 0.0)>,\n",
       " ('10000', '589'): <gurobi.Var C100488 (value 0.0)>,\n",
       " ('10000', '590'): <gurobi.Var C100489 (value 0.0)>,\n",
       " ('10000', '591'): <gurobi.Var C100490 (value 0.0)>,\n",
       " ('10000', '592'): <gurobi.Var C100491 (value 0.0)>,\n",
       " ('10000', '593'): <gurobi.Var C100492 (value 0.0)>,\n",
       " ('10000', '594'): <gurobi.Var C100493 (value 0.0)>,\n",
       " ('10000', '595'): <gurobi.Var C100494 (value 0.0)>,\n",
       " ('10000', '596'): <gurobi.Var C100495 (value 0.0)>,\n",
       " ('10000', '597'): <gurobi.Var C100496 (value 0.0)>,\n",
       " ('10000', '598'): <gurobi.Var C100497 (value 0.0)>,\n",
       " ('10000', '599'): <gurobi.Var C100498 (value 0.0)>,\n",
       " ('10000', '600'): <gurobi.Var C100499 (value 0.0)>,\n",
       " ('10000', '601'): <gurobi.Var C100500 (value 0.0)>,\n",
       " ('10000', '602'): <gurobi.Var C100501 (value 0.0)>,\n",
       " ('10000', '603'): <gurobi.Var C100502 (value 0.0)>,\n",
       " ('10000', '604'): <gurobi.Var C100503 (value -0.0)>,\n",
       " ('10000', '605'): <gurobi.Var C100504 (value 0.0)>,\n",
       " ('10000', '606'): <gurobi.Var C100505 (value 0.0)>,\n",
       " ('10000', '607'): <gurobi.Var C100506 (value 0.0)>,\n",
       " ('10000', '608'): <gurobi.Var C100507 (value 0.0)>,\n",
       " ('10000', '609'): <gurobi.Var C100508 (value 0.0)>,\n",
       " ('10000', '610'): <gurobi.Var C100509 (value 0.0)>,\n",
       " ('10000', '611'): <gurobi.Var C100510 (value 0.0)>,\n",
       " ('10000', '612'): <gurobi.Var C100511 (value 0.0)>,\n",
       " ('10000', '613'): <gurobi.Var C100512 (value 0.0)>,\n",
       " ('10000', '614'): <gurobi.Var C100513 (value 0.0)>,\n",
       " ('10000', '615'): <gurobi.Var C100514 (value 0.0)>,\n",
       " ('10000', '616'): <gurobi.Var C100515 (value 0.0)>,\n",
       " ('10000', '617'): <gurobi.Var C100516 (value 0.0)>,\n",
       " ('10000', '618'): <gurobi.Var C100517 (value -0.0)>,\n",
       " ('10000', '619'): <gurobi.Var C100518 (value 0.0)>,\n",
       " ('10000', '620'): <gurobi.Var C100519 (value 0.0)>,\n",
       " ('10000', '621'): <gurobi.Var C100520 (value 0.0)>,\n",
       " ('10000', '622'): <gurobi.Var C100521 (value 0.0)>,\n",
       " ('10000', '623'): <gurobi.Var C100522 (value 0.0)>,\n",
       " ('10000', '624'): <gurobi.Var C100523 (value 0.0)>,\n",
       " ('10000', '625'): <gurobi.Var C100524 (value 0.0)>,\n",
       " ('10000', '626'): <gurobi.Var C100525 (value 0.0)>,\n",
       " ('10000', '627'): <gurobi.Var C100526 (value 0.0)>,\n",
       " ('10000', '628'): <gurobi.Var C100527 (value 0.0)>,\n",
       " ('10000', '629'): <gurobi.Var C100528 (value 0.0)>,\n",
       " ('10000', '630'): <gurobi.Var C100529 (value 0.0)>,\n",
       " ('10000', '631'): <gurobi.Var C100530 (value 0.0)>,\n",
       " ('10000', '632'): <gurobi.Var C100531 (value 0.0)>,\n",
       " ('10000', '633'): <gurobi.Var C100532 (value 0.0)>,\n",
       " ('10000', '634'): <gurobi.Var C100533 (value 0.0)>,\n",
       " ('10000', '635'): <gurobi.Var C100534 (value 0.0)>,\n",
       " ('10000', '636'): <gurobi.Var C100535 (value 0.0)>,\n",
       " ('10000', '637'): <gurobi.Var C100536 (value 0.0)>,\n",
       " ('10000', '638'): <gurobi.Var C100537 (value 0.0)>,\n",
       " ('10000', '639'): <gurobi.Var C100538 (value 0.0)>,\n",
       " ('10000', '640'): <gurobi.Var C100539 (value 0.0)>,\n",
       " ('10000', '641'): <gurobi.Var C100540 (value 0.0)>,\n",
       " ('10000', '642'): <gurobi.Var C100541 (value 0.0)>,\n",
       " ('10000', '643'): <gurobi.Var C100542 (value 0.0)>,\n",
       " ('10000', '644'): <gurobi.Var C100543 (value 0.0)>,\n",
       " ('10000', '645'): <gurobi.Var C100544 (value 0.0)>,\n",
       " ('10000', '646'): <gurobi.Var C100545 (value 0.0)>,\n",
       " ('10000', '647'): <gurobi.Var C100546 (value 0.0)>,\n",
       " ('10000', '648'): <gurobi.Var C100547 (value 0.0)>,\n",
       " ('10000', '649'): <gurobi.Var C100548 (value 0.0)>,\n",
       " ('10000', '650'): <gurobi.Var C100549 (value 0.0)>,\n",
       " ('10000', '651'): <gurobi.Var C100550 (value 0.0)>,\n",
       " ('10000', '652'): <gurobi.Var C100551 (value 0.0)>,\n",
       " ('10000', '653'): <gurobi.Var C100552 (value 0.0)>,\n",
       " ('10000', '654'): <gurobi.Var C100553 (value -0.0)>,\n",
       " ('10000', '655'): <gurobi.Var C100554 (value -0.0)>,\n",
       " ('10000', '656'): <gurobi.Var C100555 (value 0.0)>,\n",
       " ('10000', '657'): <gurobi.Var C100556 (value 0.0)>,\n",
       " ('10000', '658'): <gurobi.Var C100557 (value 0.0)>,\n",
       " ('10000', '659'): <gurobi.Var C100558 (value 0.0)>,\n",
       " ('10000', '660'): <gurobi.Var C100559 (value 0.0)>,\n",
       " ('10000', '661'): <gurobi.Var C100560 (value 0.0)>,\n",
       " ('10000', '662'): <gurobi.Var C100561 (value 0.0)>,\n",
       " ('10000', '663'): <gurobi.Var C100562 (value 0.0)>,\n",
       " ('10000', '664'): <gurobi.Var C100563 (value 0.0)>,\n",
       " ('10000', '665'): <gurobi.Var C100564 (value 0.0)>,\n",
       " ('10000', '666'): <gurobi.Var C100565 (value 0.0)>,\n",
       " ('10000', '667'): <gurobi.Var C100566 (value 0.0)>,\n",
       " ('10000', '668'): <gurobi.Var C100567 (value 0.0)>,\n",
       " ('10000', '669'): <gurobi.Var C100568 (value 0.0)>,\n",
       " ('10000', '670'): <gurobi.Var C100569 (value 0.0)>,\n",
       " ('10000', '671'): <gurobi.Var C100570 (value 0.0)>,\n",
       " ('10000', '672'): <gurobi.Var C100571 (value 0.0)>,\n",
       " ('10000', '673'): <gurobi.Var C100572 (value 0.0)>,\n",
       " ('10000', '674'): <gurobi.Var C100573 (value 0.0)>,\n",
       " ('10000', '675'): <gurobi.Var C100574 (value 0.0)>,\n",
       " ('10001', '1'): <gurobi.Var C100575 (value 0.0)>,\n",
       " ('10001', '2'): <gurobi.Var C100576 (value 0.0)>,\n",
       " ('10001', '3'): <gurobi.Var C100577 (value 0.0)>,\n",
       " ('10001', '4'): <gurobi.Var C100578 (value 0.0)>,\n",
       " ('10001', '5'): <gurobi.Var C100579 (value 0.0)>,\n",
       " ('10001', '6'): <gurobi.Var C100580 (value 0.0)>,\n",
       " ('10001', '7'): <gurobi.Var C100581 (value 0.0)>,\n",
       " ('10001', '8'): <gurobi.Var C100582 (value 0.0)>,\n",
       " ('10001', '9'): <gurobi.Var C100583 (value 0.0)>,\n",
       " ('10001', '10'): <gurobi.Var C100584 (value 0.0)>,\n",
       " ('10001', '11'): <gurobi.Var C100585 (value 0.0)>,\n",
       " ('10001', '12'): <gurobi.Var C100586 (value 0.0)>,\n",
       " ('10001', '13'): <gurobi.Var C100587 (value 0.0)>,\n",
       " ('10001', '14'): <gurobi.Var C100588 (value 0.0)>,\n",
       " ('10001', '15'): <gurobi.Var C100589 (value 0.0)>,\n",
       " ('10001', '16'): <gurobi.Var C100590 (value 0.0)>,\n",
       " ('10001', '17'): <gurobi.Var C100591 (value 0.0)>,\n",
       " ('10001', '18'): <gurobi.Var C100592 (value 0.0)>,\n",
       " ('10001', '19'): <gurobi.Var C100593 (value 0.0)>,\n",
       " ('10001', '20'): <gurobi.Var C100594 (value 0.0)>,\n",
       " ('10001', '21'): <gurobi.Var C100595 (value 0.0)>,\n",
       " ('10001', '22'): <gurobi.Var C100596 (value 0.0)>,\n",
       " ('10001', '23'): <gurobi.Var C100597 (value 0.0)>,\n",
       " ('10001', '24'): <gurobi.Var C100598 (value 0.0)>,\n",
       " ('10001', '25'): <gurobi.Var C100599 (value 0.0)>,\n",
       " ('10001', '26'): <gurobi.Var C100600 (value 0.0)>,\n",
       " ('10001', '27'): <gurobi.Var C100601 (value 0.0)>,\n",
       " ('10001', '28'): <gurobi.Var C100602 (value 0.0)>,\n",
       " ('10001', '29'): <gurobi.Var C100603 (value 0.0)>,\n",
       " ('10001', '30'): <gurobi.Var C100604 (value 0.0)>,\n",
       " ('10001', '31'): <gurobi.Var C100605 (value 0.0)>,\n",
       " ('10001', '32'): <gurobi.Var C100606 (value 0.0)>,\n",
       " ('10001', '33'): <gurobi.Var C100607 (value 0.0)>,\n",
       " ('10001', '34'): <gurobi.Var C100608 (value 0.0)>,\n",
       " ('10001', '35'): <gurobi.Var C100609 (value 0.0)>,\n",
       " ('10001', '36'): <gurobi.Var C100610 (value 0.0)>,\n",
       " ('10001', '37'): <gurobi.Var C100611 (value 0.0)>,\n",
       " ('10001', '38'): <gurobi.Var C100612 (value 0.0)>,\n",
       " ('10001', '39'): <gurobi.Var C100613 (value 0.0)>,\n",
       " ('10001', '40'): <gurobi.Var C100614 (value 0.0)>,\n",
       " ('10001', '41'): <gurobi.Var C100615 (value 0.0)>,\n",
       " ('10001', '42'): <gurobi.Var C100616 (value 0.0)>,\n",
       " ('10001', '43'): <gurobi.Var C100617 (value 0.0)>,\n",
       " ('10001', '44'): <gurobi.Var C100618 (value 0.0)>,\n",
       " ('10001', '45'): <gurobi.Var C100619 (value 0.0)>,\n",
       " ('10001', '46'): <gurobi.Var C100620 (value 0.0)>,\n",
       " ('10001', '47'): <gurobi.Var C100621 (value 0.0)>,\n",
       " ('10001', '48'): <gurobi.Var C100622 (value 0.0)>,\n",
       " ('10001', '49'): <gurobi.Var C100623 (value 0.0)>,\n",
       " ('10001', '50'): <gurobi.Var C100624 (value 0.0)>,\n",
       " ('10001', '51'): <gurobi.Var C100625 (value 0.0)>,\n",
       " ('10001', '52'): <gurobi.Var C100626 (value 0.0)>,\n",
       " ('10001', '53'): <gurobi.Var C100627 (value 0.0)>,\n",
       " ('10001', '54'): <gurobi.Var C100628 (value 0.0)>,\n",
       " ('10001', '55'): <gurobi.Var C100629 (value 0.0)>,\n",
       " ('10001', '56'): <gurobi.Var C100630 (value 0.0)>,\n",
       " ('10001', '57'): <gurobi.Var C100631 (value 0.0)>,\n",
       " ('10001', '58'): <gurobi.Var C100632 (value 0.0)>,\n",
       " ('10001', '59'): <gurobi.Var C100633 (value 0.0)>,\n",
       " ('10001', '60'): <gurobi.Var C100634 (value 0.0)>,\n",
       " ('10001', '61'): <gurobi.Var C100635 (value 0.0)>,\n",
       " ('10001', '62'): <gurobi.Var C100636 (value 0.0)>,\n",
       " ('10001', '63'): <gurobi.Var C100637 (value 0.0)>,\n",
       " ('10001', '64'): <gurobi.Var C100638 (value 0.0)>,\n",
       " ('10001', '65'): <gurobi.Var C100639 (value 0.0)>,\n",
       " ('10001', '66'): <gurobi.Var C100640 (value 0.0)>,\n",
       " ('10001', '67'): <gurobi.Var C100641 (value 0.0)>,\n",
       " ('10001', '68'): <gurobi.Var C100642 (value 0.0)>,\n",
       " ('10001', '69'): <gurobi.Var C100643 (value 0.0)>,\n",
       " ('10001', '70'): <gurobi.Var C100644 (value 0.0)>,\n",
       " ('10001', '71'): <gurobi.Var C100645 (value 12.0)>,\n",
       " ('10001', '72'): <gurobi.Var C100646 (value 0.0)>,\n",
       " ('10001', '73'): <gurobi.Var C100647 (value 0.0)>,\n",
       " ('10001', '74'): <gurobi.Var C100648 (value 0.0)>,\n",
       " ('10001', '75'): <gurobi.Var C100649 (value 0.0)>,\n",
       " ('10001', '76'): <gurobi.Var C100650 (value 0.0)>,\n",
       " ('10001', '77'): <gurobi.Var C100651 (value 0.0)>,\n",
       " ('10001', '78'): <gurobi.Var C100652 (value 0.0)>,\n",
       " ('10001', '79'): <gurobi.Var C100653 (value 0.0)>,\n",
       " ('10001', '80'): <gurobi.Var C100654 (value 4.0)>,\n",
       " ('10001', '81'): <gurobi.Var C100655 (value 0.0)>,\n",
       " ('10001', '82'): <gurobi.Var C100656 (value 0.0)>,\n",
       " ('10001', '83'): <gurobi.Var C100657 (value 0.0)>,\n",
       " ('10001', '84'): <gurobi.Var C100658 (value 0.0)>,\n",
       " ('10001', '85'): <gurobi.Var C100659 (value 0.0)>,\n",
       " ('10001', '86'): <gurobi.Var C100660 (value 0.0)>,\n",
       " ('10001', '87'): <gurobi.Var C100661 (value 0.0)>,\n",
       " ('10001', '88'): <gurobi.Var C100662 (value 0.0)>,\n",
       " ('10001', '89'): <gurobi.Var C100663 (value 0.0)>,\n",
       " ('10001', '90'): <gurobi.Var C100664 (value 0.0)>,\n",
       " ('10001', '91'): <gurobi.Var C100665 (value 0.0)>,\n",
       " ('10001', '92'): <gurobi.Var C100666 (value 0.0)>,\n",
       " ('10001', '93'): <gurobi.Var C100667 (value 0.0)>,\n",
       " ('10001', '94'): <gurobi.Var C100668 (value 0.0)>,\n",
       " ('10001', '95'): <gurobi.Var C100669 (value 0.0)>,\n",
       " ('10001', '96'): <gurobi.Var C100670 (value 0.0)>,\n",
       " ('10001', '97'): <gurobi.Var C100671 (value 0.0)>,\n",
       " ('10001', '98'): <gurobi.Var C100672 (value 0.0)>,\n",
       " ('10001', '99'): <gurobi.Var C100673 (value 0.0)>,\n",
       " ('10001', '100'): <gurobi.Var C100674 (value 0.0)>,\n",
       " ('10001', '101'): <gurobi.Var C100675 (value 0.0)>,\n",
       " ('10001', '102'): <gurobi.Var C100676 (value 0.0)>,\n",
       " ('10001', '103'): <gurobi.Var C100677 (value 0.0)>,\n",
       " ('10001', '104'): <gurobi.Var C100678 (value 0.0)>,\n",
       " ('10001', '105'): <gurobi.Var C100679 (value 0.0)>,\n",
       " ('10001', '106'): <gurobi.Var C100680 (value 0.0)>,\n",
       " ('10001', '107'): <gurobi.Var C100681 (value 0.0)>,\n",
       " ('10001', '108'): <gurobi.Var C100682 (value 0.0)>,\n",
       " ('10001', '109'): <gurobi.Var C100683 (value 0.0)>,\n",
       " ('10001', '110'): <gurobi.Var C100684 (value 0.0)>,\n",
       " ('10001', '111'): <gurobi.Var C100685 (value 0.0)>,\n",
       " ('10001', '112'): <gurobi.Var C100686 (value 0.0)>,\n",
       " ('10001', '113'): <gurobi.Var C100687 (value 0.0)>,\n",
       " ('10001', '114'): <gurobi.Var C100688 (value 0.0)>,\n",
       " ('10001', '115'): <gurobi.Var C100689 (value 0.0)>,\n",
       " ('10001', '116'): <gurobi.Var C100690 (value 0.0)>,\n",
       " ('10001', '117'): <gurobi.Var C100691 (value 0.0)>,\n",
       " ('10001', '118'): <gurobi.Var C100692 (value 0.0)>,\n",
       " ('10001', '119'): <gurobi.Var C100693 (value 0.0)>,\n",
       " ('10001', '120'): <gurobi.Var C100694 (value 0.0)>,\n",
       " ('10001', '121'): <gurobi.Var C100695 (value 0.0)>,\n",
       " ('10001', '122'): <gurobi.Var C100696 (value 0.0)>,\n",
       " ('10001', '123'): <gurobi.Var C100697 (value 0.0)>,\n",
       " ('10001', '124'): <gurobi.Var C100698 (value 0.0)>,\n",
       " ('10001', '125'): <gurobi.Var C100699 (value 0.0)>,\n",
       " ('10001', '126'): <gurobi.Var C100700 (value 0.0)>,\n",
       " ('10001', '127'): <gurobi.Var C100701 (value 6.0)>,\n",
       " ('10001', '128'): <gurobi.Var C100702 (value 0.0)>,\n",
       " ('10001', '129'): <gurobi.Var C100703 (value 0.0)>,\n",
       " ('10001', '130'): <gurobi.Var C100704 (value 0.0)>,\n",
       " ('10001', '131'): <gurobi.Var C100705 (value 0.0)>,\n",
       " ('10001', '132'): <gurobi.Var C100706 (value 0.0)>,\n",
       " ('10001', '133'): <gurobi.Var C100707 (value 0.0)>,\n",
       " ('10001', '134'): <gurobi.Var C100708 (value 0.0)>,\n",
       " ('10001', '135'): <gurobi.Var C100709 (value 0.0)>,\n",
       " ('10001', '136'): <gurobi.Var C100710 (value 0.0)>,\n",
       " ('10001', '137'): <gurobi.Var C100711 (value 0.0)>,\n",
       " ('10001', '138'): <gurobi.Var C100712 (value 0.0)>,\n",
       " ('10001', '139'): <gurobi.Var C100713 (value 0.0)>,\n",
       " ('10001', '140'): <gurobi.Var C100714 (value 0.0)>,\n",
       " ('10001', '141'): <gurobi.Var C100715 (value 0.0)>,\n",
       " ('10001', '142'): <gurobi.Var C100716 (value 0.0)>,\n",
       " ('10001', '143'): <gurobi.Var C100717 (value 0.0)>,\n",
       " ('10001', '144'): <gurobi.Var C100718 (value 0.0)>,\n",
       " ('10001', '145'): <gurobi.Var C100719 (value 0.0)>,\n",
       " ('10001', '146'): <gurobi.Var C100720 (value 0.0)>,\n",
       " ('10001', '147'): <gurobi.Var C100721 (value 0.0)>,\n",
       " ('10001', '148'): <gurobi.Var C100722 (value 0.0)>,\n",
       " ('10001', '149'): <gurobi.Var C100723 (value 0.0)>,\n",
       " ('10001', '150'): <gurobi.Var C100724 (value 0.0)>,\n",
       " ('10001', '151'): <gurobi.Var C100725 (value 0.0)>,\n",
       " ('10001', '152'): <gurobi.Var C100726 (value 0.0)>,\n",
       " ('10001', '153'): <gurobi.Var C100727 (value 0.0)>,\n",
       " ('10001', '154'): <gurobi.Var C100728 (value 0.0)>,\n",
       " ('10001', '155'): <gurobi.Var C100729 (value 0.0)>,\n",
       " ('10001', '156'): <gurobi.Var C100730 (value 0.0)>,\n",
       " ('10001', '157'): <gurobi.Var C100731 (value 0.0)>,\n",
       " ('10001', '158'): <gurobi.Var C100732 (value 0.0)>,\n",
       " ('10001', '159'): <gurobi.Var C100733 (value 0.0)>,\n",
       " ('10001', '160'): <gurobi.Var C100734 (value 0.0)>,\n",
       " ('10001', '161'): <gurobi.Var C100735 (value 0.0)>,\n",
       " ('10001', '162'): <gurobi.Var C100736 (value 0.0)>,\n",
       " ('10001', '163'): <gurobi.Var C100737 (value 0.0)>,\n",
       " ('10001', '164'): <gurobi.Var C100738 (value 0.0)>,\n",
       " ('10001', '165'): <gurobi.Var C100739 (value 0.0)>,\n",
       " ('10001', '166'): <gurobi.Var C100740 (value 0.0)>,\n",
       " ('10001', '167'): <gurobi.Var C100741 (value 0.0)>,\n",
       " ('10001', '168'): <gurobi.Var C100742 (value 0.0)>,\n",
       " ('10001', '169'): <gurobi.Var C100743 (value 0.0)>,\n",
       " ('10001', '170'): <gurobi.Var C100744 (value 0.0)>,\n",
       " ('10001', '171'): <gurobi.Var C100745 (value 0.0)>,\n",
       " ('10001', '172'): <gurobi.Var C100746 (value 0.0)>,\n",
       " ('10001', '173'): <gurobi.Var C100747 (value 0.0)>,\n",
       " ('10001', '174'): <gurobi.Var C100748 (value 0.0)>,\n",
       " ('10001', '175'): <gurobi.Var C100749 (value 0.0)>,\n",
       " ('10001', '176'): <gurobi.Var C100750 (value 0.0)>,\n",
       " ('10001', '177'): <gurobi.Var C100751 (value 0.0)>,\n",
       " ('10001', '178'): <gurobi.Var C100752 (value 0.0)>,\n",
       " ('10001', '179'): <gurobi.Var C100753 (value 0.0)>,\n",
       " ('10001', '180'): <gurobi.Var C100754 (value 6.0)>,\n",
       " ('10001', '181'): <gurobi.Var C100755 (value 0.0)>,\n",
       " ('10001', '182'): <gurobi.Var C100756 (value 0.0)>,\n",
       " ('10001', '183'): <gurobi.Var C100757 (value 0.0)>,\n",
       " ('10001', '184'): <gurobi.Var C100758 (value 0.0)>,\n",
       " ('10001', '185'): <gurobi.Var C100759 (value 0.0)>,\n",
       " ('10001', '186'): <gurobi.Var C100760 (value 0.0)>,\n",
       " ('10001', '187'): <gurobi.Var C100761 (value 0.0)>,\n",
       " ('10001', '188'): <gurobi.Var C100762 (value 0.0)>,\n",
       " ('10001', '189'): <gurobi.Var C100763 (value 0.0)>,\n",
       " ('10001', '190'): <gurobi.Var C100764 (value 0.0)>,\n",
       " ('10001', '191'): <gurobi.Var C100765 (value 0.0)>,\n",
       " ('10001', '192'): <gurobi.Var C100766 (value 0.0)>,\n",
       " ('10001', '193'): <gurobi.Var C100767 (value 0.0)>,\n",
       " ('10001', '194'): <gurobi.Var C100768 (value 0.0)>,\n",
       " ('10001', '195'): <gurobi.Var C100769 (value 0.0)>,\n",
       " ('10001', '196'): <gurobi.Var C100770 (value 0.0)>,\n",
       " ('10001', '197'): <gurobi.Var C100771 (value 0.0)>,\n",
       " ('10001', '198'): <gurobi.Var C100772 (value 0.0)>,\n",
       " ('10001', '199'): <gurobi.Var C100773 (value 0.0)>,\n",
       " ('10001', '200'): <gurobi.Var C100774 (value 0.0)>,\n",
       " ('10001', '201'): <gurobi.Var C100775 (value 0.0)>,\n",
       " ('10001', '202'): <gurobi.Var C100776 (value 0.0)>,\n",
       " ('10001', '203'): <gurobi.Var C100777 (value 0.0)>,\n",
       " ('10001', '204'): <gurobi.Var C100778 (value 0.0)>,\n",
       " ('10001', '205'): <gurobi.Var C100779 (value 0.0)>,\n",
       " ('10001', '206'): <gurobi.Var C100780 (value 0.0)>,\n",
       " ('10001', '207'): <gurobi.Var C100781 (value 0.0)>,\n",
       " ('10001', '208'): <gurobi.Var C100782 (value 0.0)>,\n",
       " ('10001', '209'): <gurobi.Var C100783 (value 0.0)>,\n",
       " ('10001', '210'): <gurobi.Var C100784 (value 0.0)>,\n",
       " ('10001', '211'): <gurobi.Var C100785 (value 0.0)>,\n",
       " ('10001', '212'): <gurobi.Var C100786 (value 0.0)>,\n",
       " ('10001', '213'): <gurobi.Var C100787 (value 0.0)>,\n",
       " ('10001', '214'): <gurobi.Var C100788 (value 0.0)>,\n",
       " ('10001', '215'): <gurobi.Var C100789 (value 0.0)>,\n",
       " ('10001', '216'): <gurobi.Var C100790 (value 0.0)>,\n",
       " ('10001', '217'): <gurobi.Var C100791 (value 0.0)>,\n",
       " ('10001', '218'): <gurobi.Var C100792 (value 0.0)>,\n",
       " ('10001', '219'): <gurobi.Var C100793 (value 0.0)>,\n",
       " ('10001', '220'): <gurobi.Var C100794 (value 0.0)>,\n",
       " ('10001', '221'): <gurobi.Var C100795 (value 0.0)>,\n",
       " ('10001', '222'): <gurobi.Var C100796 (value 0.0)>,\n",
       " ('10001', '223'): <gurobi.Var C100797 (value 0.0)>,\n",
       " ('10001', '224'): <gurobi.Var C100798 (value 0.0)>,\n",
       " ('10001', '225'): <gurobi.Var C100799 (value 0.0)>,\n",
       " ('10001', '226'): <gurobi.Var C100800 (value 0.0)>,\n",
       " ('10001', '227'): <gurobi.Var C100801 (value 0.0)>,\n",
       " ('10001', '228'): <gurobi.Var C100802 (value 0.0)>,\n",
       " ('10001', '229'): <gurobi.Var C100803 (value 0.0)>,\n",
       " ('10001', '230'): <gurobi.Var C100804 (value 0.0)>,\n",
       " ('10001', '231'): <gurobi.Var C100805 (value 0.0)>,\n",
       " ('10001', '232'): <gurobi.Var C100806 (value 0.0)>,\n",
       " ('10001', '233'): <gurobi.Var C100807 (value 0.0)>,\n",
       " ('10001', '234'): <gurobi.Var C100808 (value 0.0)>,\n",
       " ('10001', '235'): <gurobi.Var C100809 (value 0.0)>,\n",
       " ('10001', '236'): <gurobi.Var C100810 (value 0.0)>,\n",
       " ('10001', '237'): <gurobi.Var C100811 (value 0.0)>,\n",
       " ('10001', '238'): <gurobi.Var C100812 (value 0.0)>,\n",
       " ('10001', '239'): <gurobi.Var C100813 (value 0.0)>,\n",
       " ('10001', '240'): <gurobi.Var C100814 (value 0.0)>,\n",
       " ('10001', '241'): <gurobi.Var C100815 (value 0.0)>,\n",
       " ('10001', '242'): <gurobi.Var C100816 (value 0.0)>,\n",
       " ('10001', '243'): <gurobi.Var C100817 (value 0.0)>,\n",
       " ('10001', '244'): <gurobi.Var C100818 (value 0.0)>,\n",
       " ('10001', '245'): <gurobi.Var C100819 (value 3.0)>,\n",
       " ('10001', '246'): <gurobi.Var C100820 (value 0.0)>,\n",
       " ('10001', '247'): <gurobi.Var C100821 (value 0.0)>,\n",
       " ('10001', '248'): <gurobi.Var C100822 (value 0.0)>,\n",
       " ('10001', '249'): <gurobi.Var C100823 (value 0.0)>,\n",
       " ('10001', '250'): <gurobi.Var C100824 (value 0.0)>,\n",
       " ('10001', '251'): <gurobi.Var C100825 (value 0.0)>,\n",
       " ('10001', '252'): <gurobi.Var C100826 (value 0.0)>,\n",
       " ('10001', '253'): <gurobi.Var C100827 (value 0.0)>,\n",
       " ('10001', '254'): <gurobi.Var C100828 (value 0.0)>,\n",
       " ('10001', '255'): <gurobi.Var C100829 (value 0.0)>,\n",
       " ('10001', '256'): <gurobi.Var C100830 (value 0.0)>,\n",
       " ('10001', '257'): <gurobi.Var C100831 (value 0.0)>,\n",
       " ('10001', '258'): <gurobi.Var C100832 (value 0.0)>,\n",
       " ('10001', '259'): <gurobi.Var C100833 (value 0.0)>,\n",
       " ('10001', '260'): <gurobi.Var C100834 (value 0.0)>,\n",
       " ('10001', '261'): <gurobi.Var C100835 (value 0.0)>,\n",
       " ('10001', '262'): <gurobi.Var C100836 (value 0.0)>,\n",
       " ('10001', '263'): <gurobi.Var C100837 (value 0.0)>,\n",
       " ('10001', '264'): <gurobi.Var C100838 (value 0.0)>,\n",
       " ('10001', '265'): <gurobi.Var C100839 (value 0.0)>,\n",
       " ('10001', '266'): <gurobi.Var C100840 (value 0.0)>,\n",
       " ('10001', '267'): <gurobi.Var C100841 (value 0.0)>,\n",
       " ('10001', '268'): <gurobi.Var C100842 (value 0.0)>,\n",
       " ('10001', '269'): <gurobi.Var C100843 (value 0.0)>,\n",
       " ('10001', '270'): <gurobi.Var C100844 (value 0.0)>,\n",
       " ('10001', '271'): <gurobi.Var C100845 (value 0.0)>,\n",
       " ('10001', '272'): <gurobi.Var C100846 (value 0.0)>,\n",
       " ('10001', '273'): <gurobi.Var C100847 (value 0.0)>,\n",
       " ('10001', '274'): <gurobi.Var C100848 (value 0.0)>,\n",
       " ('10001', '275'): <gurobi.Var C100849 (value 0.0)>,\n",
       " ('10001', '276'): <gurobi.Var C100850 (value 0.0)>,\n",
       " ('10001', '277'): <gurobi.Var C100851 (value -0.0)>,\n",
       " ('10001', '278'): <gurobi.Var C100852 (value 0.0)>,\n",
       " ('10001', '279'): <gurobi.Var C100853 (value 0.0)>,\n",
       " ('10001', '280'): <gurobi.Var C100854 (value 0.0)>,\n",
       " ('10001', '281'): <gurobi.Var C100855 (value 0.0)>,\n",
       " ('10001', '282'): <gurobi.Var C100856 (value 0.0)>,\n",
       " ('10001', '283'): <gurobi.Var C100857 (value 0.0)>,\n",
       " ('10001', '284'): <gurobi.Var C100858 (value 0.0)>,\n",
       " ('10001', '285'): <gurobi.Var C100859 (value 0.0)>,\n",
       " ('10001', '286'): <gurobi.Var C100860 (value 0.0)>,\n",
       " ('10001', '287'): <gurobi.Var C100861 (value 0.0)>,\n",
       " ('10001', '288'): <gurobi.Var C100862 (value 0.0)>,\n",
       " ('10001', '289'): <gurobi.Var C100863 (value 0.0)>,\n",
       " ('10001', '290'): <gurobi.Var C100864 (value 0.0)>,\n",
       " ('10001', '291'): <gurobi.Var C100865 (value 0.0)>,\n",
       " ('10001', '292'): <gurobi.Var C100866 (value 0.0)>,\n",
       " ('10001', '293'): <gurobi.Var C100867 (value 0.0)>,\n",
       " ('10001', '294'): <gurobi.Var C100868 (value 0.0)>,\n",
       " ('10001', '295'): <gurobi.Var C100869 (value 0.0)>,\n",
       " ('10001', '296'): <gurobi.Var C100870 (value 0.0)>,\n",
       " ('10001', '297'): <gurobi.Var C100871 (value 0.0)>,\n",
       " ('10001', '298'): <gurobi.Var C100872 (value 0.0)>,\n",
       " ('10001', '299'): <gurobi.Var C100873 (value 0.0)>,\n",
       " ('10001', '300'): <gurobi.Var C100874 (value 0.0)>,\n",
       " ('10001', '301'): <gurobi.Var C100875 (value 0.0)>,\n",
       " ('10001', '302'): <gurobi.Var C100876 (value 0.0)>,\n",
       " ('10001', '303'): <gurobi.Var C100877 (value 0.0)>,\n",
       " ('10001', '304'): <gurobi.Var C100878 (value 0.0)>,\n",
       " ('10001', '305'): <gurobi.Var C100879 (value 0.0)>,\n",
       " ('10001', '306'): <gurobi.Var C100880 (value 0.0)>,\n",
       " ('10001', '307'): <gurobi.Var C100881 (value 0.0)>,\n",
       " ('10001', '308'): <gurobi.Var C100882 (value 0.0)>,\n",
       " ('10001', '309'): <gurobi.Var C100883 (value 0.0)>,\n",
       " ('10001', '310'): <gurobi.Var C100884 (value 0.0)>,\n",
       " ('10001', '311'): <gurobi.Var C100885 (value 0.0)>,\n",
       " ('10001', '312'): <gurobi.Var C100886 (value 0.0)>,\n",
       " ('10001', '313'): <gurobi.Var C100887 (value 0.0)>,\n",
       " ('10001', '314'): <gurobi.Var C100888 (value 0.0)>,\n",
       " ('10001', '315'): <gurobi.Var C100889 (value 0.0)>,\n",
       " ('10001', '316'): <gurobi.Var C100890 (value 0.0)>,\n",
       " ('10001', '317'): <gurobi.Var C100891 (value 0.0)>,\n",
       " ('10001', '318'): <gurobi.Var C100892 (value 0.0)>,\n",
       " ('10001', '319'): <gurobi.Var C100893 (value 0.0)>,\n",
       " ('10001', '320'): <gurobi.Var C100894 (value 0.0)>,\n",
       " ('10001', '321'): <gurobi.Var C100895 (value 0.0)>,\n",
       " ('10001', '322'): <gurobi.Var C100896 (value 0.0)>,\n",
       " ('10001', '323'): <gurobi.Var C100897 (value 0.0)>,\n",
       " ('10001', '324'): <gurobi.Var C100898 (value 0.0)>,\n",
       " ('10001', '325'): <gurobi.Var C100899 (value 0.0)>,\n",
       " ...}"
      ]
     },
     "execution_count": 325,
     "metadata": {},
     "output_type": "execute_result"
    }
   ],
   "source": [
    "s"
   ]
  },
  {
   "cell_type": "markdown",
   "metadata": {},
   "source": [
    "# Model 7: Question 2"
   ]
  },
  {
   "cell_type": "code",
   "execution_count": 188,
   "metadata": {
    "tags": []
   },
   "outputs": [
    {
     "data": {
      "text/plain": [
       "1477.5"
      ]
     },
     "execution_count": 188,
     "metadata": {},
     "output_type": "execute_result"
    }
   ],
   "source": [
    "W = [(8, 0), (20, 0), (31, 7), (31, 15), (8, 21), (20, 21)] # (x, y)\n",
    "lw = dict()  # 托盘p到最近拣选工位的距离\n",
    "for i, row in pallets.iterrows():\n",
    "    sku_quantity_list, x, y, pallet_id = row\n",
    "    temp = dict()\n",
    "    for ws, wt in W:\n",
    "        temp[(ws, wt)] = distance_p2p[x, y, ws, wt]\n",
    "    lw[pallet_id] = temp\n",
    "\n",
    "q_p = {k: sum(v.values()) for k, v in q.items()}\n",
    "mu = sum(q_p.values()) / len(W)\n",
    "mu"
   ]
  },
  {
   "cell_type": "code",
   "execution_count": 183,
   "metadata": {},
   "outputs": [
    {
     "data": {
      "text/plain": [
       "([('10000', (8, 0)), ('10000', (20, 0)), ('10000', (31, 7))], 888)"
      ]
     },
     "execution_count": 183,
     "metadata": {},
     "output_type": "execute_result"
    }
   ],
   "source": [
    "e_comb = []\n",
    "for p in P:\n",
    "    for w in W:\n",
    "        e_comb.append((p, w))\n",
    "e_comb[:3], len(e_comb)"
   ]
  },
  {
   "cell_type": "code",
   "execution_count": 211,
   "metadata": {},
   "outputs": [],
   "source": [
    "epsilons = np.linspace(0.5, 738, 1000, endpoint=True)\n",
    "objVals = np.zeros(len(epsilons))"
   ]
  },
  {
   "cell_type": "code",
   "execution_count": 212,
   "metadata": {
    "scrolled": true,
    "tags": []
   },
   "outputs": [
    {
     "name": "stderr",
     "output_type": "stream",
     "text": [
      "1000it [00:46, 21.37it/s]\n"
     ]
    }
   ],
   "source": [
    "for i, epsilon in tqdm(enumerate(epsilons)):  # 1000it [00:46, 21.37it/s]\n",
    "    L, U = mu - epsilon, mu + epsilon\n",
    "    m7 = Model()\n",
    "    e = m7.addVars(e_comb, vtype=GRB.BINARY)  # size: 888 \n",
    "    m7.setObjective(\n",
    "        sum([lw[p][w] * e[(p, w)] for p in P for w in W]), GRB.MINIMIZE\n",
    "    )\n",
    "    for p in P:\n",
    "        m7.addConstr(sum(e[(p, w)] for w in W) == 1)\n",
    "    for w in W:\n",
    "        m7.addConstr(sum([q_p[p] * e[(p, w)] for p in P]) <= U)\n",
    "        m7.addConstr(sum([q_p[p] * e[(p, w)] for p in P]) >= L)\n",
    "    m7.Params.LogToConsole = 0\n",
    "    m7.optimize()\n",
    "    objVals[i] = m7.objVal"
   ]
  },
  {
   "cell_type": "code",
   "execution_count": 224,
   "metadata": {},
   "outputs": [
    {
     "data": {
      "image/png": "[encoded data removed]",
      "text/plain": [
       "<Figure size 432x288 with 1 Axes>"
      ]
     },
     "metadata": {
      "needs_background": "light"
     },
     "output_type": "display_data"
    }
   ],
   "source": [
    "plt.plot([_ / mu for _ in epsilons], objVals)\n",
    "plt.xlabel(r'$\\epsilon$ / $\\mu$', fontsize='large')\n",
    "plt.ylabel('托盘到拣选工位距离总和', fontproperties=fontP)\n",
    "plt.savefig('images/question2-2.png', bbox_inches='tight')"
   ]
  },
  {
   "cell_type": "code",
   "execution_count": 190,
   "metadata": {},
   "outputs": [],
   "source": [
    "palletID2pos = []\n",
    "for k, v in e.items():\n",
    "    if abs(v.x) > 1e-6:\n",
    "        #print('varName: {}, k: {}, v: {}'.format(v.varName, k, v.x))\n",
    "        palletID2pos.append(k)\n",
    "with open('save/palletID2pos.pickle', 'wb') as handle:\n",
    "    pickle.dump(palletID2pos, handle)  # for ploting in 4 - environment.ipynb"
   ]
  },
  {
   "cell_type": "code",
   "execution_count": 210,
   "metadata": {},
   "outputs": [
    {
     "data": {
      "image/png": "[encoded data removed]",
      "text/plain": [
       "<Figure size 1152x792 with 1 Axes>"
      ]
     },
     "metadata": {
      "needs_background": "light"
     },
     "output_type": "display_data"
    }
   ],
   "source": [
    "fig, ax = plt.subplots(figsize=(16, 11))\n",
    "plt.axis('off')\n",
    "# plot map\n",
    "cmap = colors.ListedColormap(['lightgray', 'green', 'yellow', 'black', 'blue', 'pink', 'red'])\n",
    "W2colorIdx = {(8, 0): 7, (20, 0): 2, (31, 7): 3, (31, 15): 4, (8, 21): 5, (20, 21): 6}\n",
    "bounds = [0.5, 1.5, 2.5, 3.5, 4.5, 5.5, 6.5, 7.5]\n",
    "norm = colors.BoundaryNorm(bounds, cmap.N)\n",
    "question2_array = np.ones([32, 22])\n",
    "for pallet_id, (wx, wy) in palletID2pos:\n",
    "    x, y = pallets_dict[pallet_id]\n",
    "    question2_array[x, y] = W2colorIdx[(wx, wy)]\n",
    "for w3 in W3:\n",
    "    for w in W:\n",
    "        if w in w3:\n",
    "            for (x, y) in w3:\n",
    "                question2_array[x, y] = W2colorIdx[(w[0], w[1])]\n",
    "ax.imshow(question2_array, cmap=cmap, norm=norm)\n",
    "plt.savefig('images/question2.png', bbox_inches='tight')"
   ]
  },
  {
   "cell_type": "markdown",
   "metadata": {},
   "source": [
    "# Model 8: MTSP"
   ]
  },
  {
   "cell_type": "code",
   "execution_count": 246,
   "metadata": {},
   "outputs": [
    {
     "data": {
      "text/plain": [
       "(192, 0.994)"
      ]
     },
     "execution_count": 246,
     "metadata": {},
     "output_type": "execute_result"
    }
   ],
   "source": [
    "# parameters unchanged\n",
    "M = max([sum([v for v in _.values()]) for _ in q.values()])  # 辅助参数\n",
    "lam = 0.994  # 权系数, in (147 / 148, 1)\n",
    "agv_pos = agv_dict.copy()\n",
    "M, lam"
   ]
  },
  {
   "cell_type": "code",
   "execution_count": 18,
   "metadata": {},
   "outputs": [],
   "source": [
    "# parameters\n",
    "max_size_O = 50\n",
    "gather_num = 6  # int ge 6"
   ]
  },
  {
   "cell_type": "code",
   "execution_count": 19,
   "metadata": {},
   "outputs": [
    {
     "data": {
      "text/plain": [
       "(675, 675)"
      ]
     },
     "execution_count": 19,
     "metadata": {},
     "output_type": "execute_result"
    }
   ],
   "source": [
    "O_seperated = []\n",
    "for i in range(math.ceil(len(O) / max_size_O)):\n",
    "    O_seperated.append(O[i * max_size_O: (i + 1) * max_size_O])\n",
    "sum([len(_) for _ in O_seperated]), len(O)"
   ]
  },
  {
   "cell_type": "markdown",
   "metadata": {},
   "source": [
    "## Order in First Batch"
   ]
  },
  {
   "cell_type": "code",
   "execution_count": 20,
   "metadata": {},
   "outputs": [],
   "source": [
    "k = 0 # 订单的批次序号集合, k = 0, ..., max_size_O - 1"
   ]
  },
  {
   "cell_type": "code",
   "execution_count": 21,
   "metadata": {},
   "outputs": [],
   "source": [
    "Ok = O_seperated[k]  # 第k批订单集合"
   ]
  },
  {
   "cell_type": "code",
   "execution_count": 36,
   "metadata": {},
   "outputs": [
    {
     "data": {
      "text/plain": [
       "(52, ['10012', '10115', '10077', '10016', '10093'])"
      ]
     },
     "execution_count": 36,
     "metadata": {},
     "output_type": "execute_result"
    }
   ],
   "source": [
    "Pk = set()  # 运送第k批订单的托盘集合\n",
    "for key, value in b.items():  # b is solved by model6\n",
    "    if abs(value.x) > 1e-6:\n",
    "        pallet_id, order_id = key\n",
    "        if order_id in Ok:  # Pk is determined by Ok\n",
    "            Pk.add(pallet_id)\n",
    "len(Pk), list(Pk)[:5]"
   ]
  },
  {
   "cell_type": "code",
   "execution_count": 37,
   "metadata": {},
   "outputs": [
    {
     "name": "stdout",
     "output_type": "stream",
     "text": [
      "8 0 (4, 0) 19 1\n",
      "20 0 (20, 4) 18 2\n",
      "31 7 (31, 14) 17 3\n",
      "31 15 (29, 16) 16 4\n",
      "8 21 (9, 20) 15 5\n",
      "20 21 (19, 18) 14 6\n"
     ]
    },
    {
     "data": {
      "text/plain": [
       "['19', '18', '1', '3', '7', '10']"
      ]
     },
     "execution_count": 37,
     "metadata": {},
     "output_type": "execute_result"
    }
   ],
   "source": [
    "Gpp = []  # 执行回收任务的AGV集合\n",
    "W = [(8, 0), (20, 0), (31, 7), (31, 15), (8, 21), (20, 21)] # (x, y)\n",
    "assert gather_num >= 6\n",
    "temp_agv_dict = agv_dict.copy()\n",
    "count = 0\n",
    "while count < gather_num:\n",
    "    for (xw, yw) in W:\n",
    "        agv_id = min(temp_agv_dict,\n",
    "                     key=lambda x: distance_p2p[temp_agv_dict[x][0], \n",
    "                                               temp_agv_dict[x][1],\n",
    "                                               xw, yw])\n",
    "        del temp_agv_dict[agv_id]\n",
    "        Gpp.append(agv_id)\n",
    "        count += 1\n",
    "        print(xw, yw, agv_dict[agv_id], len(temp_agv_dict), count)\n",
    "        if count == gather_num:\n",
    "            break\n",
    "Gpp"
   ]
  },
  {
   "cell_type": "code",
   "execution_count": 38,
   "metadata": {},
   "outputs": [
    {
     "data": {
      "text/plain": [
       "({'12', '13', '14', '15', '16', '17', '2', '20', '4', '5', '6', '8', '9'}, 13)"
      ]
     },
     "execution_count": 38,
     "metadata": {},
     "output_type": "execute_result"
    }
   ],
   "source": [
    "Gp = agv_dict.keys() - {'11'} - set(Gpp)\n",
    "delivery_num = len(Gp)\n",
    "Gp, delivery_num"
   ]
  },
  {
   "cell_type": "code",
   "execution_count": 39,
   "metadata": {},
   "outputs": [
    {
     "data": {
      "text/plain": [
       "(52,\n",
       " {'5': 24.0,\n",
       "  '9': 12.0,\n",
       "  '8': 12.0,\n",
       "  '6': 19.0,\n",
       "  '12': 17.0,\n",
       "  '14': 18.0,\n",
       "  '16': 8.0,\n",
       "  '15': 18.0,\n",
       "  '17': 18.0,\n",
       "  '4': 13.0,\n",
       "  '13': 16.0,\n",
       "  '20': 8.0,\n",
       "  '2': 22.0})"
      ]
     },
     "execution_count": 39,
     "metadata": {},
     "output_type": "execute_result"
    }
   ],
   "source": [
    "lpgk = dict()\n",
    "for p in Pk:\n",
    "    temp = dict()\n",
    "    for g in Gp:\n",
    "        temp[g] = distance_p2p[agv_dict[g][0], agv_dict[g][1], pallets_dict[p][0], pallets_dict[p][1]]\n",
    "    lpgk[p] = temp\n",
    "len(lpgk), lpgk['10016']"
   ]
  },
  {
   "cell_type": "code",
   "execution_count": 40,
   "metadata": {},
   "outputs": [
    {
     "data": {
      "text/plain": [
       "148"
      ]
     },
     "execution_count": 40,
     "metadata": {},
     "output_type": "execute_result"
    }
   ],
   "source": [
    "lpp = dict()\n",
    "lpp_w = dict()\n",
    "for p in P:\n",
    "    temp = dict()\n",
    "    temp_w = dict()\n",
    "    for pp in P:\n",
    "        temp_distance = [distance_p2p[pallets_dict[p][0],\n",
    "                                      pallets_dict[p][1],\n",
    "                                      x, y] +\n",
    "                         distance_p2p[x, y,\n",
    "                                      pallets_dict[pp][0],\n",
    "                                      pallets_dict[pp][1]] for (x, y) in W]\n",
    "        idx = np.argmin(temp_distance)\n",
    "        temp[pp] = temp_distance[idx]\n",
    "        temp_w[pp] = W[idx]\n",
    "    lpp[p] = temp\n",
    "    lpp_w[p] = temp_w\n",
    "len(lpp)"
   ]
  },
  {
   "cell_type": "code",
   "execution_count": 41,
   "metadata": {},
   "outputs": [
    {
     "data": {
      "text/plain": [
       "(66, ['virtual', '5', '9', '8', '6'])"
      ]
     },
     "execution_count": 41,
     "metadata": {},
     "output_type": "execute_result"
    }
   ],
   "source": [
    "V = ['virtual'] + list(Gp) + list(Pk)  # vertex set\n",
    "len(V), V[:5]"
   ]
  },
  {
   "cell_type": "code",
   "execution_count": 42,
   "metadata": {},
   "outputs": [
    {
     "data": {
      "text/plain": [
       "(66,\n",
       " [('10121', '10062'),\n",
       "  ('10066', '16'),\n",
       "  ('5', '15'),\n",
       "  ('10105', '10100'),\n",
       "  ('13', '10128')])"
      ]
     },
     "execution_count": 42,
     "metadata": {},
     "output_type": "execute_result"
    }
   ],
   "source": [
    "d = dict()  # distance matrix\n",
    "A = set()  # 弧集合\n",
    "for vf in V:\n",
    "    temp = dict()\n",
    "    for vt in V:\n",
    "        A.add((vf, vt))\n",
    "        if vf == 'virtual' and vt == 'virtual' or \\\n",
    "           vf == 'virtual' and vt in Pk or \\\n",
    "           vf in Gp and vt in Gp or \\\n",
    "           vf in Pk and vt in Gp or \\\n",
    "           vf == vt:\n",
    "            temp[vt] = 1e6\n",
    "        elif vf == 'virtual' and vt in Gp or \\\n",
    "             vf in Gp and vt == 'virtual':\n",
    "            temp[vt] = 0\n",
    "        elif vf in Gp and vt in Pk:\n",
    "            temp[vt] = lpgk[vt][vf]\n",
    "        elif vf in Pk and vt == 'virtual':\n",
    "            temp[vt] = l[vf]\n",
    "        elif vf in Pk and vt in Pk:\n",
    "            assert vf != vt\n",
    "            temp[vt] = lpp[vf][vt]\n",
    "        else:\n",
    "            assert False, 'vf: {}, vt: {}'.format(vf, vt)\n",
    "    d[vf] = temp\n",
    "len(d), list(A)[:5]"
   ]
  },
  {
   "cell_type": "code",
   "execution_count": 43,
   "metadata": {},
   "outputs": [],
   "source": [
    "m8 = Model()\n",
    "x = m8.addVars(A, vtype=GRB.BINARY)\n",
    "u = m8.addVars(V, vtype=GRB.INTEGER)\n",
    "m8.setObjective(\n",
    "    sum(d[vf][vt] * x[(vf, vt)] for vf in V for vt in V), GRB.MINIMIZE\n",
    ")\n",
    "m8.addConstr(sum([x[('virtual', _)] for _ in V]) == delivery_num)\n",
    "m8.addConstr(sum([x[(_, 'virtual')] for _ in V]) == delivery_num)\n",
    "for v in V:\n",
    "    if v != 'virtual':\n",
    "        m8.addConstr(sum([x[(_, v)] for _ in V]) == 1)\n",
    "        m8.addConstr(sum([x[(v, _)] for _ in V]) == 1)\n",
    "for vf in V:\n",
    "    for vt in V:\n",
    "        if vf != 'virtual' and vt != 'virtual' and vf != vt:\n",
    "            m8.addConstr(u[vf] - u[vt] + len(V) * x[(vf, vt)] <= len(V) - 1)"
   ]
  },
  {
   "cell_type": "code",
   "execution_count": 44,
   "metadata": {},
   "outputs": [
    {
     "data": {
      "text/plain": [
       "13"
      ]
     },
     "execution_count": 44,
     "metadata": {},
     "output_type": "execute_result"
    }
   ],
   "source": [
    "delivery_num"
   ]
  },
  {
   "cell_type": "code",
   "execution_count": 45,
   "metadata": {
    "tags": []
   },
   "outputs": [
    {
     "data": {
      "text/plain": [
       "1191.0"
      ]
     },
     "execution_count": 45,
     "metadata": {},
     "output_type": "execute_result"
    }
   ],
   "source": [
    "m8.Params.LogToConsole = 0\n",
    "m8.optimize()\n",
    "m8.objVal"
   ]
  },
  {
   "cell_type": "code",
   "execution_count": 94,
   "metadata": {},
   "outputs": [],
   "source": [
    "id2id = []\n",
    "for key, value in x.items():\n",
    "    if abs(value.x) > 1e-6:\n",
    "        # print('varName: {}, key: {}, value: {}'.format(value.varName, key, value.x))\n",
    "        id2id.append(key)"
   ]
  },
  {
   "cell_type": "code",
   "execution_count": 54,
   "metadata": {},
   "outputs": [],
   "source": [
    "mtsp_adj_matrix = dict() \n",
    "for vf in V:\n",
    "    temp = dict()\n",
    "    for vt in V:\n",
    "        temp[vt] = 0\n",
    "    mtsp_adj_matrix[vf] = temp\n",
    "for id1, id2 in id2id:\n",
    "    mtsp_adj_matrix[id1][id2] = 1"
   ]
  },
  {
   "cell_type": "code",
   "execution_count": 66,
   "metadata": {},
   "outputs": [
    {
     "data": {
      "text/plain": [
       "([(27, 18), (23, 16), (18, 15), (13, 13), (17, 12), (11, 12), (10, 13)],\n",
       " 65,\n",
       " 66)"
      ]
     },
     "execution_count": 66,
     "metadata": {},
     "output_type": "execute_result"
    }
   ],
   "source": [
    "pos2route = {_: [agv_dict[_]] for _ in Gp}\n",
    "for g in Gp:\n",
    "    temp_id = max(mtsp_adj_matrix[g], key=mtsp_adj_matrix[g].get)\n",
    "    if temp_id == 'virtual':\n",
    "        continue\n",
    "    elif temp_id in Pk:\n",
    "        while temp_id != 'virtual':\n",
    "            pos2route[g].append(pallets_dict[temp_id])\n",
    "            temp_id = max(mtsp_adj_matrix[temp_id], key=mtsp_adj_matrix[temp_id].get)\n",
    "    else:\n",
    "        assert False\n",
    "pos2route['5'], sum([len(_) for _ in pos2route.values()]), len(V)"
   ]
  },
  {
   "cell_type": "markdown",
   "metadata": {
    "tags": []
   },
   "source": [
    "## All Order"
   ]
  },
  {
   "cell_type": "code",
   "execution_count": 247,
   "metadata": {},
   "outputs": [
    {
     "data": {
      "text/plain": [
       "[[(7, 0), (8, 0), (9, 0)],\n",
       " [(19, 0), (20, 0), (21, 0)],\n",
       " [(31, 6), (31, 7), (31, 8)],\n",
       " [(31, 14), (31, 15), (31, 16)],\n",
       " [(7, 21), (8, 21), (9, 21)],\n",
       " [(19, 21), (20, 21), (21, 21)]]"
      ]
     },
     "execution_count": 247,
     "metadata": {},
     "output_type": "execute_result"
    }
   ],
   "source": [
    "W3"
   ]
  },
  {
   "cell_type": "code",
   "execution_count": 248,
   "metadata": {},
   "outputs": [
    {
     "data": {
      "text/plain": [
       "[('10000', 2), ('10001', 5), ('10002', 5), ('10003', 3), ('10004', 1)]"
      ]
     },
     "execution_count": 248,
     "metadata": {},
     "output_type": "execute_result"
    }
   ],
   "source": [
    "palletID2WIdx = {}\n",
    "for pallet_id, (x, y) in palletID2pos:\n",
    "    for widx, w in enumerate(W):\n",
    "        if (x, y) == w:\n",
    "            palletID2WIdx[pallet_id] = widx\n",
    "            break\n",
    "    else:\n",
    "        assert False\n",
    "list(palletID2WIdx.items())[:5]"
   ]
  },
  {
   "cell_type": "code",
   "execution_count": 253,
   "metadata": {},
   "outputs": [
    {
     "data": {
      "text/plain": [
       "675"
      ]
     },
     "execution_count": 253,
     "metadata": {},
     "output_type": "execute_result"
    }
   ],
   "source": [
    "len(O)"
   ]
  },
  {
   "cell_type": "code",
   "execution_count": 265,
   "metadata": {},
   "outputs": [],
   "source": [
    "# parameters\n",
    "max_size_O = 50\n",
    "pallets_binded = False"
   ]
  },
  {
   "cell_type": "code",
   "execution_count": 266,
   "metadata": {
    "tags": []
   },
   "outputs": [
    {
     "name": "stderr",
     "output_type": "stream",
     "text": [
      "5it [00:53, 10.71s/it]\n"
     ]
    }
   ],
   "source": [
    "max_size_O_list = [50, 100, 200, 400, 675]\n",
    "total_distances = np.zeros(len(max_size_O_list))\n",
    "with HiddenPrints():\n",
    "    for max_size_O_idx, max_size_O in tqdm(enumerate(max_size_O_list)):\n",
    "        # initialization\n",
    "        batch_size = math.ceil(len(O) / max_size_O)\n",
    "        O_seperated = []\n",
    "        for i in range(batch_size):\n",
    "            O_seperated.append(O[i * max_size_O: (i + 1) * max_size_O])\n",
    "        sum([len(_) for _ in O_seperated]), len(O)\n",
    "        agv_pos = copy.deepcopy(agv_dict)\n",
    "        temp_q = copy.deepcopy(q)\n",
    "        gather_num = 6\n",
    "        W3 = [[(7, 0), (8, 0), (9, 0)],\n",
    "             [(19, 0), (20, 0), (21, 0)],\n",
    "             [(31, 6), (31, 7), (31, 8)],\n",
    "             [(31, 14), (31, 15), (31, 16)],\n",
    "             [(7, 21), (8, 21), (9, 21)],\n",
    "             [(19, 21), (20, 21), (21, 21)]]  # ono-on-one to W\n",
    "        total_distance = 0\n",
    "        total_delivered_amount = 0\n",
    "\n",
    "        # start\n",
    "        for k in range(batch_size):  # 订单的批次序号集合, k = 0, ..., max_size_O - 1\n",
    "            Ok = O_seperated[k]  # 第k批订单集合\n",
    "            # print('Ok:', Ok)\n",
    "            Pk = set()  # 运送第k批订单的托盘集合\n",
    "            for key, value in b.items():  # b is solved by model6\n",
    "                if abs(value.x) > 1e-6:\n",
    "                    pallet_id, order_id = key\n",
    "                    if order_id in Ok:  # Pk is determined by Ok\n",
    "                        Pk.add(pallet_id)\n",
    "            # print('Pk:', Pk)\n",
    "            Gpp = []  # 执行回收任务的AGV集合\n",
    "            temp_agv_dict = agv_pos.copy()  # update for each k\n",
    "            W = [(8, 0), (20, 0), (31, 7), (31, 15), (8, 21), (20, 21)] # (x, y)\n",
    "            assert gather_num >= 6\n",
    "            count = 0\n",
    "            while count < gather_num:\n",
    "                for (xw, yw) in W:\n",
    "                    agv_id = min(temp_agv_dict,\n",
    "                                 key=lambda x: distance_p2p[temp_agv_dict[x][0], \n",
    "                                                           temp_agv_dict[x][1],\n",
    "                                                           xw, yw])\n",
    "                    del temp_agv_dict[agv_id]\n",
    "                    Gpp.append(agv_id)\n",
    "                    count += 1\n",
    "                    if count == gather_num:\n",
    "                        break\n",
    "            Gp = temp_agv_dict.keys() - {'11'} - set(Gpp)\n",
    "            delivery_num = len(Gp)\n",
    "            lpgk = dict()\n",
    "            for p in Pk:\n",
    "                temp = dict()\n",
    "                for g in Gp:\n",
    "                    temp[g] = distance_p2p[agv_pos[g][0], agv_pos[g][1], pallets_dict[p][0], pallets_dict[p][1]]\n",
    "                lpgk[p] = temp\n",
    "            lpp = dict()\n",
    "            lpp_w = dict()\n",
    "            for p in P:\n",
    "                temp = dict()\n",
    "                temp_w = dict()\n",
    "                for pp in P:\n",
    "                    if not pallets_binded:\n",
    "                        temp_distance = [distance_p2p[pallets_dict[p][0],\n",
    "                                                      pallets_dict[p][1],\n",
    "                                                      x, y] +\n",
    "                                         distance_p2p[x, y,\n",
    "                                                      pallets_dict[pp][0],\n",
    "                                                      pallets_dict[pp][1]] for (x, y) in W]\n",
    "                        idx = np.argmin(temp_distance)\n",
    "                        temp[pp] = temp_distance[idx]\n",
    "                        temp_w[pp] = W[idx]\n",
    "                    else:\n",
    "                        wx, wy = W[palletID2WIdx[p]]\n",
    "                        temp[pp] = distance_p2p[pallets_dict[p][0], pallets_dict[p][1], wx, wy] + \\\n",
    "                                    distance_p2p[wx, wy, pallets_dict[pp][0], pallets_dict[pp][1]]\n",
    "                        temp_w[pp] = (wx, wy)\n",
    "                lpp[p] = temp\n",
    "                lpp_w[p] = temp_w\n",
    "            V = ['virtual'] + list(Gp) + list(Pk)  # vertex set\n",
    "            d = dict()  # distance matrix\n",
    "            A = set()  # 弧集合\n",
    "            for vf in V:\n",
    "                temp = dict()\n",
    "                for vt in V:\n",
    "                    A.add((vf, vt))\n",
    "                    if vf == 'virtual' and vt == 'virtual' or \\\n",
    "                       vf == 'virtual' and vt in Pk or \\\n",
    "                       vf in Gp and vt in Gp or \\\n",
    "                       vf in Pk and vt in Gp or \\\n",
    "                       vf == vt:\n",
    "                        temp[vt] = 1e6\n",
    "                    elif vf == 'virtual' and vt in Gp or \\\n",
    "                         vf in Gp and vt == 'virtual':\n",
    "                        temp[vt] = 0\n",
    "                    elif vf in Gp and vt in Pk:\n",
    "                        temp[vt] = lpgk[vt][vf]\n",
    "                    elif vf in Pk and vt == 'virtual':\n",
    "                        if not pallets_binded:\n",
    "                            temp[vt] = l[vf]\n",
    "                        else:\n",
    "                            wx, wy = W[palletID2WIdx[vf]]\n",
    "                            temp[vt] = distance_p2p[pallets_dict[vf][0], pallets_dict[vf][1], wx, wy]\n",
    "                    elif vf in Pk and vt in Pk:\n",
    "                        assert vf != vt\n",
    "                        temp[vt] = lpp[vf][vt]\n",
    "                    else:\n",
    "                        assert False, 'vf: {}, vt: {}'.format(vf, vt)\n",
    "                d[vf] = temp\n",
    "            m8 = Model()\n",
    "            x = m8.addVars(A, vtype=GRB.BINARY)\n",
    "            u = m8.addVars(V, vtype=GRB.INTEGER)\n",
    "            m8.setObjective(\n",
    "                sum(d[vf][vt] * x[(vf, vt)] for vf in V for vt in V), GRB.MINIMIZE\n",
    "            )\n",
    "            m8.addConstr(sum([x[('virtual', _)] for _ in V]) == delivery_num)\n",
    "            m8.addConstr(sum([x[(_, 'virtual')] for _ in V]) == delivery_num)\n",
    "            for v in V:\n",
    "                if v != 'virtual':\n",
    "                    m8.addConstr(sum([x[(_, v)] for _ in V]) == 1)\n",
    "                    m8.addConstr(sum([x[(v, _)] for _ in V]) == 1)\n",
    "            for vf in V:\n",
    "                for vt in V:\n",
    "                    if vf != 'virtual' and vt != 'virtual' and vf != vt:\n",
    "                        m8.addConstr(u[vf] - u[vt] + len(V) * x[(vf, vt)] <= len(V) - 1)\n",
    "            m8.Params.LogToConsole = 0\n",
    "            m8.optimize()\n",
    "            total_distance += m8.objVal\n",
    "\n",
    "            id2id = []\n",
    "            for key, value in x.items():\n",
    "                if abs(value.x) > 1e-6:\n",
    "                    # print('varName: {}, key: {}, value: {}'.format(value.varName, key, value.x))\n",
    "                    id2id.append(key)\n",
    "\n",
    "            mtsp_adj_matrix = dict() \n",
    "            for vf in V:\n",
    "                temp = dict()\n",
    "                for vt in V:\n",
    "                    temp[vt] = 0\n",
    "                mtsp_adj_matrix[vf] = temp\n",
    "            for id1, id2 in id2id:\n",
    "                mtsp_adj_matrix[id1][id2] = 1\n",
    "\n",
    "            # determine each m routes by solution\n",
    "            pos2route = {_: [agv_dict[_]] for _ in Gp}\n",
    "            for g in Gp:\n",
    "                temp_id = max(mtsp_adj_matrix[g], key=mtsp_adj_matrix[g].get)\n",
    "                if temp_id == 'virtual':\n",
    "                    continue\n",
    "                elif temp_id in Pk:\n",
    "                    while temp_id != 'virtual':\n",
    "                        pos2route[g].append(pallets_dict[temp_id])\n",
    "                        temp_id = max(mtsp_adj_matrix[temp_id], key=mtsp_adj_matrix[temp_id].get)\n",
    "                else:\n",
    "                    assert False\n",
    "\n",
    "            m8_mtsp_result = {'pos2route': pos2route, 'objVal': m8.objVal}\n",
    "            # print(m8_mtsp_result)\n",
    "            with open('save/m8-mtsp-bs{}-b{}.pickle'.format(batch_size, k), 'wb') as handle:\n",
    "                pickle.dump(m8_mtsp_result, handle)  # for ploting\n",
    "\n",
    "            # update\n",
    "            for g in Gp:  # update agv_pos for delivery agvs\n",
    "                print('k: {}, agv {} position: {} → {}'.format(k, g, agv_pos[g], pos2route[g][-1]))\n",
    "                agv_pos[g] = pos2route[g][-1]\n",
    "\n",
    "            for p in Pk:  # update temp_q\n",
    "                # update sku amount\n",
    "                for o in Ok:\n",
    "                    if s[(p, o)].x > 1e-6:  # s is solved by model 6\n",
    "                        # print((p, o), s[(p, o)].x)\n",
    "                        sku_id = list(r[o].keys())[0]\n",
    "                        sku_amount = s[(p, o)].x\n",
    "                        total_delivered_amount += sku_amount\n",
    "                        print('sku {} on pallet {} amount: {} → {}'.format(\n",
    "                            sku_id, p, temp_q[p][sku_id], temp_q[p][sku_id] - sku_amount\n",
    "                        ))\n",
    "                        temp_q[p][sku_id] -= sku_amount\n",
    "                # where is the pallet?\n",
    "                for id1, id2 in id2id:\n",
    "                    if id1 == p and id2 != 'virtual':\n",
    "                        curr_pos = tuple(lpp_w[id1][id2])\n",
    "                        break\n",
    "                    elif id1 == p and id2 == 'virtual':\n",
    "                        if not pallets_binded:\n",
    "                            curr_pos = tuple(pos5_list[l_w[id1]])\n",
    "                        else:\n",
    "                            curr_pos = tuple(W[palletID2WIdx[id1]])\n",
    "                        break\n",
    "                else:\n",
    "                    assert False, 'pallet position not found'\n",
    "                # dist_agv2cp = [distance_p2p[agv_dict[_][0],agv_dict[_][1],\n",
    "                #                             curr_pos[0],curr_pos[1]] for _ in Gpp]\n",
    "                # Gpp_idx = np.argmin(dist_agv2cp)\n",
    "\n",
    "                # which agv to gather? determined in advance\n",
    "                for w_idx, w3 in enumerate(W3):\n",
    "                    if curr_pos in w3:\n",
    "                        tgt_Gpp = Gpp[w_idx]\n",
    "                        break\n",
    "                else:\n",
    "                    assert False, 'Gpp not found, curr_pos: {}'.format(curr_pos)\n",
    "                dist_agv2cp = [distance_p2p[agv_dict[tgt_Gpp][0],agv_dict[tgt_Gpp][1], \n",
    "                                            curr_pos[0], curr_pos[1]]]\n",
    "                if sum(temp_q[p].values()) == 0:\n",
    "                    dist_cp2p7 = [distance_p2p[curr_pos[0], curr_pos[1], x7, y7] \n",
    "                                  for (x7, y7) in pos7_list]\n",
    "                    pos7_idx = np.argmin(dist_cp2p7)\n",
    "                    gather_distance = dist_agv2cp + dist_cp2p7[pos7_idx]\n",
    "                    print('k: {}, agv {} position: {} → {}'.format(\n",
    "                        k, tgt_Gpp, agv_pos[tgt_Gpp], pos7_list[pos7_idx]\n",
    "                    ))\n",
    "                    agv_pos[tgt_Gpp] = pos7_list[pos7_idx]  # update agv pos\n",
    "                    print('pallet {} empty, delete it'.format(p))\n",
    "                    del temp_q[p]  # delte empty pallet\n",
    "                else:\n",
    "                    gather_distance = dist_agv2cp + distance_p2p[\n",
    "                        curr_pos[0], curr_pos[1], pallets_dict[p][0], pallets_dict[p][1]\n",
    "                    ]\n",
    "                    print('k: {}, agv {} position: {} → {}'.format(\n",
    "                        k, tgt_Gpp, agv_pos[tgt_Gpp], pallets_dict[p]\n",
    "                    ))\n",
    "                    agv_pos[tgt_Gpp] = pallets_dict[p]  # update agv pos\n",
    "                total_distance += gather_distance\n",
    "        total_distances[max_size_O_idx] = total_distance"
   ]
  },
  {
   "cell_type": "code",
   "execution_count": 251,
   "metadata": {},
   "outputs": [
    {
     "data": {
      "text/plain": [
       "(array([28600.]), 8478.0)"
      ]
     },
     "execution_count": 251,
     "metadata": {},
     "output_type": "execute_result"
    }
   ],
   "source": [
    "total_distance, total_delivered_amount  # (array([27394.]), 8478.0), (array([28600.]), 8478.0)"
   ]
  },
  {
   "cell_type": "code",
   "execution_count": 176,
   "metadata": {},
   "outputs": [
    {
     "data": {
      "text/plain": [
       "8478.0"
      ]
     },
     "execution_count": 176,
     "metadata": {},
     "output_type": "execute_result"
    }
   ],
   "source": [
    "total_delivered_amount"
   ]
  },
  {
   "cell_type": "code",
   "execution_count": 267,
   "metadata": {},
   "outputs": [
    {
     "data": {
      "text/plain": [
       "([50, 100, 200, 400, 675], array([27394., 22419., 16565., 10884.,  6351.]))"
      ]
     },
     "execution_count": 267,
     "metadata": {},
     "output_type": "execute_result"
    }
   ],
   "source": [
    "max_size_O_list, total_distances"
   ]
  },
  {
   "cell_type": "code",
   "execution_count": 271,
   "metadata": {},
   "outputs": [
    {
     "data": {
      "image/png": "[encoded data removed]",
      "text/plain": [
       "<Figure size 432x288 with 1 Axes>"
      ]
     },
     "metadata": {
      "needs_background": "light"
     },
     "output_type": "display_data"
    }
   ],
   "source": [
    "plt.plot([50, 100, 200, 400, 675], [27394., 22419., 16565., 10884.,  6351.], label='储位不分类')\n",
    "plt.plot([50, 100, 200, 400, 675], [28600., 22734., 16585., 10824.,  6269.], label='储位分类')\n",
    "plt.xlabel('单批包含订单个数', fontproperties=fontP)\n",
    "plt.ylabel('距离总和', fontproperties=fontP)\n",
    "plt.legend(loc='best', prop=fontP)\n",
    "plt.savefig('images/sensitivity-1.png', bbox_inches='tight')"
   ]
  },
  {
   "cell_type": "code",
   "execution_count": 134,
   "metadata": {},
   "outputs": [
    {
     "data": {
      "text/plain": [
       "(7, 21)"
      ]
     },
     "execution_count": 134,
     "metadata": {},
     "output_type": "execute_result"
    }
   ],
   "source": [
    "tuple(curr_pos)"
   ]
  }
 ],
 "metadata": {
  "kernelspec": {
   "display_name": "Python 3",
   "language": "python",
   "name": "python3"
  },
  "language_info": {
   "codemirror_mode": {
    "name": "ipython",
    "version": 3
   },
   "file_extension": ".py",
   "mimetype": "text/x-python",
   "name": "python",
   "nbconvert_exporter": "python",
   "pygments_lexer": "ipython3",
   "version": "3.8.3"
  }
 },
 "nbformat": 4,
 "nbformat_minor": 4
}