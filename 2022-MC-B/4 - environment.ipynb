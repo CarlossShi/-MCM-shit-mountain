{
 "cells": [
  {
   "cell_type": "code",
   "execution_count": 355,
   "metadata": {},
   "outputs": [],
   "source": [
    "%matplotlib inline\n",
    "import csv\n",
    "import numpy as np\n",
    "import matplotlib.pyplot as plt\n",
    "from matplotlib import colors, pyplot, transforms\n",
    "from matplotlib.collections import LineCollection\n",
    "import seaborn as sns\n",
    "import pandas as pd\n",
    "import math\n",
    "import pickle\n",
    "import time\n",
    "import random"
   ]
  },
  {
   "cell_type": "code",
   "execution_count": 7,
   "metadata": {},
   "outputs": [
    {
     "data": {
      "text/plain": [
       "(    #ORDER_ID      SKU   AMOUNT\n",
       " 0           1  1579172        6\n",
       " 1           2  2609314       12\n",
       " 2           3  1335852       53\n",
       " 3           4  1748526        5\n",
       " 4           5  1332937        2\n",
       " ..        ...      ...      ...\n",
       " 670       671  2201629        5\n",
       " 671       672   548501       11\n",
       " 672       673  2201629        1\n",
       " 673       674   548501       11\n",
       " 674       675   548501        2\n",
       " \n",
       " [675 rows x 3 columns],\n",
       " #ORDER_ID    object\n",
       "  SKU         object\n",
       "  AMOUNT       int64\n",
       " dtype: object)"
      ]
     },
     "execution_count": 7,
     "metadata": {},
     "output_type": "execute_result"
    }
   ],
   "source": [
    "orders = pd.read_csv('data/orders.csv').astype({'#ORDER_ID': str, ' SKU': str})\n",
    "orders, orders.dtypes"
   ]
  },
  {
   "cell_type": "code",
   "execution_count": 8,
   "metadata": {},
   "outputs": [
    {
     "data": {
      "text/plain": [
       "(    #TYPE   X   Y    NEIGHBORS\n",
       " 0       1   3   0  3:1;2:0;4:0\n",
       " 1       1   4   0  4:1;3:0;5:0\n",
       " 2       1   5   0      5:1;4:0\n",
       " 3       1   6   0          6:1\n",
       " 4       5   7   0          7:1\n",
       " ..    ...  ..  ..          ...\n",
       " 699     6   0  17         1:17\n",
       " 700     6   0  18         1:18\n",
       " 701     1   0  19         1:19\n",
       " 702     1   0  20         1:20\n",
       " 703     1   0  21             \n",
       " \n",
       " [704 rows x 4 columns],\n",
       " #TYPE         object\n",
       "  X             int64\n",
       "  Y             int64\n",
       "  NEIGHBORS    object\n",
       " dtype: object,\n",
       " 31,\n",
       " 21)"
      ]
     },
     "execution_count": 8,
     "metadata": {},
     "output_type": "execute_result"
    }
   ],
   "source": [
    "mapp = pd.read_csv('data/map.csv', skiprows=[1]).astype({'#TYPE': str}).fillna('')\n",
    "mapp, mapp.dtypes, max(mapp[' X']), max(mapp[' Y'])"
   ]
  },
  {
   "cell_type": "code",
   "execution_count": 9,
   "metadata": {},
   "outputs": [
    {
     "data": {
      "text/plain": [
       "(                  #SKU_QUANTITY_LIST   X   Y  PALLET_ID\n",
       " 0       104151:9,840211:35,1297235:1  18   8      10000\n",
       " 1    901897:13,1297235:18,2171945:14  19  16      10001\n",
       " 2                          653296:69  14  12      10002\n",
       " 3                         1473101:66  18  15      10003\n",
       " 4                961380:8,1187577:49  14   6      10004\n",
       " ..                               ...  ..  ..        ...\n",
       " 143            1751060:20,2247923:14  24  15      10143\n",
       " 144             582599:33,1766481:54  13   5      10144\n",
       " 145             2302238:2,1867146:34  12   6      10145\n",
       " 146             1286521:31,901902:24  12  13      10146\n",
       " 147             1308094:52,1085002:4   9  12      10147\n",
       " \n",
       " [148 rows x 4 columns],\n",
       " #SKU_QUANTITY_LIST    object\n",
       "  X                     int64\n",
       "  Y                     int64\n",
       "  PALLET_ID            object\n",
       " dtype: object)"
      ]
     },
     "execution_count": 9,
     "metadata": {},
     "output_type": "execute_result"
    }
   ],
   "source": [
    "pallets = pd.read_csv('data/pallets.csv').astype({' PALLET_ID': str})\n",
    "pallets, pallets.dtypes"
   ]
  },
  {
   "cell_type": "code",
   "execution_count": 10,
   "metadata": {},
   "outputs": [
    {
     "name": "stdout",
     "output_type": "stream",
     "text": [
      "{'104151': 9, '840211': 35, '1297235': 1}\n"
     ]
    },
    {
     "data": {
      "text/plain": [
       "([('10000', '9'), ('10027', '27')], 2)"
      ]
     },
     "execution_count": 10,
     "metadata": {},
     "output_type": "execute_result"
    }
   ],
   "source": [
    "sku2palletID = dict()\n",
    "q = dict()  # 托盘p包含商品c的数量\n",
    "for i, row in pallets.iterrows():\n",
    "    sku_quantity_list, x, y, pallet_id = row\n",
    "    # print(sku_quantity_list, x, y, pallet_id)\n",
    "    \n",
    "    # process sku_quantity_list\n",
    "    sku_quantity_list = sku_quantity_list.split(',')  # e.g. ['104151:9', '840211:35', '1297235:1']\n",
    "    temp = dict()\n",
    "    for sq_str in sku_quantity_list:  # sq_str like '104151:9'\n",
    "        sku, quantity = sq_str.split(':')\n",
    "        temp[sku] = int(quantity)\n",
    "        \n",
    "        temp2 = sku2palletID.get(sku, [])\n",
    "        temp2.append((pallet_id, quantity))\n",
    "        sku2palletID[sku] = temp2\n",
    "    q[pallet_id] = temp\n",
    "print(q['10000'])\n",
    "sku2palletID['104151'], len(sku2palletID['104151'])"
   ]
  },
  {
   "cell_type": "code",
   "execution_count": 11,
   "metadata": {},
   "outputs": [],
   "source": [
    "C = set()  # 商品集合, set of length 181\n",
    "for _ in q.values():  # _ like {'104151': 9, '840211': 35, '1297235': 1}\n",
    "    for sku in _:\n",
    "        C.add(sku)"
   ]
  },
  {
   "cell_type": "code",
   "execution_count": 240,
   "metadata": {},
   "outputs": [
    {
     "name": "stdout",
     "output_type": "stream",
     "text": [
      "Pallet id: 10000, pos: (18, 8), sku_quantity: {'104151': 9, '840211': 35, '1297235': 1}, capacity: 45, carriedBy: None\n"
     ]
    }
   ],
   "source": [
    "class Pallet:\n",
    "    def __init__(self, sku_quantity_list, x, y, pallet_id):\n",
    "        \"\"\"\n",
    "        @param sku_quantity_list: str, e.g. '104151:9,840211:35,1297235:1'\n",
    "        @param x: int64\n",
    "        @param y: int64\n",
    "        @param pallet_id: str, e.g. '10000'\n",
    "        \"\"\"\n",
    "        self.sku_quantity = {}\n",
    "        self.capacity = 0\n",
    "        for sku_quantity in sku_quantity_list.split(','):\n",
    "            sku, quantity = sku_quantity.split(':')\n",
    "            self.sku_quantity[sku] = int(quantity)\n",
    "            self.capacity += int(quantity)\n",
    "        self.pos = (x, y)\n",
    "        self.id = pallet_id\n",
    "        self.carriedBy = None\n",
    "        \n",
    "    def print(self):\n",
    "        print('Pallet id: {}, pos: {}, sku_quantity: {}, capacity: {}, carriedBy: {}'.format(\n",
    "            self.id, self.pos, self.sku_quantity, self.capacity, self.carriedBy\n",
    "        ))\n",
    "temp = Pallet(pallets.loc[0, '#SKU_QUANTITY_LIST'], \n",
    "              pallets.loc[0, ' X'], \n",
    "              pallets.loc[0, ' Y'], \n",
    "              pallets.loc[0, ' PALLET_ID'])\n",
    "temp.print()"
   ]
  },
  {
   "cell_type": "code",
   "execution_count": 121,
   "metadata": {},
   "outputs": [
    {
     "data": {
      "text/plain": [
       "(   #AGV_ID   X   Y\n",
       " 0        1  31  14\n",
       " 1        2  26  11\n",
       " 2        3  29  16\n",
       " 3        4   5   7\n",
       " 4        5  27  18\n",
       " 5        6  22  10\n",
       " 6        7   9  20\n",
       " 7        8  14  17\n",
       " 8        9   8  11\n",
       " 9       10  19  18\n",
       " 10      11  25   6\n",
       " 11      12   9   7\n",
       " 12      13  11  16\n",
       " 13      14  17   8\n",
       " 14      15   0   5\n",
       " 15      16   3  16\n",
       " 16      17  24  15\n",
       " 17      18  20   4\n",
       " 18      19   4   0\n",
       " 19      20   1  14,\n",
       " #AGV_ID    object\n",
       " X           int64\n",
       " Y           int64\n",
       " dtype: object)"
      ]
     },
     "execution_count": 121,
     "metadata": {},
     "output_type": "execute_result"
    }
   ],
   "source": [
    "agv = pd.read_csv('data/agv.csv').astype({'#AGV_ID': str})\n",
    "agv, agv.dtypes"
   ]
  },
  {
   "cell_type": "code",
   "execution_count": 225,
   "metadata": {},
   "outputs": [],
   "source": [
    "def action2pos(curr_pos, action):\n",
    "    \"\"\"\n",
    "    @param curr_pos: (x, y)\n",
    "    @param curr_pos: 0: stop, 1: up, 2: down, 3: left, 4: right\n",
    "    \"\"\"\n",
    "    temp = {0: (x, y), 1: (x - 1, y), 2: (x + 1, y), 3: (x, y - 1), 4: (x, y+ 1)}\n",
    "    return temp[action]"
   ]
  },
  {
   "cell_type": "code",
   "execution_count": 233,
   "metadata": {},
   "outputs": [
    {
     "name": "stdout",
     "output_type": "stream",
     "text": [
      "AGV id: 1, pos: (31, 14), tp: 路径, carrying: False\n"
     ]
    }
   ],
   "source": [
    "class AGV:\n",
    "    def __init__(self, agv_id, x, y, tp):\n",
    "        \"\"\"\n",
    "        @param agv_id: str, e.g. '1'\n",
    "        @param x: int64\n",
    "        @param y: int64\n",
    "        \"\"\"\n",
    "        self.id = agv_id\n",
    "        self.pos = (x, y)\n",
    "        self.tp = tp\n",
    "        self.carrying = False\n",
    "    def print(self):\n",
    "        tp_dict = {1: '路径', 2: '储位', 3: '保留', 4: '柱子', 5: '拣选工位', 6: '补货位', 7: '空托盘回收'}\n",
    "        print('AGV id: {}, pos: {}, tp: {}, carrying: {}'.format(\n",
    "            self.id, self.pos, tp_dict[self.tp], self.carrying\n",
    "        ))\n",
    "temp = AGV(agv.loc[0, '#AGV_ID'], agv.loc[0, 'X'], agv.loc[0, 'Y'], 1)\n",
    "temp.print()"
   ]
  },
  {
   "cell_type": "code",
   "execution_count": 390,
   "metadata": {
    "tags": []
   },
   "outputs": [],
   "source": [
    "class Board:\n",
    "    def __init__(self, mapp, pallets, agv, orders):\n",
    "        # process mapp, create tp_array, nbr_array\n",
    "        x_lim, y_lim = max(mapp[' X']) + 1, max(mapp[' Y']) + 1\n",
    "        self.tp_array = -1 * np.ones([x_lim, y_lim], dtype=int)\n",
    "        self.nbr_array = np.empty([x_lim, y_lim], dtype=object)\n",
    "        self.walls = []\n",
    "        for i, row in mapp.iterrows():\n",
    "            tp, x, y, raw_nbrs = row\n",
    "            self.tp_array[x, y] = tp\n",
    "            #print(type(raw_nbrs), raw_nbrs)\n",
    "            if raw_nbrs:\n",
    "                raw_nbrs = {_ for _ in raw_nbrs.split(';')}  # e.g. {'2:0', '3:1', '4:0'}\n",
    "                nbrs = set()\n",
    "                for nbr in raw_nbrs:\n",
    "                    ux, uy = nbr.split(':')\n",
    "                    nbrs.add((int(ux), int(uy)))\n",
    "                self.nbr_array[x, y] = nbrs  # e.g. {(1, 1), (0, 2), (1, 3), (2, 2)}\n",
    "            else:\n",
    "                self.nbr_array[x, y] = set()\n",
    "            all_nbrs = {(x, y + 1), (x, y - 1), (x - 1, y), (x + 1, y)}\n",
    "            for nbr in all_nbrs - self.nbr_array[x, y]:\n",
    "                nx, ny = nbr\n",
    "                if x == nx:  # y should be substracted by y_limit - 1\n",
    "                    self.walls.append([((y + ny) / 2, x + 0.5), ((y + ny) / 2, x - 0.5)])\n",
    "                elif y == ny:\n",
    "                    self.walls.append([(y + 0.5, (x + nx) / 2), (y - 0.5, (x + nx) / 2)])\n",
    "                else:\n",
    "                    assert False, 'x: {}, y:{}, nbrs: {}'.format(x, y, nbrs)\n",
    "        # process pallets\n",
    "        self.pallets = dict()\n",
    "        self.pos2palletID = np.empty([x_lim, y_lim], dtype=object)\n",
    "        for i, row in pallets.iterrows():\n",
    "            sku_quantity_list, x, y, pallet_id = row\n",
    "            self.pallets[pallet_id] = Pallet(sku_quantity_list, x, y, pallet_id)\n",
    "            self.pos2palletID[x, y] = pallet_id\n",
    "        # process agv\n",
    "        self.agvs = dict()\n",
    "        for i, row in agv.iterrows():\n",
    "            agv_id, x, y = row\n",
    "            self.agvs[agv_id] = AGV(agv_id, x, y, self.tp_array[x, y])\n",
    "        # process orders\n",
    "        self.sku_needed = dict()\n",
    "        for i, row in orders.iterrows():\n",
    "            order_id, sku, amount = row\n",
    "            sku_amount = self.sku_needed.get(sku, 0)\n",
    "            sku_amount += amount\n",
    "            self.sku_needed[sku] = sku_amount\n",
    "            \n",
    "    def plot(self):\n",
    "        fig, ax = plt.subplots(figsize=(16, 11))\n",
    "        plt.axis('off')\n",
    "        # plot map\n",
    "        cmap = colors.ListedColormap(['lightgray', 'green', 'yellow', 'black', 'blue', 'pink', 'red'])\n",
    "        bounds = [0.5, 1.5, 2.5, 3.5, 4.5, 5.5, 6.5, 7.5]\n",
    "        norm = colors.BoundaryNorm(bounds, cmap.N)\n",
    "        ax.imshow(board.tp_array, cmap=cmap, norm=norm)\n",
    "        # plot walls\n",
    "        lc = LineCollection(self.walls, colors=['black'] * len(self.walls), alpha=0.5)\n",
    "        ax.add_collection(lc)\n",
    "        # plot agvs\n",
    "        # plt.scatter([agv.pos[1] for agv in self.agvs.values()], \n",
    "        #             [agv.pos[0] for agv in self.agvs.values()], \n",
    "        #             color='tab:orange', label='AGV', s=200)\n",
    "        # plot pallets\n",
    "#         plt.scatter([pallet.pos[1] for pallet in self.pallets.values()], \n",
    "#                     [pallet.pos[0] for pallet in self.pallets.values()], \n",
    "#                     color='white', label='AGV', s=70)\n",
    "#         for pallet in self.pallets.values():\n",
    "#             x, y = pallet.pos\n",
    "#             sku_quantity = pallet.sku_quantity\n",
    "#             for skuID in sku_quantity.keys():\n",
    "#                 if skuID in self.sku_needed.keys():  # if there still exists needed sku\n",
    "#                     pallet_color = 'darkgreen'\n",
    "#                     break\n",
    "#             else:\n",
    "#                 pallet_color = 'black'\n",
    "#             loading_rate = sum(pallet.sku_quantity.values()) / pallet.capacity\n",
    "#             # plt.text(y, x, str(round(loading_rate, 1)), color=pallet_color, ha='center', va='center', size=6)\n",
    "        \n",
    "        # plot for question 2\n",
    "        # W = [(8, 0), (20, 0), (31, 7), (31, 15), (8, 21), (20, 21)] # (x, y)\n",
    "        # W_color = {(8, 0): 'purple', (20, 0): 'brown', (31, 7): 'olive', \n",
    "        #            (31, 15): 'cyan', (8, 21): 'white', (20, 21): 'darkcyan'}\n",
    "        # for (x, y), color in W_color.items():\n",
    "        #     plt.scatter(y, x, color=color)\n",
    "        # for palletID, pos in palletID2pos:\n",
    "        #     x, y = self.pallets[palletID].pos\n",
    "        #     plt.scatter(y, x, color=W_color[pos])\n",
    "        \n",
    "        # plot for m8 mtsp\n",
    "#         pos2route = m8_mtsp_bs14_b0['pos2route']\n",
    "#         get_colors = lambda n: list(map(lambda i: \"#\" + \"%06x\" % random.randint(0, 0xFFFFFF),range(n)))\n",
    "#         color_cycle = get_colors(len(pos2route))\n",
    "#         for i, positions in enumerate(pos2route.values()):\n",
    "#             temp = np.array(positions)\n",
    "#             color = color_cycle[i]\n",
    "#             for _ in range(len(temp) - 1):\n",
    "#                 x1, y1 = temp[_]\n",
    "#                 x2, y2 = temp[_ + 1]\n",
    "#                 ax.quiver(y1, x1, y2 - y1, x2 - x1, scale_units='xy', angles='xy', scale=1, color=color)\n",
    "                \n",
    "#             plt.scatter(positions[0][1], positions[0][0], color=color, label='AGV', s=200)\n",
    "        for pallet_id in self.pallets.keys() - {'10069', '10142', '10143', '10146', '10147'}:\n",
    "            \n",
    "    \n",
    "        plt.savefig('images/board-{}.png'.format(time.strftime('%Y%m%d-%H%M%S')), bbox_inches='tight')\n",
    "    \n",
    "    def step(self, action_dict, priority_list):\n",
    "        \"\"\"\n",
    "        @param action_dict: e.g. {'1': 0, '2': 1, '3': 2, '4': 3, '5': 4, ...}\n",
    "        @param priority_list: e.g. ['10', '0', ...] means agv 10 is handled in front of agn 0\n",
    "        \"\"\"\n",
    "        assert len(actions_dict) == len(priority_list) == len(self.agvs)\n",
    "        next_positions = dict()\n",
    "        for agvID in priority_list:\n",
    "            action = action_dict[agvID]\n",
    "            agv = self.agvs[agvID]\n",
    "            x, y = agv.pos\n",
    "            tx, ty = action2pos((x, y), action)\n",
    "            nbr = self.nbr_array[x, y]  # e.g. {(0, 0), (0, 2), (1, 1)}\n",
    "            tp = agv.tp  # in case temp has pallet and agv carrying pallet, agv can not move!\n",
    "            ttp = self.tp_array[tx, ty]\n",
    "            pallet_id = self.pos2palletID[tx, ty]  # None or pallet ID\n",
    "            if (tx, ty) not in nbr or \\\n",
    "                (tx, ty) in next_positions.values() or \\\n",
    "                tp in (1, 3, 6) and ttp == 2 and agv.carrying and pallet_id:  # if blocked by wall or occupied or meet pallet\n",
    "                next_positions[agvID] = (x, y)  # do not move\n",
    "            else:  # not blocked by walls and not occupied\n",
    "                next_positions[agvID] = (tx, ty)\n",
    "                if tp in (1, 3, 6):  # 路径(灰色), 保留(黄色), 补货(粉色)\n",
    "                    if ttp == 2 :  # 储位(绿色)\n",
    "                        if not agv.carrying and pallet_id:\n",
    "                            self.agvs[agvID].carrying = True\n",
    "                            self.pallets[pallet_id].carriedBy = agvID\n",
    "                        \n",
    "                    elif ttp == 5:  # 拣选(蓝色)\n",
    "                        pass\n",
    "                    elif ttp == 7:  # 空托盘回收(红色)\n",
    "                        pass\n",
    "                    else:\n",
    "                        assert ttp == 1  # 路径(灰色)\n",
    "                self.agvs[agvID].pos = (tx, ty)\n",
    "                self.agvs[agvID].tp = ttp\n",
    "            \n",
    "            \n",
    "        \n",
    "board = Board(mapp, pallets, agv, orders)\n",
    "# board.tp_array, board.nbr_array"
   ]
  },
  {
   "cell_type": "code",
   "execution_count": 391,
   "metadata": {},
   "outputs": [
    {
     "data": {
      "text/plain": [
       "{(0, 0), (0, 2), (1, 1)}"
      ]
     },
     "execution_count": 391,
     "metadata": {},
     "output_type": "execute_result"
    }
   ],
   "source": [
    "board.nbr_array[0, 1]"
   ]
  },
  {
   "cell_type": "code",
   "execution_count": 392,
   "metadata": {},
   "outputs": [
    {
     "name": "stdout",
     "output_type": "stream",
     "text": [
      "Pallet id: 10000, pos: (18, 8), sku_quantity: {'104151': 9, '840211': 35, '1297235': 1}, capacity: 45, carriedBy: None\n"
     ]
    }
   ],
   "source": [
    "board.pallets['10000'].print()"
   ]
  },
  {
   "cell_type": "code",
   "execution_count": 393,
   "metadata": {},
   "outputs": [
    {
     "name": "stdout",
     "output_type": "stream",
     "text": [
      "AGV id: 1, pos: (31, 14), tp: 拣选工位, carrying: False\n"
     ]
    }
   ],
   "source": [
    "board.agvs['1'].print()"
   ]
  },
  {
   "cell_type": "code",
   "execution_count": null,
   "metadata": {},
   "outputs": [
    {
     "data": {
      "image/png": "[encoded data removed]",
      "text/plain": [
       "<Figure size 1152x792 with 1 Axes>"
      ]
     },
     "metadata": {
      "needs_background": "light"
     },
     "output_type": "display_data"
    }
   ],
   "source": [
    "board.plot()"
   ]
  },
  {
   "cell_type": "code",
   "execution_count": 389,
   "metadata": {},
   "outputs": [],
   "source": [
    "with open('save/palletID2pos.pickle', 'rb') as handle:\n",
    "    palletID2pos = pickle.load(handle)"
   ]
  },
  {
   "cell_type": "code",
   "execution_count": 327,
   "metadata": {},
   "outputs": [
    {
     "data": {
      "text/plain": [
       "({'pos2route': {'5': [(27, 18),\n",
       "    (23, 16),\n",
       "    (18, 15),\n",
       "    (13, 13),\n",
       "    (17, 12),\n",
       "    (11, 12),\n",
       "    (10, 13)],\n",
       "   '9': [(8, 11), (9, 9), (5, 12)],\n",
       "   '8': [(14, 17), (12, 12)],\n",
       "   '6': [(22, 10),\n",
       "    (19, 9),\n",
       "    (23, 6),\n",
       "    (23, 8),\n",
       "    (19, 6),\n",
       "    (20, 12),\n",
       "    (19, 15),\n",
       "    (21, 13)],\n",
       "   '12': [(9, 7), (11, 6), (18, 5), (12, 8)],\n",
       "   '14': [(17, 8), (18, 6)],\n",
       "   '16': [(3, 16), (6, 12)],\n",
       "   '15': [(0, 5), (7, 9), (7, 5), (9, 5), (14, 5), (11, 9), (12, 9)],\n",
       "   '17': [(24, 15), (24, 13), (26, 13), (25, 13), (24, 12), (19, 12)],\n",
       "   '4': [(5, 7), (10, 8), (17, 5), (23, 5), (24, 5), (21, 5)],\n",
       "   '13': [(11, 16), (12, 16)],\n",
       "   '20': [(1, 14), (8, 15), (7, 15), (6, 16), (5, 13), (8, 13)],\n",
       "   '2': [(26, 11),\n",
       "    (22, 12),\n",
       "    (24, 8),\n",
       "    (26, 9),\n",
       "    (25, 12),\n",
       "    (22, 6),\n",
       "    (25, 8),\n",
       "    (19, 8),\n",
       "    (21, 12),\n",
       "    (25, 9)]},\n",
       "  'objVal': 1191.0},\n",
       " array([[27, 18],\n",
       "        [23, 16],\n",
       "        [18, 15],\n",
       "        [13, 13],\n",
       "        [17, 12],\n",
       "        [11, 12],\n",
       "        [10, 13]]))"
      ]
     },
     "execution_count": 327,
     "metadata": {},
     "output_type": "execute_result"
    }
   ],
   "source": [
    "with open('save/m8-mtsp-bs14-b0.pickle', 'rb') as handle:\n",
    "    m8_mtsp_bs14_b0 = pickle.load(handle)\n",
    "m8_mtsp_bs14_b0, np.array(m8_mtsp_bs14_b0['pos2route']['5'])"
   ]
  },
  {
   "cell_type": "code",
   "execution_count": null,
   "metadata": {},
   "outputs": [],
   "source": []
  },
  {
   "cell_type": "code",
   "execution_count": null,
   "metadata": {},
   "outputs": [],
   "source": []
  }
 ],
 "metadata": {
  "kernelspec": {
   "display_name": "Python 3",
   "language": "python",
   "name": "python3"
  },
  "language_info": {
   "codemirror_mode": {
    "name": "ipython",
    "version": 3
   },
   "file_extension": ".py",
   "mimetype": "text/x-python",
   "name": "python",
   "nbconvert_exporter": "python",
   "pygments_lexer": "ipython3",
   "version": "3.8.3"
  }
 },
 "nbformat": 4,
 "nbformat_minor": 4
}