{
 "cells": [
  {
   "cell_type": "code",
   "execution_count": 35,
   "metadata": {},
   "outputs": [],
   "source": [
    "import pandas as pd\n",
    "import pickle\n",
    "import numpy as np\n",
    "import time\n",
    "import torch\n",
    "\n",
    "import matplotlib.pyplot as plt\n",
    "from matplotlib import font_manager\n",
    "%matplotlib inline"
   ]
  },
  {
   "cell_type": "code",
   "execution_count": 36,
   "metadata": {},
   "outputs": [],
   "source": [
    "data_path = 'mathorcup_recom_listwise/data/'"
   ]
  },
  {
   "cell_type": "markdown",
   "metadata": {},
   "source": [
    "# Load Candidates ID"
   ]
  },
  {
   "cell_type": "code",
   "execution_count": 37,
   "metadata": {
    "scrolled": false
   },
   "outputs": [
    {
     "data": {
      "text/html": [
       "<div>\n",
       "<style scoped>\n",
       "    .dataframe tbody tr th:only-of-type {\n",
       "        vertical-align: middle;\n",
       "    }\n",
       "\n",
       "    .dataframe tbody tr th {\n",
       "        vertical-align: top;\n",
       "    }\n",
       "\n",
       "    .dataframe thead th {\n",
       "        text-align: right;\n",
       "    }\n",
       "</style>\n",
       "<table border=\"1\" class=\"dataframe\">\n",
       "  <thead>\n",
       "    <tr style=\"text-align: right;\">\n",
       "      <th></th>\n",
       "      <th>userID</th>\n",
       "      <th>contentID</th>\n",
       "    </tr>\n",
       "  </thead>\n",
       "  <tbody>\n",
       "    <tr>\n",
       "      <th>0</th>\n",
       "      <td>2263674210</td>\n",
       "      <td>506452865;507146538;507040429;506448411;507802...</td>\n",
       "    </tr>\n",
       "    <tr>\n",
       "      <th>1</th>\n",
       "      <td>2407104270</td>\n",
       "      <td>133675654658;133657843524;133682981897;1336828...</td>\n",
       "    </tr>\n",
       "    <tr>\n",
       "      <th>2</th>\n",
       "      <td>1850876254</td>\n",
       "      <td>133675493354;133682019937;133684077954;5077602...</td>\n",
       "    </tr>\n",
       "    <tr>\n",
       "      <th>3</th>\n",
       "      <td>2208092618</td>\n",
       "      <td>133673251676;133666957709;133678083250;1336686...</td>\n",
       "    </tr>\n",
       "    <tr>\n",
       "      <th>4</th>\n",
       "      <td>1642551254</td>\n",
       "      <td>133686242032;133663752853;133663752851;1336809...</td>\n",
       "    </tr>\n",
       "    <tr>\n",
       "      <th>...</th>\n",
       "      <td>...</td>\n",
       "      <td>...</td>\n",
       "    </tr>\n",
       "    <tr>\n",
       "      <th>4995</th>\n",
       "      <td>1167815814</td>\n",
       "      <td>133680407376;133686363980;133679405886;1336611...</td>\n",
       "    </tr>\n",
       "    <tr>\n",
       "      <th>4996</th>\n",
       "      <td>2452835534</td>\n",
       "      <td>133677820984;133682784796;133684723439;1336808...</td>\n",
       "    </tr>\n",
       "    <tr>\n",
       "      <th>4997</th>\n",
       "      <td>1517277558</td>\n",
       "      <td>508112085;509016369;508288515;133669933984;133...</td>\n",
       "    </tr>\n",
       "    <tr>\n",
       "      <th>4998</th>\n",
       "      <td>2223184164</td>\n",
       "      <td>506602551;507158054;508320262;506389422;506389...</td>\n",
       "    </tr>\n",
       "    <tr>\n",
       "      <th>4999</th>\n",
       "      <td>1423562960</td>\n",
       "      <td>133684314785;133655631927;133683103356;5076074...</td>\n",
       "    </tr>\n",
       "  </tbody>\n",
       "</table>\n",
       "<p>5000 rows × 2 columns</p>\n",
       "</div>"
      ],
      "text/plain": [
       "          userID                                          contentID\n",
       "0     2263674210  506452865;507146538;507040429;506448411;507802...\n",
       "1     2407104270  133675654658;133657843524;133682981897;1336828...\n",
       "2     1850876254  133675493354;133682019937;133684077954;5077602...\n",
       "3     2208092618  133673251676;133666957709;133678083250;1336686...\n",
       "4     1642551254  133686242032;133663752853;133663752851;1336809...\n",
       "...          ...                                                ...\n",
       "4995  1167815814  133680407376;133686363980;133679405886;1336611...\n",
       "4996  2452835534  133677820984;133682784796;133684723439;1336808...\n",
       "4997  1517277558  508112085;509016369;508288515;133669933984;133...\n",
       "4998  2223184164  506602551;507158054;508320262;506389422;506389...\n",
       "4999  1423562960  133684314785;133655631927;133683103356;5076074...\n",
       "\n",
       "[5000 rows x 2 columns]"
      ]
     },
     "execution_count": 37,
     "metadata": {},
     "output_type": "execute_result"
    }
   ],
   "source": [
    "recomm_result_df = pd.read_csv(data_path + 'recomm_result.csv', dtype=str, header=None, names=['userID', 'contentID'])\n",
    "recomm_result_df"
   ]
  },
  {
   "cell_type": "code",
   "execution_count": 38,
   "metadata": {
    "scrolled": false
   },
   "outputs": [
    {
     "data": {
      "text/plain": [
       "0       2263674210\n",
       "1       2407104270\n",
       "2       1850876254\n",
       "3       2208092618\n",
       "4       1642551254\n",
       "           ...    \n",
       "4995    1167815814\n",
       "4996    2452835534\n",
       "4997    1517277558\n",
       "4998    2223184164\n",
       "4999    1423562960\n",
       "Name: userID, Length: 5000, dtype: object"
      ]
     },
     "execution_count": 38,
     "metadata": {},
     "output_type": "execute_result"
    }
   ],
   "source": [
    "candidateIDs = recomm_result_df['userID']\n",
    "candidateIDs"
   ]
  },
  {
   "cell_type": "markdown",
   "metadata": {},
   "source": [
    "# Preliminary Match Analyze"
   ]
  },
  {
   "cell_type": "code",
   "execution_count": 39,
   "metadata": {},
   "outputs": [
    {
     "data": {
      "text/plain": [
       "958123"
      ]
     },
     "execution_count": 39,
     "metadata": {},
     "output_type": "execute_result"
    }
   ],
   "source": [
    "with open(data_path + 'userID2idx.pickle', 'rb') as handle:\n",
    "    userID2idx = pickle.load(handle)\n",
    "len(userID2idx)"
   ]
  },
  {
   "cell_type": "code",
   "execution_count": 40,
   "metadata": {
    "scrolled": true
   },
   "outputs": [
    {
     "data": {
      "text/plain": [
       "(5000, '0493108')"
      ]
     },
     "execution_count": 40,
     "metadata": {},
     "output_type": "execute_result"
    }
   ],
   "source": [
    "candidateIdxes = [userID2idx[_] for _ in candidateIDs]\n",
    "len(candidateIdxes), candidateIdxes[0]"
   ]
  },
  {
   "cell_type": "code",
   "execution_count": 41,
   "metadata": {
    "scrolled": true
   },
   "outputs": [
    {
     "data": {
      "text/plain": [
       "(1485, ['505670245', '505857707', '506010721', '506062643', '506204447'])"
      ]
     },
     "execution_count": 41,
     "metadata": {},
     "output_type": "execute_result"
    }
   ],
   "source": [
    "with open(data_path + 'contentTC2ID.pickle', 'rb') as handle:\n",
    "    contentTC2ID = pickle.load(handle)\n",
    "len(contentTC2ID), contentTC2ID['n两性/两性健康'][:5]"
   ]
  },
  {
   "cell_type": "code",
   "execution_count": 42,
   "metadata": {},
   "outputs": [
    {
     "data": {
      "text/plain": [
       "2510703"
      ]
     },
     "execution_count": 42,
     "metadata": {},
     "output_type": "execute_result"
    }
   ],
   "source": [
    "with open(data_path + 'contentID2idx.pickle', 'rb') as handle:\n",
    "    contentID2idx = pickle.load(handle)\n",
    "len(contentID2idx)"
   ]
  },
  {
   "cell_type": "code",
   "execution_count": 79,
   "metadata": {},
   "outputs": [],
   "source": [
    "userID = candidateIDs[2922]\n",
    "idx = userID2idx[userID]\n",
    "aaa, bb, cc = idx[0:3], idx[3:5], idx[5:7]\n",
    "df = pd.read_csv('data_splitted_by_user_id/{}/{}/{}.csv'.format(aaa, bb, cc), dtype=str)\n",
    "\n",
    "clickeds = np.zeros(len(contentTC2ID))\n",
    "durations = np.zeros(len(contentTC2ID))\n",
    "recommeds = np.zeros(len(contentTC2ID))\n",
    "\n",
    "for s in df.sequence:\n",
    "    for icd in s.split(';'):\n",
    "        i, c, d = icd.split(':')\n",
    "        contentIdx = contentID2idx[i]\n",
    "        if eval(c):\n",
    "            clickeds[contentIdx] += 1\n",
    "            durations[contentIdx] += eval(d)\n",
    "        recommeds[contentIdx] += 1"
   ]
  },
  {
   "cell_type": "code",
   "execution_count": 80,
   "metadata": {},
   "outputs": [],
   "source": [
    "avg_clicked_rate = np.divide(clickeds, recommeds, out=np.zeros_like(clickeds), where=recommeds!=0)\n",
    "avg_clicked_duration = np.divide(durations, clickeds, out=np.zeros_like(durations), where=clickeds!=0)"
   ]
  },
  {
   "cell_type": "code",
   "execution_count": 81,
   "metadata": {},
   "outputs": [
    {
     "data": {
      "text/plain": [
       "1485"
      ]
     },
     "execution_count": 81,
     "metadata": {},
     "output_type": "execute_result"
    }
   ],
   "source": [
    "with open(data_path + 'idx2key.pickle', 'rb') as handle:\n",
    "    idx2key = pickle.load(handle)\n",
    "len(idx2key)"
   ]
  },
  {
   "cell_type": "code",
   "execution_count": 82,
   "metadata": {
    "scrolled": false
   },
   "outputs": [
    {
     "data": {
      "image/png": "[encoded data removed]",
      "text/plain": [
       "<Figure size 1080x216 with 2 Axes>"
      ]
     },
     "metadata": {
      "needs_background": "light"
     },
     "output_type": "display_data"
    }
   ],
   "source": [
    "title = 'Average Click-through Rate & Duration for each Category not Considering Time ({})'.format(time.strftime('%Y%m%d-%H%M%S'))\n",
    "width = 0.25\n",
    "alpha = 0.8\n",
    "fontP = font_manager.FontProperties()\n",
    "fontP.set_family('SimHei')\n",
    "#fontP.set_size(11)\n",
    "\n",
    "fig, ax = plt.subplots(figsize=(15,3))\n",
    "ax2 = ax.twinx() # Create another axes that shares the same x-axis as ax.\n",
    "plt.title(title)\n",
    "\n",
    "xticklabels = [idx2key[_] for _ in np.arange(len(contentTC2ID))[np.where(avg_clicked_rate != 0)]]\n",
    "ax.set_xticks(range(len(xticklabels)))\n",
    "ax.set_xticklabels(xticklabels, fontproperties=fontP, rotation=60)\n",
    "\n",
    "bar1 = ax.bar(\n",
    "    np.arange(len(xticklabels)) - width / 2, \n",
    "    avg_clicked_rate[np.where(avg_clicked_rate != 0)], \n",
    "    color='tab:blue', \n",
    "    width=width, \n",
    "    alpha=alpha,\n",
    "    label='Average Click-through Rate'\n",
    ")\n",
    "ax.set_xlabel('Category')\n",
    "# ax.set_yscale('log')\n",
    "\n",
    "bar2 = ax2.bar(\n",
    "    np.arange(len(xticklabels)) + width / 2, \n",
    "    avg_clicked_duration[np.where(avg_clicked_rate != 0)], \n",
    "    color='tab:orange', \n",
    "    width=width,\n",
    "    alpha=alpha,\n",
    "    label='Average Duration'\n",
    ")\n",
    "ax2.set_ylabel('Second')\n",
    "\n",
    "lines, labels = ax.get_legend_handles_labels()\n",
    "lines2, labels2 = ax2.get_legend_handles_labels()\n",
    "ax2.legend(lines + lines2, labels + labels2, loc=0)\n",
    "plt.savefig('images/{}.png'.format(title), bbox_inches='tight')\n"
   ]
  },
  {
   "cell_type": "markdown",
   "metadata": {},
   "source": [
    "# Consider Time"
   ]
  },
  {
   "cell_type": "code",
   "execution_count": 56,
   "metadata": {
    "scrolled": false
   },
   "outputs": [
    {
     "data": {
      "text/html": [
       "<div>\n",
       "<style scoped>\n",
       "    .dataframe tbody tr th:only-of-type {\n",
       "        vertical-align: middle;\n",
       "    }\n",
       "\n",
       "    .dataframe tbody tr th {\n",
       "        vertical-align: top;\n",
       "    }\n",
       "\n",
       "    .dataframe thead th {\n",
       "        text-align: right;\n",
       "    }\n",
       "</style>\n",
       "<table border=\"1\" class=\"dataframe\">\n",
       "  <thead>\n",
       "    <tr style=\"text-align: right;\">\n",
       "      <th></th>\n",
       "      <th>Unnamed: 0</th>\n",
       "      <th>userID</th>\n",
       "      <th>requestID</th>\n",
       "      <th>date</th>\n",
       "      <th>time</th>\n",
       "      <th>sequence</th>\n",
       "    </tr>\n",
       "  </thead>\n",
       "  <tbody>\n",
       "    <tr>\n",
       "      <th>0</th>\n",
       "      <td>501811</td>\n",
       "      <td>1424832354</td>\n",
       "      <td>712416177_1634948219105_253</td>\n",
       "      <td>20211023</td>\n",
       "      <td>08</td>\n",
       "      <td>133686913039:0:0;133686608114:0:0;133686776980...</td>\n",
       "    </tr>\n",
       "    <tr>\n",
       "      <th>1</th>\n",
       "      <td>501812</td>\n",
       "      <td>1424832354</td>\n",
       "      <td>712416177_1634948384642_2132</td>\n",
       "      <td>20211023</td>\n",
       "      <td>08</td>\n",
       "      <td>506933131:0:0;133660671434:0:0;506703134:0:0;5...</td>\n",
       "    </tr>\n",
       "    <tr>\n",
       "      <th>2</th>\n",
       "      <td>501813</td>\n",
       "      <td>1424832354</td>\n",
       "      <td>712416177_1634948398282_8590</td>\n",
       "      <td>20211023</td>\n",
       "      <td>08</td>\n",
       "      <td>506673931:0:0;133660429340:0:0;506863458:0:0;5...</td>\n",
       "    </tr>\n",
       "    <tr>\n",
       "      <th>3</th>\n",
       "      <td>501814</td>\n",
       "      <td>1424832354</td>\n",
       "      <td>712416177_1634948707955_8247</td>\n",
       "      <td>20211023</td>\n",
       "      <td>08</td>\n",
       "      <td>506804186:0:0;133654974304:0:0;506340121:0:0;5...</td>\n",
       "    </tr>\n",
       "    <tr>\n",
       "      <th>4</th>\n",
       "      <td>501815</td>\n",
       "      <td>1424832354</td>\n",
       "      <td>712416177_1635010272019_9422</td>\n",
       "      <td>20211024</td>\n",
       "      <td>01</td>\n",
       "      <td>506881494:0:0;133665767233:0:0;506456205:0:0;5...</td>\n",
       "    </tr>\n",
       "    <tr>\n",
       "      <th>...</th>\n",
       "      <td>...</td>\n",
       "      <td>...</td>\n",
       "      <td>...</td>\n",
       "      <td>...</td>\n",
       "      <td>...</td>\n",
       "      <td>...</td>\n",
       "    </tr>\n",
       "    <tr>\n",
       "      <th>106</th>\n",
       "      <td>28674429</td>\n",
       "      <td>1424832354</td>\n",
       "      <td>712416177_1635252249860_7179</td>\n",
       "      <td>20211026</td>\n",
       "      <td>20</td>\n",
       "      <td>507802806:0:0;133666710695:0:0;507564202:0:0;5...</td>\n",
       "    </tr>\n",
       "    <tr>\n",
       "      <th>107</th>\n",
       "      <td>28674430</td>\n",
       "      <td>1424832354</td>\n",
       "      <td>712416177_1635252390240_4853</td>\n",
       "      <td>20211026</td>\n",
       "      <td>20</td>\n",
       "      <td>507934679:0:0;133661777234:0:0;507740381:0:0;5...</td>\n",
       "    </tr>\n",
       "    <tr>\n",
       "      <th>108</th>\n",
       "      <td>28674431</td>\n",
       "      <td>1424832354</td>\n",
       "      <td>712416177_1635252477812_8521</td>\n",
       "      <td>20211026</td>\n",
       "      <td>20</td>\n",
       "      <td>507470993:0:0;133526283647:0:0;508104825:0:0;5...</td>\n",
       "    </tr>\n",
       "    <tr>\n",
       "      <th>109</th>\n",
       "      <td>28674432</td>\n",
       "      <td>1424832354</td>\n",
       "      <td>712416177_1635392134553_8672</td>\n",
       "      <td>20211028</td>\n",
       "      <td>11</td>\n",
       "      <td>507364336:0:0;133671393449:0:0;507475473:0:0;5...</td>\n",
       "    </tr>\n",
       "    <tr>\n",
       "      <th>110</th>\n",
       "      <td>28674433</td>\n",
       "      <td>1424832354</td>\n",
       "      <td>712416177_1635392425031_5537</td>\n",
       "      <td>20211028</td>\n",
       "      <td>11</td>\n",
       "      <td>507729166:0:0;133676037934:0:0;133684779128:0:...</td>\n",
       "    </tr>\n",
       "  </tbody>\n",
       "</table>\n",
       "<p>111 rows × 6 columns</p>\n",
       "</div>"
      ],
      "text/plain": [
       "    Unnamed: 0      userID                     requestID      date time  \\\n",
       "0       501811  1424832354   712416177_1634948219105_253  20211023   08   \n",
       "1       501812  1424832354  712416177_1634948384642_2132  20211023   08   \n",
       "2       501813  1424832354  712416177_1634948398282_8590  20211023   08   \n",
       "3       501814  1424832354  712416177_1634948707955_8247  20211023   08   \n",
       "4       501815  1424832354  712416177_1635010272019_9422  20211024   01   \n",
       "..         ...         ...                           ...       ...  ...   \n",
       "106   28674429  1424832354  712416177_1635252249860_7179  20211026   20   \n",
       "107   28674430  1424832354  712416177_1635252390240_4853  20211026   20   \n",
       "108   28674431  1424832354  712416177_1635252477812_8521  20211026   20   \n",
       "109   28674432  1424832354  712416177_1635392134553_8672  20211028   11   \n",
       "110   28674433  1424832354  712416177_1635392425031_5537  20211028   11   \n",
       "\n",
       "                                              sequence  \n",
       "0    133686913039:0:0;133686608114:0:0;133686776980...  \n",
       "1    506933131:0:0;133660671434:0:0;506703134:0:0;5...  \n",
       "2    506673931:0:0;133660429340:0:0;506863458:0:0;5...  \n",
       "3    506804186:0:0;133654974304:0:0;506340121:0:0;5...  \n",
       "4    506881494:0:0;133665767233:0:0;506456205:0:0;5...  \n",
       "..                                                 ...  \n",
       "106  507802806:0:0;133666710695:0:0;507564202:0:0;5...  \n",
       "107  507934679:0:0;133661777234:0:0;507740381:0:0;5...  \n",
       "108  507470993:0:0;133526283647:0:0;508104825:0:0;5...  \n",
       "109  507364336:0:0;133671393449:0:0;507475473:0:0;5...  \n",
       "110  507729166:0:0;133676037934:0:0;133684779128:0:...  \n",
       "\n",
       "[111 rows x 6 columns]"
      ]
     },
     "execution_count": 56,
     "metadata": {},
     "output_type": "execute_result"
    }
   ],
   "source": [
    "userID = candidateIDs[2922]\n",
    "idx = userID2idx[userID]\n",
    "aaa, bb, cc = idx[0:3], idx[3:5], idx[5:7]\n",
    "df = pd.read_csv('data_splitted_by_user_id/{}/{}/{}.csv'.format(aaa, bb, cc), dtype=str)\n",
    "df"
   ]
  },
  {
   "cell_type": "code",
   "execution_count": 57,
   "metadata": {},
   "outputs": [
    {
     "name": "stdout",
     "output_type": "stream",
     "text": [
      "08 133686913039:0:0;133686608114:0:0;133686776980:0:0;133686542073:0:0;133686652978:0:0;133686691729:0:0;133686606529:0:0;133686692327:0:0\n",
      "133686913039:0:0\n",
      "133686608114:0:0\n",
      "133686776980:0:0\n",
      "133686542073:0:0\n",
      "133686652978:0:0\n",
      "133686691729:0:0\n",
      "133686606529:0:0\n",
      "133686692327:0:0\n"
     ]
    }
   ],
   "source": [
    "for index, row in df.iterrows():\n",
    "    print(row['time'], row.sequence)\n",
    "    for icd in row.sequence.split(';'):\n",
    "        print(icd)\n",
    "    break"
   ]
  },
  {
   "cell_type": "code",
   "execution_count": 65,
   "metadata": {},
   "outputs": [],
   "source": [
    "def time_distance(src, tgt, denominator=12+1e-6):\n",
    "    \"\"\"\n",
    "    :return: range in [0, 12 / denominator]\n",
    "    \"\"\"\n",
    "    a, b = (src, tgt) if src < tgt else (tgt, src)  # a < b\n",
    "    return min(b-a, a + 24 - b) / denominator"
   ]
  },
  {
   "cell_type": "code",
   "execution_count": 66,
   "metadata": {},
   "outputs": [
    {
     "data": {
      "text/plain": [
       "(0.9999999166666736, 0.16666665277777895, 0.16666665277777895, 0.0)"
      ]
     },
     "execution_count": 66,
     "metadata": {},
     "output_type": "execute_result"
    }
   ],
   "source": [
    "time_distance(20,8), time_distance(23,1), time_distance(23,1), time_distance(eval('0'),0)"
   ]
  },
  {
   "cell_type": "code",
   "execution_count": 67,
   "metadata": {},
   "outputs": [],
   "source": [
    "clickeds = np.zeros(len(contentTC2ID))\n",
    "durations = np.zeros(len(contentTC2ID))\n",
    "recommeds = np.zeros(len(contentTC2ID))\n",
    "have_recommed_IDs = []\n",
    "\n",
    "for index, row in df.iterrows():\n",
    "    multiplier = 1 - time_distance(int(row.time), 20)\n",
    "    for icd in row.sequence.split(';'):\n",
    "        i, c, d = icd.split(':')\n",
    "        have_recommed_IDs.append(i)\n",
    "        contentIdx = contentID2idx[i]\n",
    "        if eval(c):\n",
    "            clickeds[contentIdx] += multiplier\n",
    "            durations[contentIdx] += multiplier * eval(d)\n",
    "        recommeds[contentIdx] += multiplier"
   ]
  },
  {
   "cell_type": "code",
   "execution_count": 68,
   "metadata": {
    "scrolled": true
   },
   "outputs": [
    {
     "data": {
      "text/plain": [
       "(800, 794)"
      ]
     },
     "execution_count": 68,
     "metadata": {},
     "output_type": "execute_result"
    }
   ],
   "source": [
    "len(have_recommed_IDs), len(set(have_recommed_IDs))"
   ]
  },
  {
   "cell_type": "code",
   "execution_count": 69,
   "metadata": {},
   "outputs": [],
   "source": [
    "have_recommed_IDs = set(have_recommed_IDs)"
   ]
  },
  {
   "cell_type": "code",
   "execution_count": 70,
   "metadata": {},
   "outputs": [],
   "source": [
    "avg_clicked_rate = np.divide(clickeds, recommeds, out=np.zeros_like(clickeds), where=recommeds!=0)\n",
    "avg_clicked_duration = np.divide(durations, clickeds, out=np.zeros_like(durations), where=clickeds!=0)"
   ]
  },
  {
   "cell_type": "code",
   "execution_count": 77,
   "metadata": {
    "scrolled": false
   },
   "outputs": [
    {
     "data": {
      "image/png": "[encoded data removed]",
      "text/plain": [
       "<Figure size 1080x216 with 2 Axes>"
      ]
     },
     "metadata": {
      "needs_background": "light"
     },
     "output_type": "display_data"
    }
   ],
   "source": [
    "title = 'Average Click-through Rate & Duration for each Category Considering Time ({})'.format(time.strftime('%Y%m%d-%H%M%S'))\n",
    "width = 0.25\n",
    "alpha = 0.8\n",
    "fontP = font_manager.FontProperties()\n",
    "fontP.set_family('SimHei')\n",
    "#fontP.set_size(11)\n",
    "\n",
    "fig, ax = plt.subplots(figsize=(15,3))\n",
    "ax2 = ax.twinx() # Create another axes that shares the same x-axis as ax.\n",
    "plt.title(title)\n",
    "\n",
    "xticklabels = [idx2key[_] for _ in np.arange(len(contentTC2ID))[np.where(avg_clicked_rate != 0)]]\n",
    "ax.set_xticks(range(len(xticklabels)))\n",
    "ax.set_xticklabels(xticklabels, fontproperties=fontP, rotation=60)\n",
    "\n",
    "bar1 = ax.bar(\n",
    "    np.arange(len(xticklabels)) - width / 2, \n",
    "    avg_clicked_rate[np.where(avg_clicked_rate != 0)], \n",
    "    color='tab:blue', \n",
    "    width=width, \n",
    "    alpha=alpha,\n",
    "    label='Average Click-through Rate'\n",
    ")\n",
    "ax.set_xlabel('Category')\n",
    "# ax.set_yscale('log')\n",
    "\n",
    "bar2 = ax2.bar(\n",
    "    np.arange(len(xticklabels)) + width / 2, \n",
    "    avg_clicked_duration[np.where(avg_clicked_rate != 0)], \n",
    "    color='tab:orange', \n",
    "    width=width,\n",
    "    alpha=alpha,\n",
    "    label='Average Duration'\n",
    ")\n",
    "ax2.set_ylabel('Second')\n",
    "\n",
    "lines, labels = ax.get_legend_handles_labels()\n",
    "lines2, labels2 = ax2.get_legend_handles_labels()\n",
    "ax2.legend(lines + lines2, labels + labels2, loc=0)\n",
    "plt.savefig('images/{}.png'.format(title), bbox_inches='tight')\n"
   ]
  },
  {
   "cell_type": "markdown",
   "metadata": {},
   "source": [
    "# Score with Rate & Duration"
   ]
  },
  {
   "cell_type": "markdown",
   "metadata": {},
   "source": [
    "[Standardization vs. min-max normalization](https://www.educative.io/edpresso/standardization-vs-min-max-normalization) (this is only for 2D!!)\n",
    "> ```python\n",
    "> from sklearn.preprocessing import MinMaxScaler\n",
    "data = [[-1, -2], [0.5, 2], [0, 5], [12, 18]]\n",
    "scaler = MinMaxScaler()\n",
    "scaler.fit(data)\n",
    "MinMaxScaler()\n",
    "print(scaler.transform(data))\n",
    "> ```"
   ]
  },
  {
   "cell_type": "code",
   "execution_count": 72,
   "metadata": {},
   "outputs": [],
   "source": [
    "def MinMaxScaler(data, default=0.1):\n",
    "    m, M = min(data), max(data)\n",
    "    if m != M:\n",
    "        return [(_ - m) / (M - m) for _ in data]\n",
    "    else:\n",
    "        return [default for _ in data]"
   ]
  },
  {
   "cell_type": "code",
   "execution_count": 73,
   "metadata": {
    "scrolled": true
   },
   "outputs": [
    {
     "data": {
      "text/plain": [
       "([0.0, 0.5, 1.0], [0.1, 0.1, 0.1])"
      ]
     },
     "execution_count": 73,
     "metadata": {},
     "output_type": "execute_result"
    }
   ],
   "source": [
    "MinMaxScaler([1,2,3]), MinMaxScaler([1,1,1])"
   ]
  },
  {
   "cell_type": "code",
   "execution_count": 78,
   "metadata": {
    "scrolled": false
   },
   "outputs": [
    {
     "data": {
      "image/png": "[encoded data removed]",
      "text/plain": [
       "<Figure size 1080x216 with 1 Axes>"
      ]
     },
     "metadata": {
      "needs_background": "light"
     },
     "output_type": "display_data"
    }
   ],
   "source": [
    "title = 'Score for each Category Considering Time ({})'.format(time.strftime('%Y%m%d-%H%M%S'))\n",
    "width = 0.25\n",
    "alpha = 0.8\n",
    "fontP = font_manager.FontProperties()\n",
    "fontP.set_family('SimHei')\n",
    "#fontP.set_size(11)\n",
    "\n",
    "fig, ax = plt.subplots(figsize=(15,3))\n",
    "plt.title(title)\n",
    "\n",
    "xticklabels = [idx2key[_] for _ in np.arange(len(contentTC2ID))[np.where(avg_clicked_rate != 0)]]\n",
    "ax.set_xticks(range(len(xticklabels)))\n",
    "ax.set_xticklabels(xticklabels, fontproperties=fontP, rotation=60)\n",
    "\n",
    "\n",
    "score1 = MinMaxScaler(avg_clicked_rate[np.where(avg_clicked_rate != 0)])\n",
    "score2 = MinMaxScaler(avg_clicked_duration[np.where(avg_clicked_rate != 0)])\n",
    "score = np.array([x + y for x, y in zip(score1, score2)])\n",
    "\n",
    "ax = plt.bar(\n",
    "    np.arange(len(xticklabels)), \n",
    "    score,\n",
    "    color='tab:green',\n",
    "    width=width,\n",
    "    alpha=alpha,\n",
    "    label='Score'\n",
    ")\n",
    "\n",
    "plt.savefig('images/{}.png'.format(title), bbox_inches='tight')"
   ]
  },
  {
   "cell_type": "code",
   "execution_count": 83,
   "metadata": {},
   "outputs": [],
   "source": [
    "score = torch.tensor(score)"
   ]
  },
  {
   "cell_type": "code",
   "execution_count": 84,
   "metadata": {
    "scrolled": false
   },
   "outputs": [
    {
     "data": {
      "text/plain": [
       "(tensor([2.0000, 0.8991, 0.5413, 0.3755, 0.2776], dtype=torch.float64),\n",
       " tensor([4, 2, 1, 0, 3]))"
      ]
     },
     "execution_count": 84,
     "metadata": {},
     "output_type": "execute_result"
    }
   ],
   "source": [
    "values, indices = torch.topk(score, k=5)\n",
    "values, indices"
   ]
  },
  {
   "cell_type": "code",
   "execution_count": 85,
   "metadata": {},
   "outputs": [
    {
     "data": {
      "text/plain": [
       "['v搞笑/相声', 'v军事/武器', 'v军事/军事新闻', 'n健康/疾病防护治疗及西医用药', 'n国内/政策与衣食住行']"
      ]
     },
     "execution_count": 85,
     "metadata": {},
     "output_type": "execute_result"
    }
   ],
   "source": [
    "contentTCs = [xticklabels[_] for _ in indices]\n",
    "contentTCs"
   ]
  },
  {
   "cell_type": "code",
   "execution_count": 86,
   "metadata": {
    "scrolled": false
   },
   "outputs": [
    {
     "data": {
      "text/plain": [
       "[5, 3, 2, 1, 1]"
      ]
     },
     "execution_count": 86,
     "metadata": {},
     "output_type": "execute_result"
    }
   ],
   "source": [
    "counts = torch.ceil(values * 10 / torch.sum(values)).type(torch.int).tolist()\n",
    "counts"
   ]
  },
  {
   "cell_type": "markdown",
   "metadata": {},
   "source": [
    "# Sample\n",
    "Use `contentScore.npy` which is calculated in c.ipynb."
   ]
  },
  {
   "cell_type": "code",
   "execution_count": 29,
   "metadata": {},
   "outputs": [
    {
     "data": {
      "text/plain": [
       "'1642551254'"
      ]
     },
     "execution_count": 29,
     "metadata": {},
     "output_type": "execute_result"
    }
   ],
   "source": [
    "userID"
   ]
  },
  {
   "cell_type": "code",
   "execution_count": 30,
   "metadata": {
    "scrolled": true
   },
   "outputs": [
    {
     "data": {
      "text/plain": [
       "[('v动漫/其他', 3),\n",
       " ('v军事/军史', 3),\n",
       " ('v财经/公司新闻', 3),\n",
       " ('v综艺/其他', 2),\n",
       " ('v科技/机械与高科技工程', 2)]"
      ]
     },
     "execution_count": 30,
     "metadata": {},
     "output_type": "execute_result"
    }
   ],
   "source": [
    "list(zip(contentTCs, counts))"
   ]
  },
  {
   "cell_type": "code",
   "execution_count": 31,
   "metadata": {},
   "outputs": [
    {
     "data": {
      "text/plain": [
       "(2510703, 2510703)"
      ]
     },
     "execution_count": 31,
     "metadata": {},
     "output_type": "execute_result"
    }
   ],
   "source": [
    "with open(data_path + 'contentID2idx_1on1.pickle', 'rb') as handle:\n",
    "    contentID2idx_1on1 = pickle.load(handle)\n",
    "with open(data_path + 'contentIdx2ID_1on1.pickle', 'rb') as handle:\n",
    "    contentIdx2ID_1on1 = pickle.load(handle)\n",
    "len(contentID2idx_1on1), len(contentIdx2ID_1on1)"
   ]
  },
  {
   "cell_type": "code",
   "execution_count": 32,
   "metadata": {},
   "outputs": [
    {
     "data": {
      "text/plain": [
       "2510703"
      ]
     },
     "execution_count": 32,
     "metadata": {},
     "output_type": "execute_result"
    }
   ],
   "source": [
    "contentScores = torch.tensor(np.load(data_path + 'contentScores.npy'))\n",
    "len(contentScores)"
   ]
  },
  {
   "cell_type": "code",
   "execution_count": 33,
   "metadata": {
    "scrolled": false
   },
   "outputs": [
    {
     "name": "stdout",
     "output_type": "stream",
     "text": [
      "v动漫/其他 target counts: 2005 → 2004\n",
      "v军事/军史 target counts: 939 → 928\n",
      "v财经/公司新闻 target counts: 792 → 790\n",
      "v综艺/其他 target counts: 6824 → 6821\n"
     ]
    },
    {
     "data": {
      "text/plain": [
       "['133686242032',\n",
       " '133663752853',\n",
       " '133663752851',\n",
       " '133680924496',\n",
       " '133682743655',\n",
       " '133684776889',\n",
       " '133677424853',\n",
       " '133677424856',\n",
       " '133672814290',\n",
       " '133665825681']"
      ]
     },
     "execution_count": 33,
     "metadata": {},
     "output_type": "execute_result"
    }
   ],
   "source": [
    "k = 0\n",
    "terminal_k = 10\n",
    "result = []\n",
    "while True:\n",
    "    for contentTC, count in zip(contentTCs, counts):\n",
    "        # do not recommend same content\n",
    "        target_content_IDs = set(contentTC2ID[contentTC])\n",
    "        print(contentTC, 'target counts:', len(target_content_IDs), '→ ', end='')\n",
    "        target_content_IDs = target_content_IDs - have_recommed_IDs\n",
    "        print(len(target_content_IDs))\n",
    "        \n",
    "        # map to index (range in 2510703)\n",
    "        target_content_Idxes = [contentID2idx_1on1[_] for _ in target_content_IDs]\n",
    "        \n",
    "        # scores\n",
    "        target_scores = contentScores[target_content_Idxes]\n",
    "        top_values, top_indices = torch.topk(target_scores, min(count, len(target_scores)))\n",
    "        for i, value in enumerate(top_values):\n",
    "            indice = top_indices[i]\n",
    "            result.append(contentIdx2ID_1on1[target_content_Idxes[indice]])\n",
    "            k += 1\n",
    "            if k == terminal_k:\n",
    "                break\n",
    "        else:\n",
    "            continue\n",
    "        break\n",
    "    else:\n",
    "        assert False\n",
    "    break\n",
    "result"
   ]
  },
  {
   "cell_type": "code",
   "execution_count": 34,
   "metadata": {},
   "outputs": [
    {
     "ename": "NameError",
     "evalue": "name 'doc_info' is not defined",
     "output_type": "error",
     "traceback": [
      "\u001B[1;31m---------------------------------------------------------------------------\u001B[0m",
      "\u001B[1;31mNameError\u001B[0m                                 Traceback (most recent call last)",
      "\u001B[1;32m<ipython-input-34-9ef191a19c5a>\u001B[0m in \u001B[0;36m<module>\u001B[1;34m\u001B[0m\n\u001B[1;32m----> 1\u001B[1;33m \u001B[0mdoc_info\u001B[0m\u001B[1;33m.\u001B[0m\u001B[0miloc\u001B[0m\u001B[1;33m[\u001B[0m\u001B[0mcontentID2idx_1on1\u001B[0m\u001B[1;33m[\u001B[0m\u001B[1;34m'133671447633'\u001B[0m\u001B[1;33m]\u001B[0m\u001B[1;33m]\u001B[0m\u001B[1;33m\u001B[0m\u001B[1;33m\u001B[0m\u001B[0m\n\u001B[0m\u001B[0;32m      2\u001B[0m \u001B[1;33m\u001B[0m\u001B[0m\n",
      "\u001B[1;31mNameError\u001B[0m: name 'doc_info' is not defined"
     ]
    }
   ],
   "source": [
    "doc_info.iloc[contentID2idx_1on1['133671447633']]"
   ]
  },
  {
   "cell_type": "code",
   "execution_count": null,
   "metadata": {
    "scrolled": true
   },
   "outputs": [],
   "source": [
    "doc_info = pd.read_csv(data_path + 'doc_info.csv', dtype=str)\n",
    "doc_info"
   ]
  }
 ],
 "metadata": {
  "kernelspec": {
   "display_name": "Python 3",
   "language": "python",
   "name": "python3"
  },
  "language_info": {
   "codemirror_mode": {
    "name": "ipython",
    "version": 3
   },
   "file_extension": ".py",
   "mimetype": "text/x-python",
   "name": "python",
   "nbconvert_exporter": "python",
   "pygments_lexer": "ipython3",
   "version": "3.8.8"
  },
  "latex_envs": {
   "LaTeX_envs_menu_present": true,
   "autoclose": false,
   "autocomplete": true,
   "bibliofile": "biblio.bib",
   "cite_by": "apalike",
   "current_citInitial": 1,
   "eqLabelWithNumbers": true,
   "eqNumInitial": 1,
   "hotkeys": {
    "equation": "Ctrl-E",
    "itemize": "Ctrl-I"
   },
   "labels_anchors": false,
   "latex_user_defs": false,
   "report_style_numbering": false,
   "user_envs_cfg": false
  }
 },
 "nbformat": 4,
 "nbformat_minor": 1
}