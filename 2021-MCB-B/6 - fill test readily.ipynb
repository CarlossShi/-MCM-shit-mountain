{
 "cells": [
  {
   "cell_type": "code",
   "execution_count": 1,
   "metadata": {},
   "outputs": [],
   "source": [
    "import pandas as pd\n",
    "import os\n",
    "import tqdm\n",
    "import numpy as np\n",
    "import pprint\n",
    "import pickle"
   ]
  },
  {
   "cell_type": "markdown",
   "metadata": {},
   "source": [
    "# Load Data"
   ]
  },
  {
   "cell_type": "code",
   "execution_count": 2,
   "metadata": {},
   "outputs": [],
   "source": [
    "def icd2dict(icd):\n",
    "    i, c, d = icd.split(':')\n",
    "    return {'itemID': i, 'clicked': bool(eval(c)), 'duration': eval(d)}\n",
    "class Sequence:\n",
    "    def __init__(self, sequence):\n",
    "        \"\"\"\n",
    "        :param sequence: {str}, e.g. '133679233276:0:0;133658338671:0:0;133677846615:0:0'\n",
    "        :return:\n",
    "        \"\"\"\n",
    "        self.sequence = [icd2dict(icd) for icd in sequence.split(';')]\n",
    "        self.length = len(self.sequence)\n",
    "        self.clicked = sum([_['clicked'] for _ in self.sequence])\n",
    "        self.duration = sum([_['duration'] for _ in self.sequence])\n",
    "    def myprint(self):\n",
    "        pprint.pprint(self.sequence)\n",
    "        print('length:', self.length)\n",
    "        print('clicked:', self.clicked)\n",
    "        print('duration:', self.duration)"
   ]
  },
  {
   "cell_type": "code",
   "execution_count": 3,
   "metadata": {},
   "outputs": [],
   "source": [
    "data_path = 'mathorcup_recom_listwise/data/'"
   ]
  },
  {
   "cell_type": "code",
   "execution_count": 4,
   "metadata": {},
   "outputs": [],
   "source": [
    "if not os.path.exists(data_path + 'userID2idx.pickle'):\n",
    "    train_df = pd.read_csv(data_path + 'train_data.csv', dtype=str)\n",
    "    train_userID = set(train_df.loc[:, 'userID'])\n",
    "    userID2idx = {_: str(i).zfill(7) for i, _ in enumerate(train_userID)}\n",
    "    with open(data_path + 'userID2idx.pickle', 'wb') as handle:\n",
    "        pickle.dump(userID2idx, handle, protocol=pickle.HIGHEST_PROTOCOL)\n",
    "with open(data_path + 'userID2idx.pickle', 'rb') as handle:\n",
    "    userID2idx = pickle.load(handle)"
   ]
  },
  {
   "cell_type": "code",
   "execution_count": 5,
   "metadata": {
    "pycharm": {
     "is_executing": true
    }
   },
   "outputs": [],
   "source": [
    "with open(data_path + 'contentTC2ID.pickle', 'rb') as handle:\n",
    "    contentTC2ID = pickle.load(handle)\n",
    "with open(data_path + 'contentID2idx.pickle', 'rb') as handle:\n",
    "    contentID2idx = pickle.load(handle)\n",
    "with open(data_path + 'key2idx.pickle', 'rb') as handle:\n",
    "    key2idx = pickle.load(handle)"
   ]
  },
  {
   "cell_type": "code",
   "execution_count": 6,
   "metadata": {},
   "outputs": [],
   "source": [
    "if not os.path.exists(data_path + 'idx2key.pickle'):\n",
    "    idx2key = dict()\n",
    "    for k, v in tqdm.tqdm(key2idx.items()):\n",
    "        idx2key[v] = k\n",
    "    with open(data_path + 'idx2key.pickle', 'wb') as handle:\n",
    "        pickle.dump(idx2key, handle, protocol=pickle.HIGHEST_PROTOCOL)\n",
    "with open(data_path + 'idx2key.pickle', 'rb') as handle:\n",
    "    idx2key = pickle.load(handle)"
   ]
  },
  {
   "cell_type": "code",
   "execution_count": 7,
   "metadata": {},
   "outputs": [
    {
     "data": {
      "text/plain": [
       "1485"
      ]
     },
     "execution_count": 7,
     "metadata": {},
     "output_type": "execute_result"
    }
   ],
   "source": [
    "len(contentTC2ID)"
   ]
  },
  {
   "cell_type": "markdown",
   "metadata": {},
   "source": [
    "# Small Test"
   ]
  },
  {
   "cell_type": "code",
   "execution_count": 8,
   "metadata": {},
   "outputs": [],
   "source": [
    "import matplotlib.pyplot as plt\n",
    "from matplotlib import font_manager\n",
    "%matplotlib inline"
   ]
  },
  {
   "cell_type": "markdown",
   "metadata": {},
   "source": [
    "## Train User Statistics"
   ]
  },
  {
   "cell_type": "code",
   "execution_count": 9,
   "metadata": {
    "pycharm": {
     "is_executing": true
    },
    "scrolled": false
   },
   "outputs": [],
   "source": [
    "#userID = '1015554520'\n",
    "#idx = '0000335'\n",
    "userID = '1091839846'\n",
    "idx = '0000062'\n",
    "aaa, bb, cc = idx[0:3], idx[3:5], idx[5:7]\n",
    "df = pd.read_csv('data_splitted_by_user_id/{}/{}/{}.csv'.format(aaa, bb, cc), dtype=str)\n",
    "\n",
    "clickeds = np.zeros(len(contentTC2ID))\n",
    "durations = np.zeros(len(contentTC2ID))\n",
    "recommeds = np.zeros(len(contentTC2ID))\n",
    "\n",
    "for s in df.sequence:\n",
    "    for icd in s.split(';'):\n",
    "        i, c, d = icd.split(':')\n",
    "        contentIdx = contentID2idx[i]\n",
    "        if eval(c):\n",
    "            clickeds[contentIdx] += 1\n",
    "            durations[contentIdx] += eval(d)\n",
    "        recommeds[contentIdx] += 1\n"
   ]
  },
  {
   "cell_type": "markdown",
   "metadata": {},
   "source": [
    "[How to return 0 with divide by zero](https://stackoverflow.com/a/37977222/12224183)\n",
    "\n",
    "> ```python\n",
    "c = np.divide(a, b, out=np.zeros_like(a), where=b!=0)\n",
    "```"
   ]
  },
  {
   "cell_type": "code",
   "execution_count": 12,
   "metadata": {
    "pycharm": {
     "is_executing": true
    }
   },
   "outputs": [],
   "source": [
    "avg_clicked_rate = np.divide(clickeds, recommeds, out=np.zeros_like(clickeds), where=recommeds!=0)\n",
    "avg_clicked_duration = np.divide(durations, clickeds, out=np.zeros_like(durations), where=clickeds!=0)"
   ]
  },
  {
   "cell_type": "markdown",
   "metadata": {},
   "source": [
    "[Find largest index of nonzero in python](https://stackoverflow.com/a/25512679/12224183)\n",
    "```python\n",
    "import numpy as np\n",
    "y = [0, 0, 2, 3, 1, 0, 0, 3, 0]\n",
    "print np.where(y)[0].max()\n",
    "```"
   ]
  },
  {
   "cell_type": "markdown",
   "metadata": {},
   "source": [
    "[Matplotlib Xticks Values in Bar Chart](https://stackoverflow.com/a/47893553/12224183)\n",
    "\n",
    "```python\n",
    "idx = np.asarray([i for i in range(len(years))])\n",
    "width = 0.2\n",
    "ax.bar(idx, [val for key,val in sorted(diabete.items())], width=width)\n",
    "ax.bar(idx+width, [val for key,val in sorted(not_diabete.items())], width=width)\n",
    "ax.set_xticks(idx)\n",
    "ax.set_xticklabels(years, rotation=65)\n",
    "```"
   ]
  },
  {
   "cell_type": "markdown",
   "metadata": {},
   "source": [
    "[Secondary axis with twinx(): how to add to legend?]https://stackoverflow.com/a/10129461/12224183)\n",
    "\n",
    "```python\n",
    "lines, labels = ax.get_legend_handles_labels()\n",
    "lines2, labels2 = ax2.get_legend_handles_labels()\n",
    "ax2.legend(lines + lines2, labels + labels2, loc=0)\n",
    "```"
   ]
  },
  {
   "cell_type": "markdown",
   "metadata": {},
   "source": [
    "[How to plot a figure with Chinese Characters in label](https://stackoverflow.com/a/39655334/12224183)\n",
    "\n",
    "```python\n",
    "fontP = font_manager.FontProperties()\n",
    "fontP.set_family('SimHei')\n",
    "fontP.set_size(14)\n",
    "```\n",
    "\n",
    "[How to make matplotlib display Chinese correctly](https://stackoverflow.com/a/66526050/12224183)\n",
    "\n",
    "```python\n",
    "from matplotlib import font_manager\n",
    "my_font = font_manager.FontProperties(fname=\"./NotoSerifCJK-Bold.ttc\")\n",
    "plt.xticks(range(len(districts)),districts,fontproperties=my_font)\n",
    "```"
   ]
  },
  {
   "cell_type": "markdown",
   "metadata": {},
   "source": [
    "[Plt.show shows full graph but savefig is cropping the image](https://stackoverflow.com/a/37428142/12224183)\n",
    "\n",
    "```python\n",
    "plt.savefig('X:/' + newName + '.png', bbox_inches='tight')\n",
    "```"
   ]
  },
  {
   "cell_type": "code",
   "execution_count": 18,
   "metadata": {
    "scrolled": false
   },
   "outputs": [
    {
     "data": {
      "image/png": "[encoded data removed]",
      "text/plain": [
       "<Figure size 1080x216 with 2 Axes>"
      ]
     },
     "metadata": {
      "needs_background": "light"
     },
     "output_type": "display_data"
    }
   ],
   "source": [
    "title = 'Average Click-through Rate & Duration for each Category'\n",
    "width = 0.25\n",
    "alpha = 0.8\n",
    "fontP = font_manager.FontProperties()\n",
    "fontP.set_family('SimHei')\n",
    "#fontP.set_size(11)\n",
    "\n",
    "fig, ax = plt.subplots(figsize=(15,3))\n",
    "ax2 = ax.twinx() # Create another axes that shares the same x-axis as ax.\n",
    "plt.title(title)\n",
    "\n",
    "xticklabels = [idx2key[_] for _ in np.arange(len(contentTC2ID))[np.where(avg_clicked_rate != 0)]]\n",
    "ax.set_xticks(range(len(xticklabels)))\n",
    "ax.set_xticklabels(xticklabels, fontproperties=fontP, rotation=60)\n",
    "\n",
    "bar1 = ax.bar(\n",
    "    np.arange(len(xticklabels)) - width / 2, \n",
    "    avg_clicked_rate[np.where(avg_clicked_rate != 0)], \n",
    "    color='tab:blue', \n",
    "    width=width, \n",
    "    alpha=alpha,\n",
    "    label='Average Click-through Rate'\n",
    ")\n",
    "ax.set_xlabel('Category')\n",
    "# ax.set_yscale('log')\n",
    "\n",
    "bar2 = ax2.bar(\n",
    "    np.arange(len(xticklabels)) + width / 2, \n",
    "    avg_clicked_duration[np.where(avg_clicked_rate != 0)], \n",
    "    color='tab:orange', \n",
    "    width=width,\n",
    "    alpha=alpha,\n",
    "    label='Average Duration'\n",
    ")\n",
    "ax2.set_ylabel('Second')\n",
    "\n",
    "lines, labels = ax.get_legend_handles_labels()\n",
    "lines2, labels2 = ax2.get_legend_handles_labels()\n",
    "ax2.legend(lines + lines2, labels + labels2, loc=0)\n",
    "plt.savefig('images/{}.png'.format(title), bbox_inches='tight')"
   ]
  },
  {
   "cell_type": "markdown",
   "metadata": {},
   "source": [
    "## Start Prediction"
   ]
  },
  {
   "cell_type": "code",
   "execution_count": 45,
   "metadata": {
    "scrolled": true
   },
   "outputs": [
    {
     "data": {
      "text/plain": [
       "'133675372129:0:0;133672702112:1:31;506721457:0:0;506721457:1:269;506724337:1:36;506724337:1:149;506724337:1:30;506360020:0:0;506360020:1:226;506648067:1:114;506648067:0:0;133675375066:0:0'"
      ]
     },
     "execution_count": 45,
     "metadata": {},
     "output_type": "execute_result"
    }
   ],
   "source": [
    "test_sequence = df.loc[2, 'sequence']\n",
    "test_sequence"
   ]
  },
  {
   "cell_type": "code",
   "execution_count": 46,
   "metadata": {},
   "outputs": [],
   "source": [
    "recommeds = np.zeros(len(contentTC2ID))\n",
    "clickeds_label = np.zeros(len(contentTC2ID))  # useless in test\n",
    "durations_label = np.zeros(len(contentTC2ID))  # useless in test\n",
    "for icd in test_sequence.split(';'):\n",
    "    i, c, d = icd.split(':')\n",
    "    recommeds[contentID2idx[i]] += 1\n",
    "    \n",
    "    if eval(c):  # useless in test\n",
    "        clickeds_label[contentIdx] += 1\n",
    "        durations_label[contentIdx] += eval(d)"
   ]
  },
  {
   "cell_type": "markdown",
   "metadata": {},
   "source": [
    "[How to get element-wise matrix multiplication (Hadamard product) in numpy?](https://stackoverflow.com/a/40035266/12224183)\n",
    "\n",
    "> ```python\n",
    "import numpy as np\n",
    "a = np.array([[1,2],[3,4]])\n",
    "b = np.array([[5,6],[7,8]])\n",
    "np.multiply(a,b)\n",
    "```"
   ]
  },
  {
   "cell_type": "markdown",
   "metadata": {},
   "source": [
    "## Clicked Prediction"
   ]
  },
  {
   "cell_type": "code",
   "execution_count": 47,
   "metadata": {},
   "outputs": [
    {
     "data": {
      "text/plain": [
       "7.0"
      ]
     },
     "execution_count": 47,
     "metadata": {},
     "output_type": "execute_result"
    }
   ],
   "source": [
    "sum(clickeds_label)  # true"
   ]
  },
  {
   "cell_type": "code",
   "execution_count": 48,
   "metadata": {},
   "outputs": [
    {
     "data": {
      "text/plain": [
       "7.326298701298701"
      ]
     },
     "execution_count": 48,
     "metadata": {},
     "output_type": "execute_result"
    }
   ],
   "source": [
    "np.inner(recommeds, avg_clicked_rate)"
   ]
  },
  {
   "cell_type": "markdown",
   "metadata": {},
   "source": [
    "## Duration Prediction"
   ]
  },
  {
   "cell_type": "code",
   "execution_count": 49,
   "metadata": {},
   "outputs": [
    {
     "data": {
      "text/plain": [
       "855.0"
      ]
     },
     "execution_count": 49,
     "metadata": {},
     "output_type": "execute_result"
    }
   ],
   "source": [
    "sum(durations_label)  # true"
   ]
  },
  {
   "cell_type": "code",
   "execution_count": 50,
   "metadata": {},
   "outputs": [
    {
     "data": {
      "text/plain": [
       "734.1672077922078"
      ]
     },
     "execution_count": 50,
     "metadata": {},
     "output_type": "execute_result"
    }
   ],
   "source": [
    "np.inner(recommeds, np.multiply(avg_clicked_rate, avg_clicked_duration))"
   ]
  }
 ],
 "metadata": {
  "kernelspec": {
   "display_name": "Python 3",
   "language": "python",
   "name": "python3"
  },
  "language_info": {
   "codemirror_mode": {
    "name": "ipython",
    "version": 3
   },
   "file_extension": ".py",
   "mimetype": "text/x-python",
   "name": "python",
   "nbconvert_exporter": "python",
   "pygments_lexer": "ipython3",
   "version": "3.8.3"
  }
 },
 "nbformat": 4,
 "nbformat_minor": 1
}