{
 "cells": [
  {
   "cell_type": "code",
   "execution_count": 1,
   "metadata": {},
   "outputs": [],
   "source": [
    "import pandas as pd\n",
    "import os\n",
    "import tqdm\n",
    "import numpy as np\n",
    "import pprint\n",
    "import pickle"
   ]
  },
  {
   "cell_type": "code",
   "execution_count": 2,
   "metadata": {},
   "outputs": [],
   "source": [
    "import matplotlib.pyplot as plt\n",
    "from matplotlib import font_manager\n",
    "%matplotlib inline\n",
    "import seaborn as sns\n",
    "from matplotlib_venn import venn2"
   ]
  },
  {
   "cell_type": "markdown",
   "metadata": {},
   "source": [
    "# Load"
   ]
  },
  {
   "cell_type": "code",
   "execution_count": 3,
   "metadata": {},
   "outputs": [],
   "source": [
    "data_path = 'mathorcup_recom_listwise/data/'\n",
    "user_path = 'data_splitted_by_user_id'"
   ]
  },
  {
   "cell_type": "code",
   "execution_count": 4,
   "metadata": {
    "scrolled": true
   },
   "outputs": [
    {
     "data": {
      "text/html": [
       "<div>\n",
       "<style scoped>\n",
       "    .dataframe tbody tr th:only-of-type {\n",
       "        vertical-align: middle;\n",
       "    }\n",
       "\n",
       "    .dataframe tbody tr th {\n",
       "        vertical-align: top;\n",
       "    }\n",
       "\n",
       "    .dataframe thead th {\n",
       "        text-align: right;\n",
       "    }\n",
       "</style>\n",
       "<table border=\"1\" class=\"dataframe\">\n",
       "  <thead>\n",
       "    <tr style=\"text-align: right;\">\n",
       "      <th></th>\n",
       "      <th>requestID</th>\n",
       "      <th>userID</th>\n",
       "      <th>date</th>\n",
       "      <th>time</th>\n",
       "      <th>sequence</th>\n",
       "    </tr>\n",
       "  </thead>\n",
       "  <tbody>\n",
       "    <tr>\n",
       "      <th>0</th>\n",
       "      <td>719708291_1635480753679_2960</td>\n",
       "      <td>1439416582</td>\n",
       "      <td>20211029</td>\n",
       "      <td>12</td>\n",
       "      <td>509057416;133681226775;509178914;509178914;508...</td>\n",
       "    </tr>\n",
       "    <tr>\n",
       "      <th>1</th>\n",
       "      <td>679978594_1635491281923_1780</td>\n",
       "      <td>1359957188</td>\n",
       "      <td>20211029</td>\n",
       "      <td>15</td>\n",
       "      <td>508829941;133686019323;508830405;133677444707;...</td>\n",
       "    </tr>\n",
       "    <tr>\n",
       "      <th>2</th>\n",
       "      <td>781051348_1635478916952_3923</td>\n",
       "      <td>1562102696</td>\n",
       "      <td>20211029</td>\n",
       "      <td>11</td>\n",
       "      <td>508920410;133682604510;508823743;133679506759;...</td>\n",
       "    </tr>\n",
       "    <tr>\n",
       "      <th>3</th>\n",
       "      <td>1223262997_1635514428746_6191</td>\n",
       "      <td>2446525994</td>\n",
       "      <td>20211029</td>\n",
       "      <td>21</td>\n",
       "      <td>509263836;133677339412;509255912;133666460363;...</td>\n",
       "    </tr>\n",
       "    <tr>\n",
       "      <th>4</th>\n",
       "      <td>1210159908_1635487197871_9372</td>\n",
       "      <td>2420319816</td>\n",
       "      <td>20211029</td>\n",
       "      <td>13</td>\n",
       "      <td>509051208;133686479202;509321576;133685566011;...</td>\n",
       "    </tr>\n",
       "    <tr>\n",
       "      <th>...</th>\n",
       "      <td>...</td>\n",
       "      <td>...</td>\n",
       "      <td>...</td>\n",
       "      <td>...</td>\n",
       "      <td>...</td>\n",
       "    </tr>\n",
       "    <tr>\n",
       "      <th>99995</th>\n",
       "      <td>1103019431_1635488217052_1566</td>\n",
       "      <td>2206038862</td>\n",
       "      <td>20211029</td>\n",
       "      <td>14</td>\n",
       "      <td>508202927;133667442521;508448933;507727992;133...</td>\n",
       "    </tr>\n",
       "    <tr>\n",
       "      <th>99996</th>\n",
       "      <td>819379240_1635440341187_834</td>\n",
       "      <td>1638758480</td>\n",
       "      <td>20211029</td>\n",
       "      <td>00</td>\n",
       "      <td>133680499794;133686284672;133680414545;5089725...</td>\n",
       "    </tr>\n",
       "    <tr>\n",
       "      <th>99997</th>\n",
       "      <td>725125338_1635454468857_6210</td>\n",
       "      <td>1450250676</td>\n",
       "      <td>20211029</td>\n",
       "      <td>04</td>\n",
       "      <td>509051208;133664849798;133686913039;508948985;...</td>\n",
       "    </tr>\n",
       "    <tr>\n",
       "      <th>99998</th>\n",
       "      <td>1220982835_1635495707014_791</td>\n",
       "      <td>2441965670</td>\n",
       "      <td>20211029</td>\n",
       "      <td>16</td>\n",
       "      <td>133684769217;507767581;507912030;133684439797;...</td>\n",
       "    </tr>\n",
       "    <tr>\n",
       "      <th>99999</th>\n",
       "      <td>1213447213_1635479435146_7061</td>\n",
       "      <td>2426894426</td>\n",
       "      <td>20211029</td>\n",
       "      <td>11</td>\n",
       "      <td>508645314;133686259459;508233761;133686162687</td>\n",
       "    </tr>\n",
       "  </tbody>\n",
       "</table>\n",
       "<p>100000 rows × 5 columns</p>\n",
       "</div>"
      ],
      "text/plain": [
       "                           requestID      userID      date time  \\\n",
       "0       719708291_1635480753679_2960  1439416582  20211029   12   \n",
       "1       679978594_1635491281923_1780  1359957188  20211029   15   \n",
       "2       781051348_1635478916952_3923  1562102696  20211029   11   \n",
       "3      1223262997_1635514428746_6191  2446525994  20211029   21   \n",
       "4      1210159908_1635487197871_9372  2420319816  20211029   13   \n",
       "...                              ...         ...       ...  ...   \n",
       "99995  1103019431_1635488217052_1566  2206038862  20211029   14   \n",
       "99996    819379240_1635440341187_834  1638758480  20211029   00   \n",
       "99997   725125338_1635454468857_6210  1450250676  20211029   04   \n",
       "99998   1220982835_1635495707014_791  2441965670  20211029   16   \n",
       "99999  1213447213_1635479435146_7061  2426894426  20211029   11   \n",
       "\n",
       "                                                sequence  \n",
       "0      509057416;133681226775;509178914;509178914;508...  \n",
       "1      508829941;133686019323;508830405;133677444707;...  \n",
       "2      508920410;133682604510;508823743;133679506759;...  \n",
       "3      509263836;133677339412;509255912;133666460363;...  \n",
       "4      509051208;133686479202;509321576;133685566011;...  \n",
       "...                                                  ...  \n",
       "99995  508202927;133667442521;508448933;507727992;133...  \n",
       "99996  133680499794;133686284672;133680414545;5089725...  \n",
       "99997  509051208;133664849798;133686913039;508948985;...  \n",
       "99998  133684769217;507767581;507912030;133684439797;...  \n",
       "99999      508645314;133686259459;508233761;133686162687  \n",
       "\n",
       "[100000 rows x 5 columns]"
      ]
     },
     "execution_count": 4,
     "metadata": {},
     "output_type": "execute_result"
    }
   ],
   "source": [
    "test_df = pd.read_csv(data_path + 'test_data.csv', dtype=str)\n",
    "test_df"
   ]
  },
  {
   "cell_type": "code",
   "execution_count": 5,
   "metadata": {},
   "outputs": [
    {
     "data": {
      "text/plain": [
       "958123"
      ]
     },
     "execution_count": 5,
     "metadata": {},
     "output_type": "execute_result"
    }
   ],
   "source": [
    "if not os.path.exists(data_path + 'userID2idx.pickle'):\n",
    "    train_df = pd.read_csv(data_path + 'train_data.csv', dtype=str)\n",
    "    train_userID = set(train_df.loc[:, 'userID'])\n",
    "    userID2idx = {_: str(i).zfill(7) for i, _ in enumerate(train_userID)}\n",
    "    with open(data_path + 'userID2idx.pickle', 'wb') as handle:\n",
    "        pickle.dump(userID2idx, handle, protocol=pickle.HIGHEST_PROTOCOL)\n",
    "with open(data_path + 'userID2idx.pickle', 'rb') as handle:\n",
    "    userID2idx = pickle.load(handle)\n",
    "len(userID2idx)"
   ]
  },
  {
   "cell_type": "code",
   "execution_count": 6,
   "metadata": {},
   "outputs": [],
   "source": [
    "with open(data_path + 'contentTC2ID.pickle', 'rb') as handle:\n",
    "    contentTC2ID = pickle.load(handle)\n",
    "with open(data_path + 'contentID2idx.pickle', 'rb') as handle:\n",
    "    contentID2idx = pickle.load(handle)\n",
    "with open(data_path + 'key2idx.pickle', 'rb') as handle:\n",
    "    key2idx = pickle.load(handle)\n",
    "with open(data_path + 'idx2key.pickle', 'rb') as handle:\n",
    "    idx2key = pickle.load(handle)"
   ]
  },
  {
   "cell_type": "code",
   "execution_count": 7,
   "metadata": {},
   "outputs": [],
   "source": [
    "with open(data_path + 'loyal_recommeds.pickle', 'rb') as handle:\n",
    "    loyal_recommeds = pickle.load(handle)\n",
    "with open(data_path + 'loyalIdx2norm.pickle', 'rb') as handle:\n",
    "    loyalIdx2norm = pickle.load(handle)\n",
    "with open(data_path + 'normIdx2loyal.pickle', 'rb') as handle:\n",
    "    normIdx2loyal = pickle.load(handle)"
   ]
  },
  {
   "cell_type": "markdown",
   "metadata": {},
   "source": [
    "# Test"
   ]
  },
  {
   "cell_type": "code",
   "execution_count": 8,
   "metadata": {
    "scrolled": true
   },
   "outputs": [
    {
     "name": "stderr",
     "output_type": "stream",
     "text": [
      "100%|██████████| 100000/100000 [30:48<00:00, 54.09it/s] \n"
     ]
    }
   ],
   "source": [
    "seen_user_count = 0\n",
    "unseen_user_count = 0\n",
    "test_clickeds = np.zeros(len(test_df)) \n",
    "test_durations = np.zeros(len(test_df)) \n",
    "\n",
    "for _ in tqdm.tqdm(range(len(test_df))):\n",
    "    # count categories recommened\n",
    "    test_recommeds = np.zeros(len(contentTC2ID))\n",
    "    for itemID in test_df.loc[_, 'sequence'].split(';'):\n",
    "        contentIdx = contentID2idx[itemID]\n",
    "        test_recommeds[contentIdx] += 1\n",
    "    \n",
    "    # determine userIdx\n",
    "    test_userID = test_df.loc[_, 'userID']\n",
    "    if test_userID in userID2idx.keys():\n",
    "        seen_user_count += 1\n",
    "        userIdxes = [userID2idx[test_userID]]\n",
    "    else:  # test_userID is nonsense\n",
    "        unseen_user_count += 1\n",
    "        sum_test_recommeds = np.sum(test_recommeds)\n",
    "        temp_recommeds = test_recommeds / sum_test_recommeds\n",
    "        temp = np.matmul(loyal_recommeds, temp_recommeds)\n",
    "        loyal_idxes = np.where(temp == np.max(temp))[0]\n",
    "        userIdxes = [str(loyalIdx2norm[loyal_idx]).zfill(7) for loyal_idx in loyal_idxes]\n",
    "    \n",
    "    # calculate avg clicked rate & duration for the specific user\n",
    "    avg_clicked_rates = []\n",
    "    avg_clicked_durations = []\n",
    "    for userIdx in userIdxes:\n",
    "        aaa, bb, cc = userIdx[0:3], userIdx[3:5], userIdx[5:7]\n",
    "        df = pd.read_csv('data_splitted_by_user_id/{}/{}/{}.csv'.format(aaa, bb, cc), dtype=str)\n",
    "        clickeds = np.zeros(len(contentTC2ID))\n",
    "        durations = np.zeros(len(contentTC2ID))\n",
    "        recommeds = np.zeros(len(contentTC2ID))\n",
    "        for s in df.sequence:\n",
    "            for icd in s.split(';'):\n",
    "                i, c, d = icd.split(':')\n",
    "                contentIdx = contentID2idx[i]\n",
    "                if eval(c):\n",
    "                    clickeds[contentIdx] += 1\n",
    "                    durations[contentIdx] += eval(d)\n",
    "                recommeds[contentIdx] += 1\n",
    "        avg_clicked_rates.append(np.divide(clickeds, recommeds, out=np.zeros_like(clickeds), where=recommeds!=0))\n",
    "        avg_clicked_durations.append(np.divide(durations, clickeds, out=np.zeros_like(durations), where=clickeds!=0))\n",
    "    avg_clicked_rate = np.mean(avg_clicked_rates)\n",
    "    avg_clicked_duration = np.mean(avg_clicked_durations)\n",
    "    if len(userIdxes) > 1:\n",
    "        for i, userIdx in enumerate(userIdxes):\n",
    "            print(i, 'loyal_idx:', loyal_idx, 'avg_clicked_rate:', \n",
    "                  avg_clicked_rates[i], 'avg_clicked_duration:', avg_clicked_durations[i])\n",
    "            print(avg_clicked_rate, avg_clicked_duration)\n",
    "    \n",
    "    # fill results\n",
    "    test_clickeds[_] = np.inner(test_recommeds, avg_clicked_rates)\n",
    "    test_durations[_] = np.inner(test_recommeds, np.multiply(avg_clicked_rates, avg_clicked_durations))"
   ]
  },
  {
   "cell_type": "code",
   "execution_count": 9,
   "metadata": {
    "scrolled": true
   },
   "outputs": [
    {
     "data": {
      "text/plain": [
       "96547"
      ]
     },
     "execution_count": 9,
     "metadata": {},
     "output_type": "execute_result"
    }
   ],
   "source": [
    "seen_user_count"
   ]
  },
  {
   "cell_type": "code",
   "execution_count": 10,
   "metadata": {},
   "outputs": [
    {
     "data": {
      "text/plain": [
       "3453"
      ]
     },
     "execution_count": 10,
     "metadata": {},
     "output_type": "execute_result"
    }
   ],
   "source": [
    "unseen_user_count"
   ]
  },
  {
   "cell_type": "code",
   "execution_count": 11,
   "metadata": {
    "scrolled": true
   },
   "outputs": [
    {
     "data": {
      "text/html": [
       "<div>\n",
       "<style scoped>\n",
       "    .dataframe tbody tr th:only-of-type {\n",
       "        vertical-align: middle;\n",
       "    }\n",
       "\n",
       "    .dataframe tbody tr th {\n",
       "        vertical-align: top;\n",
       "    }\n",
       "\n",
       "    .dataframe thead th {\n",
       "        text-align: right;\n",
       "    }\n",
       "</style>\n",
       "<table border=\"1\" class=\"dataframe\">\n",
       "  <thead>\n",
       "    <tr style=\"text-align: right;\">\n",
       "      <th></th>\n",
       "      <th>clicked</th>\n",
       "      <th>duration</th>\n",
       "    </tr>\n",
       "  </thead>\n",
       "  <tbody>\n",
       "    <tr>\n",
       "      <th>0</th>\n",
       "      <td>1.037865</td>\n",
       "      <td>347.127631</td>\n",
       "    </tr>\n",
       "    <tr>\n",
       "      <th>1</th>\n",
       "      <td>0.544133</td>\n",
       "      <td>116.417053</td>\n",
       "    </tr>\n",
       "    <tr>\n",
       "      <th>2</th>\n",
       "      <td>0.953476</td>\n",
       "      <td>181.991922</td>\n",
       "    </tr>\n",
       "    <tr>\n",
       "      <th>3</th>\n",
       "      <td>1.893914</td>\n",
       "      <td>151.787468</td>\n",
       "    </tr>\n",
       "    <tr>\n",
       "      <th>4</th>\n",
       "      <td>0.441185</td>\n",
       "      <td>31.864015</td>\n",
       "    </tr>\n",
       "    <tr>\n",
       "      <th>...</th>\n",
       "      <td>...</td>\n",
       "      <td>...</td>\n",
       "    </tr>\n",
       "    <tr>\n",
       "      <th>99995</th>\n",
       "      <td>0.533333</td>\n",
       "      <td>94.466667</td>\n",
       "    </tr>\n",
       "    <tr>\n",
       "      <th>99996</th>\n",
       "      <td>0.913690</td>\n",
       "      <td>165.532738</td>\n",
       "    </tr>\n",
       "    <tr>\n",
       "      <th>99997</th>\n",
       "      <td>1.529221</td>\n",
       "      <td>259.574026</td>\n",
       "    </tr>\n",
       "    <tr>\n",
       "      <th>99998</th>\n",
       "      <td>0.720779</td>\n",
       "      <td>150.935065</td>\n",
       "    </tr>\n",
       "    <tr>\n",
       "      <th>99999</th>\n",
       "      <td>0.282243</td>\n",
       "      <td>57.512495</td>\n",
       "    </tr>\n",
       "  </tbody>\n",
       "</table>\n",
       "<p>100000 rows × 2 columns</p>\n",
       "</div>"
      ],
      "text/plain": [
       "        clicked    duration\n",
       "0      1.037865  347.127631\n",
       "1      0.544133  116.417053\n",
       "2      0.953476  181.991922\n",
       "3      1.893914  151.787468\n",
       "4      0.441185   31.864015\n",
       "...         ...         ...\n",
       "99995  0.533333   94.466667\n",
       "99996  0.913690  165.532738\n",
       "99997  1.529221  259.574026\n",
       "99998  0.720779  150.935065\n",
       "99999  0.282243   57.512495\n",
       "\n",
       "[100000 rows x 2 columns]"
      ]
     },
     "execution_count": 11,
     "metadata": {},
     "output_type": "execute_result"
    }
   ],
   "source": [
    "result_df = pd.DataFrame(\n",
    "    {'clicked': test_clickeds, 'duration': test_durations}\n",
    ")\n",
    "result_df"
   ]
  },
  {
   "cell_type": "code",
   "execution_count": 12,
   "metadata": {},
   "outputs": [],
   "source": [
    "result_df.to_csv(data_path + 'result_df' + '.csv', index=False)"
   ]
  },
  {
   "cell_type": "code",
   "execution_count": 13,
   "metadata": {
    "scrolled": true
   },
   "outputs": [
    {
     "data": {
      "text/plain": [
       "<BarContainer object of 1485 artists>"
      ]
     },
     "execution_count": 13,
     "metadata": {},
     "output_type": "execute_result"
    },
    {
     "data": {
      "image/png": "[encoded data removed]",
      "text/plain": [
       "<Figure size 432x288 with 1 Axes>"
      ]
     },
     "metadata": {
      "needs_background": "light"
     },
     "output_type": "display_data"
    }
   ],
   "source": [
    "plt.bar(range(len(temp_recommeds)), temp_recommeds, width=5)"
   ]
  },
  {
   "cell_type": "code",
   "execution_count": 14,
   "metadata": {},
   "outputs": [
    {
     "data": {
      "text/plain": [
       "array([16198], dtype=int64)"
      ]
     },
     "execution_count": 14,
     "metadata": {},
     "output_type": "execute_result"
    }
   ],
   "source": [
    "loyal_idxes"
   ]
  },
  {
   "cell_type": "code",
   "execution_count": 15,
   "metadata": {},
   "outputs": [
    {
     "data": {
      "text/plain": [
       "<BarContainer object of 1485 artists>"
      ]
     },
     "execution_count": 15,
     "metadata": {},
     "output_type": "execute_result"
    },
    {
     "data": {
      "image/png": "[encoded data removed]",
      "text/plain": [
       "<Figure size 432x288 with 1 Axes>"
      ]
     },
     "metadata": {
      "needs_background": "light"
     },
     "output_type": "display_data"
    }
   ],
   "source": [
    "plt.bar(range(len(loyal_recommeds[loyal_idxes[0],:])), loyal_recommeds[loyal_idxes[0],:], width=5)"
   ]
  },
  {
   "cell_type": "code",
   "execution_count": null,
   "metadata": {},
   "outputs": [],
   "source": []
  }
 ],
 "metadata": {
  "kernelspec": {
   "display_name": "Python 3",
   "language": "python",
   "name": "python3"
  },
  "language_info": {
   "codemirror_mode": {
    "name": "ipython",
    "version": 3
   },
   "file_extension": ".py",
   "mimetype": "text/x-python",
   "name": "python",
   "nbconvert_exporter": "python",
   "pygments_lexer": "ipython3",
   "version": "3.8.8"
  },
  "latex_envs": {
   "LaTeX_envs_menu_present": true,
   "autoclose": false,
   "autocomplete": true,
   "bibliofile": "biblio.bib",
   "cite_by": "apalike",
   "current_citInitial": 1,
   "eqLabelWithNumbers": true,
   "eqNumInitial": 1,
   "hotkeys": {
    "equation": "Ctrl-E",
    "itemize": "Ctrl-I"
   },
   "labels_anchors": false,
   "latex_user_defs": false,
   "report_style_numbering": false,
   "user_envs_cfg": false
  }
 },
 "nbformat": 4,
 "nbformat_minor": 1
}
