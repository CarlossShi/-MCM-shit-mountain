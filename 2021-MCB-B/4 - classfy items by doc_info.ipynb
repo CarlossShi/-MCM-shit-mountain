{
 "cells": [
  {
   "cell_type": "code",
   "execution_count": 1,
   "metadata": {},
   "outputs": [],
   "source": [
    "import pandas as pd\n",
    "import numpy as np\n",
    "import tqdm\n",
    "import pickle"
   ]
  },
  {
   "cell_type": "code",
   "execution_count": 2,
   "metadata": {},
   "outputs": [],
   "source": [
    "data_path = 'mathorcup_recom_listwise/data/'"
   ]
  },
  {
   "cell_type": "code",
   "execution_count": 3,
   "metadata": {
    "scrolled": true
   },
   "outputs": [
    {
     "data": {
      "text/html": [
       "<div>\n",
       "<style scoped>\n",
       "    .dataframe tbody tr th:only-of-type {\n",
       "        vertical-align: middle;\n",
       "    }\n",
       "\n",
       "    .dataframe tbody tr th {\n",
       "        vertical-align: top;\n",
       "    }\n",
       "\n",
       "    .dataframe thead th {\n",
       "        text-align: right;\n",
       "    }\n",
       "</style>\n",
       "<table border=\"1\" class=\"dataframe\">\n",
       "  <thead>\n",
       "    <tr style=\"text-align: right;\">\n",
       "      <th></th>\n",
       "      <th>contentID</th>\n",
       "      <th>contentType</th>\n",
       "      <th>contentCategory</th>\n",
       "    </tr>\n",
       "  </thead>\n",
       "  <tbody>\n",
       "    <tr>\n",
       "      <th>0</th>\n",
       "      <td>124564892986</td>\n",
       "      <td>video</td>\n",
       "      <td>历史/中国史</td>\n",
       "    </tr>\n",
       "    <tr>\n",
       "      <th>1</th>\n",
       "      <td>124564906548</td>\n",
       "      <td>video</td>\n",
       "      <td>科学/动植物与微生物</td>\n",
       "    </tr>\n",
       "    <tr>\n",
       "      <th>2</th>\n",
       "      <td>124564909185</td>\n",
       "      <td>video</td>\n",
       "      <td>科学/动植物与微生物</td>\n",
       "    </tr>\n",
       "    <tr>\n",
       "      <th>3</th>\n",
       "      <td>124564912145</td>\n",
       "      <td>video</td>\n",
       "      <td>科学/动植物与微生物</td>\n",
       "    </tr>\n",
       "    <tr>\n",
       "      <th>4</th>\n",
       "      <td>124564932495</td>\n",
       "      <td>video</td>\n",
       "      <td>科学/动植物与微生物</td>\n",
       "    </tr>\n",
       "    <tr>\n",
       "      <th>...</th>\n",
       "      <td>...</td>\n",
       "      <td>...</td>\n",
       "      <td>...</td>\n",
       "    </tr>\n",
       "    <tr>\n",
       "      <th>2510698</th>\n",
       "      <td>509523681</td>\n",
       "      <td>news</td>\n",
       "      <td>情感/婚姻与家庭</td>\n",
       "    </tr>\n",
       "    <tr>\n",
       "      <th>2510699</th>\n",
       "      <td>509523744</td>\n",
       "      <td>news</td>\n",
       "      <td>科技/互联网</td>\n",
       "    </tr>\n",
       "    <tr>\n",
       "      <th>2510700</th>\n",
       "      <td>509524347</td>\n",
       "      <td>news</td>\n",
       "      <td>科技/数码产品</td>\n",
       "    </tr>\n",
       "    <tr>\n",
       "      <th>2510701</th>\n",
       "      <td>509524365</td>\n",
       "      <td>news</td>\n",
       "      <td>国际/国际趣闻</td>\n",
       "    </tr>\n",
       "    <tr>\n",
       "      <th>2510702</th>\n",
       "      <td>509524914</td>\n",
       "      <td>news</td>\n",
       "      <td>情感/婚姻与家庭</td>\n",
       "    </tr>\n",
       "  </tbody>\n",
       "</table>\n",
       "<p>2510703 rows × 3 columns</p>\n",
       "</div>"
      ],
      "text/plain": [
       "            contentID contentType contentCategory\n",
       "0        124564892986       video          历史/中国史\n",
       "1        124564906548       video      科学/动植物与微生物\n",
       "2        124564909185       video      科学/动植物与微生物\n",
       "3        124564912145       video      科学/动植物与微生物\n",
       "4        124564932495       video      科学/动植物与微生物\n",
       "...               ...         ...             ...\n",
       "2510698     509523681        news        情感/婚姻与家庭\n",
       "2510699     509523744        news          科技/互联网\n",
       "2510700     509524347        news         科技/数码产品\n",
       "2510701     509524365        news         国际/国际趣闻\n",
       "2510702     509524914        news        情感/婚姻与家庭\n",
       "\n",
       "[2510703 rows x 3 columns]"
      ]
     },
     "execution_count": 3,
     "metadata": {},
     "output_type": "execute_result"
    }
   ],
   "source": [
    "info_df = pd.read_csv(data_path + 'doc_info.csv', dtype=str)\n",
    "info_df"
   ]
  },
  {
   "cell_type": "code",
   "execution_count": 4,
   "metadata": {},
   "outputs": [
    {
     "data": {
      "text/html": [
       "<div>\n",
       "<style scoped>\n",
       "    .dataframe tbody tr th:only-of-type {\n",
       "        vertical-align: middle;\n",
       "    }\n",
       "\n",
       "    .dataframe tbody tr th {\n",
       "        vertical-align: top;\n",
       "    }\n",
       "\n",
       "    .dataframe thead th {\n",
       "        text-align: right;\n",
       "    }\n",
       "</style>\n",
       "<table border=\"1\" class=\"dataframe\">\n",
       "  <thead>\n",
       "    <tr style=\"text-align: right;\">\n",
       "      <th></th>\n",
       "      <th>contentID</th>\n",
       "      <th>contentType</th>\n",
       "      <th>contentCategory</th>\n",
       "    </tr>\n",
       "  </thead>\n",
       "  <tbody>\n",
       "    <tr>\n",
       "      <th>785196</th>\n",
       "      <td>133657464327</td>\n",
       "      <td>video</td>\n",
       "      <td>A_0_24:0.653325,A_25_29:0.170250,A_30_39:0.134...</td>\n",
       "    </tr>\n",
       "    <tr>\n",
       "      <th>535841</th>\n",
       "      <td>133658459211</td>\n",
       "      <td>video</td>\n",
       "      <td>A_0_24:0.947994,A_25_29:0.003303,A_30_39:0.032...</td>\n",
       "    </tr>\n",
       "    <tr>\n",
       "      <th>185162</th>\n",
       "      <td>505670245</td>\n",
       "      <td>news</td>\n",
       "      <td>两性/两性健康</td>\n",
       "    </tr>\n",
       "    <tr>\n",
       "      <th>186246</th>\n",
       "      <td>505857707</td>\n",
       "      <td>news</td>\n",
       "      <td>两性/两性健康</td>\n",
       "    </tr>\n",
       "    <tr>\n",
       "      <th>187525</th>\n",
       "      <td>506010721</td>\n",
       "      <td>news</td>\n",
       "      <td>两性/两性健康</td>\n",
       "    </tr>\n",
       "    <tr>\n",
       "      <th>...</th>\n",
       "      <td>...</td>\n",
       "      <td>...</td>\n",
       "      <td>...</td>\n",
       "    </tr>\n",
       "    <tr>\n",
       "      <th>2438682</th>\n",
       "      <td>133687111738</td>\n",
       "      <td>video</td>\n",
       "      <td>NaN</td>\n",
       "    </tr>\n",
       "    <tr>\n",
       "      <th>2439143</th>\n",
       "      <td>133687211179</td>\n",
       "      <td>video</td>\n",
       "      <td>NaN</td>\n",
       "    </tr>\n",
       "    <tr>\n",
       "      <th>2439454</th>\n",
       "      <td>133687293980</td>\n",
       "      <td>video</td>\n",
       "      <td>NaN</td>\n",
       "    </tr>\n",
       "    <tr>\n",
       "      <th>2443290</th>\n",
       "      <td>133688111043</td>\n",
       "      <td>video</td>\n",
       "      <td>NaN</td>\n",
       "    </tr>\n",
       "    <tr>\n",
       "      <th>2444802</th>\n",
       "      <td>42953250153</td>\n",
       "      <td>video</td>\n",
       "      <td>NaN</td>\n",
       "    </tr>\n",
       "  </tbody>\n",
       "</table>\n",
       "<p>2510703 rows × 3 columns</p>\n",
       "</div>"
      ],
      "text/plain": [
       "            contentID contentType  \\\n",
       "785196   133657464327       video   \n",
       "535841   133658459211       video   \n",
       "185162      505670245        news   \n",
       "186246      505857707        news   \n",
       "187525      506010721        news   \n",
       "...               ...         ...   \n",
       "2438682  133687111738       video   \n",
       "2439143  133687211179       video   \n",
       "2439454  133687293980       video   \n",
       "2443290  133688111043       video   \n",
       "2444802   42953250153       video   \n",
       "\n",
       "                                           contentCategory  \n",
       "785196   A_0_24:0.653325,A_25_29:0.170250,A_30_39:0.134...  \n",
       "535841   A_0_24:0.947994,A_25_29:0.003303,A_30_39:0.032...  \n",
       "185162                                             两性/两性健康  \n",
       "186246                                             两性/两性健康  \n",
       "187525                                             两性/两性健康  \n",
       "...                                                    ...  \n",
       "2438682                                                NaN  \n",
       "2439143                                                NaN  \n",
       "2439454                                                NaN  \n",
       "2443290                                                NaN  \n",
       "2444802                                                NaN  \n",
       "\n",
       "[2510703 rows x 3 columns]"
      ]
     },
     "execution_count": 4,
     "metadata": {},
     "output_type": "execute_result"
    }
   ],
   "source": [
    "sorted_info_df = info_df.sort_values(by=['contentCategory', 'contentType'])\n",
    "sorted_info_df"
   ]
  },
  {
   "cell_type": "code",
   "execution_count": 5,
   "metadata": {},
   "outputs": [],
   "source": [
    "sorted_info_df.to_csv(data_path + 'sorted_doc_info.csv', encoding='utf_8_sig', index=False)"
   ]
  },
  {
   "cell_type": "markdown",
   "metadata": {},
   "source": [
    "# cID to cType & cCategory"
   ]
  },
  {
   "cell_type": "code",
   "execution_count": 6,
   "metadata": {},
   "outputs": [
    {
     "name": "stderr",
     "output_type": "stream",
     "text": [
      "2510703it [02:04, 20093.00it/s]\n"
     ]
    }
   ],
   "source": [
    "# 2510703it [02:04, 20093.00it/s]\n",
    "contentTC2ID = dict()\n",
    "contentID2idx = dict()\n",
    "key2idx = dict()\n",
    "i = 0\n",
    "\n",
    "for _, row in tqdm.tqdm(sorted_info_df.iterrows()):\n",
    "    cID, cT, cC = row\n",
    "\n",
    "    if isinstance(cC, float):  # cC is nan\n",
    "        key = cT[0] + 'nan'\n",
    "    else:\n",
    "        key = cT[0] + cC\n",
    "    if key in contentTC2ID.keys():\n",
    "        contentTC2ID[key].append(cID)\n",
    "    else:\n",
    "        contentTC2ID[key] = [cID]\n",
    "        key2idx[key] = i\n",
    "        i += 1\n",
    "    contentID2idx[cID] = key2idx[key]\n",
    "    # contentTC2ID.setdefault(key,[]).append(cID)"
   ]
  },
  {
   "cell_type": "code",
   "execution_count": 7,
   "metadata": {},
   "outputs": [
    {
     "data": {
      "text/plain": [
       "1690.709090909091"
      ]
     },
     "execution_count": 7,
     "metadata": {},
     "output_type": "execute_result"
    }
   ],
   "source": [
    "len(info_df) / len(contentTC2ID)  # item compression rate"
   ]
  },
  {
   "cell_type": "code",
   "execution_count": 8,
   "metadata": {},
   "outputs": [
    {
     "data": {
      "text/plain": [
       "1485"
      ]
     },
     "execution_count": 8,
     "metadata": {},
     "output_type": "execute_result"
    }
   ],
   "source": [
    "len(contentTC2ID)"
   ]
  },
  {
   "cell_type": "code",
   "execution_count": 9,
   "metadata": {},
   "outputs": [
    {
     "data": {
      "text/plain": [
       "947"
      ]
     },
     "execution_count": 9,
     "metadata": {},
     "output_type": "execute_result"
    }
   ],
   "source": [
    "len(contentTC2ID['vnan'])  # 947 video items have no category"
   ]
  },
  {
   "cell_type": "code",
   "execution_count": 10,
   "metadata": {
    "scrolled": true
   },
   "outputs": [
    {
     "data": {
      "text/plain": [
       "34"
      ]
     },
     "execution_count": 10,
     "metadata": {},
     "output_type": "execute_result"
    }
   ],
   "source": [
    "len(contentTC2ID['nnan'])  # 34 news items have no category"
   ]
  },
  {
   "cell_type": "code",
   "execution_count": 11,
   "metadata": {},
   "outputs": [],
   "source": [
    "with open(data_path + 'contentTC2ID.pickle', 'wb') as handle:\n",
    "    pickle.dump(contentTC2ID, handle, protocol=pickle.HIGHEST_PROTOCOL)"
   ]
  },
  {
   "cell_type": "code",
   "execution_count": 12,
   "metadata": {},
   "outputs": [],
   "source": [
    "with open(data_path + 'contentID2idx.pickle', 'wb') as handle:\n",
    "    pickle.dump(contentID2idx, handle, protocol=pickle.HIGHEST_PROTOCOL)"
   ]
  },
  {
   "cell_type": "code",
   "execution_count": 13,
   "metadata": {},
   "outputs": [],
   "source": [
    "with open(data_path + 'key2idx.pickle', 'wb') as handle:\n",
    "    pickle.dump(key2idx, handle, protocol=pickle.HIGHEST_PROTOCOL)"
   ]
  },
  {
   "cell_type": "markdown",
   "metadata": {},
   "source": [
    "# Create Dataset"
   ]
  },
  {
   "cell_type": "code",
   "execution_count": 14,
   "metadata": {},
   "outputs": [],
   "source": [
    "import torch"
   ]
  },
  {
   "cell_type": "code",
   "execution_count": 15,
   "metadata": {},
   "outputs": [
    {
     "data": {
      "text/html": [
       "<div>\n",
       "<style scoped>\n",
       "    .dataframe tbody tr th:only-of-type {\n",
       "        vertical-align: middle;\n",
       "    }\n",
       "\n",
       "    .dataframe tbody tr th {\n",
       "        vertical-align: top;\n",
       "    }\n",
       "\n",
       "    .dataframe thead th {\n",
       "        text-align: right;\n",
       "    }\n",
       "</style>\n",
       "<table border=\"1\" class=\"dataframe\">\n",
       "  <thead>\n",
       "    <tr style=\"text-align: right;\">\n",
       "      <th></th>\n",
       "      <th>userID</th>\n",
       "      <th>requestID</th>\n",
       "      <th>date</th>\n",
       "      <th>time</th>\n",
       "      <th>sequence</th>\n",
       "    </tr>\n",
       "  </thead>\n",
       "  <tbody>\n",
       "    <tr>\n",
       "      <th>0</th>\n",
       "      <td>1000014754</td>\n",
       "      <td>500007377_1635422685108_3822</td>\n",
       "      <td>20211028</td>\n",
       "      <td>20</td>\n",
       "      <td>133669542676:1:148;133658378700:1:16;133650937...</td>\n",
       "    </tr>\n",
       "    <tr>\n",
       "      <th>1</th>\n",
       "      <td>1000019906</td>\n",
       "      <td>500009953_1635375063077_3893</td>\n",
       "      <td>20211028</td>\n",
       "      <td>06</td>\n",
       "      <td>133679233276:0:0;133658338671:0:0;133677846615...</td>\n",
       "    </tr>\n",
       "  </tbody>\n",
       "</table>\n",
       "</div>"
      ],
      "text/plain": [
       "       userID                     requestID      date time  \\\n",
       "0  1000014754  500007377_1635422685108_3822  20211028   20   \n",
       "1  1000019906  500009953_1635375063077_3893  20211028   06   \n",
       "\n",
       "                                            sequence  \n",
       "0  133669542676:1:148;133658378700:1:16;133650937...  \n",
       "1  133679233276:0:0;133658338671:0:0;133677846615...  "
      ]
     },
     "execution_count": 15,
     "metadata": {},
     "output_type": "execute_result"
    }
   ],
   "source": [
    "train_df = pd.read_csv(data_path + 'train_data.csv', dtype=str, nrows=2)\n",
    "train_df"
   ]
  },
  {
   "cell_type": "code",
   "execution_count": 16,
   "metadata": {
    "scrolled": true
   },
   "outputs": [],
   "source": [
    "from torch.utils.data import Dataset\n",
    "\n",
    "def icd2i(icd):\n",
    "    i, c, d = icd.split(':')\n",
    "    return i\n",
    "\n",
    "\n",
    "def seq2itemID(sequence):\n",
    "    \"\"\"\n",
    "    :param sequence: {str}, e.g. '133679233276:0:0;133658338671:0:0;133677846615:0:0'\n",
    "    :return:\n",
    "    \"\"\"\n",
    "    return {icd2i(icd) for icd in sequence.split(';')}\n",
    "\n",
    "\n",
    "def icd2dict(icd):\n",
    "    i, c, d = icd.split(':')\n",
    "    return {'itemID': i, 'clicked': bool(eval(c)), 'duration': eval(d)}\n",
    "\n",
    "\n",
    "class Sequence:\n",
    "    def __init__(self, sequence):\n",
    "        \"\"\"\n",
    "        :param sequence: {str}, e.g. '133679233276:0:0;133658338671:0:0;133677846615:0:0'\n",
    "        :return:\n",
    "        \"\"\"\n",
    "        self.sequence = [icd2dict(icd) for icd in sequence.split(';')]\n",
    "        self.length = len(self.sequence)\n",
    "        self.avg_clicked = np.mean([_['clicked'] for _ in self.sequence])\n",
    "        self.sum_duration = np.sum([_['duration'] for _ in self.sequence])\n",
    "        self.avg_duration = self.sum_duration / self.length\n",
    "    def __len__(self):\n",
    "        return self.length\n",
    "\n",
    "\n",
    "class TrainDataset(Dataset):\n",
    "    def __init__(self, df, userID2idx, itemID2idx):\n",
    "        self.length = len(df)\n",
    "\n",
    "        self.userID2idx = userID2idx\n",
    "        self.itemID2idx = itemID2idx\n",
    "\n",
    "        self.userLen = len(userID2idx)\n",
    "        self.itemLen = len(itemID2idx)\n",
    "\n",
    "        self.userID, self.requestID = df['userID'], df['requestID']  # string\n",
    "        self.userIdx = torch.tensor([userID2idx[_] for _ in self.userID], dtype=torch.int32)  # {Tensor: (len(df),)}\n",
    "\n",
    "        # self.date = torch.tensor(df.astype({'date': 'int32'})['date'])  # e.g. 20220106\n",
    "        # self.time = torch.tensor(df.astype({'time': 'int8'})['time'])  # range in [00, 23]\n",
    "\n",
    "        self.date = torch.zeros([len(df), 6], dtype=torch.int16)\n",
    "        for _ in range(len(df)):\n",
    "            self.date[_, 0] = int(df.loc[_, 'time'])  # hour\n",
    "            date = df.loc[_, 'date']\n",
    "            self.date[_, 3] = int(date[:4])  # year\n",
    "            self.date[_, 4] = int(date[4:6])  # month\n",
    "            self.date[_, 5] = int(date[6:8])  # day\n",
    "\n",
    "        self.sequence = [Sequence(_) for _ in df['sequence']]\n",
    "        self.max_sum_duration = max([_.sum_duration for _ in self.sequence])\n",
    "\n",
    "    def __len__(self):\n",
    "        return self.length\n",
    "\n",
    "    def __getitem__(self, idx):\n",
    "        # udt = torch.tensor([self.userIdx[idx], self.date[idx], self.time[idx]], dtype=torch.int32)\n",
    "        userIdx = self.userIdx[idx]\n",
    "        date = self.date[idx]\n",
    "        sequence = self.sequence[idx]\n",
    "        itemID = torch.tensor([self.itemID2idx[_['itemID']] for _ in self.sequence[idx].sequence], dtype=torch.int32)\n",
    "        duration = torch.tensor([_['duration'] for _ in self.sequence[idx].sequence], dtype=torch.int32)\n",
    "        return userIdx, date, itemID, duration, torch.tensor(len(sequence))"
   ]
  },
  {
   "cell_type": "code",
   "execution_count": 17,
   "metadata": {},
   "outputs": [
    {
     "data": {
      "text/plain": [
       "{'1000019906': 0, '1000014754': 1}"
      ]
     },
     "execution_count": 17,
     "metadata": {},
     "output_type": "execute_result"
    }
   ],
   "source": [
    "train_userID = set(train_df['userID'])\n",
    "userID2idx = {_:i for i, _ in enumerate(train_userID)}\n",
    "userID2idx"
   ]
  },
  {
   "cell_type": "code",
   "execution_count": 18,
   "metadata": {},
   "outputs": [],
   "source": [
    "train_dataset = TrainDataset(train_df, userID2idx, contentID2idx)"
   ]
  },
  {
   "cell_type": "code",
   "execution_count": 19,
   "metadata": {},
   "outputs": [
    {
     "data": {
      "text/plain": [
       "(tensor(1, dtype=torch.int32),\n",
       " tensor([  20,    0,    0, 2021,   10,   28], dtype=torch.int16),\n",
       " tensor([ 302, 1176,  274,  717,  316, 1103, 1220,  271,  654,  348,  348],\n",
       "        dtype=torch.int32),\n",
       " tensor([148,  16,  85, 221,   0, 101,  60,   0, 102,   0, 120],\n",
       "        dtype=torch.int32),\n",
       " tensor(11))"
      ]
     },
     "execution_count": 19,
     "metadata": {},
     "output_type": "execute_result"
    }
   ],
   "source": [
    "train_dataset[0]"
   ]
  },
  {
   "cell_type": "code",
   "execution_count": 20,
   "metadata": {},
   "outputs": [
    {
     "data": {
      "text/plain": [
       "(tensor(0, dtype=torch.int32),\n",
       " tensor([   6,    0,    0, 2021,   10,   28], dtype=torch.int16),\n",
       " tensor([1202,  509,  126, 1288,  301,  348,  224,  570,  689,  863],\n",
       "        dtype=torch.int32),\n",
       " tensor([  0,   0,   0,   0, 113,   0, 251,   0,   0,   0], dtype=torch.int32),\n",
       " tensor(10))"
      ]
     },
     "execution_count": 20,
     "metadata": {},
     "output_type": "execute_result"
    }
   ],
   "source": [
    "train_dataset[1]"
   ]
  }
 ],
 "metadata": {
  "kernelspec": {
   "display_name": "Python 3",
   "language": "python",
   "name": "python3"
  },
  "language_info": {
   "codemirror_mode": {
    "name": "ipython",
    "version": 3
   },
   "file_extension": ".py",
   "mimetype": "text/x-python",
   "name": "python",
   "nbconvert_exporter": "python",
   "pygments_lexer": "ipython3",
   "version": "3.8.8"
  },
  "latex_envs": {
   "LaTeX_envs_menu_present": true,
   "autoclose": false,
   "autocomplete": true,
   "bibliofile": "biblio.bib",
   "cite_by": "apalike",
   "current_citInitial": 1,
   "eqLabelWithNumbers": true,
   "eqNumInitial": 1,
   "hotkeys": {
    "equation": "Ctrl-E",
    "itemize": "Ctrl-I"
   },
   "labels_anchors": false,
   "latex_user_defs": false,
   "report_style_numbering": false,
   "user_envs_cfg": false
  }
 },
 "nbformat": 4,
 "nbformat_minor": 1
}
