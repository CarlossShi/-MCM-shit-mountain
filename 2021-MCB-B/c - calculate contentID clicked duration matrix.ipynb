{
 "cells": [
  {
   "cell_type": "code",
   "execution_count": 1,
   "metadata": {},
   "outputs": [],
   "source": [
    "import pickle\n",
    "import numpy as np\n",
    "import pandas as pd\n",
    "from tqdm import tqdm\n",
    "import time\n",
    "\n",
    "import seaborn as sns\n",
    "import matplotlib.pyplot as plt\n",
    "from matplotlib import font_manager\n",
    "%matplotlib inline"
   ]
  },
  {
   "cell_type": "code",
   "execution_count": 2,
   "metadata": {},
   "outputs": [],
   "source": [
    "data_path = 'mathorcup_recom_listwise/data/'"
   ]
  },
  {
   "cell_type": "code",
   "execution_count": 3,
   "metadata": {
    "scrolled": false
   },
   "outputs": [
    {
     "data": {
      "text/plain": [
       "(2510703, 1484)"
      ]
     },
     "execution_count": 3,
     "metadata": {},
     "output_type": "execute_result"
    }
   ],
   "source": [
    "with open(data_path + 'contentID2idx.pickle', 'rb') as handle:\n",
    "    contentID2idx = pickle.load(handle)\n",
    "len(contentID2idx), max(contentID2idx.values())"
   ]
  },
  {
   "cell_type": "markdown",
   "metadata": {},
   "source": [
    "# Create One-on-One Content ID to & from Index Mapping"
   ]
  },
  {
   "cell_type": "code",
   "execution_count": 8,
   "metadata": {
    "scrolled": true
   },
   "outputs": [
    {
     "data": {
      "text/html": [
       "<div>\n",
       "<style scoped>\n",
       "    .dataframe tbody tr th:only-of-type {\n",
       "        vertical-align: middle;\n",
       "    }\n",
       "\n",
       "    .dataframe tbody tr th {\n",
       "        vertical-align: top;\n",
       "    }\n",
       "\n",
       "    .dataframe thead th {\n",
       "        text-align: right;\n",
       "    }\n",
       "</style>\n",
       "<table border=\"1\" class=\"dataframe\">\n",
       "  <thead>\n",
       "    <tr style=\"text-align: right;\">\n",
       "      <th></th>\n",
       "      <th>contentID</th>\n",
       "      <th>contentType</th>\n",
       "      <th>contentCategory</th>\n",
       "    </tr>\n",
       "  </thead>\n",
       "  <tbody>\n",
       "    <tr>\n",
       "      <th>0</th>\n",
       "      <td>124564892986</td>\n",
       "      <td>video</td>\n",
       "      <td>历史/中国史</td>\n",
       "    </tr>\n",
       "    <tr>\n",
       "      <th>1</th>\n",
       "      <td>124564906548</td>\n",
       "      <td>video</td>\n",
       "      <td>科学/动植物与微生物</td>\n",
       "    </tr>\n",
       "    <tr>\n",
       "      <th>2</th>\n",
       "      <td>124564909185</td>\n",
       "      <td>video</td>\n",
       "      <td>科学/动植物与微生物</td>\n",
       "    </tr>\n",
       "    <tr>\n",
       "      <th>3</th>\n",
       "      <td>124564912145</td>\n",
       "      <td>video</td>\n",
       "      <td>科学/动植物与微生物</td>\n",
       "    </tr>\n",
       "    <tr>\n",
       "      <th>4</th>\n",
       "      <td>124564932495</td>\n",
       "      <td>video</td>\n",
       "      <td>科学/动植物与微生物</td>\n",
       "    </tr>\n",
       "    <tr>\n",
       "      <th>...</th>\n",
       "      <td>...</td>\n",
       "      <td>...</td>\n",
       "      <td>...</td>\n",
       "    </tr>\n",
       "    <tr>\n",
       "      <th>2510698</th>\n",
       "      <td>509523681</td>\n",
       "      <td>news</td>\n",
       "      <td>情感/婚姻与家庭</td>\n",
       "    </tr>\n",
       "    <tr>\n",
       "      <th>2510699</th>\n",
       "      <td>509523744</td>\n",
       "      <td>news</td>\n",
       "      <td>科技/互联网</td>\n",
       "    </tr>\n",
       "    <tr>\n",
       "      <th>2510700</th>\n",
       "      <td>509524347</td>\n",
       "      <td>news</td>\n",
       "      <td>科技/数码产品</td>\n",
       "    </tr>\n",
       "    <tr>\n",
       "      <th>2510701</th>\n",
       "      <td>509524365</td>\n",
       "      <td>news</td>\n",
       "      <td>国际/国际趣闻</td>\n",
       "    </tr>\n",
       "    <tr>\n",
       "      <th>2510702</th>\n",
       "      <td>509524914</td>\n",
       "      <td>news</td>\n",
       "      <td>情感/婚姻与家庭</td>\n",
       "    </tr>\n",
       "  </tbody>\n",
       "</table>\n",
       "<p>2510703 rows × 3 columns</p>\n",
       "</div>"
      ],
      "text/plain": [
       "            contentID contentType contentCategory\n",
       "0        124564892986       video          历史/中国史\n",
       "1        124564906548       video      科学/动植物与微生物\n",
       "2        124564909185       video      科学/动植物与微生物\n",
       "3        124564912145       video      科学/动植物与微生物\n",
       "4        124564932495       video      科学/动植物与微生物\n",
       "...               ...         ...             ...\n",
       "2510698     509523681        news        情感/婚姻与家庭\n",
       "2510699     509523744        news          科技/互联网\n",
       "2510700     509524347        news         科技/数码产品\n",
       "2510701     509524365        news         国际/国际趣闻\n",
       "2510702     509524914        news        情感/婚姻与家庭\n",
       "\n",
       "[2510703 rows x 3 columns]"
      ]
     },
     "execution_count": 8,
     "metadata": {},
     "output_type": "execute_result"
    }
   ],
   "source": [
    "doc_info = pd.read_csv(data_path + 'doc_info.csv', dtype=str)\n",
    "doc_info"
   ]
  },
  {
   "cell_type": "code",
   "execution_count": 19,
   "metadata": {},
   "outputs": [],
   "source": [
    "contentID2idx_1on1 = dict()\n",
    "contentIdx2ID_1on1 = dict()"
   ]
  },
  {
   "cell_type": "code",
   "execution_count": 22,
   "metadata": {},
   "outputs": [
    {
     "name": "stderr",
     "output_type": "stream",
     "text": [
      "2510703it [02:03, 20402.56it/s]\n"
     ]
    }
   ],
   "source": [
    "# 2510703it [02:03, 20402.56it/s]\n",
    "for _, row in tqdm(doc_info.iterrows()):\n",
    "    cID, cT, cC = row\n",
    "    contentID2idx_1on1[cID] = _\n",
    "    contentIdx2ID_1on1[_] = cID"
   ]
  },
  {
   "cell_type": "code",
   "execution_count": 25,
   "metadata": {},
   "outputs": [
    {
     "data": {
      "text/plain": [
       "('124564892986', 0)"
      ]
     },
     "execution_count": 25,
     "metadata": {},
     "output_type": "execute_result"
    }
   ],
   "source": [
    "contentIdx2ID_1on1[0], contentID2idx_1on1[contentIdx2ID_1on1[0]]"
   ]
  },
  {
   "cell_type": "code",
   "execution_count": 23,
   "metadata": {},
   "outputs": [
    {
     "data": {
      "text/plain": [
       "(2510703, 2510703)"
      ]
     },
     "execution_count": 23,
     "metadata": {},
     "output_type": "execute_result"
    }
   ],
   "source": [
    "len(contentID2idx_1on1), len(contentIdx2ID_1on1)"
   ]
  },
  {
   "cell_type": "code",
   "execution_count": 26,
   "metadata": {},
   "outputs": [],
   "source": [
    "with open(data_path + 'contentID2idx_1on1.pickle', 'wb') as handle:\n",
    "    pickle.dump(contentID2idx_1on1, handle, protocol=pickle.HIGHEST_PROTOCOL)\n",
    "with open(data_path + 'contentIdx2ID_1on1.pickle', 'wb') as handle:\n",
    "    pickle.dump(contentIdx2ID_1on1, handle, protocol=pickle.HIGHEST_PROTOCOL)"
   ]
  },
  {
   "cell_type": "markdown",
   "metadata": {},
   "source": [
    "# Calculate Content ID Clicked / Duration Matrix"
   ]
  },
  {
   "cell_type": "code",
   "execution_count": 7,
   "metadata": {
    "scrolled": false
   },
   "outputs": [
    {
     "ename": "ParserError",
     "evalue": "Error tokenizing data. C error: Calling read(nbytes) on source failed. Try engine='python'.",
     "output_type": "error",
     "traceback": [
      "\u001b[1;31m---------------------------------------------------------------------------\u001b[0m",
      "\u001b[1;31mParserError\u001b[0m                               Traceback (most recent call last)",
      "\u001b[1;32m<ipython-input-7-bafbb2e27e46>\u001b[0m in \u001b[0;36m<module>\u001b[1;34m\u001b[0m\n\u001b[1;32m----> 1\u001b[1;33m \u001b[0mtrain_df\u001b[0m \u001b[1;33m=\u001b[0m \u001b[0mpd\u001b[0m\u001b[1;33m.\u001b[0m\u001b[0mread_csv\u001b[0m\u001b[1;33m(\u001b[0m\u001b[0mdata_path\u001b[0m \u001b[1;33m+\u001b[0m \u001b[1;34m'train_data.csv'\u001b[0m\u001b[1;33m,\u001b[0m \u001b[0mdtype\u001b[0m\u001b[1;33m=\u001b[0m\u001b[0mstr\u001b[0m\u001b[1;33m)\u001b[0m\u001b[1;33m\u001b[0m\u001b[1;33m\u001b[0m\u001b[0m\n\u001b[0m\u001b[0;32m      2\u001b[0m \u001b[0mtrain_df\u001b[0m\u001b[1;33m\u001b[0m\u001b[1;33m\u001b[0m\u001b[0m\n",
      "\u001b[1;32mE:\\anaconda3\\lib\\site-packages\\pandas\\io\\parsers.py\u001b[0m in \u001b[0;36mread_csv\u001b[1;34m(filepath_or_buffer, sep, delimiter, header, names, index_col, usecols, squeeze, prefix, mangle_dupe_cols, dtype, engine, converters, true_values, false_values, skipinitialspace, skiprows, skipfooter, nrows, na_values, keep_default_na, na_filter, verbose, skip_blank_lines, parse_dates, infer_datetime_format, keep_date_col, date_parser, dayfirst, cache_dates, iterator, chunksize, compression, thousands, decimal, lineterminator, quotechar, quoting, doublequote, escapechar, comment, encoding, dialect, error_bad_lines, warn_bad_lines, delim_whitespace, low_memory, memory_map, float_precision, storage_options)\u001b[0m\n\u001b[0;32m    608\u001b[0m     \u001b[0mkwds\u001b[0m\u001b[1;33m.\u001b[0m\u001b[0mupdate\u001b[0m\u001b[1;33m(\u001b[0m\u001b[0mkwds_defaults\u001b[0m\u001b[1;33m)\u001b[0m\u001b[1;33m\u001b[0m\u001b[1;33m\u001b[0m\u001b[0m\n\u001b[0;32m    609\u001b[0m \u001b[1;33m\u001b[0m\u001b[0m\n\u001b[1;32m--> 610\u001b[1;33m     \u001b[1;32mreturn\u001b[0m \u001b[0m_read\u001b[0m\u001b[1;33m(\u001b[0m\u001b[0mfilepath_or_buffer\u001b[0m\u001b[1;33m,\u001b[0m \u001b[0mkwds\u001b[0m\u001b[1;33m)\u001b[0m\u001b[1;33m\u001b[0m\u001b[1;33m\u001b[0m\u001b[0m\n\u001b[0m\u001b[0;32m    611\u001b[0m \u001b[1;33m\u001b[0m\u001b[0m\n\u001b[0;32m    612\u001b[0m \u001b[1;33m\u001b[0m\u001b[0m\n",
      "\u001b[1;32mE:\\anaconda3\\lib\\site-packages\\pandas\\io\\parsers.py\u001b[0m in \u001b[0;36m_read\u001b[1;34m(filepath_or_buffer, kwds)\u001b[0m\n\u001b[0;32m    466\u001b[0m \u001b[1;33m\u001b[0m\u001b[0m\n\u001b[0;32m    467\u001b[0m     \u001b[1;32mwith\u001b[0m \u001b[0mparser\u001b[0m\u001b[1;33m:\u001b[0m\u001b[1;33m\u001b[0m\u001b[1;33m\u001b[0m\u001b[0m\n\u001b[1;32m--> 468\u001b[1;33m         \u001b[1;32mreturn\u001b[0m \u001b[0mparser\u001b[0m\u001b[1;33m.\u001b[0m\u001b[0mread\u001b[0m\u001b[1;33m(\u001b[0m\u001b[0mnrows\u001b[0m\u001b[1;33m)\u001b[0m\u001b[1;33m\u001b[0m\u001b[1;33m\u001b[0m\u001b[0m\n\u001b[0m\u001b[0;32m    469\u001b[0m \u001b[1;33m\u001b[0m\u001b[0m\n\u001b[0;32m    470\u001b[0m \u001b[1;33m\u001b[0m\u001b[0m\n",
      "\u001b[1;32mE:\\anaconda3\\lib\\site-packages\\pandas\\io\\parsers.py\u001b[0m in \u001b[0;36mread\u001b[1;34m(self, nrows)\u001b[0m\n\u001b[0;32m   1055\u001b[0m     \u001b[1;32mdef\u001b[0m \u001b[0mread\u001b[0m\u001b[1;33m(\u001b[0m\u001b[0mself\u001b[0m\u001b[1;33m,\u001b[0m \u001b[0mnrows\u001b[0m\u001b[1;33m=\u001b[0m\u001b[1;32mNone\u001b[0m\u001b[1;33m)\u001b[0m\u001b[1;33m:\u001b[0m\u001b[1;33m\u001b[0m\u001b[1;33m\u001b[0m\u001b[0m\n\u001b[0;32m   1056\u001b[0m         \u001b[0mnrows\u001b[0m \u001b[1;33m=\u001b[0m \u001b[0mvalidate_integer\u001b[0m\u001b[1;33m(\u001b[0m\u001b[1;34m\"nrows\"\u001b[0m\u001b[1;33m,\u001b[0m \u001b[0mnrows\u001b[0m\u001b[1;33m)\u001b[0m\u001b[1;33m\u001b[0m\u001b[1;33m\u001b[0m\u001b[0m\n\u001b[1;32m-> 1057\u001b[1;33m         \u001b[0mindex\u001b[0m\u001b[1;33m,\u001b[0m \u001b[0mcolumns\u001b[0m\u001b[1;33m,\u001b[0m \u001b[0mcol_dict\u001b[0m \u001b[1;33m=\u001b[0m \u001b[0mself\u001b[0m\u001b[1;33m.\u001b[0m\u001b[0m_engine\u001b[0m\u001b[1;33m.\u001b[0m\u001b[0mread\u001b[0m\u001b[1;33m(\u001b[0m\u001b[0mnrows\u001b[0m\u001b[1;33m)\u001b[0m\u001b[1;33m\u001b[0m\u001b[1;33m\u001b[0m\u001b[0m\n\u001b[0m\u001b[0;32m   1058\u001b[0m \u001b[1;33m\u001b[0m\u001b[0m\n\u001b[0;32m   1059\u001b[0m         \u001b[1;32mif\u001b[0m \u001b[0mindex\u001b[0m \u001b[1;32mis\u001b[0m \u001b[1;32mNone\u001b[0m\u001b[1;33m:\u001b[0m\u001b[1;33m\u001b[0m\u001b[1;33m\u001b[0m\u001b[0m\n",
      "\u001b[1;32mE:\\anaconda3\\lib\\site-packages\\pandas\\io\\parsers.py\u001b[0m in \u001b[0;36mread\u001b[1;34m(self, nrows)\u001b[0m\n\u001b[0;32m   2059\u001b[0m     \u001b[1;32mdef\u001b[0m \u001b[0mread\u001b[0m\u001b[1;33m(\u001b[0m\u001b[0mself\u001b[0m\u001b[1;33m,\u001b[0m \u001b[0mnrows\u001b[0m\u001b[1;33m=\u001b[0m\u001b[1;32mNone\u001b[0m\u001b[1;33m)\u001b[0m\u001b[1;33m:\u001b[0m\u001b[1;33m\u001b[0m\u001b[1;33m\u001b[0m\u001b[0m\n\u001b[0;32m   2060\u001b[0m         \u001b[1;32mtry\u001b[0m\u001b[1;33m:\u001b[0m\u001b[1;33m\u001b[0m\u001b[1;33m\u001b[0m\u001b[0m\n\u001b[1;32m-> 2061\u001b[1;33m             \u001b[0mdata\u001b[0m \u001b[1;33m=\u001b[0m \u001b[0mself\u001b[0m\u001b[1;33m.\u001b[0m\u001b[0m_reader\u001b[0m\u001b[1;33m.\u001b[0m\u001b[0mread\u001b[0m\u001b[1;33m(\u001b[0m\u001b[0mnrows\u001b[0m\u001b[1;33m)\u001b[0m\u001b[1;33m\u001b[0m\u001b[1;33m\u001b[0m\u001b[0m\n\u001b[0m\u001b[0;32m   2062\u001b[0m         \u001b[1;32mexcept\u001b[0m \u001b[0mStopIteration\u001b[0m\u001b[1;33m:\u001b[0m\u001b[1;33m\u001b[0m\u001b[1;33m\u001b[0m\u001b[0m\n\u001b[0;32m   2063\u001b[0m             \u001b[1;32mif\u001b[0m \u001b[0mself\u001b[0m\u001b[1;33m.\u001b[0m\u001b[0m_first_chunk\u001b[0m\u001b[1;33m:\u001b[0m\u001b[1;33m\u001b[0m\u001b[1;33m\u001b[0m\u001b[0m\n",
      "\u001b[1;32mpandas\\_libs\\parsers.pyx\u001b[0m in \u001b[0;36mpandas._libs.parsers.TextReader.read\u001b[1;34m()\u001b[0m\n",
      "\u001b[1;32mpandas\\_libs\\parsers.pyx\u001b[0m in \u001b[0;36mpandas._libs.parsers.TextReader._read_low_memory\u001b[1;34m()\u001b[0m\n",
      "\u001b[1;32mpandas\\_libs\\parsers.pyx\u001b[0m in \u001b[0;36mpandas._libs.parsers.TextReader._read_rows\u001b[1;34m()\u001b[0m\n",
      "\u001b[1;32mpandas\\_libs\\parsers.pyx\u001b[0m in \u001b[0;36mpandas._libs.parsers.TextReader._tokenize_rows\u001b[1;34m()\u001b[0m\n",
      "\u001b[1;32mpandas\\_libs\\parsers.pyx\u001b[0m in \u001b[0;36mpandas._libs.parsers.raise_parser_error\u001b[1;34m()\u001b[0m\n",
      "\u001b[1;31mParserError\u001b[0m: Error tokenizing data. C error: Calling read(nbytes) on source failed. Try engine='python'."
     ]
    }
   ],
   "source": [
    "train_df = pd.read_csv(data_path + 'train_data.csv', dtype=str)\n",
    "train_df"
   ]
  },
  {
   "cell_type": "code",
   "execution_count": 36,
   "metadata": {
    "scrolled": true
   },
   "outputs": [
    {
     "name": "stderr",
     "output_type": "stream",
     "text": [
      "31298940it [53:39, 9722.91it/s] \n"
     ]
    }
   ],
   "source": [
    "# 31298940it [53:39, 9722.91it/s] \n",
    "congtentID_clickedSum_matrix = np.zeros([len(contentID2idx_1on1), 24], dtype=int)\n",
    "congtentID_durationSum_matrix = np.zeros([len(contentID2idx_1on1), 24])\n",
    "for index, row in tqdm(train_df.iterrows()):\n",
    "    t = int(row['time'])\n",
    "    for icd in row['sequence'].split(';'):\n",
    "        i, c, d = icd.split(':')\n",
    "        contentIdx = contentID2idx_1on1[i]\n",
    "        if eval(c):\n",
    "            congtentID_clickedSum_matrix[contentIdx, t - 1] += 1\n",
    "            congtentID_durationSum_matrix[contentIdx, t - 1] += eval(d)"
   ]
  },
  {
   "cell_type": "code",
   "execution_count": 66,
   "metadata": {},
   "outputs": [],
   "source": [
    "with open(data_path + 'congtentID_clickedSum_matrix.npy', 'wb') as f:\n",
    "    np.save(f, congtentID_clickedSum_matrix)\n",
    "with open(data_path + 'congtentID_durationSum_matrix.npy', 'wb') as f:\n",
    "    np.save(f, congtentID_durationSum_matrix)"
   ]
  },
  {
   "cell_type": "code",
   "execution_count": 67,
   "metadata": {
    "scrolled": true
   },
   "outputs": [
    {
     "data": {
      "text/plain": [
       "(1176948, '133686197219')"
      ]
     },
     "execution_count": 67,
     "metadata": {},
     "output_type": "execute_result"
    }
   ],
   "source": [
    "contentIdx, i"
   ]
  },
  {
   "cell_type": "code",
   "execution_count": 39,
   "metadata": {
    "scrolled": false
   },
   "outputs": [
    {
     "data": {
      "text/plain": [
       "array([ 550., 1479., 1347., 1422., 1150., 3395., 2038., 3174., 2024.,\n",
       "       3678., 2347., 2943., 3399., 3122., 3247., 2075., 3335., 3852.,\n",
       "       4955., 5987., 5581., 3962., 2588.,  901.])"
      ]
     },
     "execution_count": 39,
     "metadata": {},
     "output_type": "execute_result"
    }
   ],
   "source": [
    "congtentID_durationSum_matrix[40453]"
   ]
  },
  {
   "cell_type": "code",
   "execution_count": 12,
   "metadata": {},
   "outputs": [],
   "source": [
    "with open(data_path + 'contentID2idx_1on1.pickle', 'rb') as handle:\n",
    "    contentID2idx_1on1 = pickle.load(handle)\n",
    "congtentID_durationSum_matrix = np.load(data_path + 'congtentID_durationSum_matrix.npy')\n",
    "congtentID_clickedSum_matrix = np.load(data_path + 'congtentID_clickedSum_matrix.npy')"
   ]
  },
  {
   "cell_type": "code",
   "execution_count": 39,
   "metadata": {},
   "outputs": [
    {
     "data": {
      "image/png": "[encoded data removed]",
      "text/plain": [
       "<Figure size 432x288 with 2 Axes>"
      ]
     },
     "metadata": {
      "needs_background": "light"
     },
     "output_type": "display_data"
    }
   ],
   "source": [
    "candidates = np.random.choice(range(len(contentID2idx_1on1)), 20)\n",
    "dense_candidates_IDs = ['506157424', '133667011758', '133682848643', '133681956014', '133677237470',\n",
    "                       '507252369', '507008230', '133679166545', '507811891', '133675949884',\n",
    "                       '508054190', '133674302589', '133675988964', '133640829930', '133675490128',\n",
    "                       '133674578821', '133677875296', '133657902268', '507143056', '133672778400']\n",
    "#candidates = [contentID2idx_1on1[_] for _ in dense_candidates_IDs]\n",
    "xticklabels = range(1, 25)\n",
    "yticklabels = [str(doc_info.loc[_, 'contentID']) + ': ' +\n",
    "               doc_info.loc[_, 'contentType'][0] + \n",
    "               doc_info.loc[_, 'contentCategory'] for _ in candidates]\n",
    "fontP = font_manager.FontProperties()\n",
    "fontP.set_family('SimHei')\n",
    "\n",
    "title = 'Average Duration({})'.format(time.strftime('%Y%m%d-%H%M%S'))\n",
    "ax = sns.heatmap(congtentID_durationSum_matrix[candidates] / (congtentID_clickedSum_matrix[candidates] + 1e-6), xticklabels=xticklabels)\n",
    "ax.set_yticklabels(yticklabels, fontproperties=fontP)\n",
    "ax.set_title(title)\n",
    "plt.savefig('images/{}.png'.format(title), bbox_inches='tight')"
   ]
  },
  {
   "cell_type": "code",
   "execution_count": 133,
   "metadata": {},
   "outputs": [
    {
     "data": {
      "text/plain": [
       "(array([0, 0, 0, 0, 0, 1, 0, 0, 0, 0, 0, 0, 0, 0, 0, 0, 0, 0, 0, 0, 0, 0,\n",
       "        0, 0]),\n",
       " array([ 0.,  0.,  0.,  0.,  0., 24.,  0.,  0.,  0.,  0.,  0.,  0.,  0.,\n",
       "         0.,  0.,  0.,  0.,  0.,  0.,  0.,  0.,  0.,  0.,  0.]),\n",
       " array([ 0.      ,  0.      ,  0.      ,  0.      ,  0.      , 23.999976,\n",
       "         0.      ,  0.      ,  0.      ,  0.      ,  0.      ,  0.      ,\n",
       "         0.      ,  0.      ,  0.      ,  0.      ,  0.      ,  0.      ,\n",
       "         0.      ,  0.      ,  0.      ,  0.      ,  0.      ,  0.      ]))"
      ]
     },
     "execution_count": 133,
     "metadata": {},
     "output_type": "execute_result"
    }
   ],
   "source": [
    "temp = 1229587\n",
    "congtentID_clickedSum_matrix[temp], congtentID_durationSum_matrix[temp], \\\n",
    "congtentID_durationSum_matrix[temp] / (congtentID_clickedSum_matrix[temp] + 1e-6)"
   ]
  },
  {
   "cell_type": "code",
   "execution_count": 129,
   "metadata": {
    "scrolled": true
   },
   "outputs": [
    {
     "data": {
      "text/plain": [
       "[(955762, '506935575: n游戏/主播明星'),\n",
       " (2091326, '133671329564: v综艺/内地综艺'),\n",
       " (443847, '506442895: n健康/养生与保健'),\n",
       " (38593, '133659799734: v电影/欧美电影'),\n",
       " (315515, '133666896898: v美食/吃饭'),\n",
       " (732310, '508318539: n综艺/内地综艺'),\n",
       " (1229587, '508064731: n健康/疾病防护治疗及西医用药'),\n",
       " (1095028, '133672993731: v搞笑/其他'),\n",
       " (1871557, '133676957178: v颜值才艺/民间大神'),\n",
       " (554458, '133663783044: v财经/股票与投资'),\n",
       " (1662416, '133683280051: v汽车/汽车资讯'),\n",
       " (1120428, '133677368330: v宠物/宠物猫'),\n",
       " (1181621, '133686799239: v文化艺术/文玩收藏'),\n",
       " (2127918, '133677688375: v搞笑/搞笑自制剧'),\n",
       " (1794623, '133658918342: v电视剧/内地剧'),\n",
       " (979884, '508161318: n两性/两性健康'),\n",
       " (346761, '133674122884: v军事/军事新闻'),\n",
       " (1458594, '506949167: n教育/中学'),\n",
       " (1302203, '133661904693: v综艺/内地综艺'),\n",
       " (722194, '507785994: n汽车/汽车资讯')]"
      ]
     },
     "execution_count": 129,
     "metadata": {},
     "output_type": "execute_result"
    }
   ],
   "source": [
    "list(zip(candidates, yticklabels))"
   ]
  },
  {
   "cell_type": "markdown",
   "metadata": {},
   "source": [
    "# Calculate Content Score Vector (of size 2510701)"
   ]
  },
  {
   "cell_type": "code",
   "execution_count": 101,
   "metadata": {},
   "outputs": [],
   "source": [
    "def time_distance(src, tgt, denominator=12):\n",
    "    \"\"\"\n",
    "    :return: range in [0, 12 / denominator]\n",
    "    \"\"\"\n",
    "    a, b = (src, tgt) if src < tgt else (tgt, src)  # a < b\n",
    "    return min(b-a, a + 24 - b) / denominator"
   ]
  },
  {
   "cell_type": "code",
   "execution_count": 140,
   "metadata": {},
   "outputs": [
    {
     "data": {
      "text/plain": [
       "(0.8333333333333334, 0.16666666666666666, 0.16666666666666666, 0.0)"
      ]
     },
     "execution_count": 140,
     "metadata": {},
     "output_type": "execute_result"
    }
   ],
   "source": [
    "time_distance(20,6), time_distance(23,1), time_distance(23,1), time_distance(eval('0'),0)"
   ]
  },
  {
   "cell_type": "code",
   "execution_count": 108,
   "metadata": {},
   "outputs": [],
   "source": [
    "congtentID_durationAvg_matrix = congtentID_durationSum_matrix / (congtentID_clickedSum_matrix + 1e-6)\n",
    "with open(data_path + 'congtentID_durationAvg_matrix.npy', 'wb') as f:\n",
    "    np.save(f, congtentID_durationAvg_matrix)"
   ]
  },
  {
   "cell_type": "code",
   "execution_count": 119,
   "metadata": {
    "scrolled": true
   },
   "outputs": [
    {
     "name": "stderr",
     "output_type": "stream",
     "text": [
      "2510703it [00:41, 60128.49it/s]\n"
     ]
    }
   ],
   "source": [
    "# 2510703it [00:41, 60128.49it/s]\n",
    "contentScore = np.zeros(len(contentID2idx_1on1))\n",
    "denominator = sum([time_distance(_, 20) for _ in range(1, 25)])  # 12\n",
    "for index, row in tqdm(enumerate(congtentID_durationAvg_matrix)):\n",
    "    numerator = 0\n",
    "    for h, e in enumerate(row):\n",
    "        numerator += (1 - time_distance(h + 1, 20)) * e\n",
    "    contentScore[index] = numerator / denominator"
   ]
  },
  {
   "cell_type": "code",
   "execution_count": 139,
   "metadata": {},
   "outputs": [
    {
     "data": {
      "text/plain": [
       "(array([ 0.      ,  0.      ,  0.      ,  0.      ,  0.      , 23.999976,\n",
       "         0.      ,  0.      ,  0.      ,  0.      ,  0.      ,  0.      ,\n",
       "         0.      ,  0.      ,  0.      ,  0.      ,  0.      ,  0.      ,\n",
       "         0.      ,  0.      ,  0.      ,  0.      ,  0.      ,  0.      ]),\n",
       " 0.3333330000003332)"
      ]
     },
     "execution_count": 139,
     "metadata": {},
     "output_type": "execute_result"
    }
   ],
   "source": [
    "temp = 1229587\n",
    "congtentID_durationAvg_matrix[temp], contentScore[temp]"
   ]
  },
  {
   "cell_type": "code",
   "execution_count": 122,
   "metadata": {
    "scrolled": false
   },
   "outputs": [
    {
     "data": {
      "text/plain": [
       "(array([2.473312e+06, 3.104800e+04, 5.155000e+03, 9.110000e+02,\n",
       "        2.190000e+02, 4.200000e+01, 8.000000e+00, 6.000000e+00,\n",
       "        0.000000e+00, 2.000000e+00]),\n",
       " array([   0.        ,  153.67278456,  307.34556912,  461.01835369,\n",
       "         614.69113825,  768.36392281,  922.03670737, 1075.70949194,\n",
       "        1229.3822765 , 1383.05506106, 1536.72784562]),\n",
       " <BarContainer object of 10 artists>)"
      ]
     },
     "execution_count": 122,
     "metadata": {},
     "output_type": "execute_result"
    },
    {
     "data": {
      "image/png": "[encoded data removed]",
      "text/plain": [
       "<Figure size 432x288 with 1 Axes>"
      ]
     },
     "metadata": {
      "needs_background": "light"
     },
     "output_type": "display_data"
    }
   ],
   "source": [
    "plt.hist(contentScore, bins=10)"
   ]
  },
  {
   "cell_type": "code",
   "execution_count": 146,
   "metadata": {},
   "outputs": [],
   "source": [
    "with open(data_path + 'contentScore.npy', 'wb') as f:\n",
    "    np.save(f, contentScore)"
   ]
  }
 ],
 "metadata": {
  "kernelspec": {
   "display_name": "Python 3",
   "language": "python",
   "name": "python3"
  },
  "language_info": {
   "codemirror_mode": {
    "name": "ipython",
    "version": 3
   },
   "file_extension": ".py",
   "mimetype": "text/x-python",
   "name": "python",
   "nbconvert_exporter": "python",
   "pygments_lexer": "ipython3",
   "version": "3.8.8"
  },
  "latex_envs": {
   "LaTeX_envs_menu_present": true,
   "autoclose": false,
   "autocomplete": true,
   "bibliofile": "biblio.bib",
   "cite_by": "apalike",
   "current_citInitial": 1,
   "eqLabelWithNumbers": true,
   "eqNumInitial": 1,
   "hotkeys": {
    "equation": "Ctrl-E",
    "itemize": "Ctrl-I"
   },
   "labels_anchors": false,
   "latex_user_defs": false,
   "report_style_numbering": false,
   "user_envs_cfg": false
  }
 },
 "nbformat": 4,
 "nbformat_minor": 1
}
