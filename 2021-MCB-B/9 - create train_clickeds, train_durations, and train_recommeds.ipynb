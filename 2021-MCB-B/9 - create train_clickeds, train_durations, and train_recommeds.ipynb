{
 "cells": [
  {
   "cell_type": "code",
   "execution_count": 1,
   "metadata": {},
   "outputs": [],
   "source": [
    "import numpy as np\n",
    "import pickle\n",
    "import os\n",
    "import tqdm\n",
    "import pandas as pd"
   ]
  },
  {
   "cell_type": "code",
   "execution_count": 2,
   "metadata": {},
   "outputs": [],
   "source": [
    "import matplotlib.pyplot as plt\n",
    "from matplotlib import font_manager\n",
    "%matplotlib inline"
   ]
  },
  {
   "cell_type": "code",
   "execution_count": 3,
   "metadata": {},
   "outputs": [],
   "source": [
    "data_path = 'mathorcup_recom_listwise/data/'\n",
    "user_path = 'data_splitted_by_user_id'"
   ]
  },
  {
   "cell_type": "code",
   "execution_count": 4,
   "metadata": {},
   "outputs": [
    {
     "data": {
      "text/plain": [
       "958123"
      ]
     },
     "execution_count": 4,
     "metadata": {},
     "output_type": "execute_result"
    }
   ],
   "source": [
    "if not os.path.exists(data_path + 'userID2idx.pickle'):\n",
    "    train_df = pd.read_csv(data_path + 'train_data.csv', dtype=str)\n",
    "    train_userID = set(train_df.loc[:, 'userID'])\n",
    "    userID2idx = {_: str(i).zfill(7) for i, _ in enumerate(train_userID)}\n",
    "    with open(data_path + 'userID2idx.pickle', 'wb') as handle:\n",
    "        pickle.dump(userID2idx, handle, protocol=pickle.HIGHEST_PROTOCOL)\n",
    "with open(data_path + 'userID2idx.pickle', 'rb') as handle:\n",
    "    userID2idx = pickle.load(handle)\n",
    "len(userID2idx)"
   ]
  },
  {
   "cell_type": "code",
   "execution_count": 5,
   "metadata": {},
   "outputs": [
    {
     "data": {
      "text/plain": [
       "958123"
      ]
     },
     "execution_count": 5,
     "metadata": {},
     "output_type": "execute_result"
    }
   ],
   "source": [
    "if not os.path.exists(data_path + 'userIdx2ID.pickle'):\n",
    "    userIdx2ID = dict()\n",
    "    for k, v in tqdm.tqdm(userID2idx.items()):\n",
    "        userIdx2ID[v] = k\n",
    "    with open(data_path + 'userIdx2ID.pickle', 'wb') as handle:\n",
    "        pickle.dump(userIdx2ID, handle, protocol=pickle.HIGHEST_PROTOCOL)\n",
    "with open(data_path + 'userIdx2ID.pickle', 'rb') as handle:\n",
    "    userIdx2ID = pickle.load(handle)\n",
    "len(userIdx2ID)"
   ]
  },
  {
   "cell_type": "code",
   "execution_count": 6,
   "metadata": {},
   "outputs": [],
   "source": [
    "# with open(data_path + 'contentTC2ID.pickle', 'rb') as handle:\n",
    "#     contentTC2ID = pickle.load(handle)\n",
    "with open(data_path + 'contentID2idx.pickle', 'rb') as handle:\n",
    "    contentID2idx = pickle.load(handle)\n",
    "# with open(data_path + 'key2idx.pickle', 'rb') as handle:\n",
    "#     key2idx = pickle.load(handle)"
   ]
  },
  {
   "cell_type": "code",
   "execution_count": 7,
   "metadata": {
    "scrolled": true
   },
   "outputs": [],
   "source": [
    "train_clickeds = np.empty([958123, 1485], dtype=np.float32)\n",
    "train_clickeds[:] = np.nan\n",
    "train_durations = np.empty([958123, 1485], dtype=np.float32)\n",
    "train_durations[:] = np.nan\n",
    "train_recommeds = np.zeros([958123, 1485], dtype=np.int32)"
   ]
  },
  {
   "cell_type": "code",
   "execution_count": 8,
   "metadata": {
    "pycharm": {
     "is_executing": true
    },
    "scrolled": false
   },
   "outputs": [
    {
     "name": "stderr",
     "output_type": "stream",
     "text": [
      "100%|██████████| 96/96 [54:01<00:00, 33.77s/it]\n"
     ]
    }
   ],
   "source": [
    "count = 0\n",
    "for aaa in tqdm.tqdm(os.listdir(user_path)):\n",
    "    for bb in os.listdir(user_path + '/{}'.format(aaa)):\n",
    "        for cc in os.listdir(user_path + '/{}/{}'.format(aaa, bb)):\n",
    "            userIdx = aaa + bb + cc[:-4]\n",
    "            temp_df = pd.read_csv('data_splitted_by_user_id/{}/{}/{}.csv'.format(aaa, bb, cc[:-4]), dtype=str)\n",
    "            userID = temp_df.loc[0, 'userID']\n",
    "            assert userIdx == userID2idx[userID]\n",
    "            clickeds = np.empty(1485)\n",
    "            clickeds[:] = np.nan\n",
    "            durations = np.empty(1485)\n",
    "            durations[:] = np.nan\n",
    "            recommeds = np.zeros(1485)\n",
    "            for s in temp_df.sequence:\n",
    "                for icd in s.split(';'):\n",
    "                    i, c, d = icd.split(':')\n",
    "                    contentIdx = contentID2idx[i]\n",
    "                    if np.isnan(clickeds[contentIdx]):\n",
    "                        clickeds[contentIdx] = 0\n",
    "                        durations[contentIdx] = 0\n",
    "                    if eval(c):  # recommended and read\n",
    "                        clickeds[contentIdx] += 1\n",
    "                        durations[contentIdx] += eval(d)\n",
    "                    recommeds[contentIdx] += 1\n",
    "            train_clickeds[count, :] = clickeds\n",
    "            train_durations[count, :] = durations\n",
    "            train_recommeds[count, :] = recommeds\n",
    "            count += 1"
   ]
  },
  {
   "cell_type": "code",
   "execution_count": 9,
   "metadata": {},
   "outputs": [],
   "source": [
    "with open(data_path + 'train_clickeds.pickle', 'wb') as handle:\n",
    "    pickle.dump(train_clickeds, handle, protocol=pickle.HIGHEST_PROTOCOL)\n",
    "with open(data_path + 'train_durations.pickle', 'wb') as handle:\n",
    "    pickle.dump(train_durations, handle, protocol=pickle.HIGHEST_PROTOCOL)\n",
    "with open(data_path + 'train_recommeds.pickle', 'wb') as handle:\n",
    "    pickle.dump(train_recommeds, handle, protocol=pickle.HIGHEST_PROTOCOL)"
   ]
  },
  {
   "cell_type": "code",
   "execution_count": 27,
   "metadata": {
    "scrolled": true
   },
   "outputs": [
    {
     "data": {
      "text/plain": [
       "(array([   3,   16,   18,   19,   38,   42,   44,   45,   49,   52,   56,\n",
       "          65,  103,  131,  139,  151,  183,  229,  230,  256,  262,  272,\n",
       "         302,  328,  331,  332,  337,  347,  383,  402,  443,  463,  473,\n",
       "         508,  509,  581,  585,  613,  614,  615,  618,  619,  637,  648,\n",
       "         717,  744,  747,  785,  796,  803,  804,  827,  828,  855,  890,\n",
       "         896,  897,  904,  905,  937,  958,  987, 1012, 1017, 1057, 1072,\n",
       "        1083, 1143, 1159, 1175, 1197, 1211, 1217, 1220, 1253, 1278, 1288,\n",
       "        1342, 1352, 1379, 1391, 1394, 1400, 1409, 1461, 1475], dtype=int64),)"
      ]
     },
     "execution_count": 27,
     "metadata": {},
     "output_type": "execute_result"
    }
   ],
   "source": [
    "np.where(clickeds == 0)"
   ]
  },
  {
   "cell_type": "code",
   "execution_count": 28,
   "metadata": {},
   "outputs": [
    {
     "data": {
      "text/plain": [
       "(array([   3,   16,   18,   19,   38,   42,   44,   45,   49,   52,   56,\n",
       "          65,  103,  131,  139,  151,  183,  229,  230,  256,  262,  272,\n",
       "         302,  328,  331,  332,  337,  347,  383,  402,  443,  463,  473,\n",
       "         508,  509,  581,  585,  613,  614,  615,  618,  619,  637,  648,\n",
       "         717,  744,  747,  785,  796,  803,  804,  827,  828,  855,  890,\n",
       "         896,  897,  904,  905,  937,  958,  987, 1012, 1017, 1057, 1072,\n",
       "        1083, 1143, 1159, 1175, 1197, 1211, 1217, 1220, 1253, 1278, 1288,\n",
       "        1342, 1352, 1379, 1391, 1394, 1400, 1409, 1461, 1475], dtype=int64),)"
      ]
     },
     "execution_count": 28,
     "metadata": {},
     "output_type": "execute_result"
    }
   ],
   "source": [
    "np.where(durations == 0)"
   ]
  },
  {
   "cell_type": "code",
   "execution_count": 25,
   "metadata": {
    "scrolled": false
   },
   "outputs": [
    {
     "data": {
      "text/plain": [
       "<BarContainer object of 1485 artists>"
      ]
     },
     "execution_count": 25,
     "metadata": {},
     "output_type": "execute_result"
    },
    {
     "data": {
      "image/png": "[encoded data removed]",
      "text/plain": [
       "<Figure size 432x288 with 1 Axes>"
      ]
     },
     "metadata": {
      "needs_background": "light"
     },
     "output_type": "display_data"
    }
   ],
   "source": [
    "plt.bar(range(len(train_clickeds[0,:])), train_clickeds[0,:], width=2)"
   ]
  },
  {
   "cell_type": "code",
   "execution_count": 30,
   "metadata": {},
   "outputs": [
    {
     "data": {
      "image/png": "[encoded data removed]",
      "text/plain": [
       "<Figure size 432x288 with 1 Axes>"
      ]
     },
     "metadata": {
      "needs_background": "light"
     },
     "output_type": "display_data"
    }
   ],
   "source": [
    "plt.bar(range(len(train_durations[0,:])), train_durations[0,:], width=2)\n",
    "plt.yscale('log')"
   ]
  },
  {
   "cell_type": "code",
   "execution_count": 24,
   "metadata": {},
   "outputs": [
    {
     "data": {
      "text/plain": [
       "<BarContainer object of 1485 artists>"
      ]
     },
     "execution_count": 24,
     "metadata": {},
     "output_type": "execute_result"
    },
    {
     "data": {
      "image/png": "[encoded data removed]",
      "text/plain": [
       "<Figure size 432x288 with 1 Axes>"
      ]
     },
     "metadata": {
      "needs_background": "light"
     },
     "output_type": "display_data"
    }
   ],
   "source": [
    "plt.bar(range(len(train_recommeds[0,:])), train_recommeds[0,:], width=2)"
   ]
  },
  {
   "cell_type": "code",
   "execution_count": 19,
   "metadata": {},
   "outputs": [
    {
     "data": {
      "text/plain": [
       "1485"
      ]
     },
     "execution_count": 19,
     "metadata": {},
     "output_type": "execute_result"
    }
   ],
   "source": [
    "_"
   ]
  },
  {
   "cell_type": "code",
   "execution_count": null,
   "metadata": {},
   "outputs": [],
   "source": [
    "with open(data_path + 'recommend_matrix.pickle', 'wb') as handle:\n",
    "    pickle.dump(recommend_matrix, handle, protocol=pickle.HIGHEST_PROTOCOL)"
   ]
  }
 ],
 "metadata": {
  "kernelspec": {
   "display_name": "Python 3",
   "language": "python",
   "name": "python3"
  },
  "language_info": {
   "codemirror_mode": {
    "name": "ipython",
    "version": 3
   },
   "file_extension": ".py",
   "mimetype": "text/x-python",
   "name": "python",
   "nbconvert_exporter": "python",
   "pygments_lexer": "ipython3",
   "version": "3.8.8"
  },
  "latex_envs": {
   "LaTeX_envs_menu_present": true,
   "autoclose": false,
   "autocomplete": true,
   "bibliofile": "biblio.bib",
   "cite_by": "apalike",
   "current_citInitial": 1,
   "eqLabelWithNumbers": true,
   "eqNumInitial": 1,
   "hotkeys": {
    "equation": "Ctrl-E",
    "itemize": "Ctrl-I"
   },
   "labels_anchors": false,
   "latex_user_defs": false,
   "report_style_numbering": false,
   "user_envs_cfg": false
  }
 },
 "nbformat": 4,
 "nbformat_minor": 1
}
