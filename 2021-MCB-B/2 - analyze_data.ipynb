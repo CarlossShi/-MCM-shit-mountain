{
 "cells": [
  {
   "cell_type": "markdown",
   "metadata": {
    "collapsed": true
   },
   "source": [
    "# Import Data"
   ]
  },
  {
   "cell_type": "code",
   "execution_count": 1,
   "metadata": {
    "pycharm": {
     "is_executing": true
    }
   },
   "outputs": [],
   "source": [
    "import pandas as pd"
   ]
  },
  {
   "cell_type": "code",
   "execution_count": 2,
   "metadata": {},
   "outputs": [],
   "source": [
    "data_path = 'mathorcup_recom_listwise/data/'"
   ]
  },
  {
   "cell_type": "code",
   "execution_count": 3,
   "metadata": {},
   "outputs": [
    {
     "data": {
      "text/html": [
       "<div>\n",
       "<style scoped>\n",
       "    .dataframe tbody tr th:only-of-type {\n",
       "        vertical-align: middle;\n",
       "    }\n",
       "\n",
       "    .dataframe tbody tr th {\n",
       "        vertical-align: top;\n",
       "    }\n",
       "\n",
       "    .dataframe thead th {\n",
       "        text-align: right;\n",
       "    }\n",
       "</style>\n",
       "<table border=\"1\" class=\"dataframe\">\n",
       "  <thead>\n",
       "    <tr style=\"text-align: right;\">\n",
       "      <th></th>\n",
       "      <th>contentID</th>\n",
       "      <th>contentType</th>\n",
       "      <th>contentCategory</th>\n",
       "    </tr>\n",
       "  </thead>\n",
       "  <tbody>\n",
       "    <tr>\n",
       "      <th>0</th>\n",
       "      <td>124564892986</td>\n",
       "      <td>video</td>\n",
       "      <td>历史/中国史</td>\n",
       "    </tr>\n",
       "    <tr>\n",
       "      <th>1</th>\n",
       "      <td>124564906548</td>\n",
       "      <td>video</td>\n",
       "      <td>科学/动植物与微生物</td>\n",
       "    </tr>\n",
       "    <tr>\n",
       "      <th>2</th>\n",
       "      <td>124564909185</td>\n",
       "      <td>video</td>\n",
       "      <td>科学/动植物与微生物</td>\n",
       "    </tr>\n",
       "    <tr>\n",
       "      <th>3</th>\n",
       "      <td>124564912145</td>\n",
       "      <td>video</td>\n",
       "      <td>科学/动植物与微生物</td>\n",
       "    </tr>\n",
       "    <tr>\n",
       "      <th>4</th>\n",
       "      <td>124564932495</td>\n",
       "      <td>video</td>\n",
       "      <td>科学/动植物与微生物</td>\n",
       "    </tr>\n",
       "    <tr>\n",
       "      <th>...</th>\n",
       "      <td>...</td>\n",
       "      <td>...</td>\n",
       "      <td>...</td>\n",
       "    </tr>\n",
       "    <tr>\n",
       "      <th>2510698</th>\n",
       "      <td>509523681</td>\n",
       "      <td>news</td>\n",
       "      <td>情感/婚姻与家庭</td>\n",
       "    </tr>\n",
       "    <tr>\n",
       "      <th>2510699</th>\n",
       "      <td>509523744</td>\n",
       "      <td>news</td>\n",
       "      <td>科技/互联网</td>\n",
       "    </tr>\n",
       "    <tr>\n",
       "      <th>2510700</th>\n",
       "      <td>509524347</td>\n",
       "      <td>news</td>\n",
       "      <td>科技/数码产品</td>\n",
       "    </tr>\n",
       "    <tr>\n",
       "      <th>2510701</th>\n",
       "      <td>509524365</td>\n",
       "      <td>news</td>\n",
       "      <td>国际/国际趣闻</td>\n",
       "    </tr>\n",
       "    <tr>\n",
       "      <th>2510702</th>\n",
       "      <td>509524914</td>\n",
       "      <td>news</td>\n",
       "      <td>情感/婚姻与家庭</td>\n",
       "    </tr>\n",
       "  </tbody>\n",
       "</table>\n",
       "<p>2510703 rows × 3 columns</p>\n",
       "</div>"
      ],
      "text/plain": [
       "            contentID contentType contentCategory\n",
       "0        124564892986       video          历史/中国史\n",
       "1        124564906548       video      科学/动植物与微生物\n",
       "2        124564909185       video      科学/动植物与微生物\n",
       "3        124564912145       video      科学/动植物与微生物\n",
       "4        124564932495       video      科学/动植物与微生物\n",
       "...               ...         ...             ...\n",
       "2510698     509523681        news        情感/婚姻与家庭\n",
       "2510699     509523744        news          科技/互联网\n",
       "2510700     509524347        news         科技/数码产品\n",
       "2510701     509524365        news         国际/国际趣闻\n",
       "2510702     509524914        news        情感/婚姻与家庭\n",
       "\n",
       "[2510703 rows x 3 columns]"
      ]
     },
     "execution_count": 3,
     "metadata": {},
     "output_type": "execute_result"
    }
   ],
   "source": [
    "info_df2 = pd.read_csv(data_path + 'doc_info.csv', dtype=str)\n",
    "info_df2"
   ]
  },
  {
   "cell_type": "code",
   "execution_count": 4,
   "metadata": {},
   "outputs": [
    {
     "data": {
      "text/html": [
       "<div>\n",
       "<style scoped>\n",
       "    .dataframe tbody tr th:only-of-type {\n",
       "        vertical-align: middle;\n",
       "    }\n",
       "\n",
       "    .dataframe tbody tr th {\n",
       "        vertical-align: top;\n",
       "    }\n",
       "\n",
       "    .dataframe thead th {\n",
       "        text-align: right;\n",
       "    }\n",
       "</style>\n",
       "<table border=\"1\" class=\"dataframe\">\n",
       "  <thead>\n",
       "    <tr style=\"text-align: right;\">\n",
       "      <th></th>\n",
       "      <th>requestID</th>\n",
       "      <th>userID</th>\n",
       "      <th>date</th>\n",
       "      <th>time</th>\n",
       "      <th>sequence</th>\n",
       "    </tr>\n",
       "  </thead>\n",
       "  <tbody>\n",
       "    <tr>\n",
       "      <th>0</th>\n",
       "      <td>719708291_1635480753679_2960</td>\n",
       "      <td>1439416582</td>\n",
       "      <td>20211029</td>\n",
       "      <td>12</td>\n",
       "      <td>509057416;133681226775;509178914;509178914;508...</td>\n",
       "    </tr>\n",
       "    <tr>\n",
       "      <th>1</th>\n",
       "      <td>679978594_1635491281923_1780</td>\n",
       "      <td>1359957188</td>\n",
       "      <td>20211029</td>\n",
       "      <td>15</td>\n",
       "      <td>508829941;133686019323;508830405;133677444707;...</td>\n",
       "    </tr>\n",
       "    <tr>\n",
       "      <th>2</th>\n",
       "      <td>781051348_1635478916952_3923</td>\n",
       "      <td>1562102696</td>\n",
       "      <td>20211029</td>\n",
       "      <td>11</td>\n",
       "      <td>508920410;133682604510;508823743;133679506759;...</td>\n",
       "    </tr>\n",
       "    <tr>\n",
       "      <th>3</th>\n",
       "      <td>1223262997_1635514428746_6191</td>\n",
       "      <td>2446525994</td>\n",
       "      <td>20211029</td>\n",
       "      <td>21</td>\n",
       "      <td>509263836;133677339412;509255912;133666460363;...</td>\n",
       "    </tr>\n",
       "    <tr>\n",
       "      <th>4</th>\n",
       "      <td>1210159908_1635487197871_9372</td>\n",
       "      <td>2420319816</td>\n",
       "      <td>20211029</td>\n",
       "      <td>13</td>\n",
       "      <td>509051208;133686479202;509321576;133685566011;...</td>\n",
       "    </tr>\n",
       "    <tr>\n",
       "      <th>...</th>\n",
       "      <td>...</td>\n",
       "      <td>...</td>\n",
       "      <td>...</td>\n",
       "      <td>...</td>\n",
       "      <td>...</td>\n",
       "    </tr>\n",
       "    <tr>\n",
       "      <th>99995</th>\n",
       "      <td>1103019431_1635488217052_1566</td>\n",
       "      <td>2206038862</td>\n",
       "      <td>20211029</td>\n",
       "      <td>14</td>\n",
       "      <td>508202927;133667442521;508448933;507727992;133...</td>\n",
       "    </tr>\n",
       "    <tr>\n",
       "      <th>99996</th>\n",
       "      <td>819379240_1635440341187_834</td>\n",
       "      <td>1638758480</td>\n",
       "      <td>20211029</td>\n",
       "      <td>00</td>\n",
       "      <td>133680499794;133686284672;133680414545;5089725...</td>\n",
       "    </tr>\n",
       "    <tr>\n",
       "      <th>99997</th>\n",
       "      <td>725125338_1635454468857_6210</td>\n",
       "      <td>1450250676</td>\n",
       "      <td>20211029</td>\n",
       "      <td>04</td>\n",
       "      <td>509051208;133664849798;133686913039;508948985;...</td>\n",
       "    </tr>\n",
       "    <tr>\n",
       "      <th>99998</th>\n",
       "      <td>1220982835_1635495707014_791</td>\n",
       "      <td>2441965670</td>\n",
       "      <td>20211029</td>\n",
       "      <td>16</td>\n",
       "      <td>133684769217;507767581;507912030;133684439797;...</td>\n",
       "    </tr>\n",
       "    <tr>\n",
       "      <th>99999</th>\n",
       "      <td>1213447213_1635479435146_7061</td>\n",
       "      <td>2426894426</td>\n",
       "      <td>20211029</td>\n",
       "      <td>11</td>\n",
       "      <td>508645314;133686259459;508233761;133686162687</td>\n",
       "    </tr>\n",
       "  </tbody>\n",
       "</table>\n",
       "<p>100000 rows × 5 columns</p>\n",
       "</div>"
      ],
      "text/plain": [
       "                           requestID      userID      date time  \\\n",
       "0       719708291_1635480753679_2960  1439416582  20211029   12   \n",
       "1       679978594_1635491281923_1780  1359957188  20211029   15   \n",
       "2       781051348_1635478916952_3923  1562102696  20211029   11   \n",
       "3      1223262997_1635514428746_6191  2446525994  20211029   21   \n",
       "4      1210159908_1635487197871_9372  2420319816  20211029   13   \n",
       "...                              ...         ...       ...  ...   \n",
       "99995  1103019431_1635488217052_1566  2206038862  20211029   14   \n",
       "99996    819379240_1635440341187_834  1638758480  20211029   00   \n",
       "99997   725125338_1635454468857_6210  1450250676  20211029   04   \n",
       "99998   1220982835_1635495707014_791  2441965670  20211029   16   \n",
       "99999  1213447213_1635479435146_7061  2426894426  20211029   11   \n",
       "\n",
       "                                                sequence  \n",
       "0      509057416;133681226775;509178914;509178914;508...  \n",
       "1      508829941;133686019323;508830405;133677444707;...  \n",
       "2      508920410;133682604510;508823743;133679506759;...  \n",
       "3      509263836;133677339412;509255912;133666460363;...  \n",
       "4      509051208;133686479202;509321576;133685566011;...  \n",
       "...                                                  ...  \n",
       "99995  508202927;133667442521;508448933;507727992;133...  \n",
       "99996  133680499794;133686284672;133680414545;5089725...  \n",
       "99997  509051208;133664849798;133686913039;508948985;...  \n",
       "99998  133684769217;507767581;507912030;133684439797;...  \n",
       "99999      508645314;133686259459;508233761;133686162687  \n",
       "\n",
       "[100000 rows x 5 columns]"
      ]
     },
     "execution_count": 4,
     "metadata": {},
     "output_type": "execute_result"
    }
   ],
   "source": [
    "test_df = pd.read_csv(data_path + 'test_data.csv', dtype=str)\n",
    "test_df"
   ]
  },
  {
   "cell_type": "code",
   "execution_count": 5,
   "metadata": {
    "pycharm": {
     "is_executing": true
    },
    "scrolled": false
   },
   "outputs": [
    {
     "data": {
      "text/html": [
       "<div>\n",
       "<style scoped>\n",
       "    .dataframe tbody tr th:only-of-type {\n",
       "        vertical-align: middle;\n",
       "    }\n",
       "\n",
       "    .dataframe tbody tr th {\n",
       "        vertical-align: top;\n",
       "    }\n",
       "\n",
       "    .dataframe thead th {\n",
       "        text-align: right;\n",
       "    }\n",
       "</style>\n",
       "<table border=\"1\" class=\"dataframe\">\n",
       "  <thead>\n",
       "    <tr style=\"text-align: right;\">\n",
       "      <th></th>\n",
       "      <th>userID</th>\n",
       "      <th>requestID</th>\n",
       "      <th>date</th>\n",
       "      <th>time</th>\n",
       "      <th>sequence</th>\n",
       "    </tr>\n",
       "  </thead>\n",
       "  <tbody>\n",
       "    <tr>\n",
       "      <th>0</th>\n",
       "      <td>1000014754</td>\n",
       "      <td>500007377_1635422685108_3822</td>\n",
       "      <td>20211028</td>\n",
       "      <td>20</td>\n",
       "      <td>133669542676:1:148;133658378700:1:16;133650937...</td>\n",
       "    </tr>\n",
       "    <tr>\n",
       "      <th>1</th>\n",
       "      <td>1000019906</td>\n",
       "      <td>500009953_1635375063077_3893</td>\n",
       "      <td>20211028</td>\n",
       "      <td>06</td>\n",
       "      <td>133679233276:0:0;133658338671:0:0;133677846615...</td>\n",
       "    </tr>\n",
       "    <tr>\n",
       "      <th>2</th>\n",
       "      <td>1000019906</td>\n",
       "      <td>500009953_1635430638501_3959</td>\n",
       "      <td>20211028</td>\n",
       "      <td>22</td>\n",
       "      <td>508420199:0:0;133669581685:1:19;508486431:1:23...</td>\n",
       "    </tr>\n",
       "    <tr>\n",
       "      <th>3</th>\n",
       "      <td>1000019906</td>\n",
       "      <td>500009953_1635431257521_6241</td>\n",
       "      <td>20211028</td>\n",
       "      <td>22</td>\n",
       "      <td>133686693807:0:0;508214895:0:0;133685336335:0:...</td>\n",
       "    </tr>\n",
       "    <tr>\n",
       "      <th>4</th>\n",
       "      <td>1000024368</td>\n",
       "      <td>500012184_1634998901528_248</td>\n",
       "      <td>20211023</td>\n",
       "      <td>22</td>\n",
       "      <td>133665269544:0:0;133676553526:0:0;507174630:0:...</td>\n",
       "    </tr>\n",
       "    <tr>\n",
       "      <th>...</th>\n",
       "      <td>...</td>\n",
       "      <td>...</td>\n",
       "      <td>...</td>\n",
       "      <td>...</td>\n",
       "      <td>...</td>\n",
       "    </tr>\n",
       "    <tr>\n",
       "      <th>31298935</th>\n",
       "      <td>999971832</td>\n",
       "      <td>499985916_1635167173635_2208</td>\n",
       "      <td>20211025</td>\n",
       "      <td>21</td>\n",
       "      <td>133680478319:0:0;507555242:0:0;507263285:0:0;1...</td>\n",
       "    </tr>\n",
       "    <tr>\n",
       "      <th>31298936</th>\n",
       "      <td>999971832</td>\n",
       "      <td>499985916_1635167307558_3991</td>\n",
       "      <td>20211025</td>\n",
       "      <td>21</td>\n",
       "      <td>133680491898:0:0;507551799:0:0;507462062:0:0;1...</td>\n",
       "    </tr>\n",
       "    <tr>\n",
       "      <th>31298937</th>\n",
       "      <td>999971832</td>\n",
       "      <td>499985916_1635167608753_1058</td>\n",
       "      <td>20211025</td>\n",
       "      <td>21</td>\n",
       "      <td>133680391836:0:0;507360402:0:0;507163538:0:0;1...</td>\n",
       "    </tr>\n",
       "    <tr>\n",
       "      <th>31298938</th>\n",
       "      <td>999971832</td>\n",
       "      <td>499985916_1635336680046_4362</td>\n",
       "      <td>20211027</td>\n",
       "      <td>20</td>\n",
       "      <td>133680418438:0:0;507155934:0:0;507416869:0:0;1...</td>\n",
       "    </tr>\n",
       "    <tr>\n",
       "      <th>31298939</th>\n",
       "      <td>999997340</td>\n",
       "      <td>499998670_1635287070929_3527</td>\n",
       "      <td>20211027</td>\n",
       "      <td>06</td>\n",
       "      <td>133686345060:0:0;508501092:1:221;508501092:0:0...</td>\n",
       "    </tr>\n",
       "  </tbody>\n",
       "</table>\n",
       "<p>31298940 rows × 5 columns</p>\n",
       "</div>"
      ],
      "text/plain": [
       "              userID                     requestID      date time  \\\n",
       "0         1000014754  500007377_1635422685108_3822  20211028   20   \n",
       "1         1000019906  500009953_1635375063077_3893  20211028   06   \n",
       "2         1000019906  500009953_1635430638501_3959  20211028   22   \n",
       "3         1000019906  500009953_1635431257521_6241  20211028   22   \n",
       "4         1000024368   500012184_1634998901528_248  20211023   22   \n",
       "...              ...                           ...       ...  ...   \n",
       "31298935   999971832  499985916_1635167173635_2208  20211025   21   \n",
       "31298936   999971832  499985916_1635167307558_3991  20211025   21   \n",
       "31298937   999971832  499985916_1635167608753_1058  20211025   21   \n",
       "31298938   999971832  499985916_1635336680046_4362  20211027   20   \n",
       "31298939   999997340  499998670_1635287070929_3527  20211027   06   \n",
       "\n",
       "                                                   sequence  \n",
       "0         133669542676:1:148;133658378700:1:16;133650937...  \n",
       "1         133679233276:0:0;133658338671:0:0;133677846615...  \n",
       "2         508420199:0:0;133669581685:1:19;508486431:1:23...  \n",
       "3         133686693807:0:0;508214895:0:0;133685336335:0:...  \n",
       "4         133665269544:0:0;133676553526:0:0;507174630:0:...  \n",
       "...                                                     ...  \n",
       "31298935  133680478319:0:0;507555242:0:0;507263285:0:0;1...  \n",
       "31298936  133680491898:0:0;507551799:0:0;507462062:0:0;1...  \n",
       "31298937  133680391836:0:0;507360402:0:0;507163538:0:0;1...  \n",
       "31298938  133680418438:0:0;507155934:0:0;507416869:0:0;1...  \n",
       "31298939  133686345060:0:0;508501092:1:221;508501092:0:0...  \n",
       "\n",
       "[31298940 rows x 5 columns]"
      ]
     },
     "execution_count": 5,
     "metadata": {},
     "output_type": "execute_result"
    }
   ],
   "source": [
    "train_df = pd.read_csv(data_path + 'train_data.csv', dtype=str)\n",
    "train_df"
   ]
  },
  {
   "cell_type": "markdown",
   "metadata": {},
   "source": [
    "# Compare train_data and test_data"
   ]
  },
  {
   "cell_type": "code",
   "execution_count": 6,
   "metadata": {
    "pycharm": {
     "is_executing": true
    }
   },
   "outputs": [],
   "source": [
    "from matplotlib_venn import venn2\n",
    "import matplotlib.pyplot as plt\n",
    "%matplotlib inline"
   ]
  },
  {
   "cell_type": "code",
   "execution_count": 7,
   "metadata": {
    "pycharm": {
     "is_executing": true
    }
   },
   "outputs": [
    {
     "name": "stdout",
     "output_type": "stream",
     "text": [
      "train: Index(['userID', 'requestID', 'date', 'time', 'sequence'], dtype='object')\n",
      "test: Index(['requestID', 'userID', 'date', 'time', 'sequence'], dtype='object')\n"
     ]
    }
   ],
   "source": [
    "print('train:', train_df.columns)\n",
    "print('test:', test_df.columns)"
   ]
  },
  {
   "cell_type": "markdown",
   "metadata": {},
   "source": [
    "## User ID"
   ]
  },
  {
   "cell_type": "code",
   "execution_count": 8,
   "metadata": {
    "pycharm": {
     "is_executing": true
    }
   },
   "outputs": [],
   "source": [
    "train_userID = set(train_df.loc[:, 'userID'])\n",
    "test_userID = set(test_df.loc[:, 'userID'])\n",
    "userID_intersection = train_userID.intersection(test_userID)"
   ]
  },
  {
   "cell_type": "code",
   "execution_count": 9,
   "metadata": {
    "pycharm": {
     "is_executing": true
    },
    "scrolled": true
   },
   "outputs": [
    {
     "data": {
      "image/png": "[encoded data removed]",
      "text/plain": [
       "<Figure size 432x288 with 1 Axes>"
      ]
     },
     "metadata": {},
     "output_type": "display_data"
    }
   ],
   "source": [
    "title = 'userID'\n",
    "venn2(\n",
    "    subsets=(len(train_userID), len(test_userID), len(userID_intersection)),\n",
    "    set_labels=('train', 'test'),\n",
    ")\n",
    "plt.title(title)\n",
    "plt.savefig('images/{}.png'.format(title))"
   ]
  },
  {
   "cell_type": "markdown",
   "metadata": {},
   "source": [
    "## Request ID"
   ]
  },
  {
   "cell_type": "code",
   "execution_count": 10,
   "metadata": {
    "pycharm": {
     "is_executing": true
    }
   },
   "outputs": [],
   "source": [
    "train_requestID = set(train_df.loc[:, 'requestID'])\n",
    "test_requestID = set(test_df.loc[:, 'requestID'])\n",
    "requestID_intersection = train_requestID.intersection(test_requestID)"
   ]
  },
  {
   "cell_type": "code",
   "execution_count": 11,
   "metadata": {
    "pycharm": {
     "is_executing": true
    }
   },
   "outputs": [
    {
     "data": {
      "image/png": "[encoded data removed]",
      "text/plain": [
       "<Figure size 432x288 with 1 Axes>"
      ]
     },
     "metadata": {},
     "output_type": "display_data"
    }
   ],
   "source": [
    "title = 'requestID'\n",
    "venn2(\n",
    "    subsets=(len(train_requestID), len(test_requestID), len(requestID_intersection)),\n",
    "    set_labels=('train', 'test'),\n",
    ")\n",
    "plt.title(title)\n",
    "plt.savefig('images/{}.png'.format(title))"
   ]
  },
  {
   "cell_type": "markdown",
   "metadata": {},
   "source": [
    "## Date"
   ]
  },
  {
   "cell_type": "code",
   "execution_count": 12,
   "metadata": {
    "pycharm": {
     "is_executing": true
    },
    "scrolled": true
   },
   "outputs": [
    {
     "data": {
      "text/plain": [
       "20211021     125012\n",
       "20211022    4158197\n",
       "20211023    4313769\n",
       "20211024    4495900\n",
       "20211025    4605974\n",
       "20211026    4699681\n",
       "20211027    4529496\n",
       "20211028    4370911\n",
       "Name: date, dtype: int64"
      ]
     },
     "execution_count": 12,
     "metadata": {},
     "output_type": "execute_result"
    }
   ],
   "source": [
    "train_date = train_df['date'].value_counts().sort_index()\n",
    "train_date"
   ]
  },
  {
   "cell_type": "code",
   "execution_count": 21,
   "metadata": {
    "pycharm": {
     "is_executing": true
    }
   },
   "outputs": [
    {
     "data": {
      "image/png": "[encoded data removed]",
      "text/plain": [
       "<Figure size 864x216 with 1 Axes>"
      ]
     },
     "metadata": {
      "needs_background": "light"
     },
     "output_type": "display_data"
    }
   ],
   "source": [
    "title = 'Request Data in Training Set'\n",
    "plt.bar(train_date.index, train_date)\n",
    "plt.rcParams[\"figure.figsize\"] = (15,3)\n",
    "plt.title(title)\n",
    "plt.xlabel('Date')\n",
    "plt.ylabel('Count')\n",
    "plt.savefig('images/{}.png'.format(title), bbox_inches='tight')"
   ]
  },
  {
   "cell_type": "code",
   "execution_count": 14,
   "metadata": {
    "pycharm": {
     "is_executing": true
    }
   },
   "outputs": [
    {
     "data": {
      "text/plain": [
       "20211029    100000\n",
       "Name: date, dtype: int64"
      ]
     },
     "execution_count": 14,
     "metadata": {},
     "output_type": "execute_result"
    }
   ],
   "source": [
    "test_date = test_df['date'].value_counts().sort_index()\n",
    "test_date"
   ]
  },
  {
   "cell_type": "code",
   "execution_count": 15,
   "metadata": {
    "pycharm": {
     "is_executing": true
    }
   },
   "outputs": [
    {
     "data": {
      "image/png": "[encoded data removed]",
      "text/plain": [
       "<Figure size 1080x216 with 1 Axes>"
      ]
     },
     "metadata": {
      "needs_background": "light"
     },
     "output_type": "display_data"
    }
   ],
   "source": [
    "title = 'Request Data in Test Set'\n",
    "plt.bar(test_date.index, test_date)\n",
    "plt.rcParams[\"figure.figsize\"] = (15,3)\n",
    "plt.title(title)\n",
    "plt.xlabel('Date')\n",
    "plt.ylabel('Count')\n",
    "plt.savefig('images/{}.png'.format(title), bbox_inches='tight')"
   ]
  },
  {
   "cell_type": "markdown",
   "metadata": {},
   "source": [
    "## Time"
   ]
  },
  {
   "cell_type": "code",
   "execution_count": 16,
   "metadata": {
    "pycharm": {
     "is_executing": true
    },
    "scrolled": true
   },
   "outputs": [
    {
     "data": {
      "text/plain": [
       "00     717010\n",
       "01     426161\n",
       "02     313070\n",
       "03     291806\n",
       "04     364509\n",
       "05     655412\n",
       "06    1104102\n",
       "07    1248129\n",
       "08    1182242\n",
       "09    1266917\n",
       "10    1357072\n",
       "11    1467415\n",
       "12    1674836\n",
       "13    1500176\n",
       "14    1456922\n",
       "15    1542613\n",
       "16    1578210\n",
       "17    1516693\n",
       "18    1634705\n",
       "19    1942759\n",
       "20    2153465\n",
       "21    2334581\n",
       "22    2135839\n",
       "23    1434296\n",
       "Name: time, dtype: int64"
      ]
     },
     "execution_count": 16,
     "metadata": {},
     "output_type": "execute_result"
    }
   ],
   "source": [
    "train_time = train_df['time'].value_counts().sort_index()\n",
    "train_time"
   ]
  },
  {
   "cell_type": "code",
   "execution_count": 18,
   "metadata": {
    "pycharm": {
     "is_executing": true
    }
   },
   "outputs": [
    {
     "data": {
      "image/png": "[encoded data removed]",
      "text/plain": [
       "<Figure size 1080x216 with 1 Axes>"
      ]
     },
     "metadata": {
      "needs_background": "light"
     },
     "output_type": "display_data"
    }
   ],
   "source": [
    "title = 'Request Time in Training Set'\n",
    "plt.bar(train_time.index, train_time)\n",
    "plt.rcParams[\"figure.figsize\"] = (15,3)\n",
    "plt.title(title)\n",
    "plt.xlabel('Time')\n",
    "plt.ylabel('Count')\n",
    "plt.savefig('images/{}.png'.format(title), bbox_inches='tight')"
   ]
  },
  {
   "cell_type": "code",
   "execution_count": 19,
   "metadata": {
    "pycharm": {
     "is_executing": true
    }
   },
   "outputs": [
    {
     "data": {
      "text/plain": [
       "00    2464\n",
       "01    1484\n",
       "02    1161\n",
       "03     988\n",
       "04    1230\n",
       "05    2449\n",
       "06    4160\n",
       "07    4675\n",
       "08    4484\n",
       "09    4216\n",
       "10    4515\n",
       "11    5076\n",
       "12    5871\n",
       "13    4890\n",
       "14    4825\n",
       "15    4997\n",
       "16    5171\n",
       "17    4951\n",
       "18    5008\n",
       "19    6041\n",
       "20    6536\n",
       "21    6956\n",
       "22    5695\n",
       "23    2157\n",
       "Name: time, dtype: int64"
      ]
     },
     "execution_count": 19,
     "metadata": {},
     "output_type": "execute_result"
    }
   ],
   "source": [
    "test_time = test_df['time'].value_counts().sort_index()\n",
    "test_time"
   ]
  },
  {
   "cell_type": "code",
   "execution_count": 20,
   "metadata": {
    "pycharm": {
     "is_executing": true
    },
    "scrolled": true
   },
   "outputs": [
    {
     "data": {
      "image/png": "[encoded data removed]",
      "text/plain": [
       "<Figure size 1080x216 with 1 Axes>"
      ]
     },
     "metadata": {
      "needs_background": "light"
     },
     "output_type": "display_data"
    }
   ],
   "source": [
    "title = 'Request Time in Test Set'\n",
    "plt.bar(test_time.index, test_time)\n",
    "plt.rcParams[\"figure.figsize\"] = (12,3)\n",
    "plt.title(title)\n",
    "plt.xlabel('Time')\n",
    "plt.ylabel('Count')\n",
    "plt.savefig('images/{}.png'.format(title), bbox_inches='tight')"
   ]
  },
  {
   "cell_type": "markdown",
   "metadata": {},
   "source": [
    "## Sequence"
   ]
  },
  {
   "cell_type": "code",
   "execution_count": 48,
   "metadata": {
    "pycharm": {
     "is_executing": true
    }
   },
   "outputs": [],
   "source": [
    "import numpy as np\n",
    "import pprint"
   ]
  },
  {
   "cell_type": "code",
   "execution_count": 50,
   "metadata": {
    "pycharm": {
     "is_executing": true
    }
   },
   "outputs": [
    {
     "name": "stdout",
     "output_type": "stream",
     "text": [
      "test: ['509057416', '133681226775', '509178914', '509178914', '508932788', '133683192346', '508882288', '133676939804']\n"
     ]
    }
   ],
   "source": [
    "print('test:', test_df.loc[0, 'sequence'].split(';'))"
   ]
  },
  {
   "cell_type": "code",
   "execution_count": 52,
   "metadata": {
    "pycharm": {
     "is_executing": true
    }
   },
   "outputs": [
    {
     "name": "stdout",
     "output_type": "stream",
     "text": [
      "train: ['133669542676:1:148', '133658378700:1:16', '133650937891:1:85', '133663959878:1:221', '506898339:0:0', '133658512070:1:101', '133660220952:1:60', '506770575:0:0', '133673154438:1:102', '133660292493:0:0', '133660292493:1:120']\n"
     ]
    }
   ],
   "source": [
    "print('train:', train_df.loc[0, 'sequence'].split(';'))"
   ]
  },
  {
   "cell_type": "markdown",
   "metadata": {},
   "source": [
    "### Item ID\n",
    "\n",
    "See if there exists new item ID in test data."
   ]
  },
  {
   "cell_type": "code",
   "execution_count": 41,
   "metadata": {
    "pycharm": {
     "is_executing": true
    }
   },
   "outputs": [],
   "source": [
    "def icd2dict(icd):\n",
    "    i, c, d = icd.split(':')\n",
    "    return {'itemID': i, 'clicked': bool(eval(c)), 'duration': eval(d)}"
   ]
  },
  {
   "cell_type": "code",
   "execution_count": 42,
   "metadata": {
    "pycharm": {
     "is_executing": true
    }
   },
   "outputs": [],
   "source": [
    "class Sequence:\n",
    "    def __init__(self, sequence):\n",
    "        \"\"\"\n",
    "        :param sequence: {str}, e.g. '133679233276:0:0;133658338671:0:0;133677846615:0:0'\n",
    "        :return:\n",
    "        \"\"\"\n",
    "        self.sequence = [icd2dict(icd) for icd in sequence.split(';')]\n",
    "        self.len_sequence = len(self.sequence)\n",
    "        self.avg_clicked = np.mean([_['clicked'] for _ in self.sequence])\n",
    "        self.avg_duration = np.mean([_['duration'] for _ in self.sequence])\n",
    "    def myprint(self):\n",
    "        pprint.pprint(self.sequence)\n",
    "        print('length of sequence:', self.len_sequence)\n",
    "        print('average clicked:', self.avg_clicked)\n",
    "        print('average duration:', self.avg_duration)"
   ]
  },
  {
   "cell_type": "code",
   "execution_count": 45,
   "metadata": {},
   "outputs": [],
   "source": [
    "def icd2i(icd):\n",
    "    i, c, d = icd.split(':')\n",
    "    return i\n",
    "\n",
    "\n",
    "def seq2itemID(sequence):\n",
    "    \"\"\"\n",
    "    :param sequence: {str}, e.g. '133679233276:0:0;133658338671:0:0;133677846615:0:0'\n",
    "    :return:\n",
    "    \"\"\"\n",
    "    return {icd2i(icd) for icd in sequence.split(';')}"
   ]
  },
  {
   "cell_type": "code",
   "execution_count": 52,
   "metadata": {},
   "outputs": [
    {
     "data": {
      "text/html": [
       "<div>\n",
       "<style scoped>\n",
       "    .dataframe tbody tr th:only-of-type {\n",
       "        vertical-align: middle;\n",
       "    }\n",
       "\n",
       "    .dataframe tbody tr th {\n",
       "        vertical-align: top;\n",
       "    }\n",
       "\n",
       "    .dataframe thead th {\n",
       "        text-align: right;\n",
       "    }\n",
       "</style>\n",
       "<table border=\"1\" class=\"dataframe\">\n",
       "  <thead>\n",
       "    <tr style=\"text-align: right;\">\n",
       "      <th></th>\n",
       "      <th>contentID</th>\n",
       "      <th>contentType</th>\n",
       "      <th>contentCategory</th>\n",
       "    </tr>\n",
       "  </thead>\n",
       "  <tbody>\n",
       "    <tr>\n",
       "      <th>0</th>\n",
       "      <td>124564892986</td>\n",
       "      <td>video</td>\n",
       "      <td>历史/中国史</td>\n",
       "    </tr>\n",
       "    <tr>\n",
       "      <th>1</th>\n",
       "      <td>124564906548</td>\n",
       "      <td>video</td>\n",
       "      <td>科学/动植物与微生物</td>\n",
       "    </tr>\n",
       "    <tr>\n",
       "      <th>2</th>\n",
       "      <td>124564909185</td>\n",
       "      <td>video</td>\n",
       "      <td>科学/动植物与微生物</td>\n",
       "    </tr>\n",
       "    <tr>\n",
       "      <th>3</th>\n",
       "      <td>124564912145</td>\n",
       "      <td>video</td>\n",
       "      <td>科学/动植物与微生物</td>\n",
       "    </tr>\n",
       "    <tr>\n",
       "      <th>4</th>\n",
       "      <td>124564932495</td>\n",
       "      <td>video</td>\n",
       "      <td>科学/动植物与微生物</td>\n",
       "    </tr>\n",
       "    <tr>\n",
       "      <th>...</th>\n",
       "      <td>...</td>\n",
       "      <td>...</td>\n",
       "      <td>...</td>\n",
       "    </tr>\n",
       "    <tr>\n",
       "      <th>2510698</th>\n",
       "      <td>509523681</td>\n",
       "      <td>news</td>\n",
       "      <td>情感/婚姻与家庭</td>\n",
       "    </tr>\n",
       "    <tr>\n",
       "      <th>2510699</th>\n",
       "      <td>509523744</td>\n",
       "      <td>news</td>\n",
       "      <td>科技/互联网</td>\n",
       "    </tr>\n",
       "    <tr>\n",
       "      <th>2510700</th>\n",
       "      <td>509524347</td>\n",
       "      <td>news</td>\n",
       "      <td>科技/数码产品</td>\n",
       "    </tr>\n",
       "    <tr>\n",
       "      <th>2510701</th>\n",
       "      <td>509524365</td>\n",
       "      <td>news</td>\n",
       "      <td>国际/国际趣闻</td>\n",
       "    </tr>\n",
       "    <tr>\n",
       "      <th>2510702</th>\n",
       "      <td>509524914</td>\n",
       "      <td>news</td>\n",
       "      <td>情感/婚姻与家庭</td>\n",
       "    </tr>\n",
       "  </tbody>\n",
       "</table>\n",
       "<p>2510703 rows × 3 columns</p>\n",
       "</div>"
      ],
      "text/plain": [
       "            contentID contentType contentCategory\n",
       "0        124564892986       video          历史/中国史\n",
       "1        124564906548       video      科学/动植物与微生物\n",
       "2        124564909185       video      科学/动植物与微生物\n",
       "3        124564912145       video      科学/动植物与微生物\n",
       "4        124564932495       video      科学/动植物与微生物\n",
       "...               ...         ...             ...\n",
       "2510698     509523681        news        情感/婚姻与家庭\n",
       "2510699     509523744        news          科技/互联网\n",
       "2510700     509524347        news         科技/数码产品\n",
       "2510701     509524365        news         国际/国际趣闻\n",
       "2510702     509524914        news        情感/婚姻与家庭\n",
       "\n",
       "[2510703 rows x 3 columns]"
      ]
     },
     "execution_count": 52,
     "metadata": {},
     "output_type": "execute_result"
    }
   ],
   "source": [
    "info_df2"
   ]
  },
  {
   "cell_type": "code",
   "execution_count": 49,
   "metadata": {},
   "outputs": [
    {
     "data": {
      "text/plain": [
       "958123"
      ]
     },
     "execution_count": 49,
     "metadata": {},
     "output_type": "execute_result"
    }
   ],
   "source": [
    "train_userID = set(train_df['userID'])\n",
    "len(train_userID)"
   ]
  },
  {
   "cell_type": "code",
   "execution_count": 46,
   "metadata": {},
   "outputs": [
    {
     "ename": "MemoryError",
     "evalue": "",
     "output_type": "error",
     "traceback": [
      "\u001B[1;31m---------------------------------------------------------------------------\u001B[0m",
      "\u001B[1;31mMemoryError\u001B[0m                               Traceback (most recent call last)",
      "\u001B[1;32m<ipython-input-46-7a214db2c483>\u001B[0m in \u001B[0;36m<module>\u001B[1;34m\u001B[0m\n\u001B[0;32m      1\u001B[0m \u001B[0mtrain_userID\u001B[0m \u001B[1;33m=\u001B[0m \u001B[0mset\u001B[0m\u001B[1;33m(\u001B[0m\u001B[0mtrain_df\u001B[0m\u001B[1;33m[\u001B[0m\u001B[1;34m'userID'\u001B[0m\u001B[1;33m]\u001B[0m\u001B[1;33m)\u001B[0m\u001B[1;33m\u001B[0m\u001B[1;33m\u001B[0m\u001B[0m\n\u001B[1;32m----> 2\u001B[1;33m \u001B[0mtrain_itemID\u001B[0m \u001B[1;33m=\u001B[0m \u001B[0mset\u001B[0m\u001B[1;33m.\u001B[0m\u001B[0munion\u001B[0m\u001B[1;33m(\u001B[0m\u001B[1;33m*\u001B[0m\u001B[1;33m[\u001B[0m\u001B[0mseq2itemID\u001B[0m\u001B[1;33m(\u001B[0m\u001B[0mseq\u001B[0m\u001B[1;33m)\u001B[0m \u001B[1;32mfor\u001B[0m \u001B[0mseq\u001B[0m \u001B[1;32min\u001B[0m \u001B[0mtrain_df\u001B[0m\u001B[1;33m[\u001B[0m\u001B[1;34m'sequence'\u001B[0m\u001B[1;33m]\u001B[0m\u001B[1;33m]\u001B[0m\u001B[1;33m)\u001B[0m\u001B[1;33m\u001B[0m\u001B[1;33m\u001B[0m\u001B[0m\n\u001B[0m",
      "\u001B[1;32m<ipython-input-46-7a214db2c483>\u001B[0m in \u001B[0;36m<listcomp>\u001B[1;34m(.0)\u001B[0m\n\u001B[0;32m      1\u001B[0m \u001B[0mtrain_userID\u001B[0m \u001B[1;33m=\u001B[0m \u001B[0mset\u001B[0m\u001B[1;33m(\u001B[0m\u001B[0mtrain_df\u001B[0m\u001B[1;33m[\u001B[0m\u001B[1;34m'userID'\u001B[0m\u001B[1;33m]\u001B[0m\u001B[1;33m)\u001B[0m\u001B[1;33m\u001B[0m\u001B[1;33m\u001B[0m\u001B[0m\n\u001B[1;32m----> 2\u001B[1;33m \u001B[0mtrain_itemID\u001B[0m \u001B[1;33m=\u001B[0m \u001B[0mset\u001B[0m\u001B[1;33m.\u001B[0m\u001B[0munion\u001B[0m\u001B[1;33m(\u001B[0m\u001B[1;33m*\u001B[0m\u001B[1;33m[\u001B[0m\u001B[0mseq2itemID\u001B[0m\u001B[1;33m(\u001B[0m\u001B[0mseq\u001B[0m\u001B[1;33m)\u001B[0m \u001B[1;32mfor\u001B[0m \u001B[0mseq\u001B[0m \u001B[1;32min\u001B[0m \u001B[0mtrain_df\u001B[0m\u001B[1;33m[\u001B[0m\u001B[1;34m'sequence'\u001B[0m\u001B[1;33m]\u001B[0m\u001B[1;33m]\u001B[0m\u001B[1;33m)\u001B[0m\u001B[1;33m\u001B[0m\u001B[1;33m\u001B[0m\u001B[0m\n\u001B[0m",
      "\u001B[1;31mMemoryError\u001B[0m: "
     ]
    }
   ],
   "source": [
    "train_itemID = set.union(*[seq2itemID(seq) for seq in train_df['sequence']])\n",
    "len(train_itemID)"
   ]
  },
  {
   "cell_type": "code",
   "execution_count": 55,
   "metadata": {
    "pycharm": {
     "is_executing": true
    },
    "scrolled": true
   },
   "outputs": [
    {
     "data": {
      "text/html": [
       "<div>\n",
       "<style scoped>\n",
       "    .dataframe tbody tr th:only-of-type {\n",
       "        vertical-align: middle;\n",
       "    }\n",
       "\n",
       "    .dataframe tbody tr th {\n",
       "        vertical-align: top;\n",
       "    }\n",
       "\n",
       "    .dataframe thead th {\n",
       "        text-align: right;\n",
       "    }\n",
       "</style>\n",
       "<table border=\"1\" class=\"dataframe\">\n",
       "  <thead>\n",
       "    <tr style=\"text-align: right;\">\n",
       "      <th></th>\n",
       "      <th>userID</th>\n",
       "      <th>requestID</th>\n",
       "      <th>date</th>\n",
       "      <th>time</th>\n",
       "      <th>sequence</th>\n",
       "    </tr>\n",
       "  </thead>\n",
       "  <tbody>\n",
       "    <tr>\n",
       "      <th>0</th>\n",
       "      <td>1000014754</td>\n",
       "      <td>500007377_1635422685108_3822</td>\n",
       "      <td>20211028</td>\n",
       "      <td>20</td>\n",
       "      <td>133669542676:1:148;133658378700:1:16;133650937...</td>\n",
       "    </tr>\n",
       "    <tr>\n",
       "      <th>1</th>\n",
       "      <td>1000019906</td>\n",
       "      <td>500009953_1635375063077_3893</td>\n",
       "      <td>20211028</td>\n",
       "      <td>06</td>\n",
       "      <td>133679233276:0:0;133658338671:0:0;133677846615...</td>\n",
       "    </tr>\n",
       "  </tbody>\n",
       "</table>\n",
       "</div>"
      ],
      "text/plain": [
       "       userID                     requestID      date time  \\\n",
       "0  1000014754  500007377_1635422685108_3822  20211028   20   \n",
       "1  1000019906  500009953_1635375063077_3893  20211028   06   \n",
       "\n",
       "                                            sequence  \n",
       "0  133669542676:1:148;133658378700:1:16;133650937...  \n",
       "1  133679233276:0:0;133658338671:0:0;133677846615...  "
      ]
     },
     "execution_count": 55,
     "metadata": {},
     "output_type": "execute_result"
    }
   ],
   "source": [
    "_train_df = train_df.loc[:1, :]\n",
    "_train_df  # a slice of train dataframe"
   ]
  },
  {
   "cell_type": "markdown",
   "metadata": {},
   "source": [
    "[How to add a new column to an existing DataFrame?](https://stackoverflow.com/a/35387129/12224183)\n",
    "\n",
    "1. `df['e'] = e.values`\n",
    "\n",
    "2. `df1 = df1.assign(e=e.values)` (create a copy, slow for large dataframe)"
   ]
  },
  {
   "cell_type": "code",
   "execution_count": 56,
   "metadata": {
    "pycharm": {
     "is_executing": true
    }
   },
   "outputs": [
    {
     "name": "stderr",
     "output_type": "stream",
     "text": [
      "E:\\anaconda3\\lib\\site-packages\\pandas\\core\\indexing.py:1597: SettingWithCopyWarning: \n",
      "A value is trying to be set on a copy of a slice from a DataFrame.\n",
      "Try using .loc[row_indexer,col_indexer] = value instead\n",
      "\n",
      "See the caveats in the documentation: https://pandas.pydata.org/pandas-docs/stable/user_guide/indexing.html#returning-a-view-versus-a-copy\n",
      "  self.obj[key] = value\n",
      "E:\\anaconda3\\lib\\site-packages\\pandas\\core\\indexing.py:1676: SettingWithCopyWarning: \n",
      "A value is trying to be set on a copy of a slice from a DataFrame.\n",
      "Try using .loc[row_indexer,col_indexer] = value instead\n",
      "\n",
      "See the caveats in the documentation: https://pandas.pydata.org/pandas-docs/stable/user_guide/indexing.html#returning-a-view-versus-a-copy\n",
      "  self._setitem_single_column(ilocs[0], value, pi)\n"
     ]
    },
    {
     "data": {
      "text/html": [
       "<div>\n",
       "<style scoped>\n",
       "    .dataframe tbody tr th:only-of-type {\n",
       "        vertical-align: middle;\n",
       "    }\n",
       "\n",
       "    .dataframe tbody tr th {\n",
       "        vertical-align: top;\n",
       "    }\n",
       "\n",
       "    .dataframe thead th {\n",
       "        text-align: right;\n",
       "    }\n",
       "</style>\n",
       "<table border=\"1\" class=\"dataframe\">\n",
       "  <thead>\n",
       "    <tr style=\"text-align: right;\">\n",
       "      <th></th>\n",
       "      <th>userID</th>\n",
       "      <th>requestID</th>\n",
       "      <th>date</th>\n",
       "      <th>time</th>\n",
       "      <th>sequence</th>\n",
       "      <th>sequenceDict</th>\n",
       "    </tr>\n",
       "  </thead>\n",
       "  <tbody>\n",
       "    <tr>\n",
       "      <th>0</th>\n",
       "      <td>1000014754</td>\n",
       "      <td>500007377_1635422685108_3822</td>\n",
       "      <td>20211028</td>\n",
       "      <td>20</td>\n",
       "      <td>133669542676:1:148;133658378700:1:16;133650937...</td>\n",
       "      <td>&lt;__main__.Sequence object at 0x0000019B0E06F430&gt;</td>\n",
       "    </tr>\n",
       "    <tr>\n",
       "      <th>1</th>\n",
       "      <td>1000019906</td>\n",
       "      <td>500009953_1635375063077_3893</td>\n",
       "      <td>20211028</td>\n",
       "      <td>06</td>\n",
       "      <td>133679233276:0:0;133658338671:0:0;133677846615...</td>\n",
       "      <td>&lt;__main__.Sequence object at 0x0000019B0E24AD60&gt;</td>\n",
       "    </tr>\n",
       "  </tbody>\n",
       "</table>\n",
       "</div>"
      ],
      "text/plain": [
       "       userID                     requestID      date time  \\\n",
       "0  1000014754  500007377_1635422685108_3822  20211028   20   \n",
       "1  1000019906  500009953_1635375063077_3893  20211028   06   \n",
       "\n",
       "                                            sequence  \\\n",
       "0  133669542676:1:148;133658378700:1:16;133650937...   \n",
       "1  133679233276:0:0;133658338671:0:0;133677846615...   \n",
       "\n",
       "                                       sequenceDict  \n",
       "0  <__main__.Sequence object at 0x0000019B0E06F430>  \n",
       "1  <__main__.Sequence object at 0x0000019B0E24AD60>  "
      ]
     },
     "execution_count": 56,
     "metadata": {},
     "output_type": "execute_result"
    }
   ],
   "source": [
    "_train_df.loc[:, 'sequenceDict'] = [Sequence(_) for _ in _train_df.sequence]\n",
    "_train_df"
   ]
  },
  {
   "cell_type": "code",
   "execution_count": 57,
   "metadata": {
    "pycharm": {
     "is_executing": true
    }
   },
   "outputs": [
    {
     "data": {
      "text/plain": [
       "'133669542676:1:148;133658378700:1:16;133650937891:1:85;133663959878:1:221;506898339:0:0;133658512070:1:101;133660220952:1:60;506770575:0:0;133673154438:1:102;133660292493:0:0;133660292493:1:120'"
      ]
     },
     "execution_count": 57,
     "metadata": {},
     "output_type": "execute_result"
    }
   ],
   "source": [
    "_train_df['sequence'][0]  # original sequence"
   ]
  },
  {
   "cell_type": "code",
   "execution_count": 58,
   "metadata": {
    "pycharm": {
     "is_executing": true
    },
    "scrolled": true
   },
   "outputs": [
    {
     "name": "stdout",
     "output_type": "stream",
     "text": [
      "[{'clicked': True, 'duration': 148, 'itemID': '133669542676'},\n",
      " {'clicked': True, 'duration': 16, 'itemID': '133658378700'},\n",
      " {'clicked': True, 'duration': 85, 'itemID': '133650937891'},\n",
      " {'clicked': True, 'duration': 221, 'itemID': '133663959878'},\n",
      " {'clicked': False, 'duration': 0, 'itemID': '506898339'},\n",
      " {'clicked': True, 'duration': 101, 'itemID': '133658512070'},\n",
      " {'clicked': True, 'duration': 60, 'itemID': '133660220952'},\n",
      " {'clicked': False, 'duration': 0, 'itemID': '506770575'},\n",
      " {'clicked': True, 'duration': 102, 'itemID': '133673154438'},\n",
      " {'clicked': False, 'duration': 0, 'itemID': '133660292493'},\n",
      " {'clicked': True, 'duration': 120, 'itemID': '133660292493'}]\n",
      "length of sequence: 11\n",
      "average clicked: 0.7272727272727273\n",
      "average duration: 77.54545454545455\n"
     ]
    }
   ],
   "source": [
    "_train_df['sequenceDict'][0].myprint()  # sequence in class"
   ]
  },
  {
   "cell_type": "code",
   "execution_count": null,
   "metadata": {
    "pycharm": {
     "is_executing": true
    }
   },
   "outputs": [],
   "source": []
  },
  {
   "cell_type": "code",
   "execution_count": null,
   "metadata": {
    "pycharm": {
     "is_executing": true
    }
   },
   "outputs": [],
   "source": []
  },
  {
   "cell_type": "code",
   "execution_count": 59,
   "metadata": {
    "pycharm": {
     "is_executing": true
    }
   },
   "outputs": [],
   "source": [
    "train_userID = set(train_df.loc[:, 'userID'])\n",
    "test_userID = set(test_df.loc[:, 'userID'])\n",
    "userID_intersection = train_userID.intersection(test_userID)"
   ]
  },
  {
   "cell_type": "code",
   "execution_count": 60,
   "metadata": {
    "pycharm": {
     "is_executing": true
    }
   },
   "outputs": [
    {
     "data": {
      "text/plain": [
       "Text(0.5, 1.0, 'userID')"
      ]
     },
     "execution_count": 60,
     "metadata": {},
     "output_type": "execute_result"
    },
    {
     "data": {
      "image/png": "[encoded data removed]",
      "text/plain": [
       "<Figure size 864x216 with 1 Axes>"
      ]
     },
     "metadata": {},
     "output_type": "display_data"
    }
   ],
   "source": [
    "venn2(\n",
    "    subsets=(len(train_userID), len(test_userID), len(userID_intersection)),\n",
    "    set_labels=('train', 'test'),\n",
    ")\n",
    "plt.title('userID')"
   ]
  }
 ],
 "metadata": {
  "kernelspec": {
   "display_name": "Python 3",
   "language": "python",
   "name": "python3"
  },
  "language_info": {
   "codemirror_mode": {
    "name": "ipython",
    "version": 3
   },
   "file_extension": ".py",
   "mimetype": "text/x-python",
   "name": "python",
   "nbconvert_exporter": "python",
   "pygments_lexer": "ipython3",
   "version": "3.8.8"
  },
  "latex_envs": {
   "LaTeX_envs_menu_present": true,
   "autoclose": false,
   "autocomplete": true,
   "bibliofile": "biblio.bib",
   "cite_by": "apalike",
   "current_citInitial": 1,
   "eqLabelWithNumbers": true,
   "eqNumInitial": 1,
   "hotkeys": {
    "equation": "Ctrl-E",
    "itemize": "Ctrl-I"
   },
   "labels_anchors": false,
   "latex_user_defs": false,
   "report_style_numbering": false,
   "user_envs_cfg": false
  }
 },
 "nbformat": 4,
 "nbformat_minor": 1
}