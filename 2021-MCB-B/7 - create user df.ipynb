{
 "cells": [
  {
   "cell_type": "code",
   "execution_count": 1,
   "metadata": {},
   "outputs": [],
   "source": [
    "import pandas as pd\n",
    "import os\n",
    "import tqdm\n",
    "import numpy as np\n",
    "import pprint\n",
    "import pickle"
   ]
  },
  {
   "cell_type": "code",
   "execution_count": 2,
   "metadata": {},
   "outputs": [],
   "source": [
    "import matplotlib.pyplot as plt\n",
    "from matplotlib import font_manager\n",
    "%matplotlib inline\n",
    "import seaborn as sns"
   ]
  },
  {
   "cell_type": "code",
   "execution_count": 3,
   "metadata": {},
   "outputs": [],
   "source": [
    "data_path = 'mathorcup_recom_listwise/data/'\n",
    "user_path = 'data_splitted_by_user_id'"
   ]
  },
  {
   "cell_type": "code",
   "execution_count": 4,
   "metadata": {
    "scrolled": false
   },
   "outputs": [
    {
     "data": {
      "text/plain": [
       "958123"
      ]
     },
     "execution_count": 4,
     "metadata": {},
     "output_type": "execute_result"
    }
   ],
   "source": [
    "if not os.path.exists(data_path + 'userID2idx.pickle'):\n",
    "    train_df = pd.read_csv(data_path + 'train_data.csv', dtype=str)\n",
    "    train_userID = set(train_df.loc[:, 'userID'])\n",
    "    userID2idx = {_: str(i).zfill(7) for i, _ in enumerate(train_userID)}\n",
    "    with open(data_path + 'userID2idx.pickle', 'wb') as handle:\n",
    "        pickle.dump(userID2idx, handle, protocol=pickle.HIGHEST_PROTOCOL)\n",
    "with open(data_path + 'userID2idx.pickle', 'rb') as handle:\n",
    "    userID2idx = pickle.load(handle)\n",
    "len(userID2idx)"
   ]
  },
  {
   "cell_type": "code",
   "execution_count": 5,
   "metadata": {
    "scrolled": true
   },
   "outputs": [
    {
     "name": "stderr",
     "output_type": "stream",
     "text": [
      "100%|██████████| 958123/958123 [00:00<00:00, 2533149.40it/s]\n"
     ]
    },
    {
     "data": {
      "text/plain": [
       "958123"
      ]
     },
     "execution_count": 5,
     "metadata": {},
     "output_type": "execute_result"
    }
   ],
   "source": [
    "if not os.path.exists(data_path + 'userIdx2ID.pickle'):\n",
    "    userIdx2ID = dict()\n",
    "    for k, v in tqdm.tqdm(userID2idx.items()):\n",
    "        userIdx2ID[v] = k\n",
    "    with open(data_path + 'userIdx2ID.pickle', 'wb') as handle:\n",
    "        pickle.dump(userIdx2ID, handle, protocol=pickle.HIGHEST_PROTOCOL)\n",
    "with open(data_path + 'userIdx2ID.pickle', 'rb') as handle:\n",
    "    userIdx2ID = pickle.load(handle)\n",
    "len(userIdx2ID)"
   ]
  },
  {
   "cell_type": "code",
   "execution_count": 6,
   "metadata": {
    "scrolled": false
   },
   "outputs": [
    {
     "data": {
      "text/html": [
       "<div>\n",
       "<style scoped>\n",
       "    .dataframe tbody tr th:only-of-type {\n",
       "        vertical-align: middle;\n",
       "    }\n",
       "\n",
       "    .dataframe tbody tr th {\n",
       "        vertical-align: top;\n",
       "    }\n",
       "\n",
       "    .dataframe thead th {\n",
       "        text-align: right;\n",
       "    }\n",
       "</style>\n",
       "<table border=\"1\" class=\"dataframe\">\n",
       "  <thead>\n",
       "    <tr style=\"text-align: right;\">\n",
       "      <th></th>\n",
       "      <th>Unnamed: 0</th>\n",
       "      <th>userID</th>\n",
       "      <th>requestID</th>\n",
       "      <th>date</th>\n",
       "      <th>time</th>\n",
       "      <th>sequence</th>\n",
       "    </tr>\n",
       "  </thead>\n",
       "  <tbody>\n",
       "    <tr>\n",
       "      <th>0</th>\n",
       "      <td>2823914</td>\n",
       "      <td>2452779740</td>\n",
       "      <td>1226389870_1634960711453_6931</td>\n",
       "      <td>20211023</td>\n",
       "      <td>11</td>\n",
       "      <td>133676259500:0:0;506827267:0:0;506604848:0:0;1...</td>\n",
       "    </tr>\n",
       "    <tr>\n",
       "      <th>1</th>\n",
       "      <td>2823915</td>\n",
       "      <td>2452779740</td>\n",
       "      <td>1226389870_1635125364313_6322</td>\n",
       "      <td>20211025</td>\n",
       "      <td>09</td>\n",
       "      <td>133676090616:0:0;506875266:0:0;506788905:0:0;1...</td>\n",
       "    </tr>\n",
       "    <tr>\n",
       "      <th>2</th>\n",
       "      <td>5955058</td>\n",
       "      <td>2452779740</td>\n",
       "      <td>1226389870_1634960237640_305</td>\n",
       "      <td>20211023</td>\n",
       "      <td>11</td>\n",
       "      <td>133663542747:0:0;133667887290:0:0;133660240544...</td>\n",
       "    </tr>\n",
       "    <tr>\n",
       "      <th>3</th>\n",
       "      <td>5955059</td>\n",
       "      <td>2452779740</td>\n",
       "      <td>1226389870_1635218369566_7408</td>\n",
       "      <td>20211026</td>\n",
       "      <td>11</td>\n",
       "      <td>133671424464:1:304;133672772493:1:129;13365575...</td>\n",
       "    </tr>\n",
       "    <tr>\n",
       "      <th>4</th>\n",
       "      <td>5955060</td>\n",
       "      <td>2452779740</td>\n",
       "      <td>1226389870_1635218684065_1630</td>\n",
       "      <td>20211026</td>\n",
       "      <td>11</td>\n",
       "      <td>133675129244:1:97;133649721238:1:39;1336699349...</td>\n",
       "    </tr>\n",
       "    <tr>\n",
       "      <th>5</th>\n",
       "      <td>5955061</td>\n",
       "      <td>2452779740</td>\n",
       "      <td>1226389870_1635219225204_5094</td>\n",
       "      <td>20211026</td>\n",
       "      <td>11</td>\n",
       "      <td>133629313711:0:0;507734890:0:0;133680576685:0:...</td>\n",
       "    </tr>\n",
       "    <tr>\n",
       "      <th>6</th>\n",
       "      <td>9084050</td>\n",
       "      <td>2452779740</td>\n",
       "      <td>1226389870_1635042614006_1553</td>\n",
       "      <td>20211024</td>\n",
       "      <td>10</td>\n",
       "      <td>133681028177:0:0;507668079:0:0;133679058440:0:...</td>\n",
       "    </tr>\n",
       "    <tr>\n",
       "      <th>7</th>\n",
       "      <td>9084051</td>\n",
       "      <td>2452779740</td>\n",
       "      <td>1226389870_1635042785895_9303</td>\n",
       "      <td>20211024</td>\n",
       "      <td>10</td>\n",
       "      <td>133669295443:1:126;133664713509:1:82;133659225...</td>\n",
       "    </tr>\n",
       "    <tr>\n",
       "      <th>8</th>\n",
       "      <td>9084052</td>\n",
       "      <td>2452779740</td>\n",
       "      <td>1226389870_1635126996320_5607</td>\n",
       "      <td>20211025</td>\n",
       "      <td>09</td>\n",
       "      <td>507134316:1:56;133668654651:1:134;133677623227...</td>\n",
       "    </tr>\n",
       "    <tr>\n",
       "      <th>9</th>\n",
       "      <td>12214735</td>\n",
       "      <td>2452779740</td>\n",
       "      <td>1226389870_1635127074569_8027</td>\n",
       "      <td>20211025</td>\n",
       "      <td>09</td>\n",
       "      <td>133677964514:0:0;507231284:0:0;506949844:0:0;1...</td>\n",
       "    </tr>\n",
       "    <tr>\n",
       "      <th>10</th>\n",
       "      <td>12214736</td>\n",
       "      <td>2452779740</td>\n",
       "      <td>1226389870_1635219177486_9439</td>\n",
       "      <td>20211026</td>\n",
       "      <td>11</td>\n",
       "      <td>507369694:0:0;133658916592:0:0;507338702:0:0;1...</td>\n",
       "    </tr>\n",
       "    <tr>\n",
       "      <th>11</th>\n",
       "      <td>15344120</td>\n",
       "      <td>2452779740</td>\n",
       "      <td>1226389870_1635125304481_3340</td>\n",
       "      <td>20211025</td>\n",
       "      <td>09</td>\n",
       "      <td>133674430476:1:114;133672555680:1:148;13368091...</td>\n",
       "    </tr>\n",
       "    <tr>\n",
       "      <th>12</th>\n",
       "      <td>15344121</td>\n",
       "      <td>2452779740</td>\n",
       "      <td>1226389870_1635219075365_1753</td>\n",
       "      <td>20211026</td>\n",
       "      <td>11</td>\n",
       "      <td>133679339878:0:0;133656718325:0:0;133670975209...</td>\n",
       "    </tr>\n",
       "    <tr>\n",
       "      <th>13</th>\n",
       "      <td>18474250</td>\n",
       "      <td>2452779740</td>\n",
       "      <td>1226389870_1635126807940_8234</td>\n",
       "      <td>20211025</td>\n",
       "      <td>09</td>\n",
       "      <td>506966836:0:0;133675533557:0:0;506874333:0:0;1...</td>\n",
       "    </tr>\n",
       "    <tr>\n",
       "      <th>14</th>\n",
       "      <td>18474251</td>\n",
       "      <td>2452779740</td>\n",
       "      <td>1226389870_1635127155487_595</td>\n",
       "      <td>20211025</td>\n",
       "      <td>09</td>\n",
       "      <td>133679387259:0:0;507422872:0:0;507389218:1:15;...</td>\n",
       "    </tr>\n",
       "    <tr>\n",
       "      <th>15</th>\n",
       "      <td>24734033</td>\n",
       "      <td>2452779740</td>\n",
       "      <td>1226389870_1635230921467_4491</td>\n",
       "      <td>20211026</td>\n",
       "      <td>14</td>\n",
       "      <td>507126403:1:30;133675809302:1:129;133675809302...</td>\n",
       "    </tr>\n",
       "    <tr>\n",
       "      <th>16</th>\n",
       "      <td>27864186</td>\n",
       "      <td>2452779740</td>\n",
       "      <td>1226389870_1635319471040_3910</td>\n",
       "      <td>20211027</td>\n",
       "      <td>15</td>\n",
       "      <td>133672872623:1:1094;133672872623:0:0;133680402...</td>\n",
       "    </tr>\n",
       "    <tr>\n",
       "      <th>17</th>\n",
       "      <td>27864187</td>\n",
       "      <td>2452779740</td>\n",
       "      <td>1226389870_1635323147885_9299</td>\n",
       "      <td>20211027</td>\n",
       "      <td>16</td>\n",
       "      <td>133675809994:0:0;133682009350:1:112;1336809358...</td>\n",
       "    </tr>\n",
       "    <tr>\n",
       "      <th>18</th>\n",
       "      <td>30994523</td>\n",
       "      <td>2452779740</td>\n",
       "      <td>1226389870_1635127279762_5356</td>\n",
       "      <td>20211025</td>\n",
       "      <td>10</td>\n",
       "      <td>507572371:1:351;133678998669:0:0;507592002:1:3...</td>\n",
       "    </tr>\n",
       "    <tr>\n",
       "      <th>19</th>\n",
       "      <td>30994524</td>\n",
       "      <td>2452779740</td>\n",
       "      <td>1226389870_1635319207264_8169</td>\n",
       "      <td>20211027</td>\n",
       "      <td>15</td>\n",
       "      <td>507064308:0:0;133660055508:0:0;133679632599:0:...</td>\n",
       "    </tr>\n",
       "  </tbody>\n",
       "</table>\n",
       "</div>"
      ],
      "text/plain": [
       "   Unnamed: 0      userID                      requestID      date time  \\\n",
       "0     2823914  2452779740  1226389870_1634960711453_6931  20211023   11   \n",
       "1     2823915  2452779740  1226389870_1635125364313_6322  20211025   09   \n",
       "2     5955058  2452779740   1226389870_1634960237640_305  20211023   11   \n",
       "3     5955059  2452779740  1226389870_1635218369566_7408  20211026   11   \n",
       "4     5955060  2452779740  1226389870_1635218684065_1630  20211026   11   \n",
       "5     5955061  2452779740  1226389870_1635219225204_5094  20211026   11   \n",
       "6     9084050  2452779740  1226389870_1635042614006_1553  20211024   10   \n",
       "7     9084051  2452779740  1226389870_1635042785895_9303  20211024   10   \n",
       "8     9084052  2452779740  1226389870_1635126996320_5607  20211025   09   \n",
       "9    12214735  2452779740  1226389870_1635127074569_8027  20211025   09   \n",
       "10   12214736  2452779740  1226389870_1635219177486_9439  20211026   11   \n",
       "11   15344120  2452779740  1226389870_1635125304481_3340  20211025   09   \n",
       "12   15344121  2452779740  1226389870_1635219075365_1753  20211026   11   \n",
       "13   18474250  2452779740  1226389870_1635126807940_8234  20211025   09   \n",
       "14   18474251  2452779740   1226389870_1635127155487_595  20211025   09   \n",
       "15   24734033  2452779740  1226389870_1635230921467_4491  20211026   14   \n",
       "16   27864186  2452779740  1226389870_1635319471040_3910  20211027   15   \n",
       "17   27864187  2452779740  1226389870_1635323147885_9299  20211027   16   \n",
       "18   30994523  2452779740  1226389870_1635127279762_5356  20211025   10   \n",
       "19   30994524  2452779740  1226389870_1635319207264_8169  20211027   15   \n",
       "\n",
       "                                             sequence  \n",
       "0   133676259500:0:0;506827267:0:0;506604848:0:0;1...  \n",
       "1   133676090616:0:0;506875266:0:0;506788905:0:0;1...  \n",
       "2   133663542747:0:0;133667887290:0:0;133660240544...  \n",
       "3   133671424464:1:304;133672772493:1:129;13365575...  \n",
       "4   133675129244:1:97;133649721238:1:39;1336699349...  \n",
       "5   133629313711:0:0;507734890:0:0;133680576685:0:...  \n",
       "6   133681028177:0:0;507668079:0:0;133679058440:0:...  \n",
       "7   133669295443:1:126;133664713509:1:82;133659225...  \n",
       "8   507134316:1:56;133668654651:1:134;133677623227...  \n",
       "9   133677964514:0:0;507231284:0:0;506949844:0:0;1...  \n",
       "10  507369694:0:0;133658916592:0:0;507338702:0:0;1...  \n",
       "11  133674430476:1:114;133672555680:1:148;13368091...  \n",
       "12  133679339878:0:0;133656718325:0:0;133670975209...  \n",
       "13  506966836:0:0;133675533557:0:0;506874333:0:0;1...  \n",
       "14  133679387259:0:0;507422872:0:0;507389218:1:15;...  \n",
       "15  507126403:1:30;133675809302:1:129;133675809302...  \n",
       "16  133672872623:1:1094;133672872623:0:0;133680402...  \n",
       "17  133675809994:0:0;133682009350:1:112;1336809358...  \n",
       "18  507572371:1:351;133678998669:0:0;507592002:1:3...  \n",
       "19  507064308:0:0;133660055508:0:0;133679632599:0:...  "
      ]
     },
     "execution_count": 6,
     "metadata": {},
     "output_type": "execute_result"
    }
   ],
   "source": [
    "userID = '2215314710'\n",
    "idx = '0000062'\n",
    "aaa, bb, cc = idx[0:3], idx[3:5], idx[5:7]\n",
    "df = pd.read_csv('data_splitted_by_user_id/{}/{}/{}.csv'.format(aaa, bb, cc), dtype=str)\n",
    "df"
   ]
  },
  {
   "cell_type": "markdown",
   "metadata": {},
   "source": [
    "# Calculate Data Length for Each User"
   ]
  },
  {
   "cell_type": "code",
   "execution_count": 7,
   "metadata": {},
   "outputs": [
    {
     "name": "stderr",
     "output_type": "stream",
     "text": [
      "100%|██████████| 96/96 [08:51<00:00,  5.54s/it]\n"
     ]
    }
   ],
   "source": [
    "# 100%|██████████| 96/96 [08:36<00:00,  5.38s/it]\n",
    "# 100%|██████████| 96/96 [24:21<00:00, 15.23s/it]\n",
    "userIDs = [None] * len(userID2idx)\n",
    "userIdxs = [None] * len(userID2idx)\n",
    "dataLens = np.zeros(len(userID2idx), dtype=np.int32)\n",
    "i = 0\n",
    "\n",
    "for aaa in tqdm.tqdm(os.listdir(user_path)):\n",
    "    for bb in os.listdir(user_path + '/{}'.format(aaa)):\n",
    "        for cc in os.listdir(user_path + '/{}/{}'.format(aaa, bb)):\n",
    "            idx = aaa + bb + cc[:-4]\n",
    "            userIdxs[i] = idx\n",
    "            userIDs[i] = userIdx2ID[idx]\n",
    "            dataLens[i] = sum(1 for line in open('data_splitted_by_user_id/{}/{}/{}'.format(aaa, bb, cc))) - 1\n",
    "            i += 1"
   ]
  },
  {
   "cell_type": "code",
   "execution_count": 8,
   "metadata": {
    "scrolled": false
   },
   "outputs": [
    {
     "data": {
      "text/html": [
       "<div>\n",
       "<style scoped>\n",
       "    .dataframe tbody tr th:only-of-type {\n",
       "        vertical-align: middle;\n",
       "    }\n",
       "\n",
       "    .dataframe tbody tr th {\n",
       "        vertical-align: top;\n",
       "    }\n",
       "\n",
       "    .dataframe thead th {\n",
       "        text-align: right;\n",
       "    }\n",
       "</style>\n",
       "<table border=\"1\" class=\"dataframe\">\n",
       "  <thead>\n",
       "    <tr style=\"text-align: right;\">\n",
       "      <th></th>\n",
       "      <th>userID</th>\n",
       "      <th>userIdx</th>\n",
       "      <th>dataLen</th>\n",
       "    </tr>\n",
       "  </thead>\n",
       "  <tbody>\n",
       "    <tr>\n",
       "      <th>0</th>\n",
       "      <td>2019831604</td>\n",
       "      <td>0000000</td>\n",
       "      <td>84</td>\n",
       "    </tr>\n",
       "    <tr>\n",
       "      <th>1</th>\n",
       "      <td>1396276566</td>\n",
       "      <td>0000001</td>\n",
       "      <td>2</td>\n",
       "    </tr>\n",
       "    <tr>\n",
       "      <th>2</th>\n",
       "      <td>2213532200</td>\n",
       "      <td>0000002</td>\n",
       "      <td>23</td>\n",
       "    </tr>\n",
       "    <tr>\n",
       "      <th>3</th>\n",
       "      <td>2416202180</td>\n",
       "      <td>0000003</td>\n",
       "      <td>1</td>\n",
       "    </tr>\n",
       "    <tr>\n",
       "      <th>4</th>\n",
       "      <td>1627755120</td>\n",
       "      <td>0000004</td>\n",
       "      <td>1</td>\n",
       "    </tr>\n",
       "    <tr>\n",
       "      <th>...</th>\n",
       "      <td>...</td>\n",
       "      <td>...</td>\n",
       "      <td>...</td>\n",
       "    </tr>\n",
       "    <tr>\n",
       "      <th>958118</th>\n",
       "      <td>2431442310</td>\n",
       "      <td>0958118</td>\n",
       "      <td>2</td>\n",
       "    </tr>\n",
       "    <tr>\n",
       "      <th>958119</th>\n",
       "      <td>2215503790</td>\n",
       "      <td>0958119</td>\n",
       "      <td>1</td>\n",
       "    </tr>\n",
       "    <tr>\n",
       "      <th>958120</th>\n",
       "      <td>1713745716</td>\n",
       "      <td>0958120</td>\n",
       "      <td>1</td>\n",
       "    </tr>\n",
       "    <tr>\n",
       "      <th>958121</th>\n",
       "      <td>1933045852</td>\n",
       "      <td>0958121</td>\n",
       "      <td>2</td>\n",
       "    </tr>\n",
       "    <tr>\n",
       "      <th>958122</th>\n",
       "      <td>2454689814</td>\n",
       "      <td>0958122</td>\n",
       "      <td>2</td>\n",
       "    </tr>\n",
       "  </tbody>\n",
       "</table>\n",
       "<p>958123 rows × 3 columns</p>\n",
       "</div>"
      ],
      "text/plain": [
       "            userID  userIdx  dataLen\n",
       "0       2019831604  0000000       84\n",
       "1       1396276566  0000001        2\n",
       "2       2213532200  0000002       23\n",
       "3       2416202180  0000003        1\n",
       "4       1627755120  0000004        1\n",
       "...            ...      ...      ...\n",
       "958118  2431442310  0958118        2\n",
       "958119  2215503790  0958119        1\n",
       "958120  1713745716  0958120        1\n",
       "958121  1933045852  0958121        2\n",
       "958122  2454689814  0958122        2\n",
       "\n",
       "[958123 rows x 3 columns]"
      ]
     },
     "execution_count": 8,
     "metadata": {},
     "output_type": "execute_result"
    }
   ],
   "source": [
    "df = pd.DataFrame(\n",
    "    {'userID': [str(_) for _ in userIDs], 'userIdx': userIdxs, 'dataLen': dataLens},\n",
    ")\n",
    "df"
   ]
  },
  {
   "cell_type": "code",
   "execution_count": 9,
   "metadata": {},
   "outputs": [],
   "source": [
    "df.to_csv(data_path + 'dataLen4eachUser' + '.csv', index=False)"
   ]
  },
  {
   "cell_type": "markdown",
   "metadata": {},
   "source": [
    "[numpy.histogram_bin_edges](https://numpy.org/doc/stable/reference/generated/numpy.histogram_bin_edges.html#numpy.histogram_bin_edges)\n",
    "\n",
    "> ‘doane’\n",
    "An improved version of Sturges’ estimator that works better with non-normal datasets."
   ]
  },
  {
   "cell_type": "code",
   "execution_count": 10,
   "metadata": {
    "scrolled": true
   },
   "outputs": [
    {
     "data": {
      "image/png": "[encoded data removed]",
      "text/plain": [
       "<Figure size 432x288 with 1 Axes>"
      ]
     },
     "metadata": {
      "needs_background": "light"
     },
     "output_type": "display_data"
    }
   ],
   "source": [
    "title = 'Amount of Data for Each User'\n",
    "plt.hist(df.dataLen, bins='doane')\n",
    "plt.xlabel('Amount of Data')\n",
    "plt.ylabel('Number of Users')\n",
    "plt.yscale('log')\n",
    "plt.title(title)\n",
    "plt.savefig('images/{}.png'.format(title))"
   ]
  },
  {
   "cell_type": "code",
   "execution_count": 11,
   "metadata": {},
   "outputs": [
    {
     "data": {
      "text/plain": [
       "(234333,)"
      ]
     },
     "execution_count": 11,
     "metadata": {},
     "output_type": "execute_result"
    }
   ],
   "source": [
    "np.where(dataLens == 1)[0].shape"
   ]
  },
  {
   "cell_type": "code",
   "execution_count": 12,
   "metadata": {
    "scrolled": true
   },
   "outputs": [
    {
     "data": {
      "text/plain": [
       "(109116,)"
      ]
     },
     "execution_count": 12,
     "metadata": {},
     "output_type": "execute_result"
    }
   ],
   "source": [
    "np.where(dataLens == 2)[0].shape"
   ]
  },
  {
   "cell_type": "code",
   "execution_count": 13,
   "metadata": {
    "scrolled": true
   },
   "outputs": [
    {
     "data": {
      "text/plain": [
       "(63965,)"
      ]
     },
     "execution_count": 13,
     "metadata": {},
     "output_type": "execute_result"
    }
   ],
   "source": [
    "np.where(dataLens == 3)[0].shape"
   ]
  },
  {
   "cell_type": "code",
   "execution_count": 14,
   "metadata": {},
   "outputs": [
    {
     "data": {
      "text/plain": [
       "(44344,)"
      ]
     },
     "execution_count": 14,
     "metadata": {},
     "output_type": "execute_result"
    }
   ],
   "source": [
    "np.where(dataLens == 4)[0].shape"
   ]
  },
  {
   "cell_type": "code",
   "execution_count": 15,
   "metadata": {
    "scrolled": true
   },
   "outputs": [
    {
     "data": {
      "text/plain": [
       "(33700,)"
      ]
     },
     "execution_count": 15,
     "metadata": {},
     "output_type": "execute_result"
    }
   ],
   "source": [
    "np.where(dataLens == 5)[0].shape"
   ]
  },
  {
   "cell_type": "code",
   "execution_count": 16,
   "metadata": {
    "scrolled": true
   },
   "outputs": [
    {
     "data": {
      "text/plain": [
       "32.66693315993876"
      ]
     },
     "execution_count": 16,
     "metadata": {},
     "output_type": "execute_result"
    }
   ],
   "source": [
    "np.mean(dataLens)"
   ]
  },
  {
   "cell_type": "code",
   "execution_count": 17,
   "metadata": {},
   "outputs": [
    {
     "data": {
      "text/plain": [
       "(218744,)"
      ]
     },
     "execution_count": 17,
     "metadata": {},
     "output_type": "execute_result"
    }
   ],
   "source": [
    "np.where(dataLens > np.mean(dataLens))[0].shape"
   ]
  },
  {
   "cell_type": "markdown",
   "metadata": {},
   "source": [
    "# Loyal User Data"
   ]
  },
  {
   "cell_type": "code",
   "execution_count": 18,
   "metadata": {
    "scrolled": true
   },
   "outputs": [
    {
     "data": {
      "text/html": [
       "<div>\n",
       "<style scoped>\n",
       "    .dataframe tbody tr th:only-of-type {\n",
       "        vertical-align: middle;\n",
       "    }\n",
       "\n",
       "    .dataframe tbody tr th {\n",
       "        vertical-align: top;\n",
       "    }\n",
       "\n",
       "    .dataframe thead th {\n",
       "        text-align: right;\n",
       "    }\n",
       "</style>\n",
       "<table border=\"1\" class=\"dataframe\">\n",
       "  <thead>\n",
       "    <tr style=\"text-align: right;\">\n",
       "      <th></th>\n",
       "      <th>userID</th>\n",
       "      <th>userIdx</th>\n",
       "      <th>dataLen</th>\n",
       "    </tr>\n",
       "  </thead>\n",
       "  <tbody>\n",
       "    <tr>\n",
       "      <th>0</th>\n",
       "      <td>2019831604</td>\n",
       "      <td>0000000</td>\n",
       "      <td>84</td>\n",
       "    </tr>\n",
       "    <tr>\n",
       "      <th>11</th>\n",
       "      <td>428614678</td>\n",
       "      <td>0000011</td>\n",
       "      <td>442</td>\n",
       "    </tr>\n",
       "    <tr>\n",
       "      <th>13</th>\n",
       "      <td>1370469668</td>\n",
       "      <td>0000013</td>\n",
       "      <td>165</td>\n",
       "    </tr>\n",
       "    <tr>\n",
       "      <th>18</th>\n",
       "      <td>2271414200</td>\n",
       "      <td>0000018</td>\n",
       "      <td>221</td>\n",
       "    </tr>\n",
       "    <tr>\n",
       "      <th>22</th>\n",
       "      <td>2441160884</td>\n",
       "      <td>0000022</td>\n",
       "      <td>118</td>\n",
       "    </tr>\n",
       "    <tr>\n",
       "      <th>...</th>\n",
       "      <td>...</td>\n",
       "      <td>...</td>\n",
       "      <td>...</td>\n",
       "    </tr>\n",
       "    <tr>\n",
       "      <th>958111</th>\n",
       "      <td>2436887590</td>\n",
       "      <td>0958111</td>\n",
       "      <td>136</td>\n",
       "    </tr>\n",
       "    <tr>\n",
       "      <th>958112</th>\n",
       "      <td>1611848354</td>\n",
       "      <td>0958112</td>\n",
       "      <td>61</td>\n",
       "    </tr>\n",
       "    <tr>\n",
       "      <th>958113</th>\n",
       "      <td>2413577186</td>\n",
       "      <td>0958113</td>\n",
       "      <td>127</td>\n",
       "    </tr>\n",
       "    <tr>\n",
       "      <th>958114</th>\n",
       "      <td>2417819566</td>\n",
       "      <td>0958114</td>\n",
       "      <td>115</td>\n",
       "    </tr>\n",
       "    <tr>\n",
       "      <th>958115</th>\n",
       "      <td>2447908118</td>\n",
       "      <td>0958115</td>\n",
       "      <td>116</td>\n",
       "    </tr>\n",
       "  </tbody>\n",
       "</table>\n",
       "<p>218744 rows × 3 columns</p>\n",
       "</div>"
      ],
      "text/plain": [
       "            userID  userIdx  dataLen\n",
       "0       2019831604  0000000       84\n",
       "11       428614678  0000011      442\n",
       "13      1370469668  0000013      165\n",
       "18      2271414200  0000018      221\n",
       "22      2441160884  0000022      118\n",
       "...            ...      ...      ...\n",
       "958111  2436887590  0958111      136\n",
       "958112  1611848354  0958112       61\n",
       "958113  2413577186  0958113      127\n",
       "958114  2417819566  0958114      115\n",
       "958115  2447908118  0958115      116\n",
       "\n",
       "[218744 rows x 3 columns]"
      ]
     },
     "execution_count": 18,
     "metadata": {},
     "output_type": "execute_result"
    }
   ],
   "source": [
    "loyal_df = df.loc[np.where(dataLens > np.mean(dataLens))[0], :]\n",
    "loyal_df"
   ]
  },
  {
   "cell_type": "code",
   "execution_count": 19,
   "metadata": {},
   "outputs": [],
   "source": [
    "loyal_df.to_csv(data_path + 'dataLen4loyalUser' + '.csv', index=False)"
   ]
  },
  {
   "cell_type": "code",
   "execution_count": 20,
   "metadata": {
    "scrolled": true
   },
   "outputs": [
    {
     "data": {
      "image/png": "[encoded data removed]",
      "text/plain": [
       "<Figure size 432x288 with 1 Axes>"
      ]
     },
     "metadata": {
      "needs_background": "light"
     },
     "output_type": "display_data"
    }
   ],
   "source": [
    "title = 'Amount of Data for Loyal User'\n",
    "plt.hist(loyal_df.dataLen, bins='doane')\n",
    "plt.xlabel('Amount of Data')\n",
    "plt.ylabel('Number of Users')\n",
    "plt.yscale('log')\n",
    "plt.title(title)\n",
    "plt.savefig('images/{}.png'.format(title))"
   ]
  },
  {
   "cell_type": "markdown",
   "metadata": {},
   "source": [
    "# Augment Loyal User Data"
   ]
  },
  {
   "cell_type": "code",
   "execution_count": 21,
   "metadata": {},
   "outputs": [],
   "source": [
    "with open(data_path + 'contentTC2ID.pickle', 'rb') as handle:\n",
    "    contentTC2ID = pickle.load(handle)\n",
    "with open(data_path + 'contentID2idx.pickle', 'rb') as handle:\n",
    "    contentID2idx = pickle.load(handle)\n",
    "with open(data_path + 'key2idx.pickle', 'rb') as handle:\n",
    "    key2idx = pickle.load(handle)"
   ]
  },
  {
   "cell_type": "code",
   "execution_count": 22,
   "metadata": {
    "scrolled": true
   },
   "outputs": [
    {
     "data": {
      "text/plain": [
       "1485"
      ]
     },
     "execution_count": 22,
     "metadata": {},
     "output_type": "execute_result"
    }
   ],
   "source": [
    "len(contentTC2ID)"
   ]
  },
  {
   "cell_type": "code",
   "execution_count": 23,
   "metadata": {
    "scrolled": false
   },
   "outputs": [
    {
     "name": "stderr",
     "output_type": "stream",
     "text": [
      "218744it [10:38, 342.78it/s]\n"
     ]
    }
   ],
   "source": [
    "# 218744it [10:31, 346.32it/s]\n",
    "loyal_recommeds = np.zeros([len(loyal_df), len(contentTC2ID)], dtype=float)\n",
    "loyalIdx2norm = dict()\n",
    "normIdx2loyal = dict()\n",
    "\n",
    "for _, (idx, row) in tqdm.tqdm(enumerate(loyal_df.iterrows())):  # _ in range(218744), idx in range(958123)\n",
    "    loyalIdx2norm[_] = idx\n",
    "    normIdx2loyal[idx] = _    \n",
    "    \n",
    "    userIdx = row['userIdx']\n",
    "    aaa, bb, cc = userIdx[0:3], userIdx[3:5], userIdx[5:7]\n",
    "    temp_df = pd.read_csv('data_splitted_by_user_id/{}/{}/{}.csv'.format(aaa, bb, cc), dtype=str)\n",
    "    userID = temp_df.loc[0, 'userID']\n",
    "    assert userIdx == userID2idx[userID]\n",
    "    for s in temp_df.sequence:\n",
    "        for icd in s.split(';'):\n",
    "            i, c, d = icd.split(':')\n",
    "            contentIdx = contentID2idx[i]\n",
    "            loyal_recommeds[_, contentIdx] += 1\n",
    "    sum_loyal_recommeds = np.sum(loyal_recommeds[_, :])\n",
    "    loyal_recommeds[_, :] = loyal_recommeds[_, :] / sum_loyal_recommeds"
   ]
  },
  {
   "cell_type": "code",
   "execution_count": 24,
   "metadata": {},
   "outputs": [],
   "source": [
    "with open(data_path + 'loyal_recommeds.pickle', 'wb') as handle:\n",
    "    pickle.dump(loyal_recommeds, handle, protocol=pickle.HIGHEST_PROTOCOL)\n",
    "with open(data_path + 'loyalIdx2norm.pickle', 'wb') as handle:\n",
    "    pickle.dump(loyalIdx2norm, handle, protocol=pickle.HIGHEST_PROTOCOL)\n",
    "with open(data_path + 'normIdx2loyal.pickle', 'wb') as handle:\n",
    "    pickle.dump(normIdx2loyal, handle, protocol=pickle.HIGHEST_PROTOCOL)"
   ]
  },
  {
   "cell_type": "code",
   "execution_count": 25,
   "metadata": {
    "scrolled": true
   },
   "outputs": [
    {
     "data": {
      "text/plain": [
       "<BarContainer object of 1485 artists>"
      ]
     },
     "execution_count": 25,
     "metadata": {},
     "output_type": "execute_result"
    },
    {
     "data": {
      "image/png": "[encoded data removed]",
      "text/plain": [
       "<Figure size 432x288 with 1 Axes>"
      ]
     },
     "metadata": {
      "needs_background": "light"
     },
     "output_type": "display_data"
    }
   ],
   "source": [
    "plt.bar(range(len(loyal_recommeds[0,:])), loyal_recommeds[0,:], width=2)"
   ]
  },
  {
   "cell_type": "markdown",
   "metadata": {},
   "source": [
    "# Small Test"
   ]
  },
  {
   "cell_type": "code",
   "execution_count": 26,
   "metadata": {
    "scrolled": true
   },
   "outputs": [
    {
     "data": {
      "text/html": [
       "<div>\n",
       "<style scoped>\n",
       "    .dataframe tbody tr th:only-of-type {\n",
       "        vertical-align: middle;\n",
       "    }\n",
       "\n",
       "    .dataframe tbody tr th {\n",
       "        vertical-align: top;\n",
       "    }\n",
       "\n",
       "    .dataframe thead th {\n",
       "        text-align: right;\n",
       "    }\n",
       "</style>\n",
       "<table border=\"1\" class=\"dataframe\">\n",
       "  <thead>\n",
       "    <tr style=\"text-align: right;\">\n",
       "      <th></th>\n",
       "      <th>requestID</th>\n",
       "      <th>userID</th>\n",
       "      <th>date</th>\n",
       "      <th>time</th>\n",
       "      <th>sequence</th>\n",
       "    </tr>\n",
       "  </thead>\n",
       "  <tbody>\n",
       "    <tr>\n",
       "      <th>0</th>\n",
       "      <td>719708291_1635480753679_2960</td>\n",
       "      <td>1439416582</td>\n",
       "      <td>20211029</td>\n",
       "      <td>12</td>\n",
       "      <td>509057416;133681226775;509178914;509178914;508...</td>\n",
       "    </tr>\n",
       "    <tr>\n",
       "      <th>1</th>\n",
       "      <td>679978594_1635491281923_1780</td>\n",
       "      <td>1359957188</td>\n",
       "      <td>20211029</td>\n",
       "      <td>15</td>\n",
       "      <td>508829941;133686019323;508830405;133677444707;...</td>\n",
       "    </tr>\n",
       "    <tr>\n",
       "      <th>2</th>\n",
       "      <td>781051348_1635478916952_3923</td>\n",
       "      <td>1562102696</td>\n",
       "      <td>20211029</td>\n",
       "      <td>11</td>\n",
       "      <td>508920410;133682604510;508823743;133679506759;...</td>\n",
       "    </tr>\n",
       "    <tr>\n",
       "      <th>3</th>\n",
       "      <td>1223262997_1635514428746_6191</td>\n",
       "      <td>2446525994</td>\n",
       "      <td>20211029</td>\n",
       "      <td>21</td>\n",
       "      <td>509263836;133677339412;509255912;133666460363;...</td>\n",
       "    </tr>\n",
       "    <tr>\n",
       "      <th>4</th>\n",
       "      <td>1210159908_1635487197871_9372</td>\n",
       "      <td>2420319816</td>\n",
       "      <td>20211029</td>\n",
       "      <td>13</td>\n",
       "      <td>509051208;133686479202;509321576;133685566011;...</td>\n",
       "    </tr>\n",
       "    <tr>\n",
       "      <th>...</th>\n",
       "      <td>...</td>\n",
       "      <td>...</td>\n",
       "      <td>...</td>\n",
       "      <td>...</td>\n",
       "      <td>...</td>\n",
       "    </tr>\n",
       "    <tr>\n",
       "      <th>99995</th>\n",
       "      <td>1103019431_1635488217052_1566</td>\n",
       "      <td>2206038862</td>\n",
       "      <td>20211029</td>\n",
       "      <td>14</td>\n",
       "      <td>508202927;133667442521;508448933;507727992;133...</td>\n",
       "    </tr>\n",
       "    <tr>\n",
       "      <th>99996</th>\n",
       "      <td>819379240_1635440341187_834</td>\n",
       "      <td>1638758480</td>\n",
       "      <td>20211029</td>\n",
       "      <td>00</td>\n",
       "      <td>133680499794;133686284672;133680414545;5089725...</td>\n",
       "    </tr>\n",
       "    <tr>\n",
       "      <th>99997</th>\n",
       "      <td>725125338_1635454468857_6210</td>\n",
       "      <td>1450250676</td>\n",
       "      <td>20211029</td>\n",
       "      <td>04</td>\n",
       "      <td>509051208;133664849798;133686913039;508948985;...</td>\n",
       "    </tr>\n",
       "    <tr>\n",
       "      <th>99998</th>\n",
       "      <td>1220982835_1635495707014_791</td>\n",
       "      <td>2441965670</td>\n",
       "      <td>20211029</td>\n",
       "      <td>16</td>\n",
       "      <td>133684769217;507767581;507912030;133684439797;...</td>\n",
       "    </tr>\n",
       "    <tr>\n",
       "      <th>99999</th>\n",
       "      <td>1213447213_1635479435146_7061</td>\n",
       "      <td>2426894426</td>\n",
       "      <td>20211029</td>\n",
       "      <td>11</td>\n",
       "      <td>508645314;133686259459;508233761;133686162687</td>\n",
       "    </tr>\n",
       "  </tbody>\n",
       "</table>\n",
       "<p>100000 rows × 5 columns</p>\n",
       "</div>"
      ],
      "text/plain": [
       "                           requestID      userID      date time  \\\n",
       "0       719708291_1635480753679_2960  1439416582  20211029   12   \n",
       "1       679978594_1635491281923_1780  1359957188  20211029   15   \n",
       "2       781051348_1635478916952_3923  1562102696  20211029   11   \n",
       "3      1223262997_1635514428746_6191  2446525994  20211029   21   \n",
       "4      1210159908_1635487197871_9372  2420319816  20211029   13   \n",
       "...                              ...         ...       ...  ...   \n",
       "99995  1103019431_1635488217052_1566  2206038862  20211029   14   \n",
       "99996    819379240_1635440341187_834  1638758480  20211029   00   \n",
       "99997   725125338_1635454468857_6210  1450250676  20211029   04   \n",
       "99998   1220982835_1635495707014_791  2441965670  20211029   16   \n",
       "99999  1213447213_1635479435146_7061  2426894426  20211029   11   \n",
       "\n",
       "                                                sequence  \n",
       "0      509057416;133681226775;509178914;509178914;508...  \n",
       "1      508829941;133686019323;508830405;133677444707;...  \n",
       "2      508920410;133682604510;508823743;133679506759;...  \n",
       "3      509263836;133677339412;509255912;133666460363;...  \n",
       "4      509051208;133686479202;509321576;133685566011;...  \n",
       "...                                                  ...  \n",
       "99995  508202927;133667442521;508448933;507727992;133...  \n",
       "99996  133680499794;133686284672;133680414545;5089725...  \n",
       "99997  509051208;133664849798;133686913039;508948985;...  \n",
       "99998  133684769217;507767581;507912030;133684439797;...  \n",
       "99999      508645314;133686259459;508233761;133686162687  \n",
       "\n",
       "[100000 rows x 5 columns]"
      ]
     },
     "execution_count": 26,
     "metadata": {},
     "output_type": "execute_result"
    }
   ],
   "source": [
    "test_df = pd.read_csv(data_path + 'test_data.csv', dtype=str)\n",
    "test_df"
   ]
  },
  {
   "cell_type": "code",
   "execution_count": 27,
   "metadata": {},
   "outputs": [
    {
     "data": {
      "text/plain": [
       "100000"
      ]
     },
     "execution_count": 27,
     "metadata": {},
     "output_type": "execute_result"
    }
   ],
   "source": [
    "len(test_df.userID)"
   ]
  },
  {
   "cell_type": "code",
   "execution_count": 28,
   "metadata": {},
   "outputs": [
    {
     "data": {
      "text/plain": [
       "71595"
      ]
     },
     "execution_count": 28,
     "metadata": {},
     "output_type": "execute_result"
    }
   ],
   "source": [
    "len(set(test_df.userID))"
   ]
  },
  {
   "cell_type": "code",
   "execution_count": 29,
   "metadata": {
    "scrolled": false
   },
   "outputs": [
    {
     "name": "stderr",
     "output_type": "stream",
     "text": [
      "  0%|          | 0/100000 [00:00<?, ?it/s]\n"
     ]
    }
   ],
   "source": [
    "for _ in tqdm.tqdm(range(len(test_df))):\n",
    "    temp_recommeds = np.zeros(len(contentTC2ID))\n",
    "    for itemID in test_df.loc[_, 'sequence'].split(';'):\n",
    "        contentIdx = contentID2idx[itemID]\n",
    "        temp_recommeds[contentIdx] += 1\n",
    "    sum_temp_recommeds = np.sum(temp_recommeds)\n",
    "    temp_recommeds /= sum_temp_recommeds\n",
    "    loyal_idx = np.argmax(np.matmul(loyal_recommeds, temp_recommeds))\n",
    "    norm_idx = loyalIdx2norm[loyal_idx]\n",
    "    break"
   ]
  },
  {
   "cell_type": "code",
   "execution_count": 30,
   "metadata": {},
   "outputs": [
    {
     "data": {
      "text/plain": [
       "'1439416582'"
      ]
     },
     "execution_count": 30,
     "metadata": {},
     "output_type": "execute_result"
    }
   ],
   "source": [
    "test_df.loc[_, 'userID']"
   ]
  },
  {
   "cell_type": "code",
   "execution_count": 31,
   "metadata": {},
   "outputs": [
    {
     "data": {
      "text/plain": [
       "4856"
      ]
     },
     "execution_count": 31,
     "metadata": {},
     "output_type": "execute_result"
    }
   ],
   "source": [
    "loyal_idx"
   ]
  },
  {
   "cell_type": "code",
   "execution_count": 32,
   "metadata": {},
   "outputs": [
    {
     "data": {
      "text/plain": [
       "'0021250'"
      ]
     },
     "execution_count": 32,
     "metadata": {},
     "output_type": "execute_result"
    }
   ],
   "source": [
    "norm_idx = str(loyalIdx2norm[loyal_idx]).zfill(7)\n",
    "norm_idx"
   ]
  },
  {
   "cell_type": "code",
   "execution_count": 33,
   "metadata": {},
   "outputs": [
    {
     "data": {
      "text/plain": [
       "'1376133776'"
      ]
     },
     "execution_count": 33,
     "metadata": {},
     "output_type": "execute_result"
    }
   ],
   "source": [
    "userIdx2ID[norm_idx]"
   ]
  },
  {
   "cell_type": "code",
   "execution_count": 34,
   "metadata": {},
   "outputs": [
    {
     "data": {
      "image/png": "[encoded data removed]",
      "text/plain": [
       "<Figure size 432x288 with 1 Axes>"
      ]
     },
     "metadata": {
      "needs_background": "light"
     },
     "output_type": "display_data"
    }
   ],
   "source": [
    "title = 'Frequency Histogram of User {}'.format(test_df.loc[_, 'userID'])\n",
    "plt.bar(range(len(temp_recommeds)), temp_recommeds, width=5)\n",
    "plt.title(title)\n",
    "plt.xlabel('Category Index')\n",
    "plt.savefig('images/{}.png'.format(title))"
   ]
  },
  {
   "cell_type": "code",
   "execution_count": 35,
   "metadata": {},
   "outputs": [
    {
     "data": {
      "image/png": "[encoded data removed]",
      "text/plain": [
       "<Figure size 432x288 with 1 Axes>"
      ]
     },
     "metadata": {
      "needs_background": "light"
     },
     "output_type": "display_data"
    }
   ],
   "source": [
    "title = 'Frequency Histogram of User {}'.format(userIdx2ID[norm_idx])\n",
    "plt.bar(range(len(loyal_recommeds[loyal_idx,:])), loyal_recommeds[loyal_idx,:], width=5)\n",
    "plt.title(title)\n",
    "plt.xlabel('Category Index')\n",
    "plt.savefig('images/{}.png'.format(title))"
   ]
  },
  {
   "cell_type": "code",
   "execution_count": null,
   "metadata": {},
   "outputs": [],
   "source": []
  }
 ],
 "metadata": {
  "kernelspec": {
   "display_name": "Python 3",
   "language": "python",
   "name": "python3"
  },
  "language_info": {
   "codemirror_mode": {
    "name": "ipython",
    "version": 3
   },
   "file_extension": ".py",
   "mimetype": "text/x-python",
   "name": "python",
   "nbconvert_exporter": "python",
   "pygments_lexer": "ipython3",
   "version": "3.8.8"
  },
  "latex_envs": {
   "LaTeX_envs_menu_present": true,
   "autoclose": false,
   "autocomplete": true,
   "bibliofile": "biblio.bib",
   "cite_by": "apalike",
   "current_citInitial": 1,
   "eqLabelWithNumbers": true,
   "eqNumInitial": 1,
   "hotkeys": {
    "equation": "Ctrl-E",
    "itemize": "Ctrl-I"
   },
   "labels_anchors": false,
   "latex_user_defs": false,
   "report_style_numbering": false,
   "user_envs_cfg": false
  }
 },
 "nbformat": 4,
 "nbformat_minor": 1
}
