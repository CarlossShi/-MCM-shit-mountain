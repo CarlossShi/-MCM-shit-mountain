{
 "cells": [
  {
   "cell_type": "code",
   "execution_count": 2,
   "metadata": {},
   "outputs": [],
   "source": [
    "import pandas as pd\n",
    "import os\n",
    "import tqdm\n",
    "import numpy as np\n",
    "import pprint\n",
    "import pickle"
   ]
  },
  {
   "cell_type": "code",
   "execution_count": 16,
   "metadata": {},
   "outputs": [],
   "source": [
    "import matplotlib.pyplot as plt\n",
    "from matplotlib import font_manager\n",
    "%matplotlib inline"
   ]
  },
  {
   "cell_type": "code",
   "execution_count": 3,
   "metadata": {},
   "outputs": [],
   "source": [
    "data_path = 'mathorcup_recom_listwise/data/'\n",
    "user_path = 'data_splitted_by_user_id'"
   ]
  },
  {
   "cell_type": "code",
   "execution_count": 9,
   "metadata": {},
   "outputs": [
    {
     "data": {
      "text/plain": [
       "958123"
      ]
     },
     "execution_count": 9,
     "metadata": {},
     "output_type": "execute_result"
    }
   ],
   "source": [
    "if not os.path.exists(data_path + 'userID2idx.pickle'):\n",
    "    train_df = pd.read_csv(data_path + 'train_data.csv', dtype=str)\n",
    "    train_userID = set(train_df.loc[:, 'userID'])\n",
    "    userID2idx = {_: str(i).zfill(7) for i, _ in enumerate(train_userID)}\n",
    "    with open(data_path + 'userID2idx.pickle', 'wb') as handle:\n",
    "        pickle.dump(userID2idx, handle, protocol=pickle.HIGHEST_PROTOCOL)\n",
    "with open(data_path + 'userID2idx.pickle', 'rb') as handle:\n",
    "    userID2idx = pickle.load(handle)\n",
    "len(userID2idx)"
   ]
  },
  {
   "cell_type": "code",
   "execution_count": 10,
   "metadata": {},
   "outputs": [],
   "source": [
    "with open(data_path + 'contentID2idx.pickle', 'rb') as handle:\n",
    "    contentID2idx = pickle.load(handle)"
   ]
  },
  {
   "cell_type": "code",
   "execution_count": 6,
   "metadata": {
    "scrolled": true
   },
   "outputs": [
    {
     "data": {
      "text/html": [
       "<div>\n",
       "<style scoped>\n",
       "    .dataframe tbody tr th:only-of-type {\n",
       "        vertical-align: middle;\n",
       "    }\n",
       "\n",
       "    .dataframe tbody tr th {\n",
       "        vertical-align: top;\n",
       "    }\n",
       "\n",
       "    .dataframe thead th {\n",
       "        text-align: right;\n",
       "    }\n",
       "</style>\n",
       "<table border=\"1\" class=\"dataframe\">\n",
       "  <thead>\n",
       "    <tr style=\"text-align: right;\">\n",
       "      <th></th>\n",
       "      <th>userID</th>\n",
       "      <th>userIdx</th>\n",
       "      <th>dataLen</th>\n",
       "    </tr>\n",
       "  </thead>\n",
       "  <tbody>\n",
       "    <tr>\n",
       "      <th>0</th>\n",
       "      <td>2019831604</td>\n",
       "      <td>0000000</td>\n",
       "      <td>84</td>\n",
       "    </tr>\n",
       "    <tr>\n",
       "      <th>1</th>\n",
       "      <td>428614678</td>\n",
       "      <td>0000011</td>\n",
       "      <td>442</td>\n",
       "    </tr>\n",
       "    <tr>\n",
       "      <th>2</th>\n",
       "      <td>1370469668</td>\n",
       "      <td>0000013</td>\n",
       "      <td>165</td>\n",
       "    </tr>\n",
       "    <tr>\n",
       "      <th>3</th>\n",
       "      <td>2271414200</td>\n",
       "      <td>0000018</td>\n",
       "      <td>221</td>\n",
       "    </tr>\n",
       "    <tr>\n",
       "      <th>4</th>\n",
       "      <td>2441160884</td>\n",
       "      <td>0000022</td>\n",
       "      <td>118</td>\n",
       "    </tr>\n",
       "    <tr>\n",
       "      <th>...</th>\n",
       "      <td>...</td>\n",
       "      <td>...</td>\n",
       "      <td>...</td>\n",
       "    </tr>\n",
       "    <tr>\n",
       "      <th>218739</th>\n",
       "      <td>2436887590</td>\n",
       "      <td>0958111</td>\n",
       "      <td>136</td>\n",
       "    </tr>\n",
       "    <tr>\n",
       "      <th>218740</th>\n",
       "      <td>1611848354</td>\n",
       "      <td>0958112</td>\n",
       "      <td>61</td>\n",
       "    </tr>\n",
       "    <tr>\n",
       "      <th>218741</th>\n",
       "      <td>2413577186</td>\n",
       "      <td>0958113</td>\n",
       "      <td>127</td>\n",
       "    </tr>\n",
       "    <tr>\n",
       "      <th>218742</th>\n",
       "      <td>2417819566</td>\n",
       "      <td>0958114</td>\n",
       "      <td>115</td>\n",
       "    </tr>\n",
       "    <tr>\n",
       "      <th>218743</th>\n",
       "      <td>2447908118</td>\n",
       "      <td>0958115</td>\n",
       "      <td>116</td>\n",
       "    </tr>\n",
       "  </tbody>\n",
       "</table>\n",
       "<p>218744 rows × 3 columns</p>\n",
       "</div>"
      ],
      "text/plain": [
       "            userID  userIdx dataLen\n",
       "0       2019831604  0000000      84\n",
       "1        428614678  0000011     442\n",
       "2       1370469668  0000013     165\n",
       "3       2271414200  0000018     221\n",
       "4       2441160884  0000022     118\n",
       "...            ...      ...     ...\n",
       "218739  2436887590  0958111     136\n",
       "218740  1611848354  0958112      61\n",
       "218741  2413577186  0958113     127\n",
       "218742  2417819566  0958114     115\n",
       "218743  2447908118  0958115     116\n",
       "\n",
       "[218744 rows x 3 columns]"
      ]
     },
     "execution_count": 6,
     "metadata": {},
     "output_type": "execute_result"
    }
   ],
   "source": [
    "loyal_df = pd.read_csv(data_path + 'dataLen4loyalUser.csv', dtype=str)\n",
    "loyal_df"
   ]
  },
  {
   "cell_type": "code",
   "execution_count": 8,
   "metadata": {},
   "outputs": [],
   "source": [
    "loyal_clickeds = np.empty([218744, 1485], dtype=np.float32)\n",
    "loyal_clickeds[:] = np.nan\n",
    "loyal_durations = np.empty([218744, 1485], dtype=np.float32)\n",
    "loyal_durations[:] = np.nan\n",
    "loyal_recommeds = np.zeros([218744, 1485], dtype=np.int32)"
   ]
  },
  {
   "cell_type": "code",
   "execution_count": 23,
   "metadata": {},
   "outputs": [
    {
     "name": "stderr",
     "output_type": "stream",
     "text": [
      "218744it [32:29, 112.23it/s]\n"
     ]
    }
   ],
   "source": [
    "for _, (idx, row) in tqdm.tqdm(enumerate(loyal_df.iterrows())):  # _ in range(218744), idx in range(958123)\n",
    "    userIdx = row['userIdx']\n",
    "    aaa, bb, cc = userIdx[0:3], userIdx[3:5], userIdx[5:7]\n",
    "    temp_df = pd.read_csv('data_splitted_by_user_id/{}/{}/{}.csv'.format(aaa, bb, cc), dtype=str)\n",
    "    userID = temp_df.loc[0, 'userID']\n",
    "    assert userIdx == userID2idx[userID]\n",
    "    clickeds = np.empty(1485)\n",
    "    clickeds[:] = np.nan\n",
    "    durations = np.empty(1485)\n",
    "    durations[:] = np.nan\n",
    "    recommeds = np.zeros(1485)\n",
    "    for s in temp_df.sequence:\n",
    "        for icd in s.split(';'):\n",
    "            i, c, d = icd.split(':')\n",
    "            contentIdx = contentID2idx[i]\n",
    "            if np.isnan(clickeds[contentIdx]):\n",
    "                clickeds[contentIdx] = 0\n",
    "                durations[contentIdx] = 0\n",
    "            if eval(c):  # recommended and read\n",
    "                clickeds[contentIdx] += 1\n",
    "                durations[contentIdx] += eval(d)\n",
    "            recommeds[contentIdx] += 1\n",
    "    loyal_clickeds[_, :] = clickeds\n",
    "    loyal_durations[_, :] = durations\n",
    "    loyal_recommeds[_, :] = recommeds"
   ]
  },
  {
   "cell_type": "code",
   "execution_count": 24,
   "metadata": {},
   "outputs": [],
   "source": [
    "with open(data_path + 'loyal_raw_clickeds.pickle', 'wb') as handle:\n",
    "    pickle.dump(loyal_clickeds, handle, protocol=pickle.HIGHEST_PROTOCOL)\n",
    "with open(data_path + 'loyal_raw_durations.pickle', 'wb') as handle:\n",
    "    pickle.dump(loyal_durations, handle, protocol=pickle.HIGHEST_PROTOCOL)\n",
    "with open(data_path + 'loyal_raw_recommeds.pickle', 'wb') as handle:  # to distinguish from loyal_recommeds, which has been normed\n",
    "    pickle.dump(loyal_recommeds, handle, protocol=pickle.HIGHEST_PROTOCOL)"
   ]
  },
  {
   "cell_type": "code",
   "execution_count": 20,
   "metadata": {
    "scrolled": true
   },
   "outputs": [
    {
     "data": {
      "text/plain": [
       "(array([   3,   16,   18,   19,   38,   42,   44,   45,   49,   52,   56,\n",
       "          65,  103,  131,  139,  151,  183,  229,  230,  256,  262,  272,\n",
       "         302,  328,  331,  332,  337,  347,  383,  402,  443,  463,  473,\n",
       "         508,  509,  581,  585,  613,  614,  615,  618,  619,  637,  648,\n",
       "         717,  744,  747,  785,  796,  803,  804,  827,  828,  855,  890,\n",
       "         896,  897,  904,  905,  937,  958,  987, 1012, 1017, 1057, 1072,\n",
       "        1083, 1143, 1159, 1175, 1197, 1211, 1217, 1220, 1253, 1278, 1288,\n",
       "        1342, 1352, 1379, 1391, 1394, 1400, 1409, 1461, 1475], dtype=int64),)"
      ]
     },
     "execution_count": 20,
     "metadata": {},
     "output_type": "execute_result"
    }
   ],
   "source": [
    "np.where(clickeds == 0)"
   ]
  },
  {
   "cell_type": "code",
   "execution_count": 21,
   "metadata": {},
   "outputs": [
    {
     "data": {
      "text/plain": [
       "(array([   3,   16,   18,   19,   38,   42,   44,   45,   49,   52,   56,\n",
       "          65,  103,  131,  139,  151,  183,  229,  230,  256,  262,  272,\n",
       "         302,  328,  331,  332,  337,  347,  383,  402,  443,  463,  473,\n",
       "         508,  509,  581,  585,  613,  614,  615,  618,  619,  637,  648,\n",
       "         717,  744,  747,  785,  796,  803,  804,  827,  828,  855,  890,\n",
       "         896,  897,  904,  905,  937,  958,  987, 1012, 1017, 1057, 1072,\n",
       "        1083, 1143, 1159, 1175, 1197, 1211, 1217, 1220, 1253, 1278, 1288,\n",
       "        1342, 1352, 1379, 1391, 1394, 1400, 1409, 1461, 1475], dtype=int64),)"
      ]
     },
     "execution_count": 21,
     "metadata": {},
     "output_type": "execute_result"
    }
   ],
   "source": [
    "np.where(durations == 0)"
   ]
  },
  {
   "cell_type": "code",
   "execution_count": 17,
   "metadata": {
    "scrolled": true
   },
   "outputs": [
    {
     "data": {
      "text/plain": [
       "<BarContainer object of 1485 artists>"
      ]
     },
     "execution_count": 17,
     "metadata": {},
     "output_type": "execute_result"
    },
    {
     "data": {
      "image/png": "[encoded data removed]",
      "text/plain": [
       "<Figure size 432x288 with 1 Axes>"
      ]
     },
     "metadata": {
      "needs_background": "light"
     },
     "output_type": "display_data"
    }
   ],
   "source": [
    "plt.bar(range(len(loyal_clickeds[0,:])), loyal_clickeds[0,:], width=2)"
   ]
  },
  {
   "cell_type": "code",
   "execution_count": 19,
   "metadata": {},
   "outputs": [
    {
     "data": {
      "image/png": "[encoded data removed]",
      "text/plain": [
       "<Figure size 432x288 with 1 Axes>"
      ]
     },
     "metadata": {
      "needs_background": "light"
     },
     "output_type": "display_data"
    }
   ],
   "source": [
    "plt.bar(range(len(loyal_durations[0,:])), loyal_durations[0,:], width=2)\n",
    "plt.yscale('log')"
   ]
  }
 ],
 "metadata": {
  "kernelspec": {
   "display_name": "Python 3",
   "language": "python",
   "name": "python3"
  },
  "language_info": {
   "codemirror_mode": {
    "name": "ipython",
    "version": 3
   },
   "file_extension": ".py",
   "mimetype": "text/x-python",
   "name": "python",
   "nbconvert_exporter": "python",
   "pygments_lexer": "ipython3",
   "version": "3.8.8"
  },
  "latex_envs": {
   "LaTeX_envs_menu_present": true,
   "autoclose": false,
   "autocomplete": true,
   "bibliofile": "biblio.bib",
   "cite_by": "apalike",
   "current_citInitial": 1,
   "eqLabelWithNumbers": true,
   "eqNumInitial": 1,
   "hotkeys": {
    "equation": "Ctrl-E",
    "itemize": "Ctrl-I"
   },
   "labels_anchors": false,
   "latex_user_defs": false,
   "report_style_numbering": false,
   "user_envs_cfg": false
  }
 },
 "nbformat": 4,
 "nbformat_minor": 1
}